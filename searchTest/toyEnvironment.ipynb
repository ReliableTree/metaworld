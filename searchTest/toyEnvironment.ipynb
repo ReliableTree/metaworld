{
 "cells": [
  {
   "cell_type": "code",
   "execution_count": 1,
   "metadata": {},
   "outputs": [],
   "source": [
    "import torch\n",
    "import matplotlib.pyplot as plt\n",
    "import numpy as np\n",
    "import os\n",
    "import higher\n",
    "import pickle"
   ]
  },
  {
   "cell_type": "code",
   "execution_count": 2,
   "metadata": {},
   "outputs": [],
   "source": [
    "a = torch.ones(4,2)\n",
    "b = torch.zeros(4)\n",
    "b[a[:,1]>b] = a[:,1]"
   ]
  },
  {
   "cell_type": "code",
   "execution_count": 14,
   "metadata": {},
   "outputs": [],
   "source": [
    "class TM(torch.nn.Module):\n",
    "    def __init__(self,):\n",
    "        super().__init__()\n",
    "        self.lin = torch.nn.Linear(1,1)\n",
    "\n",
    "class MTM(TM):\n",
    "    def __init__(self,):\n",
    "        super().__init__()\n",
    "    def reset(self, ):\n",
    "        super().__init__()\n",
    "    "
   ]
  },
  {
   "cell_type": "code",
   "execution_count": 18,
   "metadata": {},
   "outputs": [
    {
     "data": {
      "text/plain": [
       "Parameter containing:\n",
       "tensor([[-0.4577]], requires_grad=True)"
      ]
     },
     "execution_count": 18,
     "metadata": {},
     "output_type": "execute_result"
    }
   ],
   "source": [
    "a = MTM()\n",
    "b = torch.nn.ModuleList([a])\n",
    "b[0].lin.weight"
   ]
  },
  {
   "cell_type": "code",
   "execution_count": null,
   "metadata": {},
   "outputs": [],
   "source": []
  },
  {
   "cell_type": "code",
   "execution_count": 19,
   "metadata": {},
   "outputs": [
    {
     "data": {
      "text/plain": [
       "Parameter containing:\n",
       "tensor([[0.4961]], requires_grad=True)"
      ]
     },
     "execution_count": 19,
     "metadata": {},
     "output_type": "execute_result"
    }
   ],
   "source": [
    "a.reset()\n",
    "b[0].lin.weight"
   ]
  },
  {
   "cell_type": "code",
   "execution_count": null,
   "metadata": {},
   "outputs": [],
   "source": [
    "def check_outpt(label, outpt, tol_neg, tol_pos):\n",
    "    diff = label-outpt\n",
    "    neg_acc = diff > tol_neg[None,None,:]\n",
    "    pos_acc = diff < tol_pos[None,None,:]\n",
    "    acc = neg_acc*pos_acc\n",
    "    acc = acc.reshape(diff.size(0), -1)\n",
    "    return torch.all(acc, dim=1)"
   ]
  },
  {
   "cell_type": "code",
   "execution_count": null,
   "metadata": {},
   "outputs": [],
   "source": [
    "seq_len_global = 5"
   ]
  },
  {
   "cell_type": "code",
   "execution_count": 5,
   "metadata": {},
   "outputs": [],
   "source": [
    "import math\n",
    "from typing import Tuple\n",
    "\n",
    "import torch\n",
    "from torch import nn, Tensor\n",
    "import torch.nn.functional as F\n",
    "from torch.nn import TransformerEncoder, TransformerEncoderLayer\n",
    "\n",
    "class TransformerModel(nn.Module):\n",
    "\n",
    "    def __init__(self, ntoken = 0, d_output = 0, d_model = 0, nhead = 0, d_hid = 0,\n",
    "                 nlayers = 0, dropout = 0.2, model_setup = None):\n",
    "        super().__init__()\n",
    "        self.model_type = 'Transformer'\n",
    "        if model_setup is not None:\n",
    "            ntoken = model_setup['ntoken']\n",
    "            d_output = model_setup['d_output']\n",
    "            d_model = model_setup['d_model']\n",
    "            nhead = model_setup['nhead']\n",
    "            d_hid = model_setup['d_hid']\n",
    "            nlayers = model_setup['nlayers']\n",
    "        self.pos_encoder = PositionalEncoding(d_model, dropout)\n",
    "        encoder_layers = TransformerEncoderLayer(d_model, nhead, d_hid, dropout)\n",
    "        self.transformer_encoder = TransformerEncoder(encoder_layers, nlayers)\n",
    "        self.encoder = nn.Linear(ntoken, d_model)\n",
    "        self.d_model = d_model\n",
    "        self.decoder = nn.Linear(d_model, d_output)\n",
    "\n",
    "        #self.init_weights()\n",
    "\n",
    "    def init_weights(self) -> None:\n",
    "        initrange = 0.1\n",
    "        self.encoder.weight.data.uniform_(-initrange, initrange)\n",
    "        self.decoder.bias.data.zero_()\n",
    "        self.decoder.weight.data.uniform_(-initrange, initrange)\n",
    "\n",
    "    def forward(self, src: Tensor, src_mask = None) -> Tensor:\n",
    "        \"\"\"\n",
    "        Args:\n",
    "            src: Tensor, shape [seq_len, batch_size]\n",
    "            src_mask: Tensor, shape [seq_len, seq_len]\n",
    "\n",
    "        Returns:\n",
    "            output Tensor of shape [seq_len, batch_size, ntoken]\n",
    "        \"\"\"\n",
    "        src = self.encoder(src) * math.sqrt(self.d_model)\n",
    "        src = self.pos_encoder(src)\n",
    "        output = self.transformer_encoder(src, src_mask)\n",
    "        output = self.decoder(output)\n",
    "        return output\n",
    "\n",
    "class TailorTransformer(TransformerModel):\n",
    "    def __init__(self, ntoken=0, d_output=0, d_model=0, nhead=0, d_hid=0, nlayers=0, dropout=0.2, model_setup=None):\n",
    "        self.super_init = False\n",
    "        self.model_setup = model_setup\n",
    "        \n",
    "    def init_weights(self):\n",
    "        self.super_init = False\n",
    "\n",
    "    def forward(self, src: Tensor) -> Tensor:\n",
    "        if not self.super_init:\n",
    "            self.model_setup['ntoken'] = src.size(-1)\n",
    "            self.model_setup['seq_len'] = src.size(1)\n",
    "            super().__init__(model_setup = self.model_setup)\n",
    "            self.result_encoder = nn.Linear(self.model_setup['d_output'] * self.model_setup['seq_len'], self.model_setup['d_result'])\n",
    "            self.sm = torch.nn.Softmax(dim=-1)\n",
    "            self.to(src.device)\n",
    "            self.super_init = True\n",
    "\n",
    "\n",
    "        #src: batch, seq, dim\n",
    "        src = src.transpose(0,1)\n",
    "        #src = seq, batch, dim\n",
    "        #print(f'src shape: {src.shape}')\n",
    "        pre_result = super().forward(src)\n",
    "        pre_result = pre_result.transpose(0,1)\n",
    "\n",
    "        #preresult = batch, seq, dim\n",
    "        pre_result = pre_result.reshape(pre_result.size(0), -1)\n",
    "        #print(f'preresult shape {pre_result.shape}')\n",
    "\n",
    "        result = self.result_encoder(pre_result)\n",
    "        result = self.sm(result)\n",
    "        #print(f'result shape {result.shape}')\n",
    "\n",
    "        return result\n",
    "\n",
    "\n",
    "def generate_square_subsequent_mask(sz: int) -> Tensor:\n",
    "    \"\"\"Generates an upper-triangular matrix of -inf, with zeros on diag.\"\"\"\n",
    "    return torch.triu(torch.ones(sz, sz) * float('-inf'), diagonal=1)\n",
    "\n",
    "class PositionalEncoding(nn.Module):\n",
    "\n",
    "    def __init__(self, d_model: int, dropout: float = 0.1, max_len: int = 5000):\n",
    "        super().__init__()\n",
    "        self.dropout = nn.Dropout(p=dropout)\n",
    "\n",
    "        position = torch.arange(max_len).unsqueeze(1)\n",
    "        div_term = torch.exp(torch.arange(0, d_model, 2) * (-math.log(10000.0) / d_model))\n",
    "        pe = torch.zeros(max_len, 1, d_model)\n",
    "        pe[:, 0, 0::2] = torch.sin(position * div_term)\n",
    "        pe[:, 0, 1::2] = torch.cos(position * div_term)\n",
    "        self.register_buffer('pe', pe)\n",
    "\n",
    "    def forward(self, x: Tensor) -> Tensor:\n",
    "        \"\"\"\n",
    "        Args:\n",
    "            x: Tensor, shape [seq_len, batch_size, embedding_dim]\n",
    "        \"\"\"\n",
    "        x = x + self.pe[:x.size(0)]\n",
    "        return self.dropout(x)\n",
    "\n",
    "def batchify(data: Tensor, bsz: int, device: str) -> Tensor:\n",
    "    \"\"\"Divides the data into bsz separate sequences, removing extra elements\n",
    "    that wouldn't cleanly fit.\n",
    "\n",
    "    Args:\n",
    "        data: Tensor, shape [N]\n",
    "        bsz: int, batch size\n",
    "\n",
    "    Returns:\n",
    "        Tensor of shape [N // bsz, bsz]\n",
    "    \"\"\"\n",
    "    seq_len = data.size(0) // bsz\n",
    "    data = data[:seq_len * bsz]\n",
    "    data = data.view(bsz, seq_len).t().contiguous()\n",
    "    return data.to(device)\n",
    "\n",
    "def get_batch(source: Tensor, i: int, bptt : int) -> Tuple[Tensor, Tensor]:\n",
    "    \"\"\"\n",
    "    Args:\n",
    "        source: Tensor, shape [full_seq_len, batch_size]\n",
    "        i: int\n",
    "\n",
    "    Returns:\n",
    "        tuple (data, target), where data has shape [seq_len, batch_size] and\n",
    "        target has shape [seq_len * batch_size]\n",
    "    \"\"\"\n",
    "    seq_len = min(bptt, len(source) - 1 - i)\n",
    "    data = source[i:i+seq_len]\n",
    "    target = source[i+1:i+1+seq_len].reshape(-1)\n",
    "    return data, target\n",
    "\n"
   ]
  },
  {
   "cell_type": "code",
   "execution_count": 6,
   "metadata": {},
   "outputs": [],
   "source": [
    "model_setup = {\n",
    "    'use_layernorm':False,\n",
    "    'd_output':50,\n",
    "    'd_model' : 80,\n",
    "    'nhead':10,\n",
    "    'd_hid':80,\n",
    "    'nlayers':4,\n",
    "    'd_result':2,\n",
    "}"
   ]
  },
  {
   "cell_type": "code",
   "execution_count": 37,
   "metadata": {},
   "outputs": [
    {
     "name": "stdout",
     "output_type": "stream",
     "text": [
      "tensor([-0.0514, -0.0593,  0.0549, -0.0218, -0.1211], grad_fn=<SliceBackward0>)\n",
      "tensor([-0.0593, -0.0570,  0.0532, -0.0213, -0.1195], grad_fn=<SliceBackward0>)\n",
      "tensor([-0.0593, -0.0570,  0.0532, -0.0213, -0.1195], grad_fn=<SliceBackward0>)\n",
      "tensor([ 0.0900, -0.1344,  0.0753,  0.0182, -0.0639], grad_fn=<SliceBackward0>)\n"
     ]
    },
    {
     "ename": "IndexError",
     "evalue": "too many indices for tensor of dimension 2",
     "output_type": "error",
     "traceback": [
      "\u001b[0;31m---------------------------------------------------------------------------\u001b[0m",
      "\u001b[0;31mIndexError\u001b[0m                                Traceback (most recent call last)",
      "\u001b[1;32m/home/hendrik/Documents/master_project/Code/MetaWorld/searchTest/toyEnvironment.ipynb Cell 6'\u001b[0m in \u001b[0;36m<cell line: 18>\u001b[0;34m()\u001b[0m\n\u001b[1;32m     <a href='vscode-notebook-cell:/home/hendrik/Documents/master_project/Code/MetaWorld/searchTest/toyEnvironment.ipynb#ch0000041?line=15'>16</a>\u001b[0m opt\u001b[39m.\u001b[39mparam_groups \u001b[39m=\u001b[39m a\u001b[39m.\u001b[39mparameters()\n\u001b[1;32m     <a href='vscode-notebook-cell:/home/hendrik/Documents/master_project/Code/MetaWorld/searchTest/toyEnvironment.ipynb#ch0000041?line=16'>17</a>\u001b[0m res[:,\u001b[39m0\u001b[39m]\u001b[39m.\u001b[39msum()\u001b[39m.\u001b[39mbackward()\n\u001b[0;32m---> <a href='vscode-notebook-cell:/home/hendrik/Documents/master_project/Code/MetaWorld/searchTest/toyEnvironment.ipynb#ch0000041?line=17'>18</a>\u001b[0m opt\u001b[39m.\u001b[39;49mstep()\n\u001b[1;32m     <a href='vscode-notebook-cell:/home/hendrik/Documents/master_project/Code/MetaWorld/searchTest/toyEnvironment.ipynb#ch0000041?line=18'>19</a>\u001b[0m \u001b[39mprint\u001b[39m(\u001b[39mnext\u001b[39m(a\u001b[39m.\u001b[39mparameters())[\u001b[39m0\u001b[39m,:\u001b[39m5\u001b[39m])\n",
      "File \u001b[0;32m~/anaconda3/envs/mujoco/lib/python3.8/site-packages/torch/optim/optimizer.py:88\u001b[0m, in \u001b[0;36mOptimizer._hook_for_profile.<locals>.profile_hook_step.<locals>.wrapper\u001b[0;34m(*args, **kwargs)\u001b[0m\n\u001b[1;32m     <a href='file:///home/hendrik/anaconda3/envs/mujoco/lib/python3.8/site-packages/torch/optim/optimizer.py?line=85'>86</a>\u001b[0m profile_name \u001b[39m=\u001b[39m \u001b[39m\"\u001b[39m\u001b[39mOptimizer.step#\u001b[39m\u001b[39m{}\u001b[39;00m\u001b[39m.step\u001b[39m\u001b[39m\"\u001b[39m\u001b[39m.\u001b[39mformat(obj\u001b[39m.\u001b[39m\u001b[39m__class__\u001b[39m\u001b[39m.\u001b[39m\u001b[39m__name__\u001b[39m)\n\u001b[1;32m     <a href='file:///home/hendrik/anaconda3/envs/mujoco/lib/python3.8/site-packages/torch/optim/optimizer.py?line=86'>87</a>\u001b[0m \u001b[39mwith\u001b[39;00m torch\u001b[39m.\u001b[39mautograd\u001b[39m.\u001b[39mprofiler\u001b[39m.\u001b[39mrecord_function(profile_name):\n\u001b[0;32m---> <a href='file:///home/hendrik/anaconda3/envs/mujoco/lib/python3.8/site-packages/torch/optim/optimizer.py?line=87'>88</a>\u001b[0m     \u001b[39mreturn\u001b[39;00m func(\u001b[39m*\u001b[39;49margs, \u001b[39m*\u001b[39;49m\u001b[39m*\u001b[39;49mkwargs)\n",
      "File \u001b[0;32m~/anaconda3/envs/mujoco/lib/python3.8/site-packages/torch/autograd/grad_mode.py:28\u001b[0m, in \u001b[0;36m_DecoratorContextManager.__call__.<locals>.decorate_context\u001b[0;34m(*args, **kwargs)\u001b[0m\n\u001b[1;32m     <a href='file:///home/hendrik/anaconda3/envs/mujoco/lib/python3.8/site-packages/torch/autograd/grad_mode.py?line=24'>25</a>\u001b[0m \u001b[39m@functools\u001b[39m\u001b[39m.\u001b[39mwraps(func)\n\u001b[1;32m     <a href='file:///home/hendrik/anaconda3/envs/mujoco/lib/python3.8/site-packages/torch/autograd/grad_mode.py?line=25'>26</a>\u001b[0m \u001b[39mdef\u001b[39;00m \u001b[39mdecorate_context\u001b[39m(\u001b[39m*\u001b[39margs, \u001b[39m*\u001b[39m\u001b[39m*\u001b[39mkwargs):\n\u001b[1;32m     <a href='file:///home/hendrik/anaconda3/envs/mujoco/lib/python3.8/site-packages/torch/autograd/grad_mode.py?line=26'>27</a>\u001b[0m     \u001b[39mwith\u001b[39;00m \u001b[39mself\u001b[39m\u001b[39m.\u001b[39m\u001b[39m__class__\u001b[39m():\n\u001b[0;32m---> <a href='file:///home/hendrik/anaconda3/envs/mujoco/lib/python3.8/site-packages/torch/autograd/grad_mode.py?line=27'>28</a>\u001b[0m         \u001b[39mreturn\u001b[39;00m func(\u001b[39m*\u001b[39;49margs, \u001b[39m*\u001b[39;49m\u001b[39m*\u001b[39;49mkwargs)\n",
      "File \u001b[0;32m~/anaconda3/envs/mujoco/lib/python3.8/site-packages/torch/optim/sgd.py:119\u001b[0m, in \u001b[0;36mSGD.step\u001b[0;34m(self, closure)\u001b[0m\n\u001b[1;32m    <a href='file:///home/hendrik/anaconda3/envs/mujoco/lib/python3.8/site-packages/torch/optim/sgd.py?line=116'>117</a>\u001b[0m d_p_list \u001b[39m=\u001b[39m []\n\u001b[1;32m    <a href='file:///home/hendrik/anaconda3/envs/mujoco/lib/python3.8/site-packages/torch/optim/sgd.py?line=117'>118</a>\u001b[0m momentum_buffer_list \u001b[39m=\u001b[39m []\n\u001b[0;32m--> <a href='file:///home/hendrik/anaconda3/envs/mujoco/lib/python3.8/site-packages/torch/optim/sgd.py?line=118'>119</a>\u001b[0m weight_decay \u001b[39m=\u001b[39m group[\u001b[39m'\u001b[39;49m\u001b[39mweight_decay\u001b[39;49m\u001b[39m'\u001b[39;49m]\n\u001b[1;32m    <a href='file:///home/hendrik/anaconda3/envs/mujoco/lib/python3.8/site-packages/torch/optim/sgd.py?line=119'>120</a>\u001b[0m momentum \u001b[39m=\u001b[39m group[\u001b[39m'\u001b[39m\u001b[39mmomentum\u001b[39m\u001b[39m'\u001b[39m]\n\u001b[1;32m    <a href='file:///home/hendrik/anaconda3/envs/mujoco/lib/python3.8/site-packages/torch/optim/sgd.py?line=120'>121</a>\u001b[0m dampening \u001b[39m=\u001b[39m group[\u001b[39m'\u001b[39m\u001b[39mdampening\u001b[39m\u001b[39m'\u001b[39m]\n",
      "\u001b[0;31mIndexError\u001b[0m: too many indices for tensor of dimension 2"
     ]
    }
   ],
   "source": [
    "a = TailorTransformer(model_setup= model_setup)\n",
    "inpt = torch.rand((20,2,2), dtype=torch.float)\n",
    "res = a.forward(inpt)\n",
    "opt = torch.optim.SGD(a.parameters(), lr=1)\n",
    "res = a.forward(inpt)\n",
    "print(next(a.parameters())[0,:5])\n",
    "res[:,0].sum().backward()\n",
    "opt.step()\n",
    "print(next(a.parameters())[0,:5])\n",
    "res = a.forward(inpt)\n",
    "print(next(a.parameters())[0,:5])\n",
    "a.super_init = False\n",
    "res = a.forward(inpt)\n",
    "print(next(a.parameters())[0,:5])\n",
    "opt = a.parameters()\n",
    "opt.zero_grad()\n",
    "res[:,0].sum().backward()\n",
    "opt.step()\n",
    "print(next(a.parameters())[0,:5])\n",
    "\n"
   ]
  },
  {
   "cell_type": "code",
   "execution_count": 11,
   "metadata": {},
   "outputs": [
    {
     "data": {
      "text/plain": [
       "Parameter containing:\n",
       "tensor([[-0.0280,  0.1186,  0.0066,  ..., -0.0704, -0.0550, -0.0011],\n",
       "        [-0.0501, -0.0521, -0.1017,  ..., -0.0336,  0.0658,  0.0691],\n",
       "        [-0.1335,  0.0377,  0.0724,  ...,  0.0526, -0.0525, -0.0617],\n",
       "        ...,\n",
       "        [-0.0271,  0.1173, -0.0455,  ..., -0.0436, -0.0220,  0.1301],\n",
       "        [ 0.1128, -0.0924,  0.1179,  ..., -0.1300, -0.1046, -0.0518],\n",
       "        [-0.0160,  0.1092,  0.0656,  ..., -0.1224,  0.0933,  0.0672]],\n",
       "       requires_grad=True)"
      ]
     },
     "execution_count": 11,
     "metadata": {},
     "output_type": "execute_result"
    }
   ],
   "source": [
    "next(a.parameters())"
   ]
  },
  {
   "cell_type": "code",
   "execution_count": 13,
   "metadata": {},
   "outputs": [
    {
     "data": {
      "text/plain": [
       "Parameter containing:\n",
       "tensor([[ 0.0587, -0.1228,  0.0371,  ..., -0.0808,  0.0647,  0.1315],\n",
       "        [-0.0957,  0.0538,  0.1005,  ..., -0.0812,  0.0178,  0.0790],\n",
       "        [-0.0784, -0.0109,  0.0457,  ..., -0.0896, -0.0517,  0.1075],\n",
       "        ...,\n",
       "        [ 0.1049,  0.1286,  0.1265,  ...,  0.0932,  0.1235,  0.0524],\n",
       "        [ 0.0314, -0.1337, -0.0456,  ...,  0.1090, -0.0299,  0.0790],\n",
       "        [-0.1121,  0.1367, -0.1018,  ..., -0.0482,  0.0973, -0.0666]],\n",
       "       requires_grad=True)"
      ]
     },
     "execution_count": 13,
     "metadata": {},
     "output_type": "execute_result"
    }
   ],
   "source": [
    "next(a.parameters())"
   ]
  },
  {
   "cell_type": "code",
   "execution_count": 12,
   "metadata": {},
   "outputs": [
    {
     "data": {
      "text/plain": [
       "tensor([[0.5057, 0.4943],\n",
       "        [0.4828, 0.5172]], grad_fn=<SoftmaxBackward0>)"
      ]
     },
     "execution_count": 12,
     "metadata": {},
     "output_type": "execute_result"
    }
   ],
   "source": [
    "a.super_init = False\n",
    "a.forward(inpt)"
   ]
  },
  {
   "cell_type": "code",
   "execution_count": 1,
   "metadata": {},
   "outputs": [],
   "source": [
    "\n",
    "def make_toy_data(num_examples, inpt_func, outpt_func):\n",
    "    generator =  torch.rand(num_examples)\n",
    "    inpt = inpt_func(generator)\n",
    "    outpt = outpt_func(inpt)\n",
    "    return inpt, outpt\n",
    "\n",
    "def check_outpt(label, outpt, tol_neg, tol_pos, window = 0):\n",
    "    if window > 0:\n",
    "        tol_neg, tol_pos, inpt= make_sliding_tol(label=inpt, neg_tol=tol_neg, pos_tol=tol_pos, window=window)\n",
    "\n",
    "    diff = label-outpt\n",
    "\n",
    "    if window > 0:\n",
    "        neg_acc = diff > tol_neg\n",
    "        pos_acc = diff < tol_pos\n",
    "    else:\n",
    "        neg_acc = diff > tol_neg[None,None,:]\n",
    "        pos_acc = diff < tol_pos[None,None,:]\n",
    "    acc = neg_acc*pos_acc\n",
    "    acc = acc.reshape(diff.size(0), -1)\n",
    "    return torch.all(acc, dim=1)\n",
    "\n",
    "def make_tol(std_dev, dim, add=1e-3, device = 'cpu'):\n",
    "    tol_neg = - (torch.abs(torch.normal(mean=torch.zeros(dim), std=std_dev*torch.ones(dim))) + add).to(device)\n",
    "    tol_pos = + (torch.abs(torch.normal(mean=torch.zeros(dim), std=std_dev*torch.ones(dim))) + add).to(device)\n",
    "    return tol_neg, tol_pos\n",
    "\n",
    "def make_func(dim_in,dim_out, seq_len):\n",
    "    seq_add = torch.arange(0,1,1/seq_len)\n",
    "    tri = torch.randint(low=0, high=dim_in, size=(dim_out, dim_in))\n",
    "    signs = torch.randint(low=-1, high=2, size=(dim_in*dim_out,)).reshape(dim_out, dim_in)\n",
    "\n",
    "    tri = tri.reshape(-1).repeat(seq_len).reshape(1,-1)\n",
    "    seq_counter = torch.arange(0, seq_len).reshape(1,-1).repeat([dim_in*dim_out, 1]).T.reshape(1,-1)\n",
    "    tri = torch.cat((seq_counter, tri), dim=0)\n",
    "    def inner_fc(inpt):\n",
    "        n = len(inpt)\n",
    "        tri_n = tri.repeat([1, n])\n",
    "        n_counter = torch.arange(0, n).reshape(1,-1).repeat([dim_in*dim_out*seq_len, 1]).T.reshape(1,-1)\n",
    "        tri_n = torch.cat((n_counter, tri_n), dim=0)\n",
    "        seq_inpt = inpt[:,None, :] + seq_add[None,:,None]\n",
    "        result = seq_inpt[tuple(tri_n)]\n",
    "        result = result.reshape(n,seq_len, dim_out, dim_in)\n",
    "        result = result*signs[None,None,:,:]\n",
    "        result[(signs==0)[None,None,:,:].repeat([result.size(0), result.size(1),1,1])]=1\n",
    "        result = torch.prod(result, dim=-1)\n",
    "        return result\n",
    "    return inner_fc\n",
    "\n",
    "def plot_fcts(inpt, neg_tol, pos_tol, window = 0):\n",
    "    inpt_dim = len(inpt[0])\n",
    "    if window==0:\n",
    "        neg_inpt = (inpt + neg_tol[None,:]).numpy()\n",
    "        pos_inpt = (inpt + pos_tol[None,:]).numpy()\n",
    "    else:\n",
    "        sliding_tol_pos, sliding_tol_neg, inpt= make_sliding_tol(label=inpt.unsqueeze(0), neg_tol=neg_tol, pos_tol=pos_tol, window=window)\n",
    "        pos_inpt, neg_inpt = sliding_tol_pos.numpy(), sliding_tol_neg.numpy()\n",
    "        inpt = inpt[0]\n",
    "\n",
    "    np_inpt = inpt.numpy()\n",
    "    print(f'input: {np_inpt.shape}')\n",
    "    \n",
    "    seq_len = len(inpt)\n",
    "    num_graphs = int(np.ceil(np.sqrt(inpt_dim)))\n",
    "    fig, ax = plt.subplots(num_graphs,num_graphs)\n",
    "    fig.set_size_inches(9, 9)\n",
    "    for sp in range(inpt_dim):\n",
    "        idx = sp // num_graphs\n",
    "        idy = sp  % num_graphs\n",
    "        ax[idx,idy].clear()\n",
    "        ax[idx,idy].plot(range(seq_len), np_inpt[:,sp], alpha=0.5, color='midnightblue')\n",
    "        ax[idx,idy].plot(range(seq_len), neg_inpt[:,sp], alpha=0.5, color='orangered')\n",
    "        ax[idx,idy].plot(range(seq_len), pos_inpt[:,sp], alpha=0.5, color='orangered')\n",
    "\n",
    "def save(path, dict):\n",
    "    if not os.path.exists(path):\n",
    "        os.makedirs(path)\n",
    "\n",
    "    for dk, data in dict.items():\n",
    "        tdata = data\n",
    "        torch.save(tdata, path + str(dk))\n",
    "\n",
    "def make_toy_data(fct, n, dim_in, std = 0.1, data_path= None):\n",
    "    inpt = torch.normal(mean=torch.zeros([n,1, dim_in]), std=std*torch.ones([n,1,dim_in]))\n",
    "    print(inpt.max())\n",
    "    print(inpt.min())\n",
    "    label = fct(inpt[:,0])\n",
    "    tl = label.transpose(0,2)\n",
    "    tl = tl.reshape([tl.size(0),-1])\n",
    "    mean_label = tl.mean(dim=1)\n",
    "    label = label - mean_label\n",
    "    tl = label.transpose(0,2)\n",
    "    tl = tl.reshape([tl.size(0),-1])\n",
    "    tmax = tl[:10].max(dim=1)[0]\n",
    "    tmin = tl[:10].min(dim=1)[0]\n",
    "    rel_corr = tmax - tmin\n",
    "    label = label % 1\n",
    "\n",
    "    data_sets = ['train', 'val', 'test']\n",
    "    if data_path is not None:\n",
    "        for i, set in enumerate(data_sets):\n",
    "            path =  data_path + set + '/'\n",
    "            start = i * int(len(inpt)/len(data_sets))\n",
    "            end = (i+1) * int(len(inpt)/len(data_sets))\n",
    "            print(start)\n",
    "            print(end)\n",
    "            save(path=path, dict={'inpt':5*inpt[start:end], 'label':label[start:end]})\n",
    "    return inpt, label\n",
    "\n",
    "def make_sliding_tol_dim(label, window = 9, pos = True):\n",
    "    batch_size = label.size(0)\n",
    "    batch_counter = torch.arange(batch_size)\n",
    "    counter = torch.arange(label.size(-1) - window) + int(window/2)\n",
    "    window_counter = torch.arange(window) - int(window/2)\n",
    "    s_ind = counter.repeat([batch_size,window,1]).transpose(-1,-2)\n",
    "    f_ind = (counter[:,None] + window_counter[None,:]).repeat([batch_size, 1,1])\n",
    "    batch_ind = batch_counter.reshape(-1,1,1).repeat([1,f_ind.size(-2), f_ind.size(-1)])\n",
    "    ind = tuple((batch_ind, f_ind, s_ind))\n",
    "    label_repeated = label.unsqueeze(-1).repeat([1,1,label.size(-1)])\n",
    "    label_ind = label_repeated[ind]\n",
    "    result = label_ind.max(dim=-1)[0], label_ind.min(dim=-1)[0]\n",
    "    return result\n",
    "\n",
    "def make_sliding_tol(label, neg_tol, pos_tol, window=9):\n",
    "    tols_pos, tols_neg = [], []\n",
    "    for dim in range(label.size(-1)):\n",
    "        tol_pos, tol_neg = make_sliding_tol_dim(label=label[:,:,dim], window=window)\n",
    "        tols_pos.append(tol_pos.unsqueeze(-1))\n",
    "        tols_neg.append(tol_neg.unsqueeze(-1))\n",
    "    sliding_tol_pos, sliding_tol_neg = torch.cat(tuple(tols_pos), dim=-1), torch.cat(tuple(tols_neg), dim=-1)\n",
    "    neg_inpt = (sliding_tol_neg[0] + neg_tol[None,:])\n",
    "    pos_inpt = (sliding_tol_pos[0] + pos_tol[None,:])\n",
    "    inpt = label[:, int(window/2):-(int(window/2) + 1)]\n",
    "    result = pos_inpt, neg_inpt, inpt\n",
    "    return result"
   ]
  },
  {
   "cell_type": "code",
   "execution_count": null,
   "metadata": {},
   "outputs": [],
   "source": [
    "a = "
   ]
  },
  {
   "cell_type": "code",
   "execution_count": null,
   "metadata": {},
   "outputs": [],
   "source": [
    "inner_fct = make_func(dim_in=4, dim_out=4, seq_len=seq_len_global)\n"
   ]
  },
  {
   "cell_type": "code",
   "execution_count": null,
   "metadata": {},
   "outputs": [],
   "source": [
    "neg, pos = make_tol(std_dev=5e-1, dim=4, add=5e-2)\n",
    "a= (neg, pos)\n",
    "path_to_file = '/home/hendrik/Documents/master_project/LokalData/metaworld/test/toy_data/tol/'\n",
    "from os import path, makedirs\n",
    "#dir_path = path.dirname(path.realpath(__file__))\n",
    "if not path.exists(path_to_file):\n",
    "    makedirs(path_to_file)\n",
    "with open(path_to_file + 'tol.pkl', 'wb') as f:\n",
    "    pickle.dump(a, f)  \n",
    "\n"
   ]
  },
  {
   "cell_type": "code",
   "execution_count": null,
   "metadata": {},
   "outputs": [],
   "source": [
    "with open(path_to_file + 'tol.pkl', 'rb') as f:\n",
    "    b = pickle.load(f)"
   ]
  },
  {
   "cell_type": "code",
   "execution_count": 23,
   "metadata": {},
   "outputs": [
    {
     "name": "stdout",
     "output_type": "stream",
     "text": [
      "tensor(0.4384)\n",
      "tensor(-0.4484)\n",
      "0\n",
      "10000\n",
      "10000\n",
      "20000\n",
      "20000\n",
      "30000\n"
     ]
    }
   ],
   "source": [
    "inpt, label = make_toy_data(inner_fct, n=30000, dim_in=4, std=0.1, data_path='/home/hendrik/Documents/master_project/LokalData/metaworld/small/')\n",
    "outpt = torch.clone(label)\n",
    "outpt[0,0,0] = 20\n",
    "#print(check_outpt(label=inpt, outpt=outpt, tol_neg=neg, tol_pos=pos))\n",
    "#make_func(2,3,torch.tensor([1,2]))"
   ]
  },
  {
   "cell_type": "code",
   "execution_count": 24,
   "metadata": {},
   "outputs": [
    {
     "name": "stdout",
     "output_type": "stream",
     "text": [
      "input: (5, 4)\n"
     ]
    },
    {
     "data": {
      "image/png": "[encoded data removed]",
      "text/plain": [
       "<Figure size 648x648 with 4 Axes>"
      ]
     },
     "metadata": {
      "needs_background": "light"
     },
     "output_type": "display_data"
    }
   ],
   "source": [
    "plot_fcts(inpt=label[0], neg_tol=neg, pos_tol=pos)"
   ]
  },
  {
   "cell_type": "code",
   "execution_count": null,
   "metadata": {},
   "outputs": [],
   "source": [
    "neg = 0.1*-torch.ones(label.size(-1))\n",
    "pos = 0.1*torch.ones(label.size(-1))\n",
    "plot_fcts(label[0], neg, pos, window=9)"
   ]
  },
  {
   "cell_type": "code",
   "execution_count": null,
   "metadata": {},
   "outputs": [],
   "source": [
    "neg, pos = make_tol(std_dev=5e-1, dim=4, add=1e-3)\n"
   ]
  },
  {
   "cell_type": "code",
   "execution_count": null,
   "metadata": {},
   "outputs": [],
   "source": [
    "c1d = torch.nn.Conv1d(in_channels=1, out_channels=1, kernel_size=51, padding='same', padding_mode='reflect')\n",
    "c1d.bias = torch.nn.Parameter(torch.zeros_like(c1d.bias))\n",
    "c1d.weight = torch.nn.Parameter(1/51 * torch.ones_like(c1d.weight))"
   ]
  },
  {
   "cell_type": "code",
   "execution_count": null,
   "metadata": {},
   "outputs": [],
   "source": [
    "label[:1,:,:1].shape"
   ]
  },
  {
   "cell_type": "code",
   "execution_count": null,
   "metadata": {},
   "outputs": [],
   "source": [
    "convout1 = c1d(label[:1,:,:1].transpose(1,2)).detach()\n",
    "convout2 = c1d(label[:1,:,1:2].transpose(1,2)).detach()\n",
    "convout = torch.cat((convout1, convout2), dim=1)"
   ]
  },
  {
   "cell_type": "code",
   "execution_count": null,
   "metadata": {},
   "outputs": [],
   "source": [
    "neg = label[:1,:,:2] - convout.transpose(1,2) - 0.1"
   ]
  },
  {
   "cell_type": "code",
   "execution_count": null,
   "metadata": {},
   "outputs": [],
   "source": [
    "plot_fcts(inpt=label[2,4:-5], neg_tol=sliding_window[2], pos_tol=sliding_window[1])\n"
   ]
  },
  {
   "cell_type": "code",
   "execution_count": null,
   "metadata": {},
   "outputs": [],
   "source": [
    "t1 = torch.arange(10)"
   ]
  },
  {
   "cell_type": "code",
   "execution_count": null,
   "metadata": {},
   "outputs": [],
   "source": [
    "def make_sliding_tol_dim(label, window = 9, pos = True):\n",
    "    batch_size = label.size(0)\n",
    "    batch_counter = torch.arange(batch_size)\n",
    "    counter = torch.arange(label.size(-1) - window) + int(window/2)\n",
    "    window_counter = torch.arange(window) - int(window/2)\n",
    "    s_ind = counter.repeat([batch_size,window,1]).transpose(-1,-2)\n",
    "    f_ind = (counter[:,None] + window_counter[None,:]).repeat([batch_size, 1,1])\n",
    "    batch_ind = batch_counter.reshape(-1,1,1).repeat([1,f_ind.size(-2), f_ind.size(-1)])\n",
    "    ind = tuple((batch_ind, f_ind, s_ind))\n",
    "    label_repeated = label.unsqueeze(-1).repeat([1,1,label.size(-1)])\n",
    "    label_ind = label_repeated[ind]\n",
    "    result = label_ind.max(dim=-1)[0], label_ind.min(dim=-1)[0]\n",
    "    return result\n",
    "\n",
    "def make_sliding_tol(label, neg_tol, pos_tol, window=9):\n",
    "    tols_pos, tols_neg = [], []\n",
    "    for dim in range(label.size(-1)):\n",
    "        tol_pos, tol_neg = make_sliding_tol_dim(label=label[:,:,dim], window=window)\n",
    "        tols_pos.append(tol_pos.unsqueeze(-1))\n",
    "        tols_neg.append(tol_neg.unsqueeze(-1))\n",
    "    sliding_tol_pos, sliding_tol_neg = torch.cat(tuple(tols_pos), dim=-1), torch.cat(tuple(tols_neg), dim=-1)\n",
    "    neg_inpt = (sliding_tol_neg[0] + neg_tol[None,:])\n",
    "    pos_inpt = (sliding_tol_pos[0] + pos_tol[None,:])\n",
    "    inpt = label[:, int(window/2):-(int(window/2) + 1)]\n",
    "    result = pos_inpt, neg_inpt, inpt\n",
    "    return result"
   ]
  },
  {
   "cell_type": "code",
   "execution_count": null,
   "metadata": {},
   "outputs": [],
   "source": [
    "sliding_window, a = make_sliding_tol(label=label[:10])\n",
    "print(sliding_window.shape)"
   ]
  },
  {
   "cell_type": "code",
   "execution_count": null,
   "metadata": {},
   "outputs": [],
   "source": [
    "tol0 = make_sliding_tol(label=label[:,:,0])[0]\n",
    "tol1 = make_sliding_tol(label=label[:,:,1])[0]\n"
   ]
  },
  {
   "cell_type": "code",
   "execution_count": null,
   "metadata": {},
   "outputs": [],
   "source": [
    "tol = torch.cat((tol0.unsqueeze(-1), tol1.unsqueeze(-1)), dim=-1)"
   ]
  },
  {
   "cell_type": "code",
   "execution_count": null,
   "metadata": {},
   "outputs": [],
   "source": [
    "tol.shape"
   ]
  },
  {
   "cell_type": "code",
   "execution_count": null,
   "metadata": {},
   "outputs": [],
   "source": [
    "counter = torch.arange(8) + 1\n",
    "ccounter = torch.arange(3) - 1\n",
    "s_ind = counter[:,None] + ccounter[None,:]\n",
    "f_ind = counter.repeat([3,1]).transpose(0,1) - 1\n",
    "ind = tuple((f_ind, s_ind))"
   ]
  },
  {
   "cell_type": "code",
   "execution_count": null,
   "metadata": {},
   "outputs": [],
   "source": [
    "ind"
   ]
  },
  {
   "cell_type": "code",
   "execution_count": null,
   "metadata": {},
   "outputs": [],
   "source": [
    "tr = t1.repeat([10,1])"
   ]
  },
  {
   "cell_type": "code",
   "execution_count": null,
   "metadata": {},
   "outputs": [],
   "source": [
    "tr.shape"
   ]
  },
  {
   "cell_type": "code",
   "execution_count": null,
   "metadata": {},
   "outputs": [],
   "source": [
    "tr.reshape(10,2,10)"
   ]
  },
  {
   "cell_type": "code",
   "execution_count": null,
   "metadata": {},
   "outputs": [],
   "source": [
    "result = tr[ind]"
   ]
  },
  {
   "cell_type": "code",
   "execution_count": null,
   "metadata": {},
   "outputs": [],
   "source": [
    "result"
   ]
  },
  {
   "cell_type": "code",
   "execution_count": null,
   "metadata": {},
   "outputs": [],
   "source": [
    "label.shape"
   ]
  },
  {
   "cell_type": "code",
   "execution_count": null,
   "metadata": {},
   "outputs": [],
   "source": [
    "neg.shape"
   ]
  },
  {
   "cell_type": "code",
   "execution_count": null,
   "metadata": {},
   "outputs": [],
   "source": [
    "from torch.utils.data import DataLoader\n",
    "\n",
    "class TorchDatasetMW(torch.utils.data.Dataset):\n",
    "  'Characterizes a dataset for PyTorch'\n",
    "  def __init__(self, data):\n",
    "      self.data = data\n",
    "\n",
    "  def __len__(self):\n",
    "        'Denotes the total number of samples'\n",
    "        return len(self.data)\n",
    "\n",
    "  def __getitem__(self, index):\n",
    "        'Generates one sample of data'\n",
    "        return self.data[index]"
   ]
  },
  {
   "cell_type": "code",
   "execution_count": null,
   "metadata": {},
   "outputs": [],
   "source": [
    "data = torch.arange(10)\n",
    "dataset = TorchDatasetMW(data)"
   ]
  },
  {
   "cell_type": "code",
   "execution_count": null,
   "metadata": {},
   "outputs": [],
   "source": [
    "len(dataset)"
   ]
  },
  {
   "cell_type": "code",
   "execution_count": null,
   "metadata": {},
   "outputs": [],
   "source": [
    "random_indices = torch.randperm(10)[:5]\n",
    "trainset_1 = torch.utils.data.Subset(dataset, random_indices)"
   ]
  },
  {
   "cell_type": "code",
   "execution_count": null,
   "metadata": {},
   "outputs": [],
   "source": [
    "loader = DataLoader(trainset_1)\n",
    "for a in loader:\n",
    "    print(a)"
   ]
  },
  {
   "cell_type": "code",
   "execution_count": null,
   "metadata": {},
   "outputs": [],
   "source": [
    "a = torch.arange(5)"
   ]
  },
  {
   "cell_type": "code",
   "execution_count": null,
   "metadata": {},
   "outputs": [],
   "source": [
    "a[random_indices]"
   ]
  },
  {
   "cell_type": "code",
   "execution_count": null,
   "metadata": {},
   "outputs": [],
   "source": []
  }
 ],
 "metadata": {
  "interpreter": {
   "hash": "f6edd83f9b3fcb9454c0e509bb1e55f01736f244b1bbba81ee1367549d9ea0fd"
  },
  "kernelspec": {
   "display_name": "Python 3.8.13 ('mujoco')",
   "language": "python",
   "name": "python3"
  },
  "language_info": {
   "codemirror_mode": {
    "name": "ipython",
    "version": 3
   },
   "file_extension": ".py",
   "mimetype": "text/x-python",
   "name": "python",
   "nbconvert_exporter": "python",
   "pygments_lexer": "ipython3",
   "version": "3.8.13"
  },
  "orig_nbformat": 4
 },
 "nbformat": 4,
 "nbformat_minor": 2
}
