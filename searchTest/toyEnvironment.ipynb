{
 "cells": [
  {
   "cell_type": "code",
   "execution_count": 266,
   "metadata": {},
   "outputs": [],
   "source": [
    "import torch\n",
    "import itertools\n",
    "import random\n",
    "import matplotlib.pyplot as plt\n",
    "import numpy as np"
   ]
  },
  {
   "cell_type": "code",
   "execution_count": 282,
   "metadata": {},
   "outputs": [],
   "source": [
    "def make_toy_data(num_examples, inpt_func, outpt_func):\n",
    "    generator =  torch.rand(num_examples)\n",
    "    inpt = inpt_func(generator)\n",
    "    outpt = outpt_func(inpt)\n",
    "    return inpt, outpt\n",
    "\n",
    "def check_outpt(label, outpt, tol_neg, tol_pos):\n",
    "    diff = label-outpt\n",
    "    return torch.all(diff > tol_neg) and torch.all(diff < tol_pos)\n",
    "\n",
    "def make_tol(std_dev, dim, seq_len, add=1e-3):\n",
    "    tol_neg = - (torch.abs(torch.normal(mean=torch.zeros(dim), std=std_dev*torch.ones(dim))) + add).repeat(seq_len).reshape(seq_len, -1)\n",
    "    tol_pos = + (torch.abs(torch.normal(mean=torch.zeros(dim), std=std_dev*torch.ones(dim))) + add).repeat(seq_len).reshape(seq_len, -1)\n",
    "    return tol_neg, tol_pos\n",
    "\n",
    "def make_func(dim_in,dim_out, seq_len):\n",
    "    seq_add = torch.arange(0,1,1/seq_len)\n",
    "    di_a = [[i for i in range(dim_in)] for j in range(dim_in)]\n",
    "    index_ = list(itertools.product(*di_a))\n",
    "    ri = random.choices(index_, k=dim_out)\n",
    "    tri = torch.tensor(ri)\n",
    "    signs = torch.randint(low=-1, high=2, size=(dim_in*dim_out,)).repeat(seq_len).reshape(-1)\n",
    "    #print(signs)\n",
    "\n",
    "    tri = tri.reshape(-1).repeat(seq_len).reshape(1,-1)\n",
    "    seq_counter = torch.arange(0, seq_len).reshape(1,-1).repeat([dim_in*dim_out, 1]).T.reshape(1,-1)\n",
    "    tri = torch.cat((seq_counter, tri), dim=0)\n",
    "\n",
    "    def inner_fc(inpt):\n",
    "        seq_inpt = inpt[None, :] + seq_add[:,None]\n",
    "        result = seq_inpt[tuple(tri)]\n",
    "        result = result * signs\n",
    "        result[signs==0]=1\n",
    "        result = result.reshape(seq_len, dim_out, dim_in)\n",
    "        result = torch.prod(result, dim=2)\n",
    "        return result\n",
    "    return inner_fc\n",
    "\n",
    "def plot_fcts(inpt, neg_tol, pos_tol):\n",
    "    inpt_dim = len(inpt[0])\n",
    "    neg_inpt = (inpt + neg_tol).numpy()\n",
    "    pos_inpt = (inpt + pos_tol).numpy()\n",
    "    seq_len = len(inpt)\n",
    "    np_inpt = inpt.numpy()\n",
    "    num_graphs = int(np.ceil(np.sqrt(inpt_dim)))\n",
    "    print(num_graphs)\n",
    "    fig, ax = plt.subplots(num_graphs,num_graphs)\n",
    "    fig.set_size_inches(9, 9)\n",
    "    for sp in range(inpt_dim):\n",
    "        idx = sp // num_graphs\n",
    "        idy = sp  % num_graphs\n",
    "        ax[idx,idy].clear()\n",
    "        ax[idx,idy].plot(range(seq_len), np_inpt[:,sp], alpha=0.5, color='midnightblue')\n",
    "        ax[idx,idy].plot(range(seq_len), neg_inpt[:,sp], alpha=0.5, color='orangered')\n",
    "        ax[idx,idy].plot(range(seq_len), pos_inpt[:,sp], alpha=0.5, color='orangered')"
   ]
  },
  {
   "cell_type": "code",
   "execution_count": 289,
   "metadata": {},
   "outputs": [],
   "source": [
    "inner_fct = make_func(6, 3, 10)\n",
    "neg, pos = make_tol(1, 3, 10)"
   ]
  },
  {
   "cell_type": "code",
   "execution_count": 290,
   "metadata": {},
   "outputs": [
    {
     "name": "stdout",
     "output_type": "stream",
     "text": [
      "2\n"
     ]
    },
    {
     "data": {
      "image/png": "[encoded data removed]",
      "text/plain": [
       "<Figure size 648x648 with 4 Axes>"
      ]
     },
     "metadata": {
      "needs_background": "light"
     },
     "output_type": "display_data"
    }
   ],
   "source": [
    "inpt = inner_fct(torch.tensor([0,0,1,0.1,0.1,0.1]))\n",
    "plot_fcts(inpt=inpt, neg_tol=neg, pos_tol=pos)\n",
    "#make_func(2,3,torch.tensor([1,2]))"
   ]
  },
  {
   "cell_type": "code",
   "execution_count": 48,
   "metadata": {},
   "outputs": [
    {
     "name": "stdout",
     "output_type": "stream",
     "text": [
      "tensor([ 1, -3, -1])\n"
     ]
    }
   ],
   "source": [
    "print(inner_fct(torch.tensor([1,3])))"
   ]
  },
  {
   "cell_type": "code",
   "execution_count": 122,
   "metadata": {},
   "outputs": [],
   "source": [
    "a = torch.tensor([[1,2], [3,4]])"
   ]
  },
  {
   "cell_type": "code",
   "execution_count": 160,
   "metadata": {},
   "outputs": [
    {
     "data": {
      "text/plain": [
       "torch.Size([2, 2])"
      ]
     },
     "execution_count": 160,
     "metadata": {},
     "output_type": "execute_result"
    }
   ],
   "source": [
    "b = torch.tensor([[0,1], [0,1]])\n",
    "b.shape"
   ]
  },
  {
   "cell_type": "code",
   "execution_count": 161,
   "metadata": {},
   "outputs": [
    {
     "data": {
      "text/plain": [
       "tensor([1, 4])"
      ]
     },
     "execution_count": 161,
     "metadata": {},
     "output_type": "execute_result"
    }
   ],
   "source": [
    "a[tuple(b)]"
   ]
  },
  {
   "cell_type": "code",
   "execution_count": null,
   "metadata": {},
   "outputs": [],
   "source": []
  }
 ],
 "metadata": {
  "interpreter": {
   "hash": "7f5bd47154570d5126567c184586e0bb77ed7d83a41d7866031d21bffc854959"
  },
  "kernelspec": {
   "display_name": "Python 3.8.12 ('LP8')",
   "language": "python",
   "name": "python3"
  },
  "language_info": {
   "codemirror_mode": {
    "name": "ipython",
    "version": 3
   },
   "file_extension": ".py",
   "mimetype": "text/x-python",
   "name": "python",
   "nbconvert_exporter": "python",
   "pygments_lexer": "ipython3",
   "version": "3.8.12"
  },
  "orig_nbformat": 4
 },
 "nbformat": 4,
 "nbformat_minor": 2
}
