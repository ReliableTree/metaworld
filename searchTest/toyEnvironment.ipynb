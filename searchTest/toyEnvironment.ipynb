{
 "cells": [
  {
   "cell_type": "code",
   "execution_count": null,
   "metadata": {},
   "outputs": [
    {
     "ename": "",
     "evalue": "",
     "output_type": "error",
     "traceback": [
      "\u001b[1;31mJupyter cannot be started. Error attempting to locate jupyter: Running cells with 'Python 3.8.10 64-bit' requires jupyter and notebook package.\n",
      "Run the following command to install 'jupyter and notebook' into the Python environment. \n",
      "Command: 'python -m pip install jupyter notebook -U\n",
      "or\n",
      "conda install jupyter notebook -U'\n",
      "Click <a href='https://aka.ms/installJupyterForVSCode'>here</a> for more info."
     ]
    }
   ],
   "source": [
    "import torch\n",
    "import matplotlib.pyplot as plt\n",
    "import numpy as np\n",
    "import os\n",
    "import higher\n",
    "import pickle"
   ]
  },
  {
   "cell_type": "code",
   "execution_count": null,
   "metadata": {},
   "outputs": [],
   "source": [
    "def check_outpt(label, outpt, tol_neg, tol_pos):\n",
    "    diff = label-outpt\n",
    "    neg_acc = diff > tol_neg[None,None,:]\n",
    "    pos_acc = diff < tol_pos[None,None,:]\n",
    "    acc = neg_acc*pos_acc\n",
    "    acc = acc.reshape(diff.size(0), -1)\n",
    "    return torch.all(acc, dim=1)"
   ]
  },
  {
   "cell_type": "code",
   "execution_count": null,
   "metadata": {},
   "outputs": [],
   "source": [
    "label = torch.ones(5,4,4)\n",
    "label[1,3,3] = -1\n",
    "outpt = torch.ones(5,4,4)\n",
    "neg = -0.1*torch.ones(5,4,4)\n",
    "pos = 0.1*torch.ones(5,4,4)"
   ]
  },
  {
   "cell_type": "code",
   "execution_count": null,
   "metadata": {},
   "outputs": [],
   "source": [
    "check_outpt(label=label, outpt=outpt, tol_neg=neg, tol_pos=pos)"
   ]
  },
  {
   "cell_type": "code",
   "execution_count": null,
   "metadata": {},
   "outputs": [],
   "source": [
    "seq_len_global = 200"
   ]
  },
  {
   "cell_type": "code",
   "execution_count": null,
   "metadata": {},
   "outputs": [],
   "source": [
    "\n",
    "def make_toy_data(num_examples, inpt_func, outpt_func):\n",
    "    generator =  torch.rand(num_examples)\n",
    "    inpt = inpt_func(generator)\n",
    "    outpt = outpt_func(inpt)\n",
    "    return inpt, outpt\n",
    "\n",
    "def check_outpt(label, outpt, tol_neg, tol_pos):\n",
    "    diff = label-outpt\n",
    "    neg_acc = diff > tol_neg[None,None,:]\n",
    "    pos_acc = diff < tol_pos[None,None,:]\n",
    "    acc = neg_acc*pos_acc\n",
    "    acc = acc.reshape(diff.size(0), -1)\n",
    "    return torch.all(acc, dim=1)\n",
    "\n",
    "def make_tol(std_dev, dim, add=1e-3, device = 'cpu'):\n",
    "    tol_neg = - (torch.abs(torch.normal(mean=torch.zeros(dim), std=std_dev*torch.ones(dim))) + add).to(device)\n",
    "    tol_pos = + (torch.abs(torch.normal(mean=torch.zeros(dim), std=std_dev*torch.ones(dim))) + add).to(device)\n",
    "    return tol_neg, tol_pos\n",
    "\n",
    "def make_func(dim_in,dim_out, seq_len):\n",
    "    seq_add = torch.arange(0,1,1/seq_len)\n",
    "    '''    di_a = [[i for i in range(dim_in)] for j in range(dim_in)]\n",
    "    print('asdsd')\n",
    "    index_ = list(itertools.product(*di_a))\n",
    "    print(len(index_))\n",
    "    ri = random.choices(index_, k=dim_out)\n",
    "    tri = torch.tensor(ri)'''\n",
    "    tri = torch.randint(low=0, high=dim_in, size=(dim_out, dim_in))\n",
    "    print(tri)\n",
    "    signs = torch.randint(low=-1, high=2, size=(dim_in*dim_out,)).reshape(dim_out, dim_in)\n",
    "    #print(signs)\n",
    "\n",
    "    tri = tri.reshape(-1).repeat(seq_len).reshape(1,-1)\n",
    "    seq_counter = torch.arange(0, seq_len).reshape(1,-1).repeat([dim_in*dim_out, 1]).T.reshape(1,-1)\n",
    "    tri = torch.cat((seq_counter, tri), dim=0)\n",
    "    def inner_fc(inpt):\n",
    "        n = len(inpt)\n",
    "        tri_n = tri.repeat([1, n])\n",
    "        n_counter = torch.arange(0, n).reshape(1,-1).repeat([dim_in*dim_out*seq_len, 1]).T.reshape(1,-1)\n",
    "        tri_n = torch.cat((n_counter, tri_n), dim=0)\n",
    "        seq_inpt = inpt[:,None, :] + seq_add[None,:,None]\n",
    "        result = seq_inpt[tuple(tri_n)]\n",
    "        result = result.reshape(n,seq_len, dim_out, dim_in)\n",
    "        result = result*signs[None,None,:,:]\n",
    "        result[(signs==0)[None,None,:,:].repeat([result.size(0), result.size(1),1,1])]=1\n",
    "        result = torch.prod(result, dim=-1)\n",
    "        return result\n",
    "    return inner_fc\n",
    "\n",
    "def plot_fcts(inpt, neg_tol, pos_tol):\n",
    "    inpt_dim = len(inpt[0])\n",
    "    neg_inpt = (inpt + neg_tol[None,:]).numpy()\n",
    "    pos_inpt = (inpt + pos_tol[None,:]).numpy()\n",
    "    seq_len = len(inpt)\n",
    "    np_inpt = inpt.numpy()\n",
    "    num_graphs = int(np.ceil(np.sqrt(inpt_dim)))\n",
    "    fig, ax = plt.subplots(num_graphs,num_graphs)\n",
    "    fig.set_size_inches(9, 9)\n",
    "    for sp in range(inpt_dim):\n",
    "        idx = sp // num_graphs\n",
    "        idy = sp  % num_graphs\n",
    "        ax[idx,idy].clear()\n",
    "        ax[idx,idy].plot(range(seq_len), np_inpt[:,sp], alpha=0.5, color='midnightblue')\n",
    "        ax[idx,idy].plot(range(seq_len), neg_inpt[:,sp], alpha=0.5, color='orangered')\n",
    "        ax[idx,idy].plot(range(seq_len), pos_inpt[:,sp], alpha=0.5, color='orangered')\n",
    "\n",
    "def save(path, dict):\n",
    "    if not os.path.exists(path):\n",
    "        os.makedirs(path)\n",
    "\n",
    "    for dk, data in dict.items():\n",
    "        tdata = data\n",
    "        torch.save(tdata, path + str(dk))\n",
    "\n",
    "def make_toy_data(fct, n, dim_in, std = 0.1):\n",
    "    inpt = torch.normal(mean=torch.zeros([n,1, dim_in]), std=std*torch.ones([n,1,dim_in]))\n",
    "    print('äöl')\n",
    "    print(inpt.max())\n",
    "    print(inpt.min())\n",
    "    label = fct(inpt[:,0])\n",
    "    tl = label.transpose(0,2)\n",
    "    tl = tl.reshape([tl.size(0),-1])\n",
    "    mean_label = tl.mean(dim=1)\n",
    "    label = label - mean_label\n",
    "    tl = label.transpose(0,2)\n",
    "    tl = tl.reshape([tl.size(0),-1])\n",
    "    tmax = tl[:10].max(dim=1)[0]\n",
    "    tmin = tl[:10].min(dim=1)[0]\n",
    "    #print(label.transpose(0,2).max(dim=0))\n",
    "    rel_corr = tmax - tmin\n",
    "    #print(rel_corr)\n",
    "    #label = 2*(label / (rel_corr[None,None,:]))\n",
    "    label = label % 1\n",
    "\n",
    "    data_sets = ['train', 'val', 'test']\n",
    "    for i, set in enumerate(data_sets):\n",
    "        path = '/home/hendrik/Documents/master_project/LokalData/metaworld/test/toy_data/' + set + '/'\n",
    "        start = i * int(len(inpt)/len(data_sets))\n",
    "        end = (i+1) * int(len(inpt)/len(data_sets))\n",
    "        print(start)\n",
    "        print(end)\n",
    "        save(path=path, dict={'inpt':5*inpt[start:end], 'label':label[start:end]})\n",
    "    return inpt, label"
   ]
  },
  {
   "cell_type": "code",
   "execution_count": null,
   "metadata": {},
   "outputs": [],
   "source": [
    "inner_fct = make_func(dim_in=4, dim_out=4, seq_len=seq_len_global)\n"
   ]
  },
  {
   "cell_type": "code",
   "execution_count": null,
   "metadata": {},
   "outputs": [],
   "source": [
    "neg"
   ]
  },
  {
   "cell_type": "code",
   "execution_count": null,
   "metadata": {},
   "outputs": [],
   "source": [
    "neg, pos = make_tol(std_dev=5e-1, dim=4, add=5e-2)\n",
    "a= (neg, pos)\n",
    "path_to_file = '/home/hendrik/Documents/master_project/LokalData/metaworld/test/toy_data/tol/'\n",
    "from os import path, makedirs\n",
    "#dir_path = path.dirname(path.realpath(__file__))\n",
    "if not path.exists(path_to_file):\n",
    "    makedirs(path_to_file)\n",
    "with open(path_to_file + 'tol.pkl', 'wb') as f:\n",
    "    pickle.dump(a, f)  \n",
    "\n"
   ]
  },
  {
   "cell_type": "code",
   "execution_count": null,
   "metadata": {},
   "outputs": [],
   "source": [
    "with open(path_to_file + 'tol.pkl', 'rb') as f:\n",
    "    b = pickle.load(f)"
   ]
  },
  {
   "cell_type": "code",
   "execution_count": null,
   "metadata": {},
   "outputs": [],
   "source": [
    "inpt, label = make_toy_data(inner_fct, n=30000, dim_in=4, std=0.1)\n",
    "#print(inpt)\n",
    "#print(inpt.shape)\n",
    "outpt = torch.clone(label)\n",
    "outpt[0,0,0] = 20\n",
    "#print(check_outpt(label=inpt, outpt=outpt, tol_neg=neg, tol_pos=pos))\n",
    "plot_fcts(inpt=label[0], neg_tol=neg, pos_tol=pos)\n",
    "#make_func(2,3,torch.tensor([1,2]))"
   ]
  },
  {
   "cell_type": "code",
   "execution_count": null,
   "metadata": {},
   "outputs": [],
   "source": [
    "neg, pos = make_tol(std_dev=5e-1, dim=4, add=1e-3)\n"
   ]
  },
  {
   "cell_type": "code",
   "execution_count": null,
   "metadata": {},
   "outputs": [],
   "source": [
    "plot_fcts(inpt=label[14], neg_tol=neg, pos_tol=pos)\n"
   ]
  },
  {
   "cell_type": "code",
   "execution_count": null,
   "metadata": {},
   "outputs": [],
   "source": [
    "from torch.utils.data import DataLoader\n",
    "\n",
    "class TorchDatasetMW(torch.utils.data.Dataset):\n",
    "  'Characterizes a dataset for PyTorch'\n",
    "  def __init__(self, data):\n",
    "      self.data = data\n",
    "\n",
    "  def __len__(self):\n",
    "        'Denotes the total number of samples'\n",
    "        return len(self.data)\n",
    "\n",
    "  def __getitem__(self, index):\n",
    "        'Generates one sample of data'\n",
    "        return self.data[index]"
   ]
  },
  {
   "cell_type": "code",
   "execution_count": null,
   "metadata": {},
   "outputs": [],
   "source": [
    "data = torch.arange(10)\n",
    "dataset = TorchDatasetMW(data)"
   ]
  },
  {
   "cell_type": "code",
   "execution_count": null,
   "metadata": {},
   "outputs": [],
   "source": [
    "len(dataset)"
   ]
  },
  {
   "cell_type": "code",
   "execution_count": null,
   "metadata": {},
   "outputs": [],
   "source": [
    "random_indices = torch.randperm(10)[:5]\n",
    "trainset_1 = torch.utils.data.Subset(dataset, random_indices)"
   ]
  },
  {
   "cell_type": "code",
   "execution_count": null,
   "metadata": {},
   "outputs": [],
   "source": [
    "loader = DataLoader(trainset_1)\n",
    "for a in loader:\n",
    "    print(a)"
   ]
  },
  {
   "cell_type": "code",
   "execution_count": null,
   "metadata": {},
   "outputs": [],
   "source": [
    "a = torch.arange(5)"
   ]
  },
  {
   "cell_type": "code",
   "execution_count": null,
   "metadata": {},
   "outputs": [],
   "source": [
    "a[random_indices]"
   ]
  },
  {
   "cell_type": "code",
   "execution_count": null,
   "metadata": {},
   "outputs": [],
   "source": []
  }
 ],
 "metadata": {
  "interpreter": {
   "hash": "f6edd83f9b3fcb9454c0e509bb1e55f01736f244b1bbba81ee1367549d9ea0fd"
  },
  "kernelspec": {
   "display_name": "Python 3.8.13 ('mujoco')",
   "language": "python",
   "name": "python3"
  },
  "language_info": {
   "codemirror_mode": {
    "name": "ipython",
    "version": 3
   },
   "file_extension": ".py",
   "mimetype": "text/x-python",
   "name": "python",
   "nbconvert_exporter": "python",
   "pygments_lexer": "ipython3",
   "version": "3.8.13"
  },
  "orig_nbformat": 4
 },
 "nbformat": 4,
 "nbformat_minor": 2
}
