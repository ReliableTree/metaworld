{
 "cells": [
  {
   "cell_type": "code",
   "execution_count": null,
   "metadata": {},
   "outputs": [],
   "source": [
    "import torch\n",
    "import matplotlib.pyplot as plt\n",
    "import numpy as np\n",
    "import os\n",
    "import higher\n",
    "import pickle"
   ]
  },
  {
   "cell_type": "code",
   "execution_count": null,
   "metadata": {},
   "outputs": [],
   "source": [
    "def check_outpt(label, outpt, tol_neg, tol_pos):\n",
    "    diff = label-outpt\n",
    "    neg_acc = diff > tol_neg[None,None,:]\n",
    "    pos_acc = diff < tol_pos[None,None,:]\n",
    "    acc = neg_acc*pos_acc\n",
    "    acc = acc.reshape(diff.size(0), -1)\n",
    "    return torch.all(acc, dim=1)"
   ]
  },
  {
   "cell_type": "code",
   "execution_count": null,
   "metadata": {},
   "outputs": [],
   "source": [
    "seq_len_global = 5"
   ]
  },
  {
   "cell_type": "code",
   "execution_count": 17,
   "metadata": {},
   "outputs": [],
   "source": [
    "\n",
    "def make_toy_data(num_examples, inpt_func, outpt_func):\n",
    "    generator =  torch.rand(num_examples)\n",
    "    inpt = inpt_func(generator)\n",
    "    outpt = outpt_func(inpt)\n",
    "    return inpt, outpt\n",
    "\n",
    "def check_outpt(label, outpt, tol_neg, tol_pos, window = 0):\n",
    "    if window > 0:\n",
    "        tol_neg, tol_pos, inpt= make_sliding_tol(label=inpt, neg_tol=tol_neg, pos_tol=tol_pos, window=window)\n",
    "\n",
    "    diff = label-outpt\n",
    "\n",
    "    if window > 0:\n",
    "        neg_acc = diff > tol_neg\n",
    "        pos_acc = diff < tol_pos\n",
    "    else:\n",
    "        neg_acc = diff > tol_neg[None,None,:]\n",
    "        pos_acc = diff < tol_pos[None,None,:]\n",
    "    acc = neg_acc*pos_acc\n",
    "    acc = acc.reshape(diff.size(0), -1)\n",
    "    return torch.all(acc, dim=1)\n",
    "\n",
    "def make_tol(std_dev, dim, add=1e-3, device = 'cpu'):\n",
    "    tol_neg = - (torch.abs(torch.normal(mean=torch.zeros(dim), std=std_dev*torch.ones(dim))) + add).to(device)\n",
    "    tol_pos = + (torch.abs(torch.normal(mean=torch.zeros(dim), std=std_dev*torch.ones(dim))) + add).to(device)\n",
    "    return tol_neg, tol_pos\n",
    "\n",
    "def make_func(dim_in,dim_out, seq_len):\n",
    "    seq_add = torch.arange(0,1,1/seq_len)\n",
    "    tri = torch.randint(low=0, high=dim_in, size=(dim_out, dim_in))\n",
    "    signs = torch.randint(low=-1, high=2, size=(dim_in*dim_out,)).reshape(dim_out, dim_in)\n",
    "\n",
    "    tri = tri.reshape(-1).repeat(seq_len).reshape(1,-1)\n",
    "    seq_counter = torch.arange(0, seq_len).reshape(1,-1).repeat([dim_in*dim_out, 1]).T.reshape(1,-1)\n",
    "    tri = torch.cat((seq_counter, tri), dim=0)\n",
    "    def inner_fc(inpt):\n",
    "        n = len(inpt)\n",
    "        tri_n = tri.repeat([1, n])\n",
    "        n_counter = torch.arange(0, n).reshape(1,-1).repeat([dim_in*dim_out*seq_len, 1]).T.reshape(1,-1)\n",
    "        tri_n = torch.cat((n_counter, tri_n), dim=0)\n",
    "        seq_inpt = inpt[:,None, :] + seq_add[None,:,None]\n",
    "        result = seq_inpt[tuple(tri_n)]\n",
    "        result = result.reshape(n,seq_len, dim_out, dim_in)\n",
    "        result = result*signs[None,None,:,:]\n",
    "        result[(signs==0)[None,None,:,:].repeat([result.size(0), result.size(1),1,1])]=1\n",
    "        result = torch.prod(result, dim=-1)\n",
    "        return result\n",
    "    return inner_fc\n",
    "\n",
    "def plot_fcts(inpt, neg_tol, pos_tol, window = 0):\n",
    "    inpt_dim = len(inpt[0])\n",
    "    if window==0:\n",
    "        neg_inpt = (inpt + neg_tol[None,:]).numpy()\n",
    "        pos_inpt = (inpt + pos_tol[None,:]).numpy()\n",
    "    else:\n",
    "        sliding_tol_pos, sliding_tol_neg, inpt= make_sliding_tol(label=inpt.unsqueeze(0), neg_tol=neg_tol, pos_tol=pos_tol, window=window)\n",
    "        pos_inpt, neg_inpt = sliding_tol_pos.numpy(), sliding_tol_neg.numpy()\n",
    "        inpt = inpt[0]\n",
    "\n",
    "    np_inpt = inpt.numpy()\n",
    "    print(f'input: {np_inpt.shape}')\n",
    "    \n",
    "    seq_len = len(inpt)\n",
    "    num_graphs = int(np.ceil(np.sqrt(inpt_dim)))\n",
    "    fig, ax = plt.subplots(num_graphs,num_graphs)\n",
    "    fig.set_size_inches(9, 9)\n",
    "    for sp in range(inpt_dim):\n",
    "        idx = sp // num_graphs\n",
    "        idy = sp  % num_graphs\n",
    "        ax[idx,idy].clear()\n",
    "        ax[idx,idy].plot(range(seq_len), np_inpt[:,sp], alpha=0.5, color='midnightblue')\n",
    "        ax[idx,idy].plot(range(seq_len), neg_inpt[:,sp], alpha=0.5, color='orangered')\n",
    "        ax[idx,idy].plot(range(seq_len), pos_inpt[:,sp], alpha=0.5, color='orangered')\n",
    "\n",
    "def save(path, dict):\n",
    "    if not os.path.exists(path):\n",
    "        os.makedirs(path)\n",
    "\n",
    "    for dk, data in dict.items():\n",
    "        tdata = data\n",
    "        torch.save(tdata, path + str(dk))\n",
    "\n",
    "def make_toy_data(fct, n, dim_in, std = 0.1, data_path= None):\n",
    "    inpt = torch.normal(mean=torch.zeros([n,1, dim_in]), std=std*torch.ones([n,1,dim_in]))\n",
    "    print(inpt.max())\n",
    "    print(inpt.min())\n",
    "    label = fct(inpt[:,0])\n",
    "    tl = label.transpose(0,2)\n",
    "    tl = tl.reshape([tl.size(0),-1])\n",
    "    mean_label = tl.mean(dim=1)\n",
    "    label = label - mean_label\n",
    "    tl = label.transpose(0,2)\n",
    "    tl = tl.reshape([tl.size(0),-1])\n",
    "    tmax = tl[:10].max(dim=1)[0]\n",
    "    tmin = tl[:10].min(dim=1)[0]\n",
    "    rel_corr = tmax - tmin\n",
    "    label = label % 1\n",
    "\n",
    "    data_sets = ['train', 'val', 'test']\n",
    "    if path is not None:\n",
    "        for i, set in enumerate(data_sets):\n",
    "            path =  data_path + set + '/'\n",
    "            start = i * int(len(inpt)/len(data_sets))\n",
    "            end = (i+1) * int(len(inpt)/len(data_sets))\n",
    "            print(start)\n",
    "            print(end)\n",
    "            save(path=path, dict={'inpt':5*inpt[start:end], 'label':label[start:end]})\n",
    "    return inpt, label\n",
    "\n",
    "def make_sliding_tol_dim(label, window = 9, pos = True):\n",
    "    batch_size = label.size(0)\n",
    "    batch_counter = torch.arange(batch_size)\n",
    "    counter = torch.arange(label.size(-1) - window) + int(window/2)\n",
    "    window_counter = torch.arange(window) - int(window/2)\n",
    "    s_ind = counter.repeat([batch_size,window,1]).transpose(-1,-2)\n",
    "    f_ind = (counter[:,None] + window_counter[None,:]).repeat([batch_size, 1,1])\n",
    "    batch_ind = batch_counter.reshape(-1,1,1).repeat([1,f_ind.size(-2), f_ind.size(-1)])\n",
    "    ind = tuple((batch_ind, f_ind, s_ind))\n",
    "    label_repeated = label.unsqueeze(-1).repeat([1,1,label.size(-1)])\n",
    "    label_ind = label_repeated[ind]\n",
    "    result = label_ind.max(dim=-1)[0], label_ind.min(dim=-1)[0]\n",
    "    return result\n",
    "\n",
    "def make_sliding_tol(label, neg_tol, pos_tol, window=9):\n",
    "    tols_pos, tols_neg = [], []\n",
    "    for dim in range(label.size(-1)):\n",
    "        tol_pos, tol_neg = make_sliding_tol_dim(label=label[:,:,dim], window=window)\n",
    "        tols_pos.append(tol_pos.unsqueeze(-1))\n",
    "        tols_neg.append(tol_neg.unsqueeze(-1))\n",
    "    sliding_tol_pos, sliding_tol_neg = torch.cat(tuple(tols_pos), dim=-1), torch.cat(tuple(tols_neg), dim=-1)\n",
    "    neg_inpt = (sliding_tol_neg[0] + neg_tol[None,:])\n",
    "    pos_inpt = (sliding_tol_pos[0] + pos_tol[None,:])\n",
    "    inpt = label[:, int(window/2):-(int(window/2) + 1)]\n",
    "    result = pos_inpt, neg_inpt, inpt\n",
    "    return result"
   ]
  },
  {
   "cell_type": "code",
   "execution_count": null,
   "metadata": {},
   "outputs": [],
   "source": [
    "inner_fct = make_func(dim_in=4, dim_out=4, seq_len=seq_len_global)\n"
   ]
  },
  {
   "cell_type": "code",
   "execution_count": null,
   "metadata": {},
   "outputs": [],
   "source": [
    "neg, pos = make_tol(std_dev=5e-1, dim=4, add=5e-2)\n",
    "a= (neg, pos)\n",
    "path_to_file = '/home/hendrik/Documents/master_project/LokalData/metaworld/test/toy_data/tol/'\n",
    "from os import path, makedirs\n",
    "#dir_path = path.dirname(path.realpath(__file__))\n",
    "if not path.exists(path_to_file):\n",
    "    makedirs(path_to_file)\n",
    "with open(path_to_file + 'tol.pkl', 'wb') as f:\n",
    "    pickle.dump(a, f)  \n",
    "\n"
   ]
  },
  {
   "cell_type": "code",
   "execution_count": null,
   "metadata": {},
   "outputs": [],
   "source": [
    "with open(path_to_file + 'tol.pkl', 'rb') as f:\n",
    "    b = pickle.load(f)"
   ]
  },
  {
   "cell_type": "code",
   "execution_count": null,
   "metadata": {},
   "outputs": [],
   "source": [
    "inpt, label = make_toy_data(inner_fct, n=30000, dim_in=4, std=0.1, data_path='/home/hendrik/Documents/master_project/LokalData/metaworld/small/')\n",
    "outpt = torch.clone(label)\n",
    "outpt[0,0,0] = 20\n",
    "#print(check_outpt(label=inpt, outpt=outpt, tol_neg=neg, tol_pos=pos))\n",
    "#make_func(2,3,torch.tensor([1,2]))"
   ]
  },
  {
   "cell_type": "code",
   "execution_count": 19,
   "metadata": {},
   "outputs": [
    {
     "name": "stdout",
     "output_type": "stream",
     "text": [
      "input: (5, 4)\n"
     ]
    },
    {
     "data": {
      "image/png": "[encoded data removed]",
      "text/plain": [
       "<Figure size 648x648 with 4 Axes>"
      ]
     },
     "metadata": {
      "needs_background": "light"
     },
     "output_type": "display_data"
    }
   ],
   "source": [
    "plot_fcts(inpt=label[0], neg_tol=neg, pos_tol=pos)"
   ]
  },
  {
   "cell_type": "code",
   "execution_count": null,
   "metadata": {},
   "outputs": [],
   "source": [
    "neg = 0.1*-torch.ones(label.size(-1))\n",
    "pos = 0.1*torch.ones(label.size(-1))\n",
    "plot_fcts(label[0], neg, pos, window=9)"
   ]
  },
  {
   "cell_type": "code",
   "execution_count": null,
   "metadata": {},
   "outputs": [],
   "source": [
    "neg, pos = make_tol(std_dev=5e-1, dim=4, add=1e-3)\n"
   ]
  },
  {
   "cell_type": "code",
   "execution_count": null,
   "metadata": {},
   "outputs": [],
   "source": [
    "c1d = torch.nn.Conv1d(in_channels=1, out_channels=1, kernel_size=51, padding='same', padding_mode='reflect')\n",
    "c1d.bias = torch.nn.Parameter(torch.zeros_like(c1d.bias))\n",
    "c1d.weight = torch.nn.Parameter(1/51 * torch.ones_like(c1d.weight))"
   ]
  },
  {
   "cell_type": "code",
   "execution_count": null,
   "metadata": {},
   "outputs": [],
   "source": [
    "label[:1,:,:1].shape"
   ]
  },
  {
   "cell_type": "code",
   "execution_count": null,
   "metadata": {},
   "outputs": [],
   "source": [
    "convout1 = c1d(label[:1,:,:1].transpose(1,2)).detach()\n",
    "convout2 = c1d(label[:1,:,1:2].transpose(1,2)).detach()\n",
    "convout = torch.cat((convout1, convout2), dim=1)"
   ]
  },
  {
   "cell_type": "code",
   "execution_count": null,
   "metadata": {},
   "outputs": [],
   "source": [
    "neg = label[:1,:,:2] - convout.transpose(1,2) - 0.1"
   ]
  },
  {
   "cell_type": "code",
   "execution_count": null,
   "metadata": {},
   "outputs": [],
   "source": [
    "plot_fcts(inpt=label[2,4:-5], neg_tol=sliding_window[2], pos_tol=sliding_window[1])\n"
   ]
  },
  {
   "cell_type": "code",
   "execution_count": null,
   "metadata": {},
   "outputs": [],
   "source": [
    "t1 = torch.arange(10)"
   ]
  },
  {
   "cell_type": "code",
   "execution_count": null,
   "metadata": {},
   "outputs": [],
   "source": [
    "def make_sliding_tol_dim(label, window = 9, pos = True):\n",
    "    batch_size = label.size(0)\n",
    "    batch_counter = torch.arange(batch_size)\n",
    "    counter = torch.arange(label.size(-1) - window) + int(window/2)\n",
    "    window_counter = torch.arange(window) - int(window/2)\n",
    "    s_ind = counter.repeat([batch_size,window,1]).transpose(-1,-2)\n",
    "    f_ind = (counter[:,None] + window_counter[None,:]).repeat([batch_size, 1,1])\n",
    "    batch_ind = batch_counter.reshape(-1,1,1).repeat([1,f_ind.size(-2), f_ind.size(-1)])\n",
    "    ind = tuple((batch_ind, f_ind, s_ind))\n",
    "    label_repeated = label.unsqueeze(-1).repeat([1,1,label.size(-1)])\n",
    "    label_ind = label_repeated[ind]\n",
    "    result = label_ind.max(dim=-1)[0], label_ind.min(dim=-1)[0]\n",
    "    return result\n",
    "\n",
    "def make_sliding_tol(label, neg_tol, pos_tol, window=9):\n",
    "    tols_pos, tols_neg = [], []\n",
    "    for dim in range(label.size(-1)):\n",
    "        tol_pos, tol_neg = make_sliding_tol_dim(label=label[:,:,dim], window=window)\n",
    "        tols_pos.append(tol_pos.unsqueeze(-1))\n",
    "        tols_neg.append(tol_neg.unsqueeze(-1))\n",
    "    sliding_tol_pos, sliding_tol_neg = torch.cat(tuple(tols_pos), dim=-1), torch.cat(tuple(tols_neg), dim=-1)\n",
    "    neg_inpt = (sliding_tol_neg[0] + neg_tol[None,:])\n",
    "    pos_inpt = (sliding_tol_pos[0] + pos_tol[None,:])\n",
    "    inpt = label[:, int(window/2):-(int(window/2) + 1)]\n",
    "    result = pos_inpt, neg_inpt, inpt\n",
    "    return result"
   ]
  },
  {
   "cell_type": "code",
   "execution_count": null,
   "metadata": {},
   "outputs": [],
   "source": [
    "sliding_window, a = make_sliding_tol(label=label[:10])\n",
    "print(sliding_window.shape)"
   ]
  },
  {
   "cell_type": "code",
   "execution_count": null,
   "metadata": {},
   "outputs": [],
   "source": [
    "tol0 = make_sliding_tol(label=label[:,:,0])[0]\n",
    "tol1 = make_sliding_tol(label=label[:,:,1])[0]\n"
   ]
  },
  {
   "cell_type": "code",
   "execution_count": null,
   "metadata": {},
   "outputs": [],
   "source": [
    "tol = torch.cat((tol0.unsqueeze(-1), tol1.unsqueeze(-1)), dim=-1)"
   ]
  },
  {
   "cell_type": "code",
   "execution_count": null,
   "metadata": {},
   "outputs": [],
   "source": [
    "tol.shape"
   ]
  },
  {
   "cell_type": "code",
   "execution_count": null,
   "metadata": {},
   "outputs": [],
   "source": [
    "counter = torch.arange(8) + 1\n",
    "ccounter = torch.arange(3) - 1\n",
    "s_ind = counter[:,None] + ccounter[None,:]\n",
    "f_ind = counter.repeat([3,1]).transpose(0,1) - 1\n",
    "ind = tuple((f_ind, s_ind))"
   ]
  },
  {
   "cell_type": "code",
   "execution_count": null,
   "metadata": {},
   "outputs": [],
   "source": [
    "ind"
   ]
  },
  {
   "cell_type": "code",
   "execution_count": null,
   "metadata": {},
   "outputs": [],
   "source": [
    "tr = t1.repeat([10,1])"
   ]
  },
  {
   "cell_type": "code",
   "execution_count": null,
   "metadata": {},
   "outputs": [],
   "source": [
    "tr.shape"
   ]
  },
  {
   "cell_type": "code",
   "execution_count": null,
   "metadata": {},
   "outputs": [],
   "source": [
    "tr.reshape(10,2,10)"
   ]
  },
  {
   "cell_type": "code",
   "execution_count": null,
   "metadata": {},
   "outputs": [],
   "source": [
    "result = tr[ind]"
   ]
  },
  {
   "cell_type": "code",
   "execution_count": null,
   "metadata": {},
   "outputs": [],
   "source": [
    "result"
   ]
  },
  {
   "cell_type": "code",
   "execution_count": null,
   "metadata": {},
   "outputs": [],
   "source": [
    "label.shape"
   ]
  },
  {
   "cell_type": "code",
   "execution_count": null,
   "metadata": {},
   "outputs": [],
   "source": [
    "neg.shape"
   ]
  },
  {
   "cell_type": "code",
   "execution_count": null,
   "metadata": {},
   "outputs": [],
   "source": [
    "from torch.utils.data import DataLoader\n",
    "\n",
    "class TorchDatasetMW(torch.utils.data.Dataset):\n",
    "  'Characterizes a dataset for PyTorch'\n",
    "  def __init__(self, data):\n",
    "      self.data = data\n",
    "\n",
    "  def __len__(self):\n",
    "        'Denotes the total number of samples'\n",
    "        return len(self.data)\n",
    "\n",
    "  def __getitem__(self, index):\n",
    "        'Generates one sample of data'\n",
    "        return self.data[index]"
   ]
  },
  {
   "cell_type": "code",
   "execution_count": null,
   "metadata": {},
   "outputs": [],
   "source": [
    "data = torch.arange(10)\n",
    "dataset = TorchDatasetMW(data)"
   ]
  },
  {
   "cell_type": "code",
   "execution_count": null,
   "metadata": {},
   "outputs": [],
   "source": [
    "len(dataset)"
   ]
  },
  {
   "cell_type": "code",
   "execution_count": null,
   "metadata": {},
   "outputs": [],
   "source": [
    "random_indices = torch.randperm(10)[:5]\n",
    "trainset_1 = torch.utils.data.Subset(dataset, random_indices)"
   ]
  },
  {
   "cell_type": "code",
   "execution_count": null,
   "metadata": {},
   "outputs": [],
   "source": [
    "loader = DataLoader(trainset_1)\n",
    "for a in loader:\n",
    "    print(a)"
   ]
  },
  {
   "cell_type": "code",
   "execution_count": null,
   "metadata": {},
   "outputs": [],
   "source": [
    "a = torch.arange(5)"
   ]
  },
  {
   "cell_type": "code",
   "execution_count": null,
   "metadata": {},
   "outputs": [],
   "source": [
    "a[random_indices]"
   ]
  },
  {
   "cell_type": "code",
   "execution_count": null,
   "metadata": {},
   "outputs": [],
   "source": []
  }
 ],
 "metadata": {
  "interpreter": {
   "hash": "f6edd83f9b3fcb9454c0e509bb1e55f01736f244b1bbba81ee1367549d9ea0fd"
  },
  "kernelspec": {
   "display_name": "Python 3.8.13 ('mujoco')",
   "language": "python",
   "name": "python3"
  },
  "language_info": {
   "codemirror_mode": {
    "name": "ipython",
    "version": 3
   },
   "file_extension": ".py",
   "mimetype": "text/x-python",
   "name": "python",
   "nbconvert_exporter": "python",
   "pygments_lexer": "ipython3",
   "version": "3.8.13"
  },
  "orig_nbformat": 4
 },
 "nbformat": 4,
 "nbformat_minor": 2
}
