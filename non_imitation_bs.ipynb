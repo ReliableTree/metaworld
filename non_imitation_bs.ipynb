{
 "cells": [
  {
   "cell_type": "code",
   "execution_count": 1,
   "metadata": {},
   "outputs": [
    {
     "name": "stderr",
     "output_type": "stream",
     "text": [
      "/home/hendrik/anaconda3/envs/tfTest/lib/python3.9/site-packages/tqdm/auto.py:22: TqdmWarning: IProgress not found. Please update jupyter and ipywidgets. See https://ipywidgets.readthedocs.io/en/stable/user_install.html\n",
      "  from .autonotebook import tqdm as notebook_tqdm\n",
      "/home/hendrik/anaconda3/envs/tfTest/lib/python3.9/site-packages/torch/cuda/__init__.py:83: UserWarning: CUDA initialization: CUDA unknown error - this may be due to an incorrectly set up environment, e.g. changing env variable CUDA_VISIBLE_DEVICES after program start. Setting the available devices to be zero. (Triggered internally at  ../c10/cuda/CUDAFunctions.cpp:109.)\n",
      "  return torch._C._cuda_getDeviceCount() > 0\n",
      "2022-07-22 18:12:57.673393: I tensorflow/stream_executor/platform/default/dso_loader.cc:49] Successfully opened dynamic library libcudart.so.10.1\n"
     ]
    },
    {
     "name": "stdout",
     "output_type": "stream",
     "text": [
      "Loading latest experiment, id=1\n",
      "Loading /home/hendrik/Documents/master_project/Code/RlBaselines3Zoo/rl-trained-agents/tqc/FetchPickAndPlace-v1_1/FetchPickAndPlace-v1.zip\n"
     ]
    },
    {
     "name": "stderr",
     "output_type": "stream",
     "text": [
      "/home/hendrik/anaconda3/envs/tfTest/lib/python3.9/site-packages/gym/spaces/box.py:73: UserWarning: \u001b[33mWARN: Box bound precision lowered by casting to float32\u001b[0m\n",
      "  logger.warn(\n"
     ]
    }
   ],
   "source": [
    "from stable_baselines3 import PPO\n",
    "from stable_baselines3.common.vec_env import DummyVecEnv\n",
    "import gym\n",
    "from MetaWorld.searchTest.utils import MyEnv, ToyExpertModel, sample_expert_transitions, benchmark_policy, LearnWrapper, train_policy, SuperMyGymWrapper, supermipWrapper, LearnWrapper\n",
    "import torch\n",
    "import zipfile\n",
    "from stable_baselines3.common.vec_env import DummyVecEnv, SubprocVecEnv\n",
    "import importlib\n",
    "import numpy as np\n",
    "from RlBaselines3Zoo import enjoy\n",
    "import gym\n",
    "from stable_baselines3 import PPO\n",
    "from stable_baselines3.common.evaluation import evaluate_policy\n",
    "from stable_baselines3.common.vec_env import DummyVecEnv\n",
    "from stable_baselines3.ppo import MlpPolicy\n",
    "\n",
    "from imitation.algorithms import bc\n",
    "from imitation.data import rollout\n",
    "from imitation.data.wrappers import RolloutInfoWrapper\n",
    "\n",
    "from stable_baselines3.common.policies import MultiInputActorCriticPolicy\n",
    "from stable_baselines3.common.torch_layers import (\n",
    "    BaseFeaturesExtractor,\n",
    "    CombinedExtractor,\n",
    "    FlattenExtractor,\n",
    "    NatureCNN,\n",
    "    create_mlp,\n",
    "    get_actor_critic_arch,\n",
    ")\n",
    "from sb3_contrib.tqc.tqc import TQC\n",
    "from sb3_contrib.tqc.policies import MultiInputPolicy\n",
    "import numpy as np\n",
    "import torch as th\n",
    "\n",
    "model = enjoy.main(inpt_args=\"--algo tqc --env FetchPickAndPlace-v1 --folder /home/hendrik/Documents/master_project/Code/RlBaselines3Zoo/rl-trained-agents -n 300 --ret_model True\")"
   ]
  },
  {
   "cell_type": "code",
   "execution_count": 8,
   "metadata": {},
   "outputs": [
    {
     "name": "stdout",
     "output_type": "stream",
     "text": [
      "Sampling expert transitions.\n"
     ]
    }
   ],
   "source": [
    "\n",
    "\n",
    "\n",
    "#env = SuperMyGymWrapper(tag = None, bo=env).make_wrapper()\n",
    "def sample_expert_transitions():\n",
    "    expert = model\n",
    "\n",
    "    print(\"Sampling expert transitions.\")\n",
    "    rollouts = rollout.rollout(\n",
    "        expert,\n",
    "        DummyVecEnv([lambda: RolloutInfoWrapper(model.env.envs[0])]),\n",
    "        rollout.make_sample_until(min_timesteps=None, min_episodes=1000),\n",
    "        unwrap=True\n",
    "    )\n",
    "    return rollout.flatten_trajectories(rollouts)\n",
    "\n",
    "\n",
    "transitions = sample_expert_transitions()\n",
    "tp = '/home/hendrik/Documents/master_project/LokalData/ImitationLearning/transitions'\n"
   ]
  },
  {
   "cell_type": "code",
   "execution_count": 9,
   "metadata": {},
   "outputs": [],
   "source": [
    "torch.save(transitions, tp)"
   ]
  },
  {
   "cell_type": "code",
   "execution_count": 16,
   "metadata": {},
   "outputs": [],
   "source": [
    "del transitions"
   ]
  },
  {
   "cell_type": "code",
   "execution_count": 18,
   "metadata": {},
   "outputs": [],
   "source": [
    "transitions = torch.load(tp)"
   ]
  },
  {
   "cell_type": "code",
   "execution_count": 13,
   "metadata": {},
   "outputs": [],
   "source": [
    "bc_policy = MultiInputActorCriticPolicy(observation_space=model.observation_space, action_space=model.action_space, lr_schedule=lambda a: 1, features_extractor_class=CombinedExtractor)"
   ]
  },
  {
   "cell_type": "code",
   "execution_count": 19,
   "metadata": {},
   "outputs": [
    {
     "name": "stdout",
     "output_type": "stream",
     "text": [
      "Training a policy using Behavior Cloning\n"
     ]
    }
   ],
   "source": [
    "env = model.env\n",
    "bc_trainer = bc.BC(\n",
    "    observation_space=env.observation_space,\n",
    "    action_space=env.action_space,\n",
    "    demonstrations=transitions,\n",
    "    policy=bc_policy,\n",
    "    \n",
    ")\n",
    "\n",
    "print(\"Training a policy using Behavior Cloning\")"
   ]
  },
  {
   "cell_type": "code",
   "execution_count": 21,
   "metadata": {},
   "outputs": [
    {
     "name": "stdout",
     "output_type": "stream",
     "text": [
      "log dir: /home/hendrik/Documents/master_project/LokalData/ImitationLearning/gboard/BC Trainer Test/train/\n"
     ]
    },
    {
     "name": "stderr",
     "output_type": "stream",
     "text": [
      "0batch [00:00, ?batch/s]"
     ]
    },
    {
     "name": "stdout",
     "output_type": "stream",
     "text": [
      "---------------------------------\n",
      "| batch_size        | 3         |\n",
      "| bc/               |           |\n",
      "|    batch          | 0         |\n",
      "|    ent_loss       | -0.000484 |\n",
      "|    entropy        | 0.484     |\n",
      "|    epoch          | 0         |\n",
      "|    l2_loss        | 0         |\n",
      "|    l2_norm        | 4.26e+03  |\n",
      "|    loss           | 0.13      |\n",
      "|    neglogp        | 0.131     |\n",
      "|    prob_true_act  | 1.46      |\n",
      "|    samples_so_far | 3         |\n",
      "---------------------------------\n"
     ]
    },
    {
     "name": "stderr",
     "output_type": "stream",
     "text": [
      "484batch [00:01, 371.97batch/s]"
     ]
    },
    {
     "name": "stdout",
     "output_type": "stream",
     "text": [
      "---------------------------------\n",
      "| batch_size        | 3         |\n",
      "| bc/               |           |\n",
      "|    batch          | 500       |\n",
      "|    ent_loss       | -0.000512 |\n",
      "|    entropy        | 0.512     |\n",
      "|    epoch          | 0         |\n",
      "|    l2_loss        | 0         |\n",
      "|    l2_norm        | 4.26e+03  |\n",
      "|    loss           | 0.403     |\n",
      "|    neglogp        | 0.404     |\n",
      "|    prob_true_act  | 1.37      |\n",
      "|    samples_so_far | 1503      |\n",
      "---------------------------------\n"
     ]
    },
    {
     "name": "stderr",
     "output_type": "stream",
     "text": [
      "983batch [00:02, 382.13batch/s]"
     ]
    },
    {
     "name": "stdout",
     "output_type": "stream",
     "text": [
      "---------------------------------\n",
      "| batch_size        | 3         |\n",
      "| bc/               |           |\n",
      "|    batch          | 1000      |\n",
      "|    ent_loss       | -0.000504 |\n",
      "|    entropy        | 0.504     |\n",
      "|    epoch          | 0         |\n",
      "|    l2_loss        | 0         |\n",
      "|    l2_norm        | 4.26e+03  |\n",
      "|    loss           | 0.878     |\n",
      "|    neglogp        | 0.878     |\n",
      "|    prob_true_act  | 1.13      |\n",
      "|    samples_so_far | 3003      |\n",
      "---------------------------------\n"
     ]
    },
    {
     "name": "stderr",
     "output_type": "stream",
     "text": [
      "1468batch [00:03, 402.74batch/s]"
     ]
    },
    {
     "name": "stdout",
     "output_type": "stream",
     "text": [
      "---------------------------------\n",
      "| batch_size        | 3         |\n",
      "| bc/               |           |\n",
      "|    batch          | 1500      |\n",
      "|    ent_loss       | -0.000502 |\n",
      "|    entropy        | 0.502     |\n",
      "|    epoch          | 0         |\n",
      "|    l2_loss        | 0         |\n",
      "|    l2_norm        | 4.27e+03  |\n",
      "|    loss           | 0.46      |\n",
      "|    neglogp        | 0.46      |\n",
      "|    prob_true_act  | 1.42      |\n",
      "|    samples_so_far | 4503      |\n",
      "---------------------------------\n"
     ]
    },
    {
     "name": "stderr",
     "output_type": "stream",
     "text": [
      "1990batch [00:05, 394.97batch/s]"
     ]
    },
    {
     "name": "stdout",
     "output_type": "stream",
     "text": [
      "---------------------------------\n",
      "| batch_size        | 3         |\n",
      "| bc/               |           |\n",
      "|    batch          | 2000      |\n",
      "|    ent_loss       | -0.000475 |\n",
      "|    entropy        | 0.475     |\n",
      "|    epoch          | 1         |\n",
      "|    l2_loss        | 0         |\n",
      "|    l2_norm        | 4.27e+03  |\n",
      "|    loss           | 0.000531  |\n",
      "|    neglogp        | 0.00101   |\n",
      "|    prob_true_act  | 1.55      |\n",
      "|    samples_so_far | 6003      |\n",
      "---------------------------------\n"
     ]
    },
    {
     "name": "stderr",
     "output_type": "stream",
     "text": [
      "2495batch [00:06, 371.05batch/s]"
     ]
    },
    {
     "name": "stdout",
     "output_type": "stream",
     "text": [
      "---------------------------------\n",
      "| batch_size        | 3         |\n",
      "| bc/               |           |\n",
      "|    batch          | 2500      |\n",
      "|    ent_loss       | -0.000516 |\n",
      "|    entropy        | 0.516     |\n",
      "|    epoch          | 1         |\n",
      "|    l2_loss        | 0         |\n",
      "|    l2_norm        | 4.28e+03  |\n",
      "|    loss           | 0.552     |\n",
      "|    neglogp        | 0.552     |\n",
      "|    prob_true_act  | 1.08      |\n",
      "|    samples_so_far | 7503      |\n",
      "---------------------------------\n"
     ]
    },
    {
     "name": "stderr",
     "output_type": "stream",
     "text": [
      "2971batch [00:07, 385.69batch/s]"
     ]
    },
    {
     "name": "stdout",
     "output_type": "stream",
     "text": [
      "---------------------------------\n",
      "| batch_size        | 3         |\n",
      "| bc/               |           |\n",
      "|    batch          | 3000      |\n",
      "|    ent_loss       | -0.000489 |\n",
      "|    entropy        | 0.489     |\n",
      "|    epoch          | 1         |\n",
      "|    l2_loss        | 0         |\n",
      "|    l2_norm        | 4.28e+03  |\n",
      "|    loss           | 0.478     |\n",
      "|    neglogp        | 0.479     |\n",
      "|    prob_true_act  | 1.31      |\n",
      "|    samples_so_far | 9003      |\n",
      "---------------------------------\n"
     ]
    },
    {
     "name": "stderr",
     "output_type": "stream",
     "text": [
      "3477batch [00:09, 380.90batch/s]"
     ]
    },
    {
     "name": "stdout",
     "output_type": "stream",
     "text": [
      "--------------------------------\n",
      "| batch_size        | 3        |\n",
      "| bc/               |          |\n",
      "|    batch          | 3500     |\n",
      "|    ent_loss       | -0.0005  |\n",
      "|    entropy        | 0.5      |\n",
      "|    epoch          | 2        |\n",
      "|    l2_loss        | 0        |\n",
      "|    l2_norm        | 4.28e+03 |\n",
      "|    loss           | 1        |\n",
      "|    neglogp        | 1        |\n",
      "|    prob_true_act  | 1.17     |\n",
      "|    samples_so_far | 10503    |\n",
      "--------------------------------\n"
     ]
    },
    {
     "name": "stderr",
     "output_type": "stream",
     "text": [
      "3995batch [00:10, 383.42batch/s]"
     ]
    },
    {
     "name": "stdout",
     "output_type": "stream",
     "text": [
      "---------------------------------\n",
      "| batch_size        | 3         |\n",
      "| bc/               |           |\n",
      "|    batch          | 4000      |\n",
      "|    ent_loss       | -0.000528 |\n",
      "|    entropy        | 0.528     |\n",
      "|    epoch          | 2         |\n",
      "|    l2_loss        | 0         |\n",
      "|    l2_norm        | 4.29e+03  |\n",
      "|    loss           | 0.275     |\n",
      "|    neglogp        | 0.275     |\n",
      "|    prob_true_act  | 1.25      |\n",
      "|    samples_so_far | 12003     |\n",
      "---------------------------------\n"
     ]
    },
    {
     "name": "stderr",
     "output_type": "stream",
     "text": [
      "4469batch [00:11, 391.40batch/s]"
     ]
    },
    {
     "name": "stdout",
     "output_type": "stream",
     "text": [
      "--------------------------------\n",
      "| batch_size        | 3        |\n",
      "| bc/               |          |\n",
      "|    batch          | 4500     |\n",
      "|    ent_loss       | -0.0005  |\n",
      "|    entropy        | 0.5      |\n",
      "|    epoch          | 2        |\n",
      "|    l2_loss        | 0        |\n",
      "|    l2_norm        | 4.29e+03 |\n",
      "|    loss           | 0.594    |\n",
      "|    neglogp        | 0.594    |\n",
      "|    prob_true_act  | 1.36     |\n",
      "|    samples_so_far | 13503    |\n",
      "--------------------------------\n"
     ]
    },
    {
     "name": "stderr",
     "output_type": "stream",
     "text": [
      "4980batch [00:13, 370.47batch/s]"
     ]
    },
    {
     "name": "stdout",
     "output_type": "stream",
     "text": [
      "---------------------------------\n",
      "| batch_size        | 3         |\n",
      "| bc/               |           |\n",
      "|    batch          | 5000      |\n",
      "|    ent_loss       | -0.000498 |\n",
      "|    entropy        | 0.498     |\n",
      "|    epoch          | 3         |\n",
      "|    l2_loss        | 0         |\n",
      "|    l2_norm        | 4.3e+03   |\n",
      "|    loss           | 0.629     |\n",
      "|    neglogp        | 0.63      |\n",
      "|    prob_true_act  | 1.08      |\n",
      "|    samples_so_far | 15003     |\n",
      "---------------------------------\n"
     ]
    },
    {
     "name": "stderr",
     "output_type": "stream",
     "text": [
      "5486batch [00:14, 370.25batch/s]"
     ]
    },
    {
     "name": "stdout",
     "output_type": "stream",
     "text": [
      "---------------------------------\n",
      "| batch_size        | 3         |\n",
      "| bc/               |           |\n",
      "|    batch          | 5500      |\n",
      "|    ent_loss       | -0.000486 |\n",
      "|    entropy        | 0.486     |\n",
      "|    epoch          | 3         |\n",
      "|    l2_loss        | 0         |\n",
      "|    l2_norm        | 4.3e+03   |\n",
      "|    loss           | 0.319     |\n",
      "|    neglogp        | 0.319     |\n",
      "|    prob_true_act  | 1.26      |\n",
      "|    samples_so_far | 16503     |\n",
      "---------------------------------\n"
     ]
    },
    {
     "name": "stderr",
     "output_type": "stream",
     "text": [
      "5996batch [00:15, 383.29batch/s]"
     ]
    },
    {
     "name": "stdout",
     "output_type": "stream",
     "text": [
      "---------------------------------\n",
      "| batch_size        | 3         |\n",
      "| bc/               |           |\n",
      "|    batch          | 6000      |\n",
      "|    ent_loss       | -0.000503 |\n",
      "|    entropy        | 0.503     |\n",
      "|    epoch          | 3         |\n",
      "|    l2_loss        | 0         |\n",
      "|    l2_norm        | 4.31e+03  |\n",
      "|    loss           | 0.321     |\n",
      "|    neglogp        | 0.322     |\n",
      "|    prob_true_act  | 1.53      |\n",
      "|    samples_so_far | 18003     |\n",
      "---------------------------------\n"
     ]
    },
    {
     "name": "stderr",
     "output_type": "stream",
     "text": [
      "6497batch [00:17, 370.58batch/s]"
     ]
    },
    {
     "name": "stdout",
     "output_type": "stream",
     "text": [
      "---------------------------------\n",
      "| batch_size        | 3         |\n",
      "| bc/               |           |\n",
      "|    batch          | 6500      |\n",
      "|    ent_loss       | -0.000506 |\n",
      "|    entropy        | 0.506     |\n",
      "|    epoch          | 4         |\n",
      "|    l2_loss        | 0         |\n",
      "|    l2_norm        | 4.31e+03  |\n",
      "|    loss           | 0.283     |\n",
      "|    neglogp        | 0.284     |\n",
      "|    prob_true_act  | 1.22      |\n",
      "|    samples_so_far | 19503     |\n",
      "---------------------------------\n"
     ]
    },
    {
     "name": "stderr",
     "output_type": "stream",
     "text": [
      "6963batch [00:18, 383.57batch/s]"
     ]
    },
    {
     "name": "stdout",
     "output_type": "stream",
     "text": [
      "--------------------------------\n",
      "| batch_size        | 3        |\n",
      "| bc/               |          |\n",
      "|    batch          | 7000     |\n",
      "|    ent_loss       | -0.00047 |\n",
      "|    entropy        | 0.47     |\n",
      "|    epoch          | 4        |\n",
      "|    l2_loss        | 0        |\n",
      "|    l2_norm        | 4.31e+03 |\n",
      "|    loss           | 0.315    |\n",
      "|    neglogp        | 0.316    |\n",
      "|    prob_true_act  | 1.36     |\n",
      "|    samples_so_far | 21003    |\n",
      "--------------------------------\n"
     ]
    },
    {
     "name": "stderr",
     "output_type": "stream",
     "text": [
      "7472batch [00:19, 371.00batch/s]"
     ]
    },
    {
     "name": "stdout",
     "output_type": "stream",
     "text": [
      "---------------------------------\n",
      "| batch_size        | 3         |\n",
      "| bc/               |           |\n",
      "|    batch          | 7500      |\n",
      "|    ent_loss       | -0.000535 |\n",
      "|    entropy        | 0.535     |\n",
      "|    epoch          | 4         |\n",
      "|    l2_loss        | 0         |\n",
      "|    l2_norm        | 4.32e+03  |\n",
      "|    loss           | 0.315     |\n",
      "|    neglogp        | 0.315     |\n",
      "|    prob_true_act  | 1.28      |\n",
      "|    samples_so_far | 22503     |\n",
      "---------------------------------\n"
     ]
    },
    {
     "name": "stderr",
     "output_type": "stream",
     "text": [
      "7986batch [00:20, 384.22batch/s]"
     ]
    },
    {
     "name": "stdout",
     "output_type": "stream",
     "text": [
      "---------------------------------\n",
      "| batch_size        | 3         |\n",
      "| bc/               |           |\n",
      "|    batch          | 8000      |\n",
      "|    ent_loss       | -0.000511 |\n",
      "|    entropy        | 0.511     |\n",
      "|    epoch          | 5         |\n",
      "|    l2_loss        | 0         |\n",
      "|    l2_norm        | 4.32e+03  |\n",
      "|    loss           | 0.0904    |\n",
      "|    neglogp        | 0.0909    |\n",
      "|    prob_true_act  | 1.34      |\n",
      "|    samples_so_far | 24003     |\n",
      "---------------------------------\n"
     ]
    },
    {
     "name": "stderr",
     "output_type": "stream",
     "text": [
      "8495batch [00:22, 380.20batch/s]"
     ]
    },
    {
     "name": "stdout",
     "output_type": "stream",
     "text": [
      "---------------------------------\n",
      "| batch_size        | 3         |\n",
      "| bc/               |           |\n",
      "|    batch          | 8500      |\n",
      "|    ent_loss       | -0.000478 |\n",
      "|    entropy        | 0.478     |\n",
      "|    epoch          | 5         |\n",
      "|    l2_loss        | 0         |\n",
      "|    l2_norm        | 4.32e+03  |\n",
      "|    loss           | 0.179     |\n",
      "|    neglogp        | 0.18      |\n",
      "|    prob_true_act  | 1.52      |\n",
      "|    samples_so_far | 25503     |\n",
      "---------------------------------\n"
     ]
    },
    {
     "name": "stderr",
     "output_type": "stream",
     "text": [
      "9000batch [00:23, 372.86batch/s]"
     ]
    },
    {
     "name": "stdout",
     "output_type": "stream",
     "text": [
      "---------------------------------\n",
      "| batch_size        | 3         |\n",
      "| bc/               |           |\n",
      "|    batch          | 9000      |\n",
      "|    ent_loss       | -0.000528 |\n",
      "|    entropy        | 0.528     |\n",
      "|    epoch          | 5         |\n",
      "|    l2_loss        | 0         |\n",
      "|    l2_norm        | 4.33e+03  |\n",
      "|    loss           | 0.604     |\n",
      "|    neglogp        | 0.605     |\n",
      "|    prob_true_act  | 1.04      |\n",
      "|    samples_so_far | 27003     |\n",
      "---------------------------------\n"
     ]
    },
    {
     "name": "stderr",
     "output_type": "stream",
     "text": [
      "9471batch [00:24, 377.51batch/s]"
     ]
    },
    {
     "name": "stdout",
     "output_type": "stream",
     "text": [
      "---------------------------------\n",
      "| batch_size        | 3         |\n",
      "| bc/               |           |\n",
      "|    batch          | 9500      |\n",
      "|    ent_loss       | -0.000523 |\n",
      "|    entropy        | 0.523     |\n",
      "|    epoch          | 6         |\n",
      "|    l2_loss        | 0         |\n",
      "|    l2_norm        | 4.33e+03  |\n",
      "|    loss           | -0.121    |\n",
      "|    neglogp        | -0.12     |\n",
      "|    prob_true_act  | 1.81      |\n",
      "|    samples_so_far | 28503     |\n",
      "---------------------------------\n"
     ]
    },
    {
     "name": "stderr",
     "output_type": "stream",
     "text": [
      "9977batch [00:26, 376.00batch/s]"
     ]
    },
    {
     "name": "stdout",
     "output_type": "stream",
     "text": [
      "---------------------------------\n",
      "| batch_size        | 3         |\n",
      "| bc/               |           |\n",
      "|    batch          | 10000     |\n",
      "|    ent_loss       | -0.000491 |\n",
      "|    entropy        | 0.491     |\n",
      "|    epoch          | 6         |\n",
      "|    l2_loss        | 0         |\n",
      "|    l2_norm        | 4.34e+03  |\n",
      "|    loss           | 0.461     |\n",
      "|    neglogp        | 0.462     |\n",
      "|    prob_true_act  | 1.34      |\n",
      "|    samples_so_far | 30003     |\n",
      "---------------------------------\n"
     ]
    },
    {
     "name": "stderr",
     "output_type": "stream",
     "text": [
      "10491batch [00:27, 385.99batch/s]"
     ]
    },
    {
     "name": "stdout",
     "output_type": "stream",
     "text": [
      "---------------------------------\n",
      "| batch_size        | 3         |\n",
      "| bc/               |           |\n",
      "|    batch          | 10500     |\n",
      "|    ent_loss       | -0.000488 |\n",
      "|    entropy        | 0.488     |\n",
      "|    epoch          | 6         |\n",
      "|    l2_loss        | 0         |\n",
      "|    l2_norm        | 4.34e+03  |\n",
      "|    loss           | 0.432     |\n",
      "|    neglogp        | 0.432     |\n",
      "|    prob_true_act  | 1.33      |\n",
      "|    samples_so_far | 31503     |\n",
      "---------------------------------\n"
     ]
    },
    {
     "name": "stderr",
     "output_type": "stream",
     "text": [
      "10994batch [00:28, 370.05batch/s]"
     ]
    },
    {
     "name": "stdout",
     "output_type": "stream",
     "text": [
      "---------------------------------\n",
      "| batch_size        | 3         |\n",
      "| bc/               |           |\n",
      "|    batch          | 11000     |\n",
      "|    ent_loss       | -0.000503 |\n",
      "|    entropy        | 0.503     |\n",
      "|    epoch          | 7         |\n",
      "|    l2_loss        | 0         |\n",
      "|    l2_norm        | 4.35e+03  |\n",
      "|    loss           | 0.378     |\n",
      "|    neglogp        | 0.378     |\n",
      "|    prob_true_act  | 1.68      |\n",
      "|    samples_so_far | 33003     |\n",
      "---------------------------------\n"
     ]
    },
    {
     "name": "stderr",
     "output_type": "stream",
     "text": [
      "11494batch [00:30, 377.02batch/s]"
     ]
    },
    {
     "name": "stdout",
     "output_type": "stream",
     "text": [
      "---------------------------------\n",
      "| batch_size        | 3         |\n",
      "| bc/               |           |\n",
      "|    batch          | 11500     |\n",
      "|    ent_loss       | -0.000498 |\n",
      "|    entropy        | 0.498     |\n",
      "|    epoch          | 7         |\n",
      "|    l2_loss        | 0         |\n",
      "|    l2_norm        | 4.35e+03  |\n",
      "|    loss           | 0.395     |\n",
      "|    neglogp        | 0.396     |\n",
      "|    prob_true_act  | 1.2       |\n",
      "|    samples_so_far | 34503     |\n",
      "---------------------------------\n"
     ]
    },
    {
     "name": "stderr",
     "output_type": "stream",
     "text": [
      "11994batch [00:31, 380.47batch/s]"
     ]
    },
    {
     "name": "stdout",
     "output_type": "stream",
     "text": [
      "---------------------------------\n",
      "| batch_size        | 3         |\n",
      "| bc/               |           |\n",
      "|    batch          | 12000     |\n",
      "|    ent_loss       | -0.000487 |\n",
      "|    entropy        | 0.487     |\n",
      "|    epoch          | 7         |\n",
      "|    l2_loss        | 0         |\n",
      "|    l2_norm        | 4.35e+03  |\n",
      "|    loss           | 0.49      |\n",
      "|    neglogp        | 0.491     |\n",
      "|    prob_true_act  | 1.5       |\n",
      "|    samples_so_far | 36003     |\n",
      "---------------------------------\n"
     ]
    },
    {
     "name": "stderr",
     "output_type": "stream",
     "text": [
      "12493batch [00:32, 370.76batch/s]"
     ]
    },
    {
     "name": "stdout",
     "output_type": "stream",
     "text": [
      "---------------------------------\n",
      "| batch_size        | 3         |\n",
      "| bc/               |           |\n",
      "|    batch          | 12500     |\n",
      "|    ent_loss       | -0.000515 |\n",
      "|    entropy        | 0.515     |\n",
      "|    epoch          | 8         |\n",
      "|    l2_loss        | 0         |\n",
      "|    l2_norm        | 4.36e+03  |\n",
      "|    loss           | 0.939     |\n",
      "|    neglogp        | 0.939     |\n",
      "|    prob_true_act  | 1.15      |\n",
      "|    samples_so_far | 37503     |\n",
      "---------------------------------\n"
     ]
    },
    {
     "name": "stderr",
     "output_type": "stream",
     "text": [
      "12961batch [00:34, 383.85batch/s]"
     ]
    },
    {
     "name": "stdout",
     "output_type": "stream",
     "text": [
      "---------------------------------\n",
      "| batch_size        | 3         |\n",
      "| bc/               |           |\n",
      "|    batch          | 13000     |\n",
      "|    ent_loss       | -0.000514 |\n",
      "|    entropy        | 0.514     |\n",
      "|    epoch          | 8         |\n",
      "|    l2_loss        | 0         |\n",
      "|    l2_norm        | 4.36e+03  |\n",
      "|    loss           | 0.454     |\n",
      "|    neglogp        | 0.455     |\n",
      "|    prob_true_act  | 1.15      |\n",
      "|    samples_so_far | 39003     |\n",
      "---------------------------------\n"
     ]
    },
    {
     "name": "stderr",
     "output_type": "stream",
     "text": [
      "13463batch [00:35, 377.17batch/s]"
     ]
    },
    {
     "name": "stdout",
     "output_type": "stream",
     "text": [
      "---------------------------------\n",
      "| batch_size        | 3         |\n",
      "| bc/               |           |\n",
      "|    batch          | 13500     |\n",
      "|    ent_loss       | -0.000477 |\n",
      "|    entropy        | 0.477     |\n",
      "|    epoch          | 8         |\n",
      "|    l2_loss        | 0         |\n",
      "|    l2_norm        | 4.36e+03  |\n",
      "|    loss           | 0.613     |\n",
      "|    neglogp        | 0.613     |\n",
      "|    prob_true_act  | 1.12      |\n",
      "|    samples_so_far | 40503     |\n",
      "---------------------------------\n"
     ]
    },
    {
     "name": "stderr",
     "output_type": "stream",
     "text": [
      "13984batch [00:36, 389.65batch/s]"
     ]
    },
    {
     "name": "stdout",
     "output_type": "stream",
     "text": [
      "---------------------------------\n",
      "| batch_size        | 3         |\n",
      "| bc/               |           |\n",
      "|    batch          | 14000     |\n",
      "|    ent_loss       | -0.000493 |\n",
      "|    entropy        | 0.493     |\n",
      "|    epoch          | 8         |\n",
      "|    l2_loss        | 0         |\n",
      "|    l2_norm        | 4.37e+03  |\n",
      "|    loss           | 1.06      |\n",
      "|    neglogp        | 1.06      |\n",
      "|    prob_true_act  | 1.26      |\n",
      "|    samples_so_far | 42003     |\n",
      "---------------------------------\n"
     ]
    },
    {
     "name": "stderr",
     "output_type": "stream",
     "text": [
      "14496batch [00:38, 392.54batch/s]"
     ]
    },
    {
     "name": "stdout",
     "output_type": "stream",
     "text": [
      "---------------------------------\n",
      "| batch_size        | 3         |\n",
      "| bc/               |           |\n",
      "|    batch          | 14500     |\n",
      "|    ent_loss       | -0.000498 |\n",
      "|    entropy        | 0.498     |\n",
      "|    epoch          | 9         |\n",
      "|    l2_loss        | 0         |\n",
      "|    l2_norm        | 4.37e+03  |\n",
      "|    loss           | 0.28      |\n",
      "|    neglogp        | 0.281     |\n",
      "|    prob_true_act  | 1.62      |\n",
      "|    samples_so_far | 43503     |\n",
      "---------------------------------\n"
     ]
    },
    {
     "name": "stderr",
     "output_type": "stream",
     "text": [
      "14962batch [00:39, 388.43batch/s]"
     ]
    },
    {
     "name": "stdout",
     "output_type": "stream",
     "text": [
      "---------------------------------\n",
      "| batch_size        | 3         |\n",
      "| bc/               |           |\n",
      "|    batch          | 15000     |\n",
      "|    ent_loss       | -0.000515 |\n",
      "|    entropy        | 0.515     |\n",
      "|    epoch          | 9         |\n",
      "|    l2_loss        | 0         |\n",
      "|    l2_norm        | 4.38e+03  |\n",
      "|    loss           | 0.355     |\n",
      "|    neglogp        | 0.356     |\n",
      "|    prob_true_act  | 1.34      |\n",
      "|    samples_so_far | 45003     |\n",
      "---------------------------------\n"
     ]
    },
    {
     "name": "stderr",
     "output_type": "stream",
     "text": [
      "15462batch [00:40, 370.03batch/s]"
     ]
    },
    {
     "name": "stdout",
     "output_type": "stream",
     "text": [
      "---------------------------------\n",
      "| batch_size        | 3         |\n",
      "| bc/               |           |\n",
      "|    batch          | 15500     |\n",
      "|    ent_loss       | -0.000525 |\n",
      "|    entropy        | 0.525     |\n",
      "|    epoch          | 9         |\n",
      "|    l2_loss        | 0         |\n",
      "|    l2_norm        | 4.38e+03  |\n",
      "|    loss           | 0.339     |\n",
      "|    neglogp        | 0.34      |\n",
      "|    prob_true_act  | 1.32      |\n",
      "|    samples_so_far | 46503     |\n",
      "---------------------------------\n"
     ]
    },
    {
     "name": "stderr",
     "output_type": "stream",
     "text": [
      "15963batch [00:42, 386.28batch/s]"
     ]
    },
    {
     "name": "stdout",
     "output_type": "stream",
     "text": [
      "---------------------------------\n",
      "| batch_size        | 3         |\n",
      "| bc/               |           |\n",
      "|    batch          | 16000     |\n",
      "|    ent_loss       | -0.000446 |\n",
      "|    entropy        | 0.446     |\n",
      "|    epoch          | 10        |\n",
      "|    l2_loss        | 0         |\n",
      "|    l2_norm        | 4.38e+03  |\n",
      "|    loss           | 0.488     |\n",
      "|    neglogp        | 0.489     |\n",
      "|    prob_true_act  | 1.2       |\n",
      "|    samples_so_far | 48003     |\n",
      "---------------------------------\n"
     ]
    },
    {
     "name": "stderr",
     "output_type": "stream",
     "text": [
      "16479batch [00:43, 394.71batch/s]"
     ]
    },
    {
     "name": "stdout",
     "output_type": "stream",
     "text": [
      "---------------------------------\n",
      "| batch_size        | 3         |\n",
      "| bc/               |           |\n",
      "|    batch          | 16500     |\n",
      "|    ent_loss       | -0.000529 |\n",
      "|    entropy        | 0.529     |\n",
      "|    epoch          | 10        |\n",
      "|    l2_loss        | 0         |\n",
      "|    l2_norm        | 4.39e+03  |\n",
      "|    loss           | -0.0109   |\n",
      "|    neglogp        | -0.0104   |\n",
      "|    prob_true_act  | 1.56      |\n",
      "|    samples_so_far | 49503     |\n",
      "---------------------------------\n"
     ]
    },
    {
     "name": "stderr",
     "output_type": "stream",
     "text": [
      "16968batch [00:44, 399.76batch/s]"
     ]
    },
    {
     "name": "stdout",
     "output_type": "stream",
     "text": [
      "---------------------------------\n",
      "| batch_size        | 3         |\n",
      "| bc/               |           |\n",
      "|    batch          | 17000     |\n",
      "|    ent_loss       | -0.000465 |\n",
      "|    entropy        | 0.465     |\n",
      "|    epoch          | 10        |\n",
      "|    l2_loss        | 0         |\n",
      "|    l2_norm        | 4.39e+03  |\n",
      "|    loss           | 1.33      |\n",
      "|    neglogp        | 1.33      |\n",
      "|    prob_true_act  | 1.14      |\n",
      "|    samples_so_far | 51003     |\n",
      "---------------------------------\n"
     ]
    },
    {
     "name": "stderr",
     "output_type": "stream",
     "text": [
      "17495batch [00:46, 399.76batch/s]"
     ]
    },
    {
     "name": "stdout",
     "output_type": "stream",
     "text": [
      "---------------------------------\n",
      "| batch_size        | 3         |\n",
      "| bc/               |           |\n",
      "|    batch          | 17500     |\n",
      "|    ent_loss       | -0.000493 |\n",
      "|    entropy        | 0.493     |\n",
      "|    epoch          | 11        |\n",
      "|    l2_loss        | 0         |\n",
      "|    l2_norm        | 4.4e+03   |\n",
      "|    loss           | 0.27      |\n",
      "|    neglogp        | 0.27      |\n",
      "|    prob_true_act  | 1.38      |\n",
      "|    samples_so_far | 52503     |\n",
      "---------------------------------\n"
     ]
    },
    {
     "name": "stderr",
     "output_type": "stream",
     "text": [
      "17978batch [00:47, 397.79batch/s]"
     ]
    },
    {
     "name": "stdout",
     "output_type": "stream",
     "text": [
      "---------------------------------\n",
      "| batch_size        | 3         |\n",
      "| bc/               |           |\n",
      "|    batch          | 18000     |\n",
      "|    ent_loss       | -0.000493 |\n",
      "|    entropy        | 0.493     |\n",
      "|    epoch          | 11        |\n",
      "|    l2_loss        | 0         |\n",
      "|    l2_norm        | 4.4e+03   |\n",
      "|    loss           | 0.117     |\n",
      "|    neglogp        | 0.117     |\n",
      "|    prob_true_act  | 1.62      |\n",
      "|    samples_so_far | 54003     |\n",
      "---------------------------------\n"
     ]
    },
    {
     "name": "stderr",
     "output_type": "stream",
     "text": [
      "18498batch [00:48, 391.43batch/s]"
     ]
    },
    {
     "name": "stdout",
     "output_type": "stream",
     "text": [
      "---------------------------------\n",
      "| batch_size        | 3         |\n",
      "| bc/               |           |\n",
      "|    batch          | 18500     |\n",
      "|    ent_loss       | -0.000499 |\n",
      "|    entropy        | 0.499     |\n",
      "|    epoch          | 11        |\n",
      "|    l2_loss        | 0         |\n",
      "|    l2_norm        | 4.4e+03   |\n",
      "|    loss           | 0.41      |\n",
      "|    neglogp        | 0.411     |\n",
      "|    prob_true_act  | 1.24      |\n",
      "|    samples_so_far | 55503     |\n",
      "---------------------------------\n"
     ]
    },
    {
     "name": "stderr",
     "output_type": "stream",
     "text": [
      "18974batch [00:49, 390.84batch/s]"
     ]
    },
    {
     "name": "stdout",
     "output_type": "stream",
     "text": [
      "---------------------------------\n",
      "| batch_size        | 3         |\n",
      "| bc/               |           |\n",
      "|    batch          | 19000     |\n",
      "|    ent_loss       | -0.000479 |\n",
      "|    entropy        | 0.479     |\n",
      "|    epoch          | 12        |\n",
      "|    l2_loss        | 0         |\n",
      "|    l2_norm        | 4.41e+03  |\n",
      "|    loss           | 0.692     |\n",
      "|    neglogp        | 0.692     |\n",
      "|    prob_true_act  | 0.968     |\n",
      "|    samples_so_far | 57003     |\n",
      "---------------------------------\n"
     ]
    },
    {
     "name": "stderr",
     "output_type": "stream",
     "text": [
      "19488batch [00:51, 384.90batch/s]"
     ]
    },
    {
     "name": "stdout",
     "output_type": "stream",
     "text": [
      "---------------------------------\n",
      "| batch_size        | 3         |\n",
      "| bc/               |           |\n",
      "|    batch          | 19500     |\n",
      "|    ent_loss       | -0.000464 |\n",
      "|    entropy        | 0.464     |\n",
      "|    epoch          | 12        |\n",
      "|    l2_loss        | 0         |\n",
      "|    l2_norm        | 4.41e+03  |\n",
      "|    loss           | 0.714     |\n",
      "|    neglogp        | 0.715     |\n",
      "|    prob_true_act  | 1.3       |\n",
      "|    samples_so_far | 58503     |\n",
      "---------------------------------\n"
     ]
    },
    {
     "name": "stderr",
     "output_type": "stream",
     "text": [
      "19962batch [00:52, 391.59batch/s]"
     ]
    },
    {
     "name": "stdout",
     "output_type": "stream",
     "text": [
      "--------------------------------\n",
      "| batch_size        | 3        |\n",
      "| bc/               |          |\n",
      "|    batch          | 20000    |\n",
      "|    ent_loss       | -0.0005  |\n",
      "|    entropy        | 0.5      |\n",
      "|    epoch          | 12       |\n",
      "|    l2_loss        | 0        |\n",
      "|    l2_norm        | 4.42e+03 |\n",
      "|    loss           | 0.909    |\n",
      "|    neglogp        | 0.91     |\n",
      "|    prob_true_act  | 0.961    |\n",
      "|    samples_so_far | 60003    |\n",
      "--------------------------------\n"
     ]
    },
    {
     "name": "stderr",
     "output_type": "stream",
     "text": [
      "20483batch [00:53, 390.68batch/s]"
     ]
    },
    {
     "name": "stdout",
     "output_type": "stream",
     "text": [
      "---------------------------------\n",
      "| batch_size        | 3         |\n",
      "| bc/               |           |\n",
      "|    batch          | 20500     |\n",
      "|    ent_loss       | -0.000476 |\n",
      "|    entropy        | 0.476     |\n",
      "|    epoch          | 13        |\n",
      "|    l2_loss        | 0         |\n",
      "|    l2_norm        | 4.42e+03  |\n",
      "|    loss           | 0.642     |\n",
      "|    neglogp        | 0.642     |\n",
      "|    prob_true_act  | 1.05      |\n",
      "|    samples_so_far | 61503     |\n",
      "---------------------------------\n"
     ]
    },
    {
     "name": "stderr",
     "output_type": "stream",
     "text": [
      "20992batch [00:55, 379.49batch/s]"
     ]
    },
    {
     "name": "stdout",
     "output_type": "stream",
     "text": [
      "--------------------------------\n",
      "| batch_size        | 3        |\n",
      "| bc/               |          |\n",
      "|    batch          | 21000    |\n",
      "|    ent_loss       | -0.00048 |\n",
      "|    entropy        | 0.48     |\n",
      "|    epoch          | 13       |\n",
      "|    l2_loss        | 0        |\n",
      "|    l2_norm        | 4.42e+03 |\n",
      "|    loss           | 0.169    |\n",
      "|    neglogp        | 0.169    |\n",
      "|    prob_true_act  | 1.33     |\n",
      "|    samples_so_far | 63003    |\n",
      "--------------------------------\n"
     ]
    },
    {
     "name": "stderr",
     "output_type": "stream",
     "text": [
      "21497batch [00:56, 387.98batch/s]"
     ]
    },
    {
     "name": "stdout",
     "output_type": "stream",
     "text": [
      "---------------------------------\n",
      "| batch_size        | 3         |\n",
      "| bc/               |           |\n",
      "|    batch          | 21500     |\n",
      "|    ent_loss       | -0.000468 |\n",
      "|    entropy        | 0.468     |\n",
      "|    epoch          | 13        |\n",
      "|    l2_loss        | 0         |\n",
      "|    l2_norm        | 4.43e+03  |\n",
      "|    loss           | 0.626     |\n",
      "|    neglogp        | 0.627     |\n",
      "|    prob_true_act  | 1.14      |\n",
      "|    samples_so_far | 64503     |\n",
      "---------------------------------\n"
     ]
    },
    {
     "name": "stderr",
     "output_type": "stream",
     "text": [
      "21963batch [00:57, 369.11batch/s]"
     ]
    },
    {
     "name": "stdout",
     "output_type": "stream",
     "text": [
      "---------------------------------\n",
      "| batch_size        | 3         |\n",
      "| bc/               |           |\n",
      "|    batch          | 22000     |\n",
      "|    ent_loss       | -0.000504 |\n",
      "|    entropy        | 0.504     |\n",
      "|    epoch          | 14        |\n",
      "|    l2_loss        | 0         |\n",
      "|    l2_norm        | 4.43e+03  |\n",
      "|    loss           | 0.26      |\n",
      "|    neglogp        | 0.26      |\n",
      "|    prob_true_act  | 1.28      |\n",
      "|    samples_so_far | 66003     |\n",
      "---------------------------------\n"
     ]
    },
    {
     "name": "stderr",
     "output_type": "stream",
     "text": [
      "22466batch [00:58, 381.01batch/s]"
     ]
    },
    {
     "name": "stdout",
     "output_type": "stream",
     "text": [
      "---------------------------------\n",
      "| batch_size        | 3         |\n",
      "| bc/               |           |\n",
      "|    batch          | 22500     |\n",
      "|    ent_loss       | -0.000476 |\n",
      "|    entropy        | 0.476     |\n",
      "|    epoch          | 14        |\n",
      "|    l2_loss        | 0         |\n",
      "|    l2_norm        | 4.43e+03  |\n",
      "|    loss           | 0.769     |\n",
      "|    neglogp        | 0.77      |\n",
      "|    prob_true_act  | 1.3       |\n",
      "|    samples_so_far | 67503     |\n",
      "---------------------------------\n"
     ]
    },
    {
     "name": "stderr",
     "output_type": "stream",
     "text": [
      "22997batch [01:00, 361.78batch/s]"
     ]
    },
    {
     "name": "stdout",
     "output_type": "stream",
     "text": [
      "---------------------------------\n",
      "| batch_size        | 3         |\n",
      "| bc/               |           |\n",
      "|    batch          | 23000     |\n",
      "|    ent_loss       | -0.000486 |\n",
      "|    entropy        | 0.486     |\n",
      "|    epoch          | 14        |\n",
      "|    l2_loss        | 0         |\n",
      "|    l2_norm        | 4.44e+03  |\n",
      "|    loss           | 0.565     |\n",
      "|    neglogp        | 0.566     |\n",
      "|    prob_true_act  | 1.13      |\n",
      "|    samples_so_far | 69003     |\n",
      "---------------------------------\n"
     ]
    },
    {
     "name": "stderr",
     "output_type": "stream",
     "text": [
      "23479batch [01:01, 367.53batch/s]"
     ]
    },
    {
     "name": "stdout",
     "output_type": "stream",
     "text": [
      "--------------------------------\n",
      "| batch_size        | 3        |\n",
      "| bc/               |          |\n",
      "|    batch          | 23500    |\n",
      "|    ent_loss       | -0.00048 |\n",
      "|    entropy        | 0.48     |\n",
      "|    epoch          | 15       |\n",
      "|    l2_loss        | 0        |\n",
      "|    l2_norm        | 4.44e+03 |\n",
      "|    loss           | -0.0438  |\n",
      "|    neglogp        | -0.0434  |\n",
      "|    prob_true_act  | 1.54     |\n",
      "|    samples_so_far | 70503    |\n",
      "--------------------------------\n"
     ]
    },
    {
     "name": "stderr",
     "output_type": "stream",
     "text": [
      "23970batch [01:03, 378.25batch/s]"
     ]
    },
    {
     "name": "stdout",
     "output_type": "stream",
     "text": [
      "---------------------------------\n",
      "| batch_size        | 3         |\n",
      "| bc/               |           |\n",
      "|    batch          | 24000     |\n",
      "|    ent_loss       | -0.000481 |\n",
      "|    entropy        | 0.481     |\n",
      "|    epoch          | 15        |\n",
      "|    l2_loss        | 0         |\n",
      "|    l2_norm        | 4.45e+03  |\n",
      "|    loss           | 0.92      |\n",
      "|    neglogp        | 0.921     |\n",
      "|    prob_true_act  | 0.924     |\n",
      "|    samples_so_far | 72003     |\n",
      "---------------------------------\n"
     ]
    },
    {
     "name": "stderr",
     "output_type": "stream",
     "text": [
      "24465batch [01:04, 370.43batch/s]"
     ]
    },
    {
     "name": "stdout",
     "output_type": "stream",
     "text": [
      "--------------------------------\n",
      "| batch_size        | 3        |\n",
      "| bc/               |          |\n",
      "|    batch          | 24500    |\n",
      "|    ent_loss       | -0.00051 |\n",
      "|    entropy        | 0.51     |\n",
      "|    epoch          | 15       |\n",
      "|    l2_loss        | 0        |\n",
      "|    l2_norm        | 4.45e+03 |\n",
      "|    loss           | 0.594    |\n",
      "|    neglogp        | 0.594    |\n",
      "|    prob_true_act  | 1.21     |\n",
      "|    samples_so_far | 73503    |\n",
      "--------------------------------\n"
     ]
    },
    {
     "name": "stderr",
     "output_type": "stream",
     "text": [
      "24997batch [01:05, 373.38batch/s]"
     ]
    },
    {
     "name": "stdout",
     "output_type": "stream",
     "text": [
      "---------------------------------\n",
      "| batch_size        | 3         |\n",
      "| bc/               |           |\n",
      "|    batch          | 25000     |\n",
      "|    ent_loss       | -0.000524 |\n",
      "|    entropy        | 0.524     |\n",
      "|    epoch          | 16        |\n",
      "|    l2_loss        | 0         |\n",
      "|    l2_norm        | 4.45e+03  |\n",
      "|    loss           | 0.62      |\n",
      "|    neglogp        | 0.62      |\n",
      "|    prob_true_act  | 1.2       |\n",
      "|    samples_so_far | 75003     |\n",
      "---------------------------------\n"
     ]
    },
    {
     "name": "stderr",
     "output_type": "stream",
     "text": [
      "25496batch [01:07, 373.46batch/s]"
     ]
    },
    {
     "name": "stdout",
     "output_type": "stream",
     "text": [
      "--------------------------------\n",
      "| batch_size        | 3        |\n",
      "| bc/               |          |\n",
      "|    batch          | 25500    |\n",
      "|    ent_loss       | -0.00051 |\n",
      "|    entropy        | 0.51     |\n",
      "|    epoch          | 16       |\n",
      "|    l2_loss        | 0        |\n",
      "|    l2_norm        | 4.46e+03 |\n",
      "|    loss           | 0.748    |\n",
      "|    neglogp        | 0.748    |\n",
      "|    prob_true_act  | 1.21     |\n",
      "|    samples_so_far | 76503    |\n",
      "--------------------------------\n"
     ]
    },
    {
     "name": "stderr",
     "output_type": "stream",
     "text": [
      "25987batch [01:08, 379.80batch/s]"
     ]
    },
    {
     "name": "stdout",
     "output_type": "stream",
     "text": [
      "---------------------------------\n",
      "| batch_size        | 3         |\n",
      "| bc/               |           |\n",
      "|    batch          | 26000     |\n",
      "|    ent_loss       | -0.000484 |\n",
      "|    entropy        | 0.484     |\n",
      "|    epoch          | 16        |\n",
      "|    l2_loss        | 0         |\n",
      "|    l2_norm        | 4.46e+03  |\n",
      "|    loss           | 0.835     |\n",
      "|    neglogp        | 0.835     |\n",
      "|    prob_true_act  | 1.13      |\n",
      "|    samples_so_far | 78003     |\n",
      "---------------------------------\n"
     ]
    },
    {
     "name": "stderr",
     "output_type": "stream",
     "text": [
      "26492batch [01:09, 382.81batch/s]"
     ]
    },
    {
     "name": "stdout",
     "output_type": "stream",
     "text": [
      "---------------------------------\n",
      "| batch_size        | 3         |\n",
      "| bc/               |           |\n",
      "|    batch          | 26500     |\n",
      "|    ent_loss       | -0.000486 |\n",
      "|    entropy        | 0.486     |\n",
      "|    epoch          | 16        |\n",
      "|    l2_loss        | 0         |\n",
      "|    l2_norm        | 4.47e+03  |\n",
      "|    loss           | 0.482     |\n",
      "|    neglogp        | 0.482     |\n",
      "|    prob_true_act  | 1.33      |\n",
      "|    samples_so_far | 79503     |\n",
      "---------------------------------\n"
     ]
    },
    {
     "name": "stderr",
     "output_type": "stream",
     "text": [
      "26996batch [01:11, 376.76batch/s]"
     ]
    },
    {
     "name": "stdout",
     "output_type": "stream",
     "text": [
      "---------------------------------\n",
      "| batch_size        | 3         |\n",
      "| bc/               |           |\n",
      "|    batch          | 27000     |\n",
      "|    ent_loss       | -0.000473 |\n",
      "|    entropy        | 0.473     |\n",
      "|    epoch          | 17        |\n",
      "|    l2_loss        | 0         |\n",
      "|    l2_norm        | 4.47e+03  |\n",
      "|    loss           | 0.198     |\n",
      "|    neglogp        | 0.198     |\n",
      "|    prob_true_act  | 1.59      |\n",
      "|    samples_so_far | 81003     |\n",
      "---------------------------------\n"
     ]
    },
    {
     "name": "stderr",
     "output_type": "stream",
     "text": [
      "27469batch [01:12, 393.31batch/s]"
     ]
    },
    {
     "name": "stdout",
     "output_type": "stream",
     "text": [
      "---------------------------------\n",
      "| batch_size        | 3         |\n",
      "| bc/               |           |\n",
      "|    batch          | 27500     |\n",
      "|    ent_loss       | -0.000526 |\n",
      "|    entropy        | 0.526     |\n",
      "|    epoch          | 17        |\n",
      "|    l2_loss        | 0         |\n",
      "|    l2_norm        | 4.47e+03  |\n",
      "|    loss           | 0.334     |\n",
      "|    neglogp        | 0.335     |\n",
      "|    prob_true_act  | 1.26      |\n",
      "|    samples_so_far | 82503     |\n",
      "---------------------------------\n"
     ]
    },
    {
     "name": "stderr",
     "output_type": "stream",
     "text": [
      "27972batch [01:13, 377.52batch/s]"
     ]
    },
    {
     "name": "stdout",
     "output_type": "stream",
     "text": [
      "---------------------------------\n",
      "| batch_size        | 3         |\n",
      "| bc/               |           |\n",
      "|    batch          | 28000     |\n",
      "|    ent_loss       | -0.000507 |\n",
      "|    entropy        | 0.507     |\n",
      "|    epoch          | 17        |\n",
      "|    l2_loss        | 0         |\n",
      "|    l2_norm        | 4.48e+03  |\n",
      "|    loss           | 0.416     |\n",
      "|    neglogp        | 0.416     |\n",
      "|    prob_true_act  | 1.39      |\n",
      "|    samples_so_far | 84003     |\n",
      "---------------------------------\n"
     ]
    },
    {
     "name": "stderr",
     "output_type": "stream",
     "text": [
      "28480batch [01:15, 391.74batch/s]"
     ]
    },
    {
     "name": "stdout",
     "output_type": "stream",
     "text": [
      "---------------------------------\n",
      "| batch_size        | 3         |\n",
      "| bc/               |           |\n",
      "|    batch          | 28500     |\n",
      "|    ent_loss       | -0.000499 |\n",
      "|    entropy        | 0.499     |\n",
      "|    epoch          | 18        |\n",
      "|    l2_loss        | 0         |\n",
      "|    l2_norm        | 4.48e+03  |\n",
      "|    loss           | 0.859     |\n",
      "|    neglogp        | 0.86      |\n",
      "|    prob_true_act  | 1.16      |\n",
      "|    samples_so_far | 85503     |\n",
      "---------------------------------\n"
     ]
    },
    {
     "name": "stderr",
     "output_type": "stream",
     "text": [
      "28989batch [01:16, 375.20batch/s]"
     ]
    },
    {
     "name": "stdout",
     "output_type": "stream",
     "text": [
      "---------------------------------\n",
      "| batch_size        | 3         |\n",
      "| bc/               |           |\n",
      "|    batch          | 29000     |\n",
      "|    ent_loss       | -0.000507 |\n",
      "|    entropy        | 0.507     |\n",
      "|    epoch          | 18        |\n",
      "|    l2_loss        | 0         |\n",
      "|    l2_norm        | 4.48e+03  |\n",
      "|    loss           | 0.154     |\n",
      "|    neglogp        | 0.155     |\n",
      "|    prob_true_act  | 1.52      |\n",
      "|    samples_so_far | 87003     |\n",
      "---------------------------------\n"
     ]
    },
    {
     "name": "stderr",
     "output_type": "stream",
     "text": [
      "29462batch [01:17, 386.09batch/s]"
     ]
    },
    {
     "name": "stdout",
     "output_type": "stream",
     "text": [
      "---------------------------------\n",
      "| batch_size        | 3         |\n",
      "| bc/               |           |\n",
      "|    batch          | 29500     |\n",
      "|    ent_loss       | -0.000477 |\n",
      "|    entropy        | 0.477     |\n",
      "|    epoch          | 18        |\n",
      "|    l2_loss        | 0         |\n",
      "|    l2_norm        | 4.49e+03  |\n",
      "|    loss           | 1.02      |\n",
      "|    neglogp        | 1.02      |\n",
      "|    prob_true_act  | 1.31      |\n",
      "|    samples_so_far | 88503     |\n",
      "---------------------------------\n"
     ]
    },
    {
     "name": "stderr",
     "output_type": "stream",
     "text": [
      "29964batch [01:19, 379.67batch/s]"
     ]
    },
    {
     "name": "stdout",
     "output_type": "stream",
     "text": [
      "---------------------------------\n",
      "| batch_size        | 3         |\n",
      "| bc/               |           |\n",
      "|    batch          | 30000     |\n",
      "|    ent_loss       | -0.000488 |\n",
      "|    entropy        | 0.488     |\n",
      "|    epoch          | 19        |\n",
      "|    l2_loss        | 0         |\n",
      "|    l2_norm        | 4.49e+03  |\n",
      "|    loss           | 0.472     |\n",
      "|    neglogp        | 0.472     |\n",
      "|    prob_true_act  | 1.08      |\n",
      "|    samples_so_far | 90003     |\n",
      "---------------------------------\n"
     ]
    },
    {
     "name": "stderr",
     "output_type": "stream",
     "text": [
      "30471batch [01:20, 384.32batch/s]"
     ]
    },
    {
     "name": "stdout",
     "output_type": "stream",
     "text": [
      "---------------------------------\n",
      "| batch_size        | 3         |\n",
      "| bc/               |           |\n",
      "|    batch          | 30500     |\n",
      "|    ent_loss       | -0.000502 |\n",
      "|    entropy        | 0.502     |\n",
      "|    epoch          | 19        |\n",
      "|    l2_loss        | 0         |\n",
      "|    l2_norm        | 4.5e+03   |\n",
      "|    loss           | 0.0571    |\n",
      "|    neglogp        | 0.0576    |\n",
      "|    prob_true_act  | 1.51      |\n",
      "|    samples_so_far | 91503     |\n",
      "---------------------------------\n"
     ]
    },
    {
     "name": "stderr",
     "output_type": "stream",
     "text": [
      "30977batch [01:21, 375.34batch/s]"
     ]
    },
    {
     "name": "stdout",
     "output_type": "stream",
     "text": [
      "---------------------------------\n",
      "| batch_size        | 3         |\n",
      "| bc/               |           |\n",
      "|    batch          | 31000     |\n",
      "|    ent_loss       | -0.000512 |\n",
      "|    entropy        | 0.512     |\n",
      "|    epoch          | 19        |\n",
      "|    l2_loss        | 0         |\n",
      "|    l2_norm        | 4.5e+03   |\n",
      "|    loss           | 0.724     |\n",
      "|    neglogp        | 0.724     |\n",
      "|    prob_true_act  | 1.04      |\n",
      "|    samples_so_far | 93003     |\n",
      "---------------------------------\n"
     ]
    },
    {
     "name": "stderr",
     "output_type": "stream",
     "text": [
      "31492batch [01:23, 379.95batch/s]"
     ]
    },
    {
     "name": "stdout",
     "output_type": "stream",
     "text": [
      "---------------------------------\n",
      "| batch_size        | 3         |\n",
      "| bc/               |           |\n",
      "|    batch          | 31500     |\n",
      "|    ent_loss       | -0.000526 |\n",
      "|    entropy        | 0.526     |\n",
      "|    epoch          | 20        |\n",
      "|    l2_loss        | 0         |\n",
      "|    l2_norm        | 4.51e+03  |\n",
      "|    loss           | 0.795     |\n",
      "|    neglogp        | 0.795     |\n",
      "|    prob_true_act  | 1.09      |\n",
      "|    samples_so_far | 94503     |\n",
      "---------------------------------\n"
     ]
    },
    {
     "name": "stderr",
     "output_type": "stream",
     "text": [
      "31995batch [01:24, 375.49batch/s]"
     ]
    },
    {
     "name": "stdout",
     "output_type": "stream",
     "text": [
      "---------------------------------\n",
      "| batch_size        | 3         |\n",
      "| bc/               |           |\n",
      "|    batch          | 32000     |\n",
      "|    ent_loss       | -0.000477 |\n",
      "|    entropy        | 0.477     |\n",
      "|    epoch          | 20        |\n",
      "|    l2_loss        | 0         |\n",
      "|    l2_norm        | 4.51e+03  |\n",
      "|    loss           | 0.448     |\n",
      "|    neglogp        | 0.448     |\n",
      "|    prob_true_act  | 1.54      |\n",
      "|    samples_so_far | 96003     |\n",
      "---------------------------------\n"
     ]
    },
    {
     "name": "stderr",
     "output_type": "stream",
     "text": [
      "32461batch [01:25, 390.96batch/s]"
     ]
    },
    {
     "name": "stdout",
     "output_type": "stream",
     "text": [
      "---------------------------------\n",
      "| batch_size        | 3         |\n",
      "| bc/               |           |\n",
      "|    batch          | 32500     |\n",
      "|    ent_loss       | -0.000459 |\n",
      "|    entropy        | 0.459     |\n",
      "|    epoch          | 20        |\n",
      "|    l2_loss        | 0         |\n",
      "|    l2_norm        | 4.51e+03  |\n",
      "|    loss           | 0.0547    |\n",
      "|    neglogp        | 0.0552    |\n",
      "|    prob_true_act  | 1.51      |\n",
      "|    samples_so_far | 97503     |\n",
      "---------------------------------\n"
     ]
    },
    {
     "name": "stderr",
     "output_type": "stream",
     "text": [
      "32973batch [01:27, 362.15batch/s]"
     ]
    },
    {
     "name": "stdout",
     "output_type": "stream",
     "text": [
      "---------------------------------\n",
      "| batch_size        | 3         |\n",
      "| bc/               |           |\n",
      "|    batch          | 33000     |\n",
      "|    ent_loss       | -0.000493 |\n",
      "|    entropy        | 0.493     |\n",
      "|    epoch          | 21        |\n",
      "|    l2_loss        | 0         |\n",
      "|    l2_norm        | 4.52e+03  |\n",
      "|    loss           | 0.565     |\n",
      "|    neglogp        | 0.565     |\n",
      "|    prob_true_act  | 1.29      |\n",
      "|    samples_so_far | 99003     |\n",
      "---------------------------------\n"
     ]
    },
    {
     "name": "stderr",
     "output_type": "stream",
     "text": [
      "33476batch [01:28, 389.95batch/s]"
     ]
    },
    {
     "name": "stdout",
     "output_type": "stream",
     "text": [
      "---------------------------------\n",
      "| batch_size        | 3         |\n",
      "| bc/               |           |\n",
      "|    batch          | 33500     |\n",
      "|    ent_loss       | -0.000499 |\n",
      "|    entropy        | 0.499     |\n",
      "|    epoch          | 21        |\n",
      "|    l2_loss        | 0         |\n",
      "|    l2_norm        | 4.52e+03  |\n",
      "|    loss           | 0.536     |\n",
      "|    neglogp        | 0.536     |\n",
      "|    prob_true_act  | 1.19      |\n",
      "|    samples_so_far | 100503    |\n",
      "---------------------------------\n"
     ]
    },
    {
     "name": "stderr",
     "output_type": "stream",
     "text": [
      "33996batch [01:29, 385.49batch/s]"
     ]
    },
    {
     "name": "stdout",
     "output_type": "stream",
     "text": [
      "---------------------------------\n",
      "| batch_size        | 3         |\n",
      "| bc/               |           |\n",
      "|    batch          | 34000     |\n",
      "|    ent_loss       | -0.000483 |\n",
      "|    entropy        | 0.483     |\n",
      "|    epoch          | 21        |\n",
      "|    l2_loss        | 0         |\n",
      "|    l2_norm        | 4.53e+03  |\n",
      "|    loss           | 0.622     |\n",
      "|    neglogp        | 0.623     |\n",
      "|    prob_true_act  | 1.45      |\n",
      "|    samples_so_far | 102003    |\n",
      "---------------------------------\n"
     ]
    },
    {
     "name": "stderr",
     "output_type": "stream",
     "text": [
      "34473batch [01:30, 386.61batch/s]"
     ]
    },
    {
     "name": "stdout",
     "output_type": "stream",
     "text": [
      "---------------------------------\n",
      "| batch_size        | 3         |\n",
      "| bc/               |           |\n",
      "|    batch          | 34500     |\n",
      "|    ent_loss       | -0.000485 |\n",
      "|    entropy        | 0.485     |\n",
      "|    epoch          | 22        |\n",
      "|    l2_loss        | 0         |\n",
      "|    l2_norm        | 4.53e+03  |\n",
      "|    loss           | 0.164     |\n",
      "|    neglogp        | 0.165     |\n",
      "|    prob_true_act  | 1.26      |\n",
      "|    samples_so_far | 103503    |\n",
      "---------------------------------\n"
     ]
    },
    {
     "name": "stderr",
     "output_type": "stream",
     "text": [
      "34985batch [01:32, 395.00batch/s]"
     ]
    },
    {
     "name": "stdout",
     "output_type": "stream",
     "text": [
      "---------------------------------\n",
      "| batch_size        | 3         |\n",
      "| bc/               |           |\n",
      "|    batch          | 35000     |\n",
      "|    ent_loss       | -0.000471 |\n",
      "|    entropy        | 0.471     |\n",
      "|    epoch          | 22        |\n",
      "|    l2_loss        | 0         |\n",
      "|    l2_norm        | 4.53e+03  |\n",
      "|    loss           | 0.386     |\n",
      "|    neglogp        | 0.386     |\n",
      "|    prob_true_act  | 1.58      |\n",
      "|    samples_so_far | 105003    |\n",
      "---------------------------------\n"
     ]
    },
    {
     "name": "stderr",
     "output_type": "stream",
     "text": [
      "35493batch [01:33, 380.11batch/s]"
     ]
    },
    {
     "name": "stdout",
     "output_type": "stream",
     "text": [
      "---------------------------------\n",
      "| batch_size        | 3         |\n",
      "| bc/               |           |\n",
      "|    batch          | 35500     |\n",
      "|    ent_loss       | -0.000457 |\n",
      "|    entropy        | 0.457     |\n",
      "|    epoch          | 22        |\n",
      "|    l2_loss        | 0         |\n",
      "|    l2_norm        | 4.54e+03  |\n",
      "|    loss           | 0.54      |\n",
      "|    neglogp        | 0.541     |\n",
      "|    prob_true_act  | 1.28      |\n",
      "|    samples_so_far | 106503    |\n",
      "---------------------------------\n"
     ]
    },
    {
     "name": "stderr",
     "output_type": "stream",
     "text": [
      "36000batch [01:34, 368.11batch/s]"
     ]
    },
    {
     "name": "stdout",
     "output_type": "stream",
     "text": [
      "---------------------------------\n",
      "| batch_size        | 3         |\n",
      "| bc/               |           |\n",
      "|    batch          | 36000     |\n",
      "|    ent_loss       | -0.000495 |\n",
      "|    entropy        | 0.495     |\n",
      "|    epoch          | 23        |\n",
      "|    l2_loss        | 0         |\n",
      "|    l2_norm        | 4.54e+03  |\n",
      "|    loss           | 0.329     |\n",
      "|    neglogp        | 0.329     |\n",
      "|    prob_true_act  | 1.31      |\n",
      "|    samples_so_far | 108003    |\n",
      "---------------------------------\n"
     ]
    },
    {
     "name": "stderr",
     "output_type": "stream",
     "text": [
      "36471batch [01:36, 371.20batch/s]"
     ]
    },
    {
     "name": "stdout",
     "output_type": "stream",
     "text": [
      "---------------------------------\n",
      "| batch_size        | 3         |\n",
      "| bc/               |           |\n",
      "|    batch          | 36500     |\n",
      "|    ent_loss       | -0.000545 |\n",
      "|    entropy        | 0.545     |\n",
      "|    epoch          | 23        |\n",
      "|    l2_loss        | 0         |\n",
      "|    l2_norm        | 4.55e+03  |\n",
      "|    loss           | 0.43      |\n",
      "|    neglogp        | 0.43      |\n",
      "|    prob_true_act  | 1.06      |\n",
      "|    samples_so_far | 109503    |\n",
      "---------------------------------\n"
     ]
    },
    {
     "name": "stderr",
     "output_type": "stream",
     "text": [
      "36989batch [01:37, 395.61batch/s]"
     ]
    },
    {
     "name": "stdout",
     "output_type": "stream",
     "text": [
      "---------------------------------\n",
      "| batch_size        | 3         |\n",
      "| bc/               |           |\n",
      "|    batch          | 37000     |\n",
      "|    ent_loss       | -0.000487 |\n",
      "|    entropy        | 0.487     |\n",
      "|    epoch          | 23        |\n",
      "|    l2_loss        | 0         |\n",
      "|    l2_norm        | 4.55e+03  |\n",
      "|    loss           | 0.766     |\n",
      "|    neglogp        | 0.766     |\n",
      "|    prob_true_act  | 1.21      |\n",
      "|    samples_so_far | 111003    |\n",
      "---------------------------------\n"
     ]
    },
    {
     "name": "stderr",
     "output_type": "stream",
     "text": [
      "37464batch [01:38, 371.81batch/s]"
     ]
    },
    {
     "name": "stdout",
     "output_type": "stream",
     "text": [
      "---------------------------------\n",
      "| batch_size        | 3         |\n",
      "| bc/               |           |\n",
      "|    batch          | 37500     |\n",
      "|    ent_loss       | -0.000513 |\n",
      "|    entropy        | 0.513     |\n",
      "|    epoch          | 24        |\n",
      "|    l2_loss        | 0         |\n",
      "|    l2_norm        | 4.55e+03  |\n",
      "|    loss           | 0.429     |\n",
      "|    neglogp        | 0.43      |\n",
      "|    prob_true_act  | 1.5       |\n",
      "|    samples_so_far | 112503    |\n",
      "---------------------------------\n"
     ]
    },
    {
     "name": "stderr",
     "output_type": "stream",
     "text": [
      "37975batch [01:40, 388.12batch/s]"
     ]
    },
    {
     "name": "stdout",
     "output_type": "stream",
     "text": [
      "--------------------------------\n",
      "| batch_size        | 3        |\n",
      "| bc/               |          |\n",
      "|    batch          | 38000    |\n",
      "|    ent_loss       | -0.00047 |\n",
      "|    entropy        | 0.47     |\n",
      "|    epoch          | 24       |\n",
      "|    l2_loss        | 0        |\n",
      "|    l2_norm        | 4.56e+03 |\n",
      "|    loss           | 0.324    |\n",
      "|    neglogp        | 0.325    |\n",
      "|    prob_true_act  | 1.56     |\n",
      "|    samples_so_far | 114003   |\n",
      "--------------------------------\n"
     ]
    },
    {
     "name": "stderr",
     "output_type": "stream",
     "text": [
      "38490batch [01:41, 394.96batch/s]"
     ]
    },
    {
     "name": "stdout",
     "output_type": "stream",
     "text": [
      "---------------------------------\n",
      "| batch_size        | 3         |\n",
      "| bc/               |           |\n",
      "|    batch          | 38500     |\n",
      "|    ent_loss       | -0.000469 |\n",
      "|    entropy        | 0.469     |\n",
      "|    epoch          | 24        |\n",
      "|    l2_loss        | 0         |\n",
      "|    l2_norm        | 4.56e+03  |\n",
      "|    loss           | 0.4       |\n",
      "|    neglogp        | 0.4       |\n",
      "|    prob_true_act  | 1.3       |\n",
      "|    samples_so_far | 115503    |\n",
      "---------------------------------\n"
     ]
    },
    {
     "name": "stderr",
     "output_type": "stream",
     "text": [
      "39000batch [01:42, 387.34batch/s]"
     ]
    },
    {
     "name": "stdout",
     "output_type": "stream",
     "text": [
      "---------------------------------\n",
      "| batch_size        | 3         |\n",
      "| bc/               |           |\n",
      "|    batch          | 39000     |\n",
      "|    ent_loss       | -0.000503 |\n",
      "|    entropy        | 0.503     |\n",
      "|    epoch          | 24        |\n",
      "|    l2_loss        | 0         |\n",
      "|    l2_norm        | 4.56e+03  |\n",
      "|    loss           | 0.443     |\n",
      "|    neglogp        | 0.443     |\n",
      "|    prob_true_act  | 1.14      |\n",
      "|    samples_so_far | 117003    |\n",
      "---------------------------------\n"
     ]
    },
    {
     "name": "stderr",
     "output_type": "stream",
     "text": [
      "39477batch [01:44, 372.74batch/s]"
     ]
    },
    {
     "name": "stdout",
     "output_type": "stream",
     "text": [
      "---------------------------------\n",
      "| batch_size        | 3         |\n",
      "| bc/               |           |\n",
      "|    batch          | 39500     |\n",
      "|    ent_loss       | -0.000472 |\n",
      "|    entropy        | 0.472     |\n",
      "|    epoch          | 25        |\n",
      "|    l2_loss        | 0         |\n",
      "|    l2_norm        | 4.57e+03  |\n",
      "|    loss           | 0.222     |\n",
      "|    neglogp        | 0.223     |\n",
      "|    prob_true_act  | 1.62      |\n",
      "|    samples_so_far | 118503    |\n",
      "---------------------------------\n"
     ]
    },
    {
     "name": "stderr",
     "output_type": "stream",
     "text": [
      "39979batch [01:45, 383.81batch/s]"
     ]
    },
    {
     "name": "stdout",
     "output_type": "stream",
     "text": [
      "---------------------------------\n",
      "| batch_size        | 3         |\n",
      "| bc/               |           |\n",
      "|    batch          | 40000     |\n",
      "|    ent_loss       | -0.000487 |\n",
      "|    entropy        | 0.487     |\n",
      "|    epoch          | 25        |\n",
      "|    l2_loss        | 0         |\n",
      "|    l2_norm        | 4.57e+03  |\n",
      "|    loss           | 0.403     |\n",
      "|    neglogp        | 0.403     |\n",
      "|    prob_true_act  | 1.42      |\n",
      "|    samples_so_far | 120003    |\n",
      "---------------------------------\n"
     ]
    },
    {
     "name": "stderr",
     "output_type": "stream",
     "text": [
      "40485batch [01:46, 370.02batch/s]"
     ]
    },
    {
     "name": "stdout",
     "output_type": "stream",
     "text": [
      "---------------------------------\n",
      "| batch_size        | 3         |\n",
      "| bc/               |           |\n",
      "|    batch          | 40500     |\n",
      "|    ent_loss       | -0.000515 |\n",
      "|    entropy        | 0.515     |\n",
      "|    epoch          | 25        |\n",
      "|    l2_loss        | 0         |\n",
      "|    l2_norm        | 4.58e+03  |\n",
      "|    loss           | 0.332     |\n",
      "|    neglogp        | 0.332     |\n",
      "|    prob_true_act  | 1.4       |\n",
      "|    samples_so_far | 121503    |\n",
      "---------------------------------\n"
     ]
    },
    {
     "name": "stderr",
     "output_type": "stream",
     "text": [
      "40967batch [01:48, 363.86batch/s]"
     ]
    },
    {
     "name": "stdout",
     "output_type": "stream",
     "text": [
      "---------------------------------\n",
      "| batch_size        | 3         |\n",
      "| bc/               |           |\n",
      "|    batch          | 41000     |\n",
      "|    ent_loss       | -0.000495 |\n",
      "|    entropy        | 0.495     |\n",
      "|    epoch          | 26        |\n",
      "|    l2_loss        | 0         |\n",
      "|    l2_norm        | 4.58e+03  |\n",
      "|    loss           | 0.638     |\n",
      "|    neglogp        | 0.638     |\n",
      "|    prob_true_act  | 1.05      |\n",
      "|    samples_so_far | 123003    |\n",
      "---------------------------------\n"
     ]
    },
    {
     "name": "stderr",
     "output_type": "stream",
     "text": [
      "41474batch [01:49, 382.46batch/s]"
     ]
    },
    {
     "name": "stdout",
     "output_type": "stream",
     "text": [
      "---------------------------------\n",
      "| batch_size        | 3         |\n",
      "| bc/               |           |\n",
      "|    batch          | 41500     |\n",
      "|    ent_loss       | -0.000513 |\n",
      "|    entropy        | 0.513     |\n",
      "|    epoch          | 26        |\n",
      "|    l2_loss        | 0         |\n",
      "|    l2_norm        | 4.58e+03  |\n",
      "|    loss           | 0.627     |\n",
      "|    neglogp        | 0.628     |\n",
      "|    prob_true_act  | 1.31      |\n",
      "|    samples_so_far | 124503    |\n",
      "---------------------------------\n"
     ]
    },
    {
     "name": "stderr",
     "output_type": "stream",
     "text": [
      "41989batch [01:50, 380.69batch/s]"
     ]
    },
    {
     "name": "stdout",
     "output_type": "stream",
     "text": [
      "---------------------------------\n",
      "| batch_size        | 3         |\n",
      "| bc/               |           |\n",
      "|    batch          | 42000     |\n",
      "|    ent_loss       | -0.000452 |\n",
      "|    entropy        | 0.452     |\n",
      "|    epoch          | 26        |\n",
      "|    l2_loss        | 0         |\n",
      "|    l2_norm        | 4.59e+03  |\n",
      "|    loss           | 0.744     |\n",
      "|    neglogp        | 0.744     |\n",
      "|    prob_true_act  | 1.03      |\n",
      "|    samples_so_far | 126003    |\n",
      "---------------------------------\n"
     ]
    },
    {
     "name": "stderr",
     "output_type": "stream",
     "text": [
      "42487batch [01:52, 382.01batch/s]"
     ]
    },
    {
     "name": "stdout",
     "output_type": "stream",
     "text": [
      "---------------------------------\n",
      "| batch_size        | 3         |\n",
      "| bc/               |           |\n",
      "|    batch          | 42500     |\n",
      "|    ent_loss       | -0.000481 |\n",
      "|    entropy        | 0.481     |\n",
      "|    epoch          | 27        |\n",
      "|    l2_loss        | 0         |\n",
      "|    l2_norm        | 4.59e+03  |\n",
      "|    loss           | 0.404     |\n",
      "|    neglogp        | 0.405     |\n",
      "|    prob_true_act  | 1.29      |\n",
      "|    samples_so_far | 127503    |\n",
      "---------------------------------\n"
     ]
    },
    {
     "name": "stderr",
     "output_type": "stream",
     "text": [
      "42994batch [01:53, 379.91batch/s]"
     ]
    },
    {
     "name": "stdout",
     "output_type": "stream",
     "text": [
      "---------------------------------\n",
      "| batch_size        | 3         |\n",
      "| bc/               |           |\n",
      "|    batch          | 43000     |\n",
      "|    ent_loss       | -0.000481 |\n",
      "|    entropy        | 0.481     |\n",
      "|    epoch          | 27        |\n",
      "|    l2_loss        | 0         |\n",
      "|    l2_norm        | 4.6e+03   |\n",
      "|    loss           | 0.205     |\n",
      "|    neglogp        | 0.205     |\n",
      "|    prob_true_act  | 1.48      |\n",
      "|    samples_so_far | 129003    |\n",
      "---------------------------------\n"
     ]
    },
    {
     "name": "stderr",
     "output_type": "stream",
     "text": [
      "43466batch [01:54, 380.94batch/s]"
     ]
    },
    {
     "name": "stdout",
     "output_type": "stream",
     "text": [
      "---------------------------------\n",
      "| batch_size        | 3         |\n",
      "| bc/               |           |\n",
      "|    batch          | 43500     |\n",
      "|    ent_loss       | -0.000488 |\n",
      "|    entropy        | 0.488     |\n",
      "|    epoch          | 27        |\n",
      "|    l2_loss        | 0         |\n",
      "|    l2_norm        | 4.6e+03   |\n",
      "|    loss           | 0.415     |\n",
      "|    neglogp        | 0.415     |\n",
      "|    prob_true_act  | 1.29      |\n",
      "|    samples_so_far | 130503    |\n",
      "---------------------------------\n"
     ]
    },
    {
     "name": "stderr",
     "output_type": "stream",
     "text": [
      "43993batch [01:55, 402.72batch/s]"
     ]
    },
    {
     "name": "stdout",
     "output_type": "stream",
     "text": [
      "---------------------------------\n",
      "| batch_size        | 3         |\n",
      "| bc/               |           |\n",
      "|    batch          | 44000     |\n",
      "|    ent_loss       | -0.000494 |\n",
      "|    entropy        | 0.494     |\n",
      "|    epoch          | 28        |\n",
      "|    l2_loss        | 0         |\n",
      "|    l2_norm        | 4.6e+03   |\n",
      "|    loss           | 0.749     |\n",
      "|    neglogp        | 0.749     |\n",
      "|    prob_true_act  | 1.23      |\n",
      "|    samples_so_far | 132003    |\n",
      "---------------------------------\n"
     ]
    },
    {
     "name": "stderr",
     "output_type": "stream",
     "text": [
      "44480batch [01:57, 388.18batch/s]"
     ]
    },
    {
     "name": "stdout",
     "output_type": "stream",
     "text": [
      "---------------------------------\n",
      "| batch_size        | 3         |\n",
      "| bc/               |           |\n",
      "|    batch          | 44500     |\n",
      "|    ent_loss       | -0.000501 |\n",
      "|    entropy        | 0.501     |\n",
      "|    epoch          | 28        |\n",
      "|    l2_loss        | 0         |\n",
      "|    l2_norm        | 4.61e+03  |\n",
      "|    loss           | 0.358     |\n",
      "|    neglogp        | 0.358     |\n",
      "|    prob_true_act  | 1.41      |\n",
      "|    samples_so_far | 133503    |\n",
      "---------------------------------\n"
     ]
    },
    {
     "name": "stderr",
     "output_type": "stream",
     "text": [
      "44988batch [01:58, 380.43batch/s]"
     ]
    },
    {
     "name": "stdout",
     "output_type": "stream",
     "text": [
      "--------------------------------\n",
      "| batch_size        | 3        |\n",
      "| bc/               |          |\n",
      "|    batch          | 45000    |\n",
      "|    ent_loss       | -0.00049 |\n",
      "|    entropy        | 0.49     |\n",
      "|    epoch          | 28       |\n",
      "|    l2_loss        | 0        |\n",
      "|    l2_norm        | 4.61e+03 |\n",
      "|    loss           | 0.711    |\n",
      "|    neglogp        | 0.712    |\n",
      "|    prob_true_act  | 0.969    |\n",
      "|    samples_so_far | 135003   |\n",
      "--------------------------------\n"
     ]
    },
    {
     "name": "stderr",
     "output_type": "stream",
     "text": [
      "45495batch [01:59, 375.35batch/s]"
     ]
    },
    {
     "name": "stdout",
     "output_type": "stream",
     "text": [
      "---------------------------------\n",
      "| batch_size        | 3         |\n",
      "| bc/               |           |\n",
      "|    batch          | 45500     |\n",
      "|    ent_loss       | -0.000491 |\n",
      "|    entropy        | 0.491     |\n",
      "|    epoch          | 29        |\n",
      "|    l2_loss        | 0         |\n",
      "|    l2_norm        | 4.62e+03  |\n",
      "|    loss           | 1.01      |\n",
      "|    neglogp        | 1.01      |\n",
      "|    prob_true_act  | 1.45      |\n",
      "|    samples_so_far | 136503    |\n",
      "---------------------------------\n"
     ]
    },
    {
     "name": "stderr",
     "output_type": "stream",
     "text": [
      "45974batch [02:01, 394.98batch/s]"
     ]
    },
    {
     "name": "stdout",
     "output_type": "stream",
     "text": [
      "---------------------------------\n",
      "| batch_size        | 3         |\n",
      "| bc/               |           |\n",
      "|    batch          | 46000     |\n",
      "|    ent_loss       | -0.000503 |\n",
      "|    entropy        | 0.503     |\n",
      "|    epoch          | 29        |\n",
      "|    l2_loss        | 0         |\n",
      "|    l2_norm        | 4.62e+03  |\n",
      "|    loss           | 0.348     |\n",
      "|    neglogp        | 0.349     |\n",
      "|    prob_true_act  | 1.45      |\n",
      "|    samples_so_far | 138003    |\n",
      "---------------------------------\n"
     ]
    },
    {
     "name": "stderr",
     "output_type": "stream",
     "text": [
      "46492batch [02:02, 400.03batch/s]"
     ]
    },
    {
     "name": "stdout",
     "output_type": "stream",
     "text": [
      "---------------------------------\n",
      "| batch_size        | 3         |\n",
      "| bc/               |           |\n",
      "|    batch          | 46500     |\n",
      "|    ent_loss       | -0.000495 |\n",
      "|    entropy        | 0.495     |\n",
      "|    epoch          | 29        |\n",
      "|    l2_loss        | 0         |\n",
      "|    l2_norm        | 4.62e+03  |\n",
      "|    loss           | 0.426     |\n",
      "|    neglogp        | 0.427     |\n",
      "|    prob_true_act  | 1.3       |\n",
      "|    samples_so_far | 139503    |\n",
      "---------------------------------\n"
     ]
    },
    {
     "name": "stderr",
     "output_type": "stream",
     "text": [
      "46972batch [02:03, 395.26batch/s]"
     ]
    },
    {
     "name": "stdout",
     "output_type": "stream",
     "text": [
      "---------------------------------\n",
      "| batch_size        | 3         |\n",
      "| bc/               |           |\n",
      "|    batch          | 47000     |\n",
      "|    ent_loss       | -0.000485 |\n",
      "|    entropy        | 0.485     |\n",
      "|    epoch          | 30        |\n",
      "|    l2_loss        | 0         |\n",
      "|    l2_norm        | 4.63e+03  |\n",
      "|    loss           | 0.517     |\n",
      "|    neglogp        | 0.518     |\n",
      "|    prob_true_act  | 1.36      |\n",
      "|    samples_so_far | 141003    |\n",
      "---------------------------------\n"
     ]
    },
    {
     "name": "stderr",
     "output_type": "stream",
     "text": [
      "47484batch [02:05, 381.39batch/s]"
     ]
    },
    {
     "name": "stdout",
     "output_type": "stream",
     "text": [
      "--------------------------------\n",
      "| batch_size        | 3        |\n",
      "| bc/               |          |\n",
      "|    batch          | 47500    |\n",
      "|    ent_loss       | -0.00048 |\n",
      "|    entropy        | 0.48     |\n",
      "|    epoch          | 30       |\n",
      "|    l2_loss        | 0        |\n",
      "|    l2_norm        | 4.63e+03 |\n",
      "|    loss           | 0.499    |\n",
      "|    neglogp        | 0.499    |\n",
      "|    prob_true_act  | 1.09     |\n",
      "|    samples_so_far | 142503   |\n",
      "--------------------------------\n"
     ]
    },
    {
     "name": "stderr",
     "output_type": "stream",
     "text": [
      "47978batch [02:06, 360.33batch/s]"
     ]
    },
    {
     "name": "stdout",
     "output_type": "stream",
     "text": [
      "---------------------------------\n",
      "| batch_size        | 3         |\n",
      "| bc/               |           |\n",
      "|    batch          | 48000     |\n",
      "|    ent_loss       | -0.000465 |\n",
      "|    entropy        | 0.465     |\n",
      "|    epoch          | 30        |\n",
      "|    l2_loss        | 0         |\n",
      "|    l2_norm        | 4.64e+03  |\n",
      "|    loss           | 0.943     |\n",
      "|    neglogp        | 0.943     |\n",
      "|    prob_true_act  | 1.14      |\n",
      "|    samples_so_far | 144003    |\n",
      "---------------------------------\n"
     ]
    },
    {
     "name": "stderr",
     "output_type": "stream",
     "text": [
      "48490batch [02:07, 389.65batch/s]"
     ]
    },
    {
     "name": "stdout",
     "output_type": "stream",
     "text": [
      "--------------------------------\n",
      "| batch_size        | 3        |\n",
      "| bc/               |          |\n",
      "|    batch          | 48500    |\n",
      "|    ent_loss       | -0.00049 |\n",
      "|    entropy        | 0.49     |\n",
      "|    epoch          | 31       |\n",
      "|    l2_loss        | 0        |\n",
      "|    l2_norm        | 4.64e+03 |\n",
      "|    loss           | 0.339    |\n",
      "|    neglogp        | 0.339    |\n",
      "|    prob_true_act  | 1.28     |\n",
      "|    samples_so_far | 145503   |\n",
      "--------------------------------\n"
     ]
    },
    {
     "name": "stderr",
     "output_type": "stream",
     "text": [
      "48969batch [02:08, 386.78batch/s]"
     ]
    },
    {
     "name": "stdout",
     "output_type": "stream",
     "text": [
      "--------------------------------\n",
      "| batch_size        | 3        |\n",
      "| bc/               |          |\n",
      "|    batch          | 49000    |\n",
      "|    ent_loss       | -0.00049 |\n",
      "|    entropy        | 0.49     |\n",
      "|    epoch          | 31       |\n",
      "|    l2_loss        | 0        |\n",
      "|    l2_norm        | 4.64e+03 |\n",
      "|    loss           | 0.458    |\n",
      "|    neglogp        | 0.458    |\n",
      "|    prob_true_act  | 1.22     |\n",
      "|    samples_so_far | 147003   |\n",
      "--------------------------------\n"
     ]
    },
    {
     "name": "stderr",
     "output_type": "stream",
     "text": [
      "49466batch [02:10, 374.76batch/s]"
     ]
    },
    {
     "name": "stdout",
     "output_type": "stream",
     "text": [
      "---------------------------------\n",
      "| batch_size        | 3         |\n",
      "| bc/               |           |\n",
      "|    batch          | 49500     |\n",
      "|    ent_loss       | -0.000476 |\n",
      "|    entropy        | 0.476     |\n",
      "|    epoch          | 31        |\n",
      "|    l2_loss        | 0         |\n",
      "|    l2_norm        | 4.65e+03  |\n",
      "|    loss           | -0.00306  |\n",
      "|    neglogp        | -0.00258  |\n",
      "|    prob_true_act  | 1.52      |\n",
      "|    samples_so_far | 148503    |\n",
      "---------------------------------\n"
     ]
    },
    {
     "name": "stderr",
     "output_type": "stream",
     "text": [
      "49964batch [02:11, 374.82batch/s]"
     ]
    },
    {
     "name": "stdout",
     "output_type": "stream",
     "text": [
      "---------------------------------\n",
      "| batch_size        | 3         |\n",
      "| bc/               |           |\n",
      "|    batch          | 50000     |\n",
      "|    ent_loss       | -0.000484 |\n",
      "|    entropy        | 0.484     |\n",
      "|    epoch          | 32        |\n",
      "|    l2_loss        | 0         |\n",
      "|    l2_norm        | 4.65e+03  |\n",
      "|    loss           | 0.459     |\n",
      "|    neglogp        | 0.46      |\n",
      "|    prob_true_act  | 1.1       |\n",
      "|    samples_so_far | 150003    |\n",
      "---------------------------------\n"
     ]
    },
    {
     "name": "stderr",
     "output_type": "stream",
     "text": [
      "50500batch [02:13, 377.33batch/s]"
     ]
    },
    {
     "name": "stdout",
     "output_type": "stream",
     "text": [
      "---------------------------------\n",
      "| batch_size        | 3         |\n",
      "| bc/               |           |\n",
      "|    batch          | 50500     |\n",
      "|    ent_loss       | -0.000495 |\n",
      "|    entropy        | 0.495     |\n",
      "|    epoch          | 32        |\n",
      "|    l2_loss        | 0         |\n",
      "|    l2_norm        | 4.66e+03  |\n",
      "|    loss           | 0.865     |\n",
      "|    neglogp        | 0.865     |\n",
      "|    prob_true_act  | 0.994     |\n",
      "|    samples_so_far | 151503    |\n",
      "---------------------------------\n"
     ]
    },
    {
     "name": "stderr",
     "output_type": "stream",
     "text": [
      "50999batch [02:14, 376.19batch/s]"
     ]
    },
    {
     "name": "stdout",
     "output_type": "stream",
     "text": [
      "---------------------------------\n",
      "| batch_size        | 3         |\n",
      "| bc/               |           |\n",
      "|    batch          | 51000     |\n",
      "|    ent_loss       | -0.000479 |\n",
      "|    entropy        | 0.479     |\n",
      "|    epoch          | 32        |\n",
      "|    l2_loss        | 0         |\n",
      "|    l2_norm        | 4.66e+03  |\n",
      "|    loss           | 0.236     |\n",
      "|    neglogp        | 0.237     |\n",
      "|    prob_true_act  | 1.44      |\n",
      "|    samples_so_far | 153003    |\n",
      "---------------------------------\n"
     ]
    },
    {
     "name": "stderr",
     "output_type": "stream",
     "text": [
      "51464batch [02:15, 384.21batch/s]"
     ]
    },
    {
     "name": "stdout",
     "output_type": "stream",
     "text": [
      "--------------------------------\n",
      "| batch_size        | 3        |\n",
      "| bc/               |          |\n",
      "|    batch          | 51500    |\n",
      "|    ent_loss       | -0.00053 |\n",
      "|    entropy        | 0.53     |\n",
      "|    epoch          | 32       |\n",
      "|    l2_loss        | 0        |\n",
      "|    l2_norm        | 4.67e+03 |\n",
      "|    loss           | 0.667    |\n",
      "|    neglogp        | 0.667    |\n",
      "|    prob_true_act  | 1.17     |\n",
      "|    samples_so_far | 154503   |\n",
      "--------------------------------\n"
     ]
    },
    {
     "name": "stderr",
     "output_type": "stream",
     "text": [
      "51974batch [02:16, 388.73batch/s]"
     ]
    },
    {
     "name": "stdout",
     "output_type": "stream",
     "text": [
      "--------------------------------\n",
      "| batch_size        | 3        |\n",
      "| bc/               |          |\n",
      "|    batch          | 52000    |\n",
      "|    ent_loss       | -0.00047 |\n",
      "|    entropy        | 0.47     |\n",
      "|    epoch          | 33       |\n",
      "|    l2_loss        | 0        |\n",
      "|    l2_norm        | 4.67e+03 |\n",
      "|    loss           | 0.231    |\n",
      "|    neglogp        | 0.232    |\n",
      "|    prob_true_act  | 1.38     |\n",
      "|    samples_so_far | 156003   |\n",
      "--------------------------------\n"
     ]
    },
    {
     "name": "stderr",
     "output_type": "stream",
     "text": [
      "52483batch [02:18, 377.62batch/s]"
     ]
    },
    {
     "name": "stdout",
     "output_type": "stream",
     "text": [
      "--------------------------------\n",
      "| batch_size        | 3        |\n",
      "| bc/               |          |\n",
      "|    batch          | 52500    |\n",
      "|    ent_loss       | -0.00052 |\n",
      "|    entropy        | 0.52     |\n",
      "|    epoch          | 33       |\n",
      "|    l2_loss        | 0        |\n",
      "|    l2_norm        | 4.67e+03 |\n",
      "|    loss           | 0.503    |\n",
      "|    neglogp        | 0.504    |\n",
      "|    prob_true_act  | 1.12     |\n",
      "|    samples_so_far | 157503   |\n",
      "--------------------------------\n"
     ]
    },
    {
     "name": "stderr",
     "output_type": "stream",
     "text": [
      "52978batch [02:19, 374.74batch/s]"
     ]
    },
    {
     "name": "stdout",
     "output_type": "stream",
     "text": [
      "---------------------------------\n",
      "| batch_size        | 3         |\n",
      "| bc/               |           |\n",
      "|    batch          | 53000     |\n",
      "|    ent_loss       | -0.000484 |\n",
      "|    entropy        | 0.484     |\n",
      "|    epoch          | 33        |\n",
      "|    l2_loss        | 0         |\n",
      "|    l2_norm        | 4.68e+03  |\n",
      "|    loss           | 0.64      |\n",
      "|    neglogp        | 0.641     |\n",
      "|    prob_true_act  | 1.18      |\n",
      "|    samples_so_far | 159003    |\n",
      "---------------------------------\n"
     ]
    },
    {
     "name": "stderr",
     "output_type": "stream",
     "text": [
      "53485batch [02:20, 394.40batch/s]"
     ]
    },
    {
     "name": "stdout",
     "output_type": "stream",
     "text": [
      "---------------------------------\n",
      "| batch_size        | 3         |\n",
      "| bc/               |           |\n",
      "|    batch          | 53500     |\n",
      "|    ent_loss       | -0.000531 |\n",
      "|    entropy        | 0.531     |\n",
      "|    epoch          | 34        |\n",
      "|    l2_loss        | 0         |\n",
      "|    l2_norm        | 4.68e+03  |\n",
      "|    loss           | 0.395     |\n",
      "|    neglogp        | 0.395     |\n",
      "|    prob_true_act  | 1.21      |\n",
      "|    samples_so_far | 160503    |\n",
      "---------------------------------\n"
     ]
    },
    {
     "name": "stderr",
     "output_type": "stream",
     "text": [
      "53997batch [02:22, 385.49batch/s]"
     ]
    },
    {
     "name": "stdout",
     "output_type": "stream",
     "text": [
      "---------------------------------\n",
      "| batch_size        | 3         |\n",
      "| bc/               |           |\n",
      "|    batch          | 54000     |\n",
      "|    ent_loss       | -0.000475 |\n",
      "|    entropy        | 0.475     |\n",
      "|    epoch          | 34        |\n",
      "|    l2_loss        | 0         |\n",
      "|    l2_norm        | 4.69e+03  |\n",
      "|    loss           | 0.615     |\n",
      "|    neglogp        | 0.615     |\n",
      "|    prob_true_act  | 0.964     |\n",
      "|    samples_so_far | 162003    |\n",
      "---------------------------------\n"
     ]
    },
    {
     "name": "stderr",
     "output_type": "stream",
     "text": [
      "54475batch [02:23, 389.95batch/s]"
     ]
    },
    {
     "name": "stdout",
     "output_type": "stream",
     "text": [
      "---------------------------------\n",
      "| batch_size        | 3         |\n",
      "| bc/               |           |\n",
      "|    batch          | 54500     |\n",
      "|    ent_loss       | -0.000505 |\n",
      "|    entropy        | 0.505     |\n",
      "|    epoch          | 34        |\n",
      "|    l2_loss        | 0         |\n",
      "|    l2_norm        | 4.69e+03  |\n",
      "|    loss           | 0.456     |\n",
      "|    neglogp        | 0.457     |\n",
      "|    prob_true_act  | 1.28      |\n",
      "|    samples_so_far | 163503    |\n",
      "---------------------------------\n"
     ]
    },
    {
     "name": "stderr",
     "output_type": "stream",
     "text": [
      "54976batch [02:24, 365.36batch/s]"
     ]
    },
    {
     "name": "stdout",
     "output_type": "stream",
     "text": [
      "---------------------------------\n",
      "| batch_size        | 3         |\n",
      "| bc/               |           |\n",
      "|    batch          | 55000     |\n",
      "|    ent_loss       | -0.000483 |\n",
      "|    entropy        | 0.483     |\n",
      "|    epoch          | 35        |\n",
      "|    l2_loss        | 0         |\n",
      "|    l2_norm        | 4.69e+03  |\n",
      "|    loss           | 0.177     |\n",
      "|    neglogp        | 0.178     |\n",
      "|    prob_true_act  | 1.52      |\n",
      "|    samples_so_far | 165003    |\n",
      "---------------------------------\n"
     ]
    },
    {
     "name": "stderr",
     "output_type": "stream",
     "text": [
      "55477batch [02:26, 373.73batch/s]"
     ]
    },
    {
     "name": "stdout",
     "output_type": "stream",
     "text": [
      "---------------------------------\n",
      "| batch_size        | 3         |\n",
      "| bc/               |           |\n",
      "|    batch          | 55500     |\n",
      "|    ent_loss       | -0.000487 |\n",
      "|    entropy        | 0.487     |\n",
      "|    epoch          | 35        |\n",
      "|    l2_loss        | 0         |\n",
      "|    l2_norm        | 4.69e+03  |\n",
      "|    loss           | 0.251     |\n",
      "|    neglogp        | 0.251     |\n",
      "|    prob_true_act  | 1.55      |\n",
      "|    samples_so_far | 166503    |\n",
      "---------------------------------\n"
     ]
    },
    {
     "name": "stderr",
     "output_type": "stream",
     "text": [
      "55984batch [02:27, 377.95batch/s]"
     ]
    },
    {
     "name": "stdout",
     "output_type": "stream",
     "text": [
      "---------------------------------\n",
      "| batch_size        | 3         |\n",
      "| bc/               |           |\n",
      "|    batch          | 56000     |\n",
      "|    ent_loss       | -0.000517 |\n",
      "|    entropy        | 0.517     |\n",
      "|    epoch          | 35        |\n",
      "|    l2_loss        | 0         |\n",
      "|    l2_norm        | 4.7e+03   |\n",
      "|    loss           | 0.635     |\n",
      "|    neglogp        | 0.635     |\n",
      "|    prob_true_act  | 1.41      |\n",
      "|    samples_so_far | 168003    |\n",
      "---------------------------------\n"
     ]
    },
    {
     "name": "stderr",
     "output_type": "stream",
     "text": [
      "56481batch [02:28, 372.39batch/s]"
     ]
    },
    {
     "name": "stdout",
     "output_type": "stream",
     "text": [
      "---------------------------------\n",
      "| batch_size        | 3         |\n",
      "| bc/               |           |\n",
      "|    batch          | 56500     |\n",
      "|    ent_loss       | -0.000402 |\n",
      "|    entropy        | 0.402     |\n",
      "|    epoch          | 36        |\n",
      "|    l2_loss        | 0         |\n",
      "|    l2_norm        | 4.7e+03   |\n",
      "|    loss           | 0.0451    |\n",
      "|    neglogp        | 0.0455    |\n",
      "|    prob_true_act  | 1.54      |\n",
      "|    samples_so_far | 169503    |\n",
      "---------------------------------\n"
     ]
    },
    {
     "name": "stderr",
     "output_type": "stream",
     "text": [
      "56987batch [02:30, 381.94batch/s]"
     ]
    },
    {
     "name": "stdout",
     "output_type": "stream",
     "text": [
      "---------------------------------\n",
      "| batch_size        | 3         |\n",
      "| bc/               |           |\n",
      "|    batch          | 57000     |\n",
      "|    ent_loss       | -0.000508 |\n",
      "|    entropy        | 0.508     |\n",
      "|    epoch          | 36        |\n",
      "|    l2_loss        | 0         |\n",
      "|    l2_norm        | 4.71e+03  |\n",
      "|    loss           | 0.176     |\n",
      "|    neglogp        | 0.177     |\n",
      "|    prob_true_act  | 1.29      |\n",
      "|    samples_so_far | 171003    |\n",
      "---------------------------------\n"
     ]
    },
    {
     "name": "stderr",
     "output_type": "stream",
     "text": [
      "57496batch [02:31, 382.56batch/s]"
     ]
    },
    {
     "name": "stdout",
     "output_type": "stream",
     "text": [
      "---------------------------------\n",
      "| batch_size        | 3         |\n",
      "| bc/               |           |\n",
      "|    batch          | 57500     |\n",
      "|    ent_loss       | -0.000505 |\n",
      "|    entropy        | 0.505     |\n",
      "|    epoch          | 36        |\n",
      "|    l2_loss        | 0         |\n",
      "|    l2_norm        | 4.71e+03  |\n",
      "|    loss           | 0.171     |\n",
      "|    neglogp        | 0.171     |\n",
      "|    prob_true_act  | 1.4       |\n",
      "|    samples_so_far | 172503    |\n",
      "---------------------------------\n"
     ]
    },
    {
     "name": "stderr",
     "output_type": "stream",
     "text": [
      "57992batch [02:32, 373.36batch/s]"
     ]
    },
    {
     "name": "stdout",
     "output_type": "stream",
     "text": [
      "---------------------------------\n",
      "| batch_size        | 3         |\n",
      "| bc/               |           |\n",
      "|    batch          | 58000     |\n",
      "|    ent_loss       | -0.000487 |\n",
      "|    entropy        | 0.487     |\n",
      "|    epoch          | 37        |\n",
      "|    l2_loss        | 0         |\n",
      "|    l2_norm        | 4.71e+03  |\n",
      "|    loss           | 0.672     |\n",
      "|    neglogp        | 0.672     |\n",
      "|    prob_true_act  | 1.61      |\n",
      "|    samples_so_far | 174003    |\n",
      "---------------------------------\n"
     ]
    },
    {
     "name": "stderr",
     "output_type": "stream",
     "text": [
      "58468batch [02:34, 393.00batch/s]"
     ]
    },
    {
     "name": "stdout",
     "output_type": "stream",
     "text": [
      "---------------------------------\n",
      "| batch_size        | 3         |\n",
      "| bc/               |           |\n",
      "|    batch          | 58500     |\n",
      "|    ent_loss       | -0.000465 |\n",
      "|    entropy        | 0.465     |\n",
      "|    epoch          | 37        |\n",
      "|    l2_loss        | 0         |\n",
      "|    l2_norm        | 4.72e+03  |\n",
      "|    loss           | 0.441     |\n",
      "|    neglogp        | 0.441     |\n",
      "|    prob_true_act  | 1.6       |\n",
      "|    samples_so_far | 175503    |\n",
      "---------------------------------\n"
     ]
    },
    {
     "name": "stderr",
     "output_type": "stream",
     "text": [
      "58970batch [02:35, 368.85batch/s]"
     ]
    },
    {
     "name": "stdout",
     "output_type": "stream",
     "text": [
      "---------------------------------\n",
      "| batch_size        | 3         |\n",
      "| bc/               |           |\n",
      "|    batch          | 59000     |\n",
      "|    ent_loss       | -0.000448 |\n",
      "|    entropy        | 0.448     |\n",
      "|    epoch          | 37        |\n",
      "|    l2_loss        | 0         |\n",
      "|    l2_norm        | 4.72e+03  |\n",
      "|    loss           | 0.205     |\n",
      "|    neglogp        | 0.205     |\n",
      "|    prob_true_act  | 1.46      |\n",
      "|    samples_so_far | 177003    |\n",
      "---------------------------------\n"
     ]
    },
    {
     "name": "stderr",
     "output_type": "stream",
     "text": [
      "59474batch [02:36, 372.34batch/s]"
     ]
    },
    {
     "name": "stdout",
     "output_type": "stream",
     "text": [
      "---------------------------------\n",
      "| batch_size        | 3         |\n",
      "| bc/               |           |\n",
      "|    batch          | 59500     |\n",
      "|    ent_loss       | -0.000441 |\n",
      "|    entropy        | 0.441     |\n",
      "|    epoch          | 38        |\n",
      "|    l2_loss        | 0         |\n",
      "|    l2_norm        | 4.73e+03  |\n",
      "|    loss           | 1.11      |\n",
      "|    neglogp        | 1.11      |\n",
      "|    prob_true_act  | 1.39      |\n",
      "|    samples_so_far | 178503    |\n",
      "---------------------------------\n"
     ]
    },
    {
     "name": "stderr",
     "output_type": "stream",
     "text": [
      "59964batch [02:38, 384.77batch/s]"
     ]
    },
    {
     "name": "stdout",
     "output_type": "stream",
     "text": [
      "---------------------------------\n",
      "| batch_size        | 3         |\n",
      "| bc/               |           |\n",
      "|    batch          | 60000     |\n",
      "|    ent_loss       | -0.000475 |\n",
      "|    entropy        | 0.475     |\n",
      "|    epoch          | 38        |\n",
      "|    l2_loss        | 0         |\n",
      "|    l2_norm        | 4.73e+03  |\n",
      "|    loss           | 0.184     |\n",
      "|    neglogp        | 0.184     |\n",
      "|    prob_true_act  | 1.37      |\n",
      "|    samples_so_far | 180003    |\n",
      "---------------------------------\n"
     ]
    },
    {
     "name": "stderr",
     "output_type": "stream",
     "text": [
      "60481batch [02:39, 391.12batch/s]"
     ]
    },
    {
     "name": "stdout",
     "output_type": "stream",
     "text": [
      "--------------------------------\n",
      "| batch_size        | 3        |\n",
      "| bc/               |          |\n",
      "|    batch          | 60500    |\n",
      "|    ent_loss       | -0.00051 |\n",
      "|    entropy        | 0.51     |\n",
      "|    epoch          | 38       |\n",
      "|    l2_loss        | 0        |\n",
      "|    l2_norm        | 4.74e+03 |\n",
      "|    loss           | 0.507    |\n",
      "|    neglogp        | 0.507    |\n",
      "|    prob_true_act  | 1.6      |\n",
      "|    samples_so_far | 181503   |\n",
      "--------------------------------\n"
     ]
    },
    {
     "name": "stderr",
     "output_type": "stream",
     "text": [
      "60992batch [02:40, 382.83batch/s]"
     ]
    },
    {
     "name": "stdout",
     "output_type": "stream",
     "text": [
      "---------------------------------\n",
      "| batch_size        | 3         |\n",
      "| bc/               |           |\n",
      "|    batch          | 61000     |\n",
      "|    ent_loss       | -0.000472 |\n",
      "|    entropy        | 0.472     |\n",
      "|    epoch          | 39        |\n",
      "|    l2_loss        | 0         |\n",
      "|    l2_norm        | 4.74e+03  |\n",
      "|    loss           | 0.0464    |\n",
      "|    neglogp        | 0.0469    |\n",
      "|    prob_true_act  | 1.47      |\n",
      "|    samples_so_far | 183003    |\n",
      "---------------------------------\n"
     ]
    },
    {
     "name": "stderr",
     "output_type": "stream",
     "text": [
      "61461batch [02:42, 383.64batch/s]"
     ]
    },
    {
     "name": "stdout",
     "output_type": "stream",
     "text": [
      "---------------------------------\n",
      "| batch_size        | 3         |\n",
      "| bc/               |           |\n",
      "|    batch          | 61500     |\n",
      "|    ent_loss       | -0.000469 |\n",
      "|    entropy        | 0.469     |\n",
      "|    epoch          | 39        |\n",
      "|    l2_loss        | 0         |\n",
      "|    l2_norm        | 4.74e+03  |\n",
      "|    loss           | 0.57      |\n",
      "|    neglogp        | 0.57      |\n",
      "|    prob_true_act  | 1.15      |\n",
      "|    samples_so_far | 184503    |\n",
      "---------------------------------\n"
     ]
    },
    {
     "name": "stderr",
     "output_type": "stream",
     "text": [
      "61969batch [02:43, 389.80batch/s]"
     ]
    },
    {
     "name": "stdout",
     "output_type": "stream",
     "text": [
      "---------------------------------\n",
      "| batch_size        | 3         |\n",
      "| bc/               |           |\n",
      "|    batch          | 62000     |\n",
      "|    ent_loss       | -0.000487 |\n",
      "|    entropy        | 0.487     |\n",
      "|    epoch          | 39        |\n",
      "|    l2_loss        | 0         |\n",
      "|    l2_norm        | 4.75e+03  |\n",
      "|    loss           | 0.357     |\n",
      "|    neglogp        | 0.357     |\n",
      "|    prob_true_act  | 1.39      |\n",
      "|    samples_so_far | 186003    |\n",
      "---------------------------------\n"
     ]
    },
    {
     "name": "stderr",
     "output_type": "stream",
     "text": [
      "62474batch [02:44, 378.94batch/s]"
     ]
    },
    {
     "name": "stdout",
     "output_type": "stream",
     "text": [
      "--------------------------------\n",
      "| batch_size        | 3        |\n",
      "| bc/               |          |\n",
      "|    batch          | 62500    |\n",
      "|    ent_loss       | -0.00047 |\n",
      "|    entropy        | 0.47     |\n",
      "|    epoch          | 40       |\n",
      "|    l2_loss        | 0        |\n",
      "|    l2_norm        | 4.75e+03 |\n",
      "|    loss           | 0.586    |\n",
      "|    neglogp        | 0.586    |\n",
      "|    prob_true_act  | 1.28     |\n",
      "|    samples_so_far | 187503   |\n",
      "--------------------------------\n"
     ]
    },
    {
     "name": "stderr",
     "output_type": "stream",
     "text": [
      "62988batch [02:46, 390.66batch/s]"
     ]
    },
    {
     "name": "stdout",
     "output_type": "stream",
     "text": [
      "---------------------------------\n",
      "| batch_size        | 3         |\n",
      "| bc/               |           |\n",
      "|    batch          | 63000     |\n",
      "|    ent_loss       | -0.000482 |\n",
      "|    entropy        | 0.482     |\n",
      "|    epoch          | 40        |\n",
      "|    l2_loss        | 0         |\n",
      "|    l2_norm        | 4.75e+03  |\n",
      "|    loss           | 0.395     |\n",
      "|    neglogp        | 0.396     |\n",
      "|    prob_true_act  | 1.38      |\n",
      "|    samples_so_far | 189003    |\n",
      "---------------------------------\n"
     ]
    },
    {
     "name": "stderr",
     "output_type": "stream",
     "text": [
      "63494batch [02:47, 368.39batch/s]"
     ]
    },
    {
     "name": "stdout",
     "output_type": "stream",
     "text": [
      "---------------------------------\n",
      "| batch_size        | 3         |\n",
      "| bc/               |           |\n",
      "|    batch          | 63500     |\n",
      "|    ent_loss       | -0.000485 |\n",
      "|    entropy        | 0.485     |\n",
      "|    epoch          | 40        |\n",
      "|    l2_loss        | 0         |\n",
      "|    l2_norm        | 4.76e+03  |\n",
      "|    loss           | 0.492     |\n",
      "|    neglogp        | 0.492     |\n",
      "|    prob_true_act  | 1.06      |\n",
      "|    samples_so_far | 190503    |\n",
      "---------------------------------\n"
     ]
    },
    {
     "name": "stderr",
     "output_type": "stream",
     "text": [
      "63999batch [02:48, 368.85batch/s]"
     ]
    },
    {
     "name": "stdout",
     "output_type": "stream",
     "text": [
      "---------------------------------\n",
      "| batch_size        | 3         |\n",
      "| bc/               |           |\n",
      "|    batch          | 64000     |\n",
      "|    ent_loss       | -0.000439 |\n",
      "|    entropy        | 0.439     |\n",
      "|    epoch          | 40        |\n",
      "|    l2_loss        | 0         |\n",
      "|    l2_norm        | 4.76e+03  |\n",
      "|    loss           | 0.42      |\n",
      "|    neglogp        | 0.42      |\n",
      "|    prob_true_act  | 1.19      |\n",
      "|    samples_so_far | 192003    |\n",
      "---------------------------------\n"
     ]
    },
    {
     "name": "stderr",
     "output_type": "stream",
     "text": [
      "64493batch [02:50, 378.89batch/s]"
     ]
    },
    {
     "name": "stdout",
     "output_type": "stream",
     "text": [
      "---------------------------------\n",
      "| batch_size        | 3         |\n",
      "| bc/               |           |\n",
      "|    batch          | 64500     |\n",
      "|    ent_loss       | -0.000508 |\n",
      "|    entropy        | 0.508     |\n",
      "|    epoch          | 41        |\n",
      "|    l2_loss        | 0         |\n",
      "|    l2_norm        | 4.77e+03  |\n",
      "|    loss           | 0.42      |\n",
      "|    neglogp        | 0.42      |\n",
      "|    prob_true_act  | 1.3       |\n",
      "|    samples_so_far | 193503    |\n",
      "---------------------------------\n"
     ]
    },
    {
     "name": "stderr",
     "output_type": "stream",
     "text": [
      "64999batch [02:51, 391.81batch/s]"
     ]
    },
    {
     "name": "stdout",
     "output_type": "stream",
     "text": [
      "---------------------------------\n",
      "| batch_size        | 3         |\n",
      "| bc/               |           |\n",
      "|    batch          | 65000     |\n",
      "|    ent_loss       | -0.000492 |\n",
      "|    entropy        | 0.492     |\n",
      "|    epoch          | 41        |\n",
      "|    l2_loss        | 0         |\n",
      "|    l2_norm        | 4.77e+03  |\n",
      "|    loss           | 0.461     |\n",
      "|    neglogp        | 0.461     |\n",
      "|    prob_true_act  | 1.42      |\n",
      "|    samples_so_far | 195003    |\n",
      "---------------------------------\n"
     ]
    },
    {
     "name": "stderr",
     "output_type": "stream",
     "text": [
      "65464batch [02:52, 369.21batch/s]"
     ]
    },
    {
     "name": "stdout",
     "output_type": "stream",
     "text": [
      "---------------------------------\n",
      "| batch_size        | 3         |\n",
      "| bc/               |           |\n",
      "|    batch          | 65500     |\n",
      "|    ent_loss       | -0.000458 |\n",
      "|    entropy        | 0.458     |\n",
      "|    epoch          | 41        |\n",
      "|    l2_loss        | 0         |\n",
      "|    l2_norm        | 4.77e+03  |\n",
      "|    loss           | 0.118     |\n",
      "|    neglogp        | 0.119     |\n",
      "|    prob_true_act  | 1.63      |\n",
      "|    samples_so_far | 196503    |\n",
      "---------------------------------\n"
     ]
    },
    {
     "name": "stderr",
     "output_type": "stream",
     "text": [
      "65964batch [02:54, 380.36batch/s]"
     ]
    },
    {
     "name": "stdout",
     "output_type": "stream",
     "text": [
      "---------------------------------\n",
      "| batch_size        | 3         |\n",
      "| bc/               |           |\n",
      "|    batch          | 66000     |\n",
      "|    ent_loss       | -0.000452 |\n",
      "|    entropy        | 0.452     |\n",
      "|    epoch          | 42        |\n",
      "|    l2_loss        | 0         |\n",
      "|    l2_norm        | 4.78e+03  |\n",
      "|    loss           | 0.791     |\n",
      "|    neglogp        | 0.792     |\n",
      "|    prob_true_act  | 1.28      |\n",
      "|    samples_so_far | 198003    |\n",
      "---------------------------------\n"
     ]
    },
    {
     "name": "stderr",
     "output_type": "stream",
     "text": [
      "66468batch [02:55, 386.18batch/s]"
     ]
    },
    {
     "name": "stdout",
     "output_type": "stream",
     "text": [
      "---------------------------------\n",
      "| batch_size        | 3         |\n",
      "| bc/               |           |\n",
      "|    batch          | 66500     |\n",
      "|    ent_loss       | -0.000494 |\n",
      "|    entropy        | 0.494     |\n",
      "|    epoch          | 42        |\n",
      "|    l2_loss        | 0         |\n",
      "|    l2_norm        | 4.78e+03  |\n",
      "|    loss           | 0.325     |\n",
      "|    neglogp        | 0.325     |\n",
      "|    prob_true_act  | 1.69      |\n",
      "|    samples_so_far | 199503    |\n",
      "---------------------------------\n"
     ]
    },
    {
     "name": "stderr",
     "output_type": "stream",
     "text": [
      "66972batch [02:56, 368.91batch/s]"
     ]
    },
    {
     "name": "stdout",
     "output_type": "stream",
     "text": [
      "---------------------------------\n",
      "| batch_size        | 3         |\n",
      "| bc/               |           |\n",
      "|    batch          | 67000     |\n",
      "|    ent_loss       | -0.000483 |\n",
      "|    entropy        | 0.483     |\n",
      "|    epoch          | 42        |\n",
      "|    l2_loss        | 0         |\n",
      "|    l2_norm        | 4.79e+03  |\n",
      "|    loss           | 0.805     |\n",
      "|    neglogp        | 0.806     |\n",
      "|    prob_true_act  | 1.43      |\n",
      "|    samples_so_far | 201003    |\n",
      "---------------------------------\n"
     ]
    },
    {
     "name": "stderr",
     "output_type": "stream",
     "text": [
      "67475batch [02:58, 378.69batch/s]"
     ]
    },
    {
     "name": "stdout",
     "output_type": "stream",
     "text": [
      "---------------------------------\n",
      "| batch_size        | 3         |\n",
      "| bc/               |           |\n",
      "|    batch          | 67500     |\n",
      "|    ent_loss       | -0.000476 |\n",
      "|    entropy        | 0.476     |\n",
      "|    epoch          | 43        |\n",
      "|    l2_loss        | 0         |\n",
      "|    l2_norm        | 4.79e+03  |\n",
      "|    loss           | 0.325     |\n",
      "|    neglogp        | 0.326     |\n",
      "|    prob_true_act  | 1.42      |\n",
      "|    samples_so_far | 202503    |\n",
      "---------------------------------\n"
     ]
    },
    {
     "name": "stderr",
     "output_type": "stream",
     "text": [
      "67978batch [02:59, 376.00batch/s]"
     ]
    },
    {
     "name": "stdout",
     "output_type": "stream",
     "text": [
      "---------------------------------\n",
      "| batch_size        | 3         |\n",
      "| bc/               |           |\n",
      "|    batch          | 68000     |\n",
      "|    ent_loss       | -0.000499 |\n",
      "|    entropy        | 0.499     |\n",
      "|    epoch          | 43        |\n",
      "|    l2_loss        | 0         |\n",
      "|    l2_norm        | 4.79e+03  |\n",
      "|    loss           | 0.657     |\n",
      "|    neglogp        | 0.658     |\n",
      "|    prob_true_act  | 1.3       |\n",
      "|    samples_so_far | 204003    |\n",
      "---------------------------------\n"
     ]
    },
    {
     "name": "stderr",
     "output_type": "stream",
     "text": [
      "68481batch [03:00, 379.11batch/s]"
     ]
    },
    {
     "name": "stdout",
     "output_type": "stream",
     "text": [
      "---------------------------------\n",
      "| batch_size        | 3         |\n",
      "| bc/               |           |\n",
      "|    batch          | 68500     |\n",
      "|    ent_loss       | -0.000466 |\n",
      "|    entropy        | 0.466     |\n",
      "|    epoch          | 43        |\n",
      "|    l2_loss        | 0         |\n",
      "|    l2_norm        | 4.8e+03   |\n",
      "|    loss           | 0.522     |\n",
      "|    neglogp        | 0.523     |\n",
      "|    prob_true_act  | 1.49      |\n",
      "|    samples_so_far | 205503    |\n",
      "---------------------------------\n"
     ]
    },
    {
     "name": "stderr",
     "output_type": "stream",
     "text": [
      "68986batch [03:02, 385.71batch/s]"
     ]
    },
    {
     "name": "stdout",
     "output_type": "stream",
     "text": [
      "---------------------------------\n",
      "| batch_size        | 3         |\n",
      "| bc/               |           |\n",
      "|    batch          | 69000     |\n",
      "|    ent_loss       | -0.000486 |\n",
      "|    entropy        | 0.486     |\n",
      "|    epoch          | 44        |\n",
      "|    l2_loss        | 0         |\n",
      "|    l2_norm        | 4.8e+03   |\n",
      "|    loss           | 0.149     |\n",
      "|    neglogp        | 0.149     |\n",
      "|    prob_true_act  | 1.58      |\n",
      "|    samples_so_far | 207003    |\n",
      "---------------------------------\n"
     ]
    },
    {
     "name": "stderr",
     "output_type": "stream",
     "text": [
      "69486batch [03:03, 384.25batch/s]"
     ]
    },
    {
     "name": "stdout",
     "output_type": "stream",
     "text": [
      "---------------------------------\n",
      "| batch_size        | 3         |\n",
      "| bc/               |           |\n",
      "|    batch          | 69500     |\n",
      "|    ent_loss       | -0.000463 |\n",
      "|    entropy        | 0.463     |\n",
      "|    epoch          | 44        |\n",
      "|    l2_loss        | 0         |\n",
      "|    l2_norm        | 4.8e+03   |\n",
      "|    loss           | 0.473     |\n",
      "|    neglogp        | 0.474     |\n",
      "|    prob_true_act  | 1.3       |\n",
      "|    samples_so_far | 208503    |\n",
      "---------------------------------\n"
     ]
    },
    {
     "name": "stderr",
     "output_type": "stream",
     "text": [
      "69983batch [03:04, 385.20batch/s]"
     ]
    },
    {
     "name": "stdout",
     "output_type": "stream",
     "text": [
      "---------------------------------\n",
      "| batch_size        | 3         |\n",
      "| bc/               |           |\n",
      "|    batch          | 70000     |\n",
      "|    ent_loss       | -0.000483 |\n",
      "|    entropy        | 0.483     |\n",
      "|    epoch          | 44        |\n",
      "|    l2_loss        | 0         |\n",
      "|    l2_norm        | 4.81e+03  |\n",
      "|    loss           | 0.299     |\n",
      "|    neglogp        | 0.3       |\n",
      "|    prob_true_act  | 1.24      |\n",
      "|    samples_so_far | 210003    |\n",
      "---------------------------------\n"
     ]
    },
    {
     "name": "stderr",
     "output_type": "stream",
     "text": [
      "70461batch [03:05, 394.16batch/s]"
     ]
    },
    {
     "name": "stdout",
     "output_type": "stream",
     "text": [
      "---------------------------------\n",
      "| batch_size        | 3         |\n",
      "| bc/               |           |\n",
      "|    batch          | 70500     |\n",
      "|    ent_loss       | -0.000507 |\n",
      "|    entropy        | 0.507     |\n",
      "|    epoch          | 45        |\n",
      "|    l2_loss        | 0         |\n",
      "|    l2_norm        | 4.81e+03  |\n",
      "|    loss           | 0.913     |\n",
      "|    neglogp        | 0.913     |\n",
      "|    prob_true_act  | 1.3       |\n",
      "|    samples_so_far | 211503    |\n",
      "---------------------------------\n"
     ]
    },
    {
     "name": "stderr",
     "output_type": "stream",
     "text": [
      "70981batch [03:07, 386.44batch/s]"
     ]
    },
    {
     "name": "stdout",
     "output_type": "stream",
     "text": [
      "---------------------------------\n",
      "| batch_size        | 3         |\n",
      "| bc/               |           |\n",
      "|    batch          | 71000     |\n",
      "|    ent_loss       | -0.000471 |\n",
      "|    entropy        | 0.471     |\n",
      "|    epoch          | 45        |\n",
      "|    l2_loss        | 0         |\n",
      "|    l2_norm        | 4.82e+03  |\n",
      "|    loss           | 0.56      |\n",
      "|    neglogp        | 0.56      |\n",
      "|    prob_true_act  | 1.16      |\n",
      "|    samples_so_far | 213003    |\n",
      "---------------------------------\n"
     ]
    },
    {
     "name": "stderr",
     "output_type": "stream",
     "text": [
      "71489batch [03:08, 380.45batch/s]"
     ]
    },
    {
     "name": "stdout",
     "output_type": "stream",
     "text": [
      "---------------------------------\n",
      "| batch_size        | 3         |\n",
      "| bc/               |           |\n",
      "|    batch          | 71500     |\n",
      "|    ent_loss       | -0.000466 |\n",
      "|    entropy        | 0.466     |\n",
      "|    epoch          | 45        |\n",
      "|    l2_loss        | 0         |\n",
      "|    l2_norm        | 4.82e+03  |\n",
      "|    loss           | 0.753     |\n",
      "|    neglogp        | 0.753     |\n",
      "|    prob_true_act  | 1.24      |\n",
      "|    samples_so_far | 214503    |\n",
      "---------------------------------\n"
     ]
    },
    {
     "name": "stderr",
     "output_type": "stream",
     "text": [
      "71963batch [03:09, 385.23batch/s]"
     ]
    },
    {
     "name": "stdout",
     "output_type": "stream",
     "text": [
      "---------------------------------\n",
      "| batch_size        | 3         |\n",
      "| bc/               |           |\n",
      "|    batch          | 72000     |\n",
      "|    ent_loss       | -0.000491 |\n",
      "|    entropy        | 0.491     |\n",
      "|    epoch          | 46        |\n",
      "|    l2_loss        | 0         |\n",
      "|    l2_norm        | 4.82e+03  |\n",
      "|    loss           | 0.14      |\n",
      "|    neglogp        | 0.14      |\n",
      "|    prob_true_act  | 1.38      |\n",
      "|    samples_so_far | 216003    |\n",
      "---------------------------------\n"
     ]
    },
    {
     "name": "stderr",
     "output_type": "stream",
     "text": [
      "72475batch [03:11, 377.77batch/s]"
     ]
    },
    {
     "name": "stdout",
     "output_type": "stream",
     "text": [
      "---------------------------------\n",
      "| batch_size        | 3         |\n",
      "| bc/               |           |\n",
      "|    batch          | 72500     |\n",
      "|    ent_loss       | -0.000433 |\n",
      "|    entropy        | 0.433     |\n",
      "|    epoch          | 46        |\n",
      "|    l2_loss        | 0         |\n",
      "|    l2_norm        | 4.83e+03  |\n",
      "|    loss           | 0.158     |\n",
      "|    neglogp        | 0.159     |\n",
      "|    prob_true_act  | 1.25      |\n",
      "|    samples_so_far | 217503    |\n",
      "---------------------------------\n"
     ]
    },
    {
     "name": "stderr",
     "output_type": "stream",
     "text": [
      "72975batch [03:12, 363.15batch/s]"
     ]
    },
    {
     "name": "stdout",
     "output_type": "stream",
     "text": [
      "---------------------------------\n",
      "| batch_size        | 3         |\n",
      "| bc/               |           |\n",
      "|    batch          | 73000     |\n",
      "|    ent_loss       | -0.000445 |\n",
      "|    entropy        | 0.445     |\n",
      "|    epoch          | 46        |\n",
      "|    l2_loss        | 0         |\n",
      "|    l2_norm        | 4.83e+03  |\n",
      "|    loss           | 0.46      |\n",
      "|    neglogp        | 0.46      |\n",
      "|    prob_true_act  | 1.36      |\n",
      "|    samples_so_far | 219003    |\n",
      "---------------------------------\n"
     ]
    },
    {
     "name": "stderr",
     "output_type": "stream",
     "text": [
      "73472batch [03:13, 377.03batch/s]"
     ]
    },
    {
     "name": "stdout",
     "output_type": "stream",
     "text": [
      "---------------------------------\n",
      "| batch_size        | 3         |\n",
      "| bc/               |           |\n",
      "|    batch          | 73500     |\n",
      "|    ent_loss       | -0.000509 |\n",
      "|    entropy        | 0.509     |\n",
      "|    epoch          | 47        |\n",
      "|    l2_loss        | 0         |\n",
      "|    l2_norm        | 4.84e+03  |\n",
      "|    loss           | 0.0907    |\n",
      "|    neglogp        | 0.0912    |\n",
      "|    prob_true_act  | 1.61      |\n",
      "|    samples_so_far | 220503    |\n",
      "---------------------------------\n"
     ]
    },
    {
     "name": "stderr",
     "output_type": "stream",
     "text": [
      "73981batch [03:15, 379.60batch/s]"
     ]
    },
    {
     "name": "stdout",
     "output_type": "stream",
     "text": [
      "---------------------------------\n",
      "| batch_size        | 3         |\n",
      "| bc/               |           |\n",
      "|    batch          | 74000     |\n",
      "|    ent_loss       | -0.000475 |\n",
      "|    entropy        | 0.475     |\n",
      "|    epoch          | 47        |\n",
      "|    l2_loss        | 0         |\n",
      "|    l2_norm        | 4.84e+03  |\n",
      "|    loss           | 0.538     |\n",
      "|    neglogp        | 0.539     |\n",
      "|    prob_true_act  | 1.36      |\n",
      "|    samples_so_far | 222003    |\n",
      "---------------------------------\n"
     ]
    },
    {
     "name": "stderr",
     "output_type": "stream",
     "text": [
      "74493batch [03:16, 387.97batch/s]"
     ]
    },
    {
     "name": "stdout",
     "output_type": "stream",
     "text": [
      "---------------------------------\n",
      "| batch_size        | 3         |\n",
      "| bc/               |           |\n",
      "|    batch          | 74500     |\n",
      "|    ent_loss       | -0.000494 |\n",
      "|    entropy        | 0.494     |\n",
      "|    epoch          | 47        |\n",
      "|    l2_loss        | 0         |\n",
      "|    l2_norm        | 4.84e+03  |\n",
      "|    loss           | -0.139    |\n",
      "|    neglogp        | -0.139    |\n",
      "|    prob_true_act  | 1.66      |\n",
      "|    samples_so_far | 223503    |\n",
      "---------------------------------\n"
     ]
    },
    {
     "name": "stderr",
     "output_type": "stream",
     "text": [
      "74999batch [03:17, 372.14batch/s]"
     ]
    },
    {
     "name": "stdout",
     "output_type": "stream",
     "text": [
      "---------------------------------\n",
      "| batch_size        | 3         |\n",
      "| bc/               |           |\n",
      "|    batch          | 75000     |\n",
      "|    ent_loss       | -0.000469 |\n",
      "|    entropy        | 0.469     |\n",
      "|    epoch          | 48        |\n",
      "|    l2_loss        | 0         |\n",
      "|    l2_norm        | 4.85e+03  |\n",
      "|    loss           | -0.111    |\n",
      "|    neglogp        | -0.11     |\n",
      "|    prob_true_act  | 1.53      |\n",
      "|    samples_so_far | 225003    |\n",
      "---------------------------------\n"
     ]
    },
    {
     "name": "stderr",
     "output_type": "stream",
     "text": [
      "75492batch [03:19, 372.43batch/s]"
     ]
    },
    {
     "name": "stdout",
     "output_type": "stream",
     "text": [
      "---------------------------------\n",
      "| batch_size        | 3         |\n",
      "| bc/               |           |\n",
      "|    batch          | 75500     |\n",
      "|    ent_loss       | -0.000463 |\n",
      "|    entropy        | 0.463     |\n",
      "|    epoch          | 48        |\n",
      "|    l2_loss        | 0         |\n",
      "|    l2_norm        | 4.85e+03  |\n",
      "|    loss           | 0.598     |\n",
      "|    neglogp        | 0.599     |\n",
      "|    prob_true_act  | 1.32      |\n",
      "|    samples_so_far | 226503    |\n",
      "---------------------------------\n"
     ]
    },
    {
     "name": "stderr",
     "output_type": "stream",
     "text": [
      "75993batch [03:20, 377.28batch/s]"
     ]
    },
    {
     "name": "stdout",
     "output_type": "stream",
     "text": [
      "---------------------------------\n",
      "| batch_size        | 3         |\n",
      "| bc/               |           |\n",
      "|    batch          | 76000     |\n",
      "|    ent_loss       | -0.000491 |\n",
      "|    entropy        | 0.491     |\n",
      "|    epoch          | 48        |\n",
      "|    l2_loss        | 0         |\n",
      "|    l2_norm        | 4.86e+03  |\n",
      "|    loss           | 0.976     |\n",
      "|    neglogp        | 0.977     |\n",
      "|    prob_true_act  | 1.18      |\n",
      "|    samples_so_far | 228003    |\n",
      "---------------------------------\n"
     ]
    },
    {
     "name": "stderr",
     "output_type": "stream",
     "text": [
      "76500batch [03:21, 388.06batch/s]"
     ]
    },
    {
     "name": "stdout",
     "output_type": "stream",
     "text": [
      "---------------------------------\n",
      "| batch_size        | 3         |\n",
      "| bc/               |           |\n",
      "|    batch          | 76500     |\n",
      "|    ent_loss       | -0.000473 |\n",
      "|    entropy        | 0.473     |\n",
      "|    epoch          | 48        |\n",
      "|    l2_loss        | 0         |\n",
      "|    l2_norm        | 4.86e+03  |\n",
      "|    loss           | 0.4       |\n",
      "|    neglogp        | 0.401     |\n",
      "|    prob_true_act  | 1.2       |\n",
      "|    samples_so_far | 229503    |\n",
      "---------------------------------\n"
     ]
    },
    {
     "name": "stderr",
     "output_type": "stream",
     "text": [
      "76971batch [03:23, 384.55batch/s]"
     ]
    },
    {
     "name": "stdout",
     "output_type": "stream",
     "text": [
      "---------------------------------\n",
      "| batch_size        | 3         |\n",
      "| bc/               |           |\n",
      "|    batch          | 77000     |\n",
      "|    ent_loss       | -0.000451 |\n",
      "|    entropy        | 0.451     |\n",
      "|    epoch          | 49        |\n",
      "|    l2_loss        | 0         |\n",
      "|    l2_norm        | 4.86e+03  |\n",
      "|    loss           | 1.16      |\n",
      "|    neglogp        | 1.16      |\n",
      "|    prob_true_act  | 1.24      |\n",
      "|    samples_so_far | 231003    |\n",
      "---------------------------------\n"
     ]
    },
    {
     "name": "stderr",
     "output_type": "stream",
     "text": [
      "77475batch [03:24, 382.28batch/s]"
     ]
    },
    {
     "name": "stdout",
     "output_type": "stream",
     "text": [
      "---------------------------------\n",
      "| batch_size        | 3         |\n",
      "| bc/               |           |\n",
      "|    batch          | 77500     |\n",
      "|    ent_loss       | -0.000484 |\n",
      "|    entropy        | 0.484     |\n",
      "|    epoch          | 49        |\n",
      "|    l2_loss        | 0         |\n",
      "|    l2_norm        | 4.87e+03  |\n",
      "|    loss           | 0.588     |\n",
      "|    neglogp        | 0.589     |\n",
      "|    prob_true_act  | 1.15      |\n",
      "|    samples_so_far | 232503    |\n",
      "---------------------------------\n"
     ]
    },
    {
     "name": "stderr",
     "output_type": "stream",
     "text": [
      "77988batch [03:25, 387.37batch/s]"
     ]
    },
    {
     "name": "stdout",
     "output_type": "stream",
     "text": [
      "---------------------------------\n",
      "| batch_size        | 3         |\n",
      "| bc/               |           |\n",
      "|    batch          | 78000     |\n",
      "|    ent_loss       | -0.000501 |\n",
      "|    entropy        | 0.501     |\n",
      "|    epoch          | 49        |\n",
      "|    l2_loss        | 0         |\n",
      "|    l2_norm        | 4.87e+03  |\n",
      "|    loss           | 0.191     |\n",
      "|    neglogp        | 0.191     |\n",
      "|    prob_true_act  | 1.18      |\n",
      "|    samples_so_far | 234003    |\n",
      "---------------------------------\n"
     ]
    },
    {
     "name": "stderr",
     "output_type": "stream",
     "text": [
      "78466batch [03:27, 389.11batch/s]"
     ]
    },
    {
     "name": "stdout",
     "output_type": "stream",
     "text": [
      "---------------------------------\n",
      "| batch_size        | 3         |\n",
      "| bc/               |           |\n",
      "|    batch          | 78500     |\n",
      "|    ent_loss       | -0.000447 |\n",
      "|    entropy        | 0.447     |\n",
      "|    epoch          | 50        |\n",
      "|    l2_loss        | 0         |\n",
      "|    l2_norm        | 4.88e+03  |\n",
      "|    loss           | 0.531     |\n",
      "|    neglogp        | 0.532     |\n",
      "|    prob_true_act  | 1.32      |\n",
      "|    samples_so_far | 235503    |\n",
      "---------------------------------\n"
     ]
    },
    {
     "name": "stderr",
     "output_type": "stream",
     "text": [
      "78967batch [03:28, 373.43batch/s]"
     ]
    },
    {
     "name": "stdout",
     "output_type": "stream",
     "text": [
      "---------------------------------\n",
      "| batch_size        | 3         |\n",
      "| bc/               |           |\n",
      "|    batch          | 79000     |\n",
      "|    ent_loss       | -0.000466 |\n",
      "|    entropy        | 0.466     |\n",
      "|    epoch          | 50        |\n",
      "|    l2_loss        | 0         |\n",
      "|    l2_norm        | 4.88e+03  |\n",
      "|    loss           | -0.246    |\n",
      "|    neglogp        | -0.245    |\n",
      "|    prob_true_act  | 1.84      |\n",
      "|    samples_so_far | 237003    |\n",
      "---------------------------------\n"
     ]
    },
    {
     "name": "stderr",
     "output_type": "stream",
     "text": [
      "79470batch [03:29, 364.61batch/s]"
     ]
    },
    {
     "name": "stdout",
     "output_type": "stream",
     "text": [
      "---------------------------------\n",
      "| batch_size        | 3         |\n",
      "| bc/               |           |\n",
      "|    batch          | 79500     |\n",
      "|    ent_loss       | -0.000504 |\n",
      "|    entropy        | 0.504     |\n",
      "|    epoch          | 50        |\n",
      "|    l2_loss        | 0         |\n",
      "|    l2_norm        | 4.88e+03  |\n",
      "|    loss           | -0.044    |\n",
      "|    neglogp        | -0.0435   |\n",
      "|    prob_true_act  | 1.7       |\n",
      "|    samples_so_far | 238503    |\n",
      "---------------------------------\n"
     ]
    },
    {
     "name": "stderr",
     "output_type": "stream",
     "text": [
      "79972batch [03:31, 385.41batch/s]"
     ]
    },
    {
     "name": "stdout",
     "output_type": "stream",
     "text": [
      "--------------------------------\n",
      "| batch_size        | 3        |\n",
      "| bc/               |          |\n",
      "|    batch          | 80000    |\n",
      "|    ent_loss       | -0.00047 |\n",
      "|    entropy        | 0.47     |\n",
      "|    epoch          | 51       |\n",
      "|    l2_loss        | 0        |\n",
      "|    l2_norm        | 4.89e+03 |\n",
      "|    loss           | 0.534    |\n",
      "|    neglogp        | 0.534    |\n",
      "|    prob_true_act  | 1.36     |\n",
      "|    samples_so_far | 240003   |\n",
      "--------------------------------\n"
     ]
    },
    {
     "name": "stderr",
     "output_type": "stream",
     "text": [
      "80484batch [03:32, 385.66batch/s]"
     ]
    },
    {
     "name": "stdout",
     "output_type": "stream",
     "text": [
      "---------------------------------\n",
      "| batch_size        | 3         |\n",
      "| bc/               |           |\n",
      "|    batch          | 80500     |\n",
      "|    ent_loss       | -0.000459 |\n",
      "|    entropy        | 0.459     |\n",
      "|    epoch          | 51        |\n",
      "|    l2_loss        | 0         |\n",
      "|    l2_norm        | 4.89e+03  |\n",
      "|    loss           | 0.252     |\n",
      "|    neglogp        | 0.253     |\n",
      "|    prob_true_act  | 1.41      |\n",
      "|    samples_so_far | 241503    |\n",
      "---------------------------------\n"
     ]
    },
    {
     "name": "stderr",
     "output_type": "stream",
     "text": [
      "80980batch [03:33, 364.25batch/s]"
     ]
    },
    {
     "name": "stdout",
     "output_type": "stream",
     "text": [
      "---------------------------------\n",
      "| batch_size        | 3         |\n",
      "| bc/               |           |\n",
      "|    batch          | 81000     |\n",
      "|    ent_loss       | -0.000463 |\n",
      "|    entropy        | 0.463     |\n",
      "|    epoch          | 51        |\n",
      "|    l2_loss        | 0         |\n",
      "|    l2_norm        | 4.89e+03  |\n",
      "|    loss           | 0.429     |\n",
      "|    neglogp        | 0.43      |\n",
      "|    prob_true_act  | 1.11      |\n",
      "|    samples_so_far | 243003    |\n",
      "---------------------------------\n"
     ]
    },
    {
     "name": "stderr",
     "output_type": "stream",
     "text": [
      "81478batch [03:35, 395.78batch/s]"
     ]
    },
    {
     "name": "stdout",
     "output_type": "stream",
     "text": [
      "---------------------------------\n",
      "| batch_size        | 3         |\n",
      "| bc/               |           |\n",
      "|    batch          | 81500     |\n",
      "|    ent_loss       | -0.000468 |\n",
      "|    entropy        | 0.468     |\n",
      "|    epoch          | 52        |\n",
      "|    l2_loss        | 0         |\n",
      "|    l2_norm        | 4.9e+03   |\n",
      "|    loss           | 0.783     |\n",
      "|    neglogp        | 0.783     |\n",
      "|    prob_true_act  | 1.11      |\n",
      "|    samples_so_far | 244503    |\n",
      "---------------------------------\n"
     ]
    },
    {
     "name": "stderr",
     "output_type": "stream",
     "text": [
      "81997batch [03:36, 394.11batch/s]"
     ]
    },
    {
     "name": "stdout",
     "output_type": "stream",
     "text": [
      "---------------------------------\n",
      "| batch_size        | 3         |\n",
      "| bc/               |           |\n",
      "|    batch          | 82000     |\n",
      "|    ent_loss       | -0.000438 |\n",
      "|    entropy        | 0.438     |\n",
      "|    epoch          | 52        |\n",
      "|    l2_loss        | 0         |\n",
      "|    l2_norm        | 4.9e+03   |\n",
      "|    loss           | 0.174     |\n",
      "|    neglogp        | 0.175     |\n",
      "|    prob_true_act  | 1.47      |\n",
      "|    samples_so_far | 246003    |\n",
      "---------------------------------\n"
     ]
    },
    {
     "name": "stderr",
     "output_type": "stream",
     "text": [
      "82477batch [03:37, 374.95batch/s]"
     ]
    },
    {
     "name": "stdout",
     "output_type": "stream",
     "text": [
      "---------------------------------\n",
      "| batch_size        | 3         |\n",
      "| bc/               |           |\n",
      "|    batch          | 82500     |\n",
      "|    ent_loss       | -0.000489 |\n",
      "|    entropy        | 0.489     |\n",
      "|    epoch          | 52        |\n",
      "|    l2_loss        | 0         |\n",
      "|    l2_norm        | 4.91e+03  |\n",
      "|    loss           | 0.352     |\n",
      "|    neglogp        | 0.353     |\n",
      "|    prob_true_act  | 1.25      |\n",
      "|    samples_so_far | 247503    |\n",
      "---------------------------------\n"
     ]
    },
    {
     "name": "stderr",
     "output_type": "stream",
     "text": [
      "82979batch [03:39, 379.80batch/s]"
     ]
    },
    {
     "name": "stdout",
     "output_type": "stream",
     "text": [
      "---------------------------------\n",
      "| batch_size        | 3         |\n",
      "| bc/               |           |\n",
      "|    batch          | 83000     |\n",
      "|    ent_loss       | -0.000506 |\n",
      "|    entropy        | 0.506     |\n",
      "|    epoch          | 53        |\n",
      "|    l2_loss        | 0         |\n",
      "|    l2_norm        | 4.91e+03  |\n",
      "|    loss           | 0.427     |\n",
      "|    neglogp        | 0.428     |\n",
      "|    prob_true_act  | 1.17      |\n",
      "|    samples_so_far | 249003    |\n",
      "---------------------------------\n"
     ]
    },
    {
     "name": "stderr",
     "output_type": "stream",
     "text": [
      "83484batch [03:40, 386.05batch/s]"
     ]
    },
    {
     "name": "stdout",
     "output_type": "stream",
     "text": [
      "---------------------------------\n",
      "| batch_size        | 3         |\n",
      "| bc/               |           |\n",
      "|    batch          | 83500     |\n",
      "|    ent_loss       | -0.000449 |\n",
      "|    entropy        | 0.449     |\n",
      "|    epoch          | 53        |\n",
      "|    l2_loss        | 0         |\n",
      "|    l2_norm        | 4.92e+03  |\n",
      "|    loss           | 0.286     |\n",
      "|    neglogp        | 0.287     |\n",
      "|    prob_true_act  | 1.59      |\n",
      "|    samples_so_far | 250503    |\n",
      "---------------------------------\n"
     ]
    },
    {
     "name": "stderr",
     "output_type": "stream",
     "text": [
      "83994batch [03:41, 386.36batch/s]"
     ]
    },
    {
     "name": "stdout",
     "output_type": "stream",
     "text": [
      "--------------------------------\n",
      "| batch_size        | 3        |\n",
      "| bc/               |          |\n",
      "|    batch          | 84000    |\n",
      "|    ent_loss       | -0.00048 |\n",
      "|    entropy        | 0.48     |\n",
      "|    epoch          | 53       |\n",
      "|    l2_loss        | 0        |\n",
      "|    l2_norm        | 4.92e+03 |\n",
      "|    loss           | 0.37     |\n",
      "|    neglogp        | 0.371    |\n",
      "|    prob_true_act  | 1.44     |\n",
      "|    samples_so_far | 252003   |\n",
      "--------------------------------\n"
     ]
    },
    {
     "name": "stderr",
     "output_type": "stream",
     "text": [
      "84462batch [03:42, 379.14batch/s]"
     ]
    },
    {
     "name": "stdout",
     "output_type": "stream",
     "text": [
      "---------------------------------\n",
      "| batch_size        | 3         |\n",
      "| bc/               |           |\n",
      "|    batch          | 84500     |\n",
      "|    ent_loss       | -0.000483 |\n",
      "|    entropy        | 0.483     |\n",
      "|    epoch          | 54        |\n",
      "|    l2_loss        | 0         |\n",
      "|    l2_norm        | 4.92e+03  |\n",
      "|    loss           | 0.146     |\n",
      "|    neglogp        | 0.147     |\n",
      "|    prob_true_act  | 1.44      |\n",
      "|    samples_so_far | 253503    |\n",
      "---------------------------------\n"
     ]
    },
    {
     "name": "stderr",
     "output_type": "stream",
     "text": [
      "84978batch [03:44, 397.52batch/s]"
     ]
    },
    {
     "name": "stdout",
     "output_type": "stream",
     "text": [
      "---------------------------------\n",
      "| batch_size        | 3         |\n",
      "| bc/               |           |\n",
      "|    batch          | 85000     |\n",
      "|    ent_loss       | -0.000493 |\n",
      "|    entropy        | 0.493     |\n",
      "|    epoch          | 54        |\n",
      "|    l2_loss        | 0         |\n",
      "|    l2_norm        | 4.93e+03  |\n",
      "|    loss           | 0.332     |\n",
      "|    neglogp        | 0.332     |\n",
      "|    prob_true_act  | 1.31      |\n",
      "|    samples_so_far | 255003    |\n",
      "---------------------------------\n"
     ]
    },
    {
     "name": "stderr",
     "output_type": "stream",
     "text": [
      "85463batch [03:45, 395.03batch/s]"
     ]
    },
    {
     "name": "stdout",
     "output_type": "stream",
     "text": [
      "---------------------------------\n",
      "| batch_size        | 3         |\n",
      "| bc/               |           |\n",
      "|    batch          | 85500     |\n",
      "|    ent_loss       | -0.000454 |\n",
      "|    entropy        | 0.454     |\n",
      "|    epoch          | 54        |\n",
      "|    l2_loss        | 0         |\n",
      "|    l2_norm        | 4.93e+03  |\n",
      "|    loss           | 0.165     |\n",
      "|    neglogp        | 0.166     |\n",
      "|    prob_true_act  | 1.61      |\n",
      "|    samples_so_far | 256503    |\n",
      "---------------------------------\n"
     ]
    },
    {
     "name": "stderr",
     "output_type": "stream",
     "text": [
      "85979batch [03:46, 385.46batch/s]"
     ]
    },
    {
     "name": "stdout",
     "output_type": "stream",
     "text": [
      "---------------------------------\n",
      "| batch_size        | 3         |\n",
      "| bc/               |           |\n",
      "|    batch          | 86000     |\n",
      "|    ent_loss       | -0.000464 |\n",
      "|    entropy        | 0.464     |\n",
      "|    epoch          | 55        |\n",
      "|    l2_loss        | 0         |\n",
      "|    l2_norm        | 4.94e+03  |\n",
      "|    loss           | 0.156     |\n",
      "|    neglogp        | 0.156     |\n",
      "|    prob_true_act  | 1.44      |\n",
      "|    samples_so_far | 258003    |\n",
      "---------------------------------\n"
     ]
    },
    {
     "name": "stderr",
     "output_type": "stream",
     "text": [
      "86489batch [03:48, 371.74batch/s]"
     ]
    },
    {
     "name": "stdout",
     "output_type": "stream",
     "text": [
      "---------------------------------\n",
      "| batch_size        | 3         |\n",
      "| bc/               |           |\n",
      "|    batch          | 86500     |\n",
      "|    ent_loss       | -0.000501 |\n",
      "|    entropy        | 0.501     |\n",
      "|    epoch          | 55        |\n",
      "|    l2_loss        | 0         |\n",
      "|    l2_norm        | 4.94e+03  |\n",
      "|    loss           | 0.557     |\n",
      "|    neglogp        | 0.557     |\n",
      "|    prob_true_act  | 1.21      |\n",
      "|    samples_so_far | 259503    |\n",
      "---------------------------------\n"
     ]
    },
    {
     "name": "stderr",
     "output_type": "stream",
     "text": [
      "86971batch [03:49, 365.18batch/s]"
     ]
    },
    {
     "name": "stdout",
     "output_type": "stream",
     "text": [
      "---------------------------------\n",
      "| batch_size        | 3         |\n",
      "| bc/               |           |\n",
      "|    batch          | 87000     |\n",
      "|    ent_loss       | -0.000466 |\n",
      "|    entropy        | 0.466     |\n",
      "|    epoch          | 55        |\n",
      "|    l2_loss        | 0         |\n",
      "|    l2_norm        | 4.94e+03  |\n",
      "|    loss           | 0.352     |\n",
      "|    neglogp        | 0.352     |\n",
      "|    prob_true_act  | 1.15      |\n",
      "|    samples_so_far | 261003    |\n",
      "---------------------------------\n"
     ]
    },
    {
     "name": "stderr",
     "output_type": "stream",
     "text": [
      "87471batch [03:50, 380.31batch/s]"
     ]
    },
    {
     "name": "stdout",
     "output_type": "stream",
     "text": [
      "---------------------------------\n",
      "| batch_size        | 3         |\n",
      "| bc/               |           |\n",
      "|    batch          | 87500     |\n",
      "|    ent_loss       | -0.000461 |\n",
      "|    entropy        | 0.461     |\n",
      "|    epoch          | 56        |\n",
      "|    l2_loss        | 0         |\n",
      "|    l2_norm        | 4.95e+03  |\n",
      "|    loss           | -0.0472   |\n",
      "|    neglogp        | -0.0467   |\n",
      "|    prob_true_act  | 1.72      |\n",
      "|    samples_so_far | 262503    |\n",
      "---------------------------------\n"
     ]
    },
    {
     "name": "stderr",
     "output_type": "stream",
     "text": [
      "87971batch [03:52, 371.65batch/s]"
     ]
    },
    {
     "name": "stdout",
     "output_type": "stream",
     "text": [
      "---------------------------------\n",
      "| batch_size        | 3         |\n",
      "| bc/               |           |\n",
      "|    batch          | 88000     |\n",
      "|    ent_loss       | -0.000481 |\n",
      "|    entropy        | 0.481     |\n",
      "|    epoch          | 56        |\n",
      "|    l2_loss        | 0         |\n",
      "|    l2_norm        | 4.95e+03  |\n",
      "|    loss           | 0.831     |\n",
      "|    neglogp        | 0.831     |\n",
      "|    prob_true_act  | 1.16      |\n",
      "|    samples_so_far | 264003    |\n",
      "---------------------------------\n"
     ]
    },
    {
     "name": "stderr",
     "output_type": "stream",
     "text": [
      "88494batch [03:53, 371.63batch/s]"
     ]
    },
    {
     "name": "stdout",
     "output_type": "stream",
     "text": [
      "---------------------------------\n",
      "| batch_size        | 3         |\n",
      "| bc/               |           |\n",
      "|    batch          | 88500     |\n",
      "|    ent_loss       | -0.000458 |\n",
      "|    entropy        | 0.458     |\n",
      "|    epoch          | 56        |\n",
      "|    l2_loss        | 0         |\n",
      "|    l2_norm        | 4.96e+03  |\n",
      "|    loss           | 0.121     |\n",
      "|    neglogp        | 0.121     |\n",
      "|    prob_true_act  | 1.32      |\n",
      "|    samples_so_far | 265503    |\n",
      "---------------------------------\n"
     ]
    },
    {
     "name": "stderr",
     "output_type": "stream",
     "text": [
      "88992batch [03:54, 367.35batch/s]"
     ]
    },
    {
     "name": "stdout",
     "output_type": "stream",
     "text": [
      "---------------------------------\n",
      "| batch_size        | 3         |\n",
      "| bc/               |           |\n",
      "|    batch          | 89000     |\n",
      "|    ent_loss       | -0.000475 |\n",
      "|    entropy        | 0.475     |\n",
      "|    epoch          | 56        |\n",
      "|    l2_loss        | 0         |\n",
      "|    l2_norm        | 4.96e+03  |\n",
      "|    loss           | 0.878     |\n",
      "|    neglogp        | 0.878     |\n",
      "|    prob_true_act  | 1.26      |\n",
      "|    samples_so_far | 267003    |\n",
      "---------------------------------\n"
     ]
    },
    {
     "name": "stderr",
     "output_type": "stream",
     "text": [
      "89492batch [03:56, 379.75batch/s]"
     ]
    },
    {
     "name": "stdout",
     "output_type": "stream",
     "text": [
      "---------------------------------\n",
      "| batch_size        | 3         |\n",
      "| bc/               |           |\n",
      "|    batch          | 89500     |\n",
      "|    ent_loss       | -0.000477 |\n",
      "|    entropy        | 0.477     |\n",
      "|    epoch          | 57        |\n",
      "|    l2_loss        | 0         |\n",
      "|    l2_norm        | 4.96e+03  |\n",
      "|    loss           | 1.09      |\n",
      "|    neglogp        | 1.09      |\n",
      "|    prob_true_act  | 1.29      |\n",
      "|    samples_so_far | 268503    |\n",
      "---------------------------------\n"
     ]
    },
    {
     "name": "stderr",
     "output_type": "stream",
     "text": [
      "89990batch [03:57, 380.54batch/s]"
     ]
    },
    {
     "name": "stdout",
     "output_type": "stream",
     "text": [
      "--------------------------------\n",
      "| batch_size        | 3        |\n",
      "| bc/               |          |\n",
      "|    batch          | 90000    |\n",
      "|    ent_loss       | -0.00048 |\n",
      "|    entropy        | 0.48     |\n",
      "|    epoch          | 57       |\n",
      "|    l2_loss        | 0        |\n",
      "|    l2_norm        | 4.97e+03 |\n",
      "|    loss           | 0.216    |\n",
      "|    neglogp        | 0.216    |\n",
      "|    prob_true_act  | 1.49     |\n",
      "|    samples_so_far | 270003   |\n",
      "--------------------------------\n"
     ]
    },
    {
     "name": "stderr",
     "output_type": "stream",
     "text": [
      "90491batch [03:59, 375.31batch/s]"
     ]
    },
    {
     "name": "stdout",
     "output_type": "stream",
     "text": [
      "---------------------------------\n",
      "| batch_size        | 3         |\n",
      "| bc/               |           |\n",
      "|    batch          | 90500     |\n",
      "|    ent_loss       | -0.000452 |\n",
      "|    entropy        | 0.452     |\n",
      "|    epoch          | 57        |\n",
      "|    l2_loss        | 0         |\n",
      "|    l2_norm        | 4.97e+03  |\n",
      "|    loss           | 0.316     |\n",
      "|    neglogp        | 0.316     |\n",
      "|    prob_true_act  | 1.62      |\n",
      "|    samples_so_far | 271503    |\n",
      "---------------------------------\n"
     ]
    },
    {
     "name": "stderr",
     "output_type": "stream",
     "text": [
      "90983batch [04:00, 373.71batch/s]"
     ]
    },
    {
     "name": "stdout",
     "output_type": "stream",
     "text": [
      "---------------------------------\n",
      "| batch_size        | 3         |\n",
      "| bc/               |           |\n",
      "|    batch          | 91000     |\n",
      "|    ent_loss       | -0.000501 |\n",
      "|    entropy        | 0.501     |\n",
      "|    epoch          | 58        |\n",
      "|    l2_loss        | 0         |\n",
      "|    l2_norm        | 4.98e+03  |\n",
      "|    loss           | 0.807     |\n",
      "|    neglogp        | 0.808     |\n",
      "|    prob_true_act  | 1.23      |\n",
      "|    samples_so_far | 273003    |\n",
      "---------------------------------\n"
     ]
    },
    {
     "name": "stderr",
     "output_type": "stream",
     "text": [
      "91484batch [04:01, 374.32batch/s]"
     ]
    },
    {
     "name": "stdout",
     "output_type": "stream",
     "text": [
      "---------------------------------\n",
      "| batch_size        | 3         |\n",
      "| bc/               |           |\n",
      "|    batch          | 91500     |\n",
      "|    ent_loss       | -0.000448 |\n",
      "|    entropy        | 0.448     |\n",
      "|    epoch          | 58        |\n",
      "|    l2_loss        | 0         |\n",
      "|    l2_norm        | 4.98e+03  |\n",
      "|    loss           | 0.237     |\n",
      "|    neglogp        | 0.238     |\n",
      "|    prob_true_act  | 1.4       |\n",
      "|    samples_so_far | 274503    |\n",
      "---------------------------------\n"
     ]
    },
    {
     "name": "stderr",
     "output_type": "stream",
     "text": [
      "91979batch [04:03, 366.17batch/s]"
     ]
    },
    {
     "name": "stdout",
     "output_type": "stream",
     "text": [
      "---------------------------------\n",
      "| batch_size        | 3         |\n",
      "| bc/               |           |\n",
      "|    batch          | 92000     |\n",
      "|    ent_loss       | -0.000453 |\n",
      "|    entropy        | 0.453     |\n",
      "|    epoch          | 58        |\n",
      "|    l2_loss        | 0         |\n",
      "|    l2_norm        | 4.98e+03  |\n",
      "|    loss           | 0.599     |\n",
      "|    neglogp        | 0.6       |\n",
      "|    prob_true_act  | 1.2       |\n",
      "|    samples_so_far | 276003    |\n",
      "---------------------------------\n"
     ]
    },
    {
     "name": "stderr",
     "output_type": "stream",
     "text": [
      "92471batch [04:04, 378.92batch/s]"
     ]
    },
    {
     "name": "stdout",
     "output_type": "stream",
     "text": [
      "---------------------------------\n",
      "| batch_size        | 3         |\n",
      "| bc/               |           |\n",
      "|    batch          | 92500     |\n",
      "|    ent_loss       | -0.000459 |\n",
      "|    entropy        | 0.459     |\n",
      "|    epoch          | 59        |\n",
      "|    l2_loss        | 0         |\n",
      "|    l2_norm        | 4.99e+03  |\n",
      "|    loss           | 0.258     |\n",
      "|    neglogp        | 0.258     |\n",
      "|    prob_true_act  | 1.37      |\n",
      "|    samples_so_far | 277503    |\n",
      "---------------------------------\n"
     ]
    },
    {
     "name": "stderr",
     "output_type": "stream",
     "text": [
      "92972batch [04:05, 367.66batch/s]"
     ]
    },
    {
     "name": "stdout",
     "output_type": "stream",
     "text": [
      "---------------------------------\n",
      "| batch_size        | 3         |\n",
      "| bc/               |           |\n",
      "|    batch          | 93000     |\n",
      "|    ent_loss       | -0.000442 |\n",
      "|    entropy        | 0.442     |\n",
      "|    epoch          | 59        |\n",
      "|    l2_loss        | 0         |\n",
      "|    l2_norm        | 4.99e+03  |\n",
      "|    loss           | 0.785     |\n",
      "|    neglogp        | 0.786     |\n",
      "|    prob_true_act  | 1.09      |\n",
      "|    samples_so_far | 279003    |\n",
      "---------------------------------\n"
     ]
    },
    {
     "name": "stderr",
     "output_type": "stream",
     "text": [
      "93488batch [04:07, 390.42batch/s]"
     ]
    },
    {
     "name": "stdout",
     "output_type": "stream",
     "text": [
      "---------------------------------\n",
      "| batch_size        | 3         |\n",
      "| bc/               |           |\n",
      "|    batch          | 93500     |\n",
      "|    ent_loss       | -0.000463 |\n",
      "|    entropy        | 0.463     |\n",
      "|    epoch          | 59        |\n",
      "|    l2_loss        | 0         |\n",
      "|    l2_norm        | 4.99e+03  |\n",
      "|    loss           | 0.204     |\n",
      "|    neglogp        | 0.204     |\n",
      "|    prob_true_act  | 1.68      |\n",
      "|    samples_so_far | 280503    |\n",
      "---------------------------------\n"
     ]
    },
    {
     "name": "stderr",
     "output_type": "stream",
     "text": [
      "93962batch [04:08, 390.30batch/s]"
     ]
    },
    {
     "name": "stdout",
     "output_type": "stream",
     "text": [
      "---------------------------------\n",
      "| batch_size        | 3         |\n",
      "| bc/               |           |\n",
      "|    batch          | 94000     |\n",
      "|    ent_loss       | -0.000474 |\n",
      "|    entropy        | 0.474     |\n",
      "|    epoch          | 60        |\n",
      "|    l2_loss        | 0         |\n",
      "|    l2_norm        | 5e+03     |\n",
      "|    loss           | 1.44      |\n",
      "|    neglogp        | 1.44      |\n",
      "|    prob_true_act  | 1.04      |\n",
      "|    samples_so_far | 282003    |\n",
      "---------------------------------\n"
     ]
    },
    {
     "name": "stderr",
     "output_type": "stream",
     "text": [
      "94485batch [04:09, 378.74batch/s]"
     ]
    },
    {
     "name": "stdout",
     "output_type": "stream",
     "text": [
      "---------------------------------\n",
      "| batch_size        | 3         |\n",
      "| bc/               |           |\n",
      "|    batch          | 94500     |\n",
      "|    ent_loss       | -0.000467 |\n",
      "|    entropy        | 0.467     |\n",
      "|    epoch          | 60        |\n",
      "|    l2_loss        | 0         |\n",
      "|    l2_norm        | 5e+03     |\n",
      "|    loss           | 0.444     |\n",
      "|    neglogp        | 0.444     |\n",
      "|    prob_true_act  | 0.991     |\n",
      "|    samples_so_far | 283503    |\n",
      "---------------------------------\n"
     ]
    },
    {
     "name": "stderr",
     "output_type": "stream",
     "text": [
      "94961batch [04:10, 394.88batch/s]"
     ]
    },
    {
     "name": "stdout",
     "output_type": "stream",
     "text": [
      "--------------------------------\n",
      "| batch_size        | 3        |\n",
      "| bc/               |          |\n",
      "|    batch          | 95000    |\n",
      "|    ent_loss       | -0.00045 |\n",
      "|    entropy        | 0.45     |\n",
      "|    epoch          | 60       |\n",
      "|    l2_loss        | 0        |\n",
      "|    l2_norm        | 5e+03    |\n",
      "|    loss           | 1.14     |\n",
      "|    neglogp        | 1.14     |\n",
      "|    prob_true_act  | 1.39     |\n",
      "|    samples_so_far | 285003   |\n",
      "--------------------------------\n"
     ]
    },
    {
     "name": "stderr",
     "output_type": "stream",
     "text": [
      "95489batch [04:12, 389.02batch/s]"
     ]
    },
    {
     "name": "stdout",
     "output_type": "stream",
     "text": [
      "---------------------------------\n",
      "| batch_size        | 3         |\n",
      "| bc/               |           |\n",
      "|    batch          | 95500     |\n",
      "|    ent_loss       | -0.000462 |\n",
      "|    entropy        | 0.462     |\n",
      "|    epoch          | 61        |\n",
      "|    l2_loss        | 0         |\n",
      "|    l2_norm        | 5.01e+03  |\n",
      "|    loss           | 0.576     |\n",
      "|    neglogp        | 0.577     |\n",
      "|    prob_true_act  | 1.55      |\n",
      "|    samples_so_far | 286503    |\n",
      "---------------------------------\n"
     ]
    },
    {
     "name": "stderr",
     "output_type": "stream",
     "text": [
      "96000batch [04:13, 390.46batch/s]"
     ]
    },
    {
     "name": "stdout",
     "output_type": "stream",
     "text": [
      "---------------------------------\n",
      "| batch_size        | 3         |\n",
      "| bc/               |           |\n",
      "|    batch          | 96000     |\n",
      "|    ent_loss       | -0.000455 |\n",
      "|    entropy        | 0.455     |\n",
      "|    epoch          | 61        |\n",
      "|    l2_loss        | 0         |\n",
      "|    l2_norm        | 5.01e+03  |\n",
      "|    loss           | 0.545     |\n",
      "|    neglogp        | 0.545     |\n",
      "|    prob_true_act  | 1.29      |\n",
      "|    samples_so_far | 288003    |\n",
      "---------------------------------\n"
     ]
    },
    {
     "name": "stderr",
     "output_type": "stream",
     "text": [
      "96468batch [04:14, 382.78batch/s]"
     ]
    },
    {
     "name": "stdout",
     "output_type": "stream",
     "text": [
      "---------------------------------\n",
      "| batch_size        | 3         |\n",
      "| bc/               |           |\n",
      "|    batch          | 96500     |\n",
      "|    ent_loss       | -0.000487 |\n",
      "|    entropy        | 0.487     |\n",
      "|    epoch          | 61        |\n",
      "|    l2_loss        | 0         |\n",
      "|    l2_norm        | 5.01e+03  |\n",
      "|    loss           | 0.624     |\n",
      "|    neglogp        | 0.625     |\n",
      "|    prob_true_act  | 0.991     |\n",
      "|    samples_so_far | 289503    |\n",
      "---------------------------------\n"
     ]
    },
    {
     "name": "stderr",
     "output_type": "stream",
     "text": [
      "96972batch [04:16, 377.38batch/s]"
     ]
    },
    {
     "name": "stdout",
     "output_type": "stream",
     "text": [
      "--------------------------------\n",
      "| batch_size        | 3        |\n",
      "| bc/               |          |\n",
      "|    batch          | 97000    |\n",
      "|    ent_loss       | -0.00045 |\n",
      "|    entropy        | 0.45     |\n",
      "|    epoch          | 62       |\n",
      "|    l2_loss        | 0        |\n",
      "|    l2_norm        | 5.02e+03 |\n",
      "|    loss           | 0.373    |\n",
      "|    neglogp        | 0.374    |\n",
      "|    prob_true_act  | 1.37     |\n",
      "|    samples_so_far | 291003   |\n",
      "--------------------------------\n"
     ]
    },
    {
     "name": "stderr",
     "output_type": "stream",
     "text": [
      "97490batch [04:17, 366.11batch/s]"
     ]
    },
    {
     "name": "stdout",
     "output_type": "stream",
     "text": [
      "---------------------------------\n",
      "| batch_size        | 3         |\n",
      "| bc/               |           |\n",
      "|    batch          | 97500     |\n",
      "|    ent_loss       | -0.000461 |\n",
      "|    entropy        | 0.461     |\n",
      "|    epoch          | 62        |\n",
      "|    l2_loss        | 0         |\n",
      "|    l2_norm        | 5.02e+03  |\n",
      "|    loss           | 0.0475    |\n",
      "|    neglogp        | 0.048     |\n",
      "|    prob_true_act  | 1.62      |\n",
      "|    samples_so_far | 292503    |\n",
      "---------------------------------\n"
     ]
    },
    {
     "name": "stderr",
     "output_type": "stream",
     "text": [
      "97961batch [04:18, 384.87batch/s]"
     ]
    },
    {
     "name": "stdout",
     "output_type": "stream",
     "text": [
      "--------------------------------\n",
      "| batch_size        | 3        |\n",
      "| bc/               |          |\n",
      "|    batch          | 98000    |\n",
      "|    ent_loss       | -0.00047 |\n",
      "|    entropy        | 0.47     |\n",
      "|    epoch          | 62       |\n",
      "|    l2_loss        | 0        |\n",
      "|    l2_norm        | 5.03e+03 |\n",
      "|    loss           | 0.431    |\n",
      "|    neglogp        | 0.431    |\n",
      "|    prob_true_act  | 0.967    |\n",
      "|    samples_so_far | 294003   |\n",
      "--------------------------------\n"
     ]
    },
    {
     "name": "stderr",
     "output_type": "stream",
     "text": [
      "98499batch [04:20, 363.45batch/s]"
     ]
    },
    {
     "name": "stdout",
     "output_type": "stream",
     "text": [
      "---------------------------------\n",
      "| batch_size        | 3         |\n",
      "| bc/               |           |\n",
      "|    batch          | 98500     |\n",
      "|    ent_loss       | -0.000469 |\n",
      "|    entropy        | 0.469     |\n",
      "|    epoch          | 63        |\n",
      "|    l2_loss        | 0         |\n",
      "|    l2_norm        | 5.03e+03  |\n",
      "|    loss           | 0.701     |\n",
      "|    neglogp        | 0.702     |\n",
      "|    prob_true_act  | 1.13      |\n",
      "|    samples_so_far | 295503    |\n",
      "---------------------------------\n"
     ]
    },
    {
     "name": "stderr",
     "output_type": "stream",
     "text": [
      "98999batch [04:21, 374.80batch/s]"
     ]
    },
    {
     "name": "stdout",
     "output_type": "stream",
     "text": [
      "---------------------------------\n",
      "| batch_size        | 3         |\n",
      "| bc/               |           |\n",
      "|    batch          | 99000     |\n",
      "|    ent_loss       | -0.000436 |\n",
      "|    entropy        | 0.436     |\n",
      "|    epoch          | 63        |\n",
      "|    l2_loss        | 0         |\n",
      "|    l2_norm        | 5.03e+03  |\n",
      "|    loss           | 0.636     |\n",
      "|    neglogp        | 0.636     |\n",
      "|    prob_true_act  | 1.16      |\n",
      "|    samples_so_far | 297003    |\n",
      "---------------------------------\n"
     ]
    },
    {
     "name": "stderr",
     "output_type": "stream",
     "text": [
      "99494batch [04:22, 376.45batch/s]"
     ]
    },
    {
     "name": "stdout",
     "output_type": "stream",
     "text": [
      "---------------------------------\n",
      "| batch_size        | 3         |\n",
      "| bc/               |           |\n",
      "|    batch          | 99500     |\n",
      "|    ent_loss       | -0.000454 |\n",
      "|    entropy        | 0.454     |\n",
      "|    epoch          | 63        |\n",
      "|    l2_loss        | 0         |\n",
      "|    l2_norm        | 5.04e+03  |\n",
      "|    loss           | 0.189     |\n",
      "|    neglogp        | 0.19      |\n",
      "|    prob_true_act  | 1.34      |\n",
      "|    samples_so_far | 298503    |\n",
      "---------------------------------\n"
     ]
    },
    {
     "name": "stderr",
     "output_type": "stream",
     "text": [
      "99993batch [04:24, 375.81batch/s]"
     ]
    },
    {
     "name": "stdout",
     "output_type": "stream",
     "text": [
      "---------------------------------\n",
      "| batch_size        | 3         |\n",
      "| bc/               |           |\n",
      "|    batch          | 100000    |\n",
      "|    ent_loss       | -0.000452 |\n",
      "|    entropy        | 0.452     |\n",
      "|    epoch          | 64        |\n",
      "|    l2_loss        | 0         |\n",
      "|    l2_norm        | 5.04e+03  |\n",
      "|    loss           | 0.0182    |\n",
      "|    neglogp        | 0.0187    |\n",
      "|    prob_true_act  | 1.43      |\n",
      "|    samples_so_far | 300003    |\n",
      "---------------------------------\n"
     ]
    },
    {
     "name": "stderr",
     "output_type": "stream",
     "text": [
      "100481batch [04:25, 373.77batch/s]"
     ]
    },
    {
     "name": "stdout",
     "output_type": "stream",
     "text": [
      "---------------------------------\n",
      "| batch_size        | 3         |\n",
      "| bc/               |           |\n",
      "|    batch          | 100500    |\n",
      "|    ent_loss       | -0.000452 |\n",
      "|    entropy        | 0.452     |\n",
      "|    epoch          | 64        |\n",
      "|    l2_loss        | 0         |\n",
      "|    l2_norm        | 5.05e+03  |\n",
      "|    loss           | 0.464     |\n",
      "|    neglogp        | 0.464     |\n",
      "|    prob_true_act  | 1.17      |\n",
      "|    samples_so_far | 301503    |\n",
      "---------------------------------\n"
     ]
    },
    {
     "name": "stderr",
     "output_type": "stream",
     "text": [
      "100976batch [04:26, 368.70batch/s]"
     ]
    },
    {
     "name": "stdout",
     "output_type": "stream",
     "text": [
      "---------------------------------\n",
      "| batch_size        | 3         |\n",
      "| bc/               |           |\n",
      "|    batch          | 101000    |\n",
      "|    ent_loss       | -0.000465 |\n",
      "|    entropy        | 0.465     |\n",
      "|    epoch          | 64        |\n",
      "|    l2_loss        | 0         |\n",
      "|    l2_norm        | 5.05e+03  |\n",
      "|    loss           | 0.0774    |\n",
      "|    neglogp        | 0.0778    |\n",
      "|    prob_true_act  | 1.27      |\n",
      "|    samples_so_far | 303003    |\n",
      "---------------------------------\n"
     ]
    },
    {
     "name": "stderr",
     "output_type": "stream",
     "text": [
      "101497batch [04:28, 353.35batch/s]"
     ]
    },
    {
     "name": "stdout",
     "output_type": "stream",
     "text": [
      "---------------------------------\n",
      "| batch_size        | 3         |\n",
      "| bc/               |           |\n",
      "|    batch          | 101500    |\n",
      "|    ent_loss       | -0.000488 |\n",
      "|    entropy        | 0.488     |\n",
      "|    epoch          | 64        |\n",
      "|    l2_loss        | 0         |\n",
      "|    l2_norm        | 5.05e+03  |\n",
      "|    loss           | 0.648     |\n",
      "|    neglogp        | 0.649     |\n",
      "|    prob_true_act  | 1.63      |\n",
      "|    samples_so_far | 304503    |\n",
      "---------------------------------\n"
     ]
    },
    {
     "name": "stderr",
     "output_type": "stream",
     "text": [
      "101995batch [04:29, 378.79batch/s]"
     ]
    },
    {
     "name": "stdout",
     "output_type": "stream",
     "text": [
      "---------------------------------\n",
      "| batch_size        | 3         |\n",
      "| bc/               |           |\n",
      "|    batch          | 102000    |\n",
      "|    ent_loss       | -0.000472 |\n",
      "|    entropy        | 0.472     |\n",
      "|    epoch          | 65        |\n",
      "|    l2_loss        | 0         |\n",
      "|    l2_norm        | 5.06e+03  |\n",
      "|    loss           | 0.321     |\n",
      "|    neglogp        | 0.322     |\n",
      "|    prob_true_act  | 1.31      |\n",
      "|    samples_so_far | 306003    |\n",
      "---------------------------------\n"
     ]
    },
    {
     "name": "stderr",
     "output_type": "stream",
     "text": [
      "102473batch [04:31, 350.24batch/s]"
     ]
    },
    {
     "name": "stdout",
     "output_type": "stream",
     "text": [
      "---------------------------------\n",
      "| batch_size        | 3         |\n",
      "| bc/               |           |\n",
      "|    batch          | 102500    |\n",
      "|    ent_loss       | -0.000476 |\n",
      "|    entropy        | 0.476     |\n",
      "|    epoch          | 65        |\n",
      "|    l2_loss        | 0         |\n",
      "|    l2_norm        | 5.06e+03  |\n",
      "|    loss           | 0.246     |\n",
      "|    neglogp        | 0.247     |\n",
      "|    prob_true_act  | 1.22      |\n",
      "|    samples_so_far | 307503    |\n",
      "---------------------------------\n"
     ]
    },
    {
     "name": "stderr",
     "output_type": "stream",
     "text": [
      "103000batch [04:32, 301.72batch/s]"
     ]
    },
    {
     "name": "stdout",
     "output_type": "stream",
     "text": [
      "---------------------------------\n",
      "| batch_size        | 3         |\n",
      "| bc/               |           |\n",
      "|    batch          | 103000    |\n",
      "|    ent_loss       | -0.000435 |\n",
      "|    entropy        | 0.435     |\n",
      "|    epoch          | 65        |\n",
      "|    l2_loss        | 0         |\n",
      "|    l2_norm        | 5.07e+03  |\n",
      "|    loss           | 0.0915    |\n",
      "|    neglogp        | 0.0919    |\n",
      "|    prob_true_act  | 1.61      |\n",
      "|    samples_so_far | 309003    |\n",
      "---------------------------------\n"
     ]
    },
    {
     "name": "stderr",
     "output_type": "stream",
     "text": [
      "103496batch [04:34, 317.92batch/s]"
     ]
    },
    {
     "name": "stdout",
     "output_type": "stream",
     "text": [
      "--------------------------------\n",
      "| batch_size        | 3        |\n",
      "| bc/               |          |\n",
      "|    batch          | 103500   |\n",
      "|    ent_loss       | -0.00045 |\n",
      "|    entropy        | 0.45     |\n",
      "|    epoch          | 66       |\n",
      "|    l2_loss        | 0        |\n",
      "|    l2_norm        | 5.07e+03 |\n",
      "|    loss           | 0.732    |\n",
      "|    neglogp        | 0.732    |\n",
      "|    prob_true_act  | 1.34     |\n",
      "|    samples_so_far | 310503   |\n",
      "--------------------------------\n"
     ]
    },
    {
     "name": "stderr",
     "output_type": "stream",
     "text": [
      "103974batch [04:35, 363.47batch/s]"
     ]
    },
    {
     "name": "stdout",
     "output_type": "stream",
     "text": [
      "---------------------------------\n",
      "| batch_size        | 3         |\n",
      "| bc/               |           |\n",
      "|    batch          | 104000    |\n",
      "|    ent_loss       | -0.000448 |\n",
      "|    entropy        | 0.448     |\n",
      "|    epoch          | 66        |\n",
      "|    l2_loss        | 0         |\n",
      "|    l2_norm        | 5.07e+03  |\n",
      "|    loss           | 0.1       |\n",
      "|    neglogp        | 0.1       |\n",
      "|    prob_true_act  | 1.39      |\n",
      "|    samples_so_far | 312003    |\n",
      "---------------------------------\n"
     ]
    },
    {
     "name": "stderr",
     "output_type": "stream",
     "text": [
      "104476batch [04:37, 380.76batch/s]"
     ]
    },
    {
     "name": "stdout",
     "output_type": "stream",
     "text": [
      "---------------------------------\n",
      "| batch_size        | 3         |\n",
      "| bc/               |           |\n",
      "|    batch          | 104500    |\n",
      "|    ent_loss       | -0.000442 |\n",
      "|    entropy        | 0.442     |\n",
      "|    epoch          | 66        |\n",
      "|    l2_loss        | 0         |\n",
      "|    l2_norm        | 5.08e+03  |\n",
      "|    loss           | 0.584     |\n",
      "|    neglogp        | 0.585     |\n",
      "|    prob_true_act  | 1.3       |\n",
      "|    samples_so_far | 313503    |\n",
      "---------------------------------\n"
     ]
    },
    {
     "name": "stderr",
     "output_type": "stream",
     "text": [
      "104969batch [04:38, 350.60batch/s]"
     ]
    },
    {
     "name": "stdout",
     "output_type": "stream",
     "text": [
      "---------------------------------\n",
      "| batch_size        | 3         |\n",
      "| bc/               |           |\n",
      "|    batch          | 105000    |\n",
      "|    ent_loss       | -0.000461 |\n",
      "|    entropy        | 0.461     |\n",
      "|    epoch          | 67        |\n",
      "|    l2_loss        | 0         |\n",
      "|    l2_norm        | 5.08e+03  |\n",
      "|    loss           | 0.497     |\n",
      "|    neglogp        | 0.497     |\n",
      "|    prob_true_act  | 1.2       |\n",
      "|    samples_so_far | 315003    |\n",
      "---------------------------------\n"
     ]
    },
    {
     "name": "stderr",
     "output_type": "stream",
     "text": [
      "105476batch [04:39, 345.67batch/s]"
     ]
    },
    {
     "name": "stdout",
     "output_type": "stream",
     "text": [
      "---------------------------------\n",
      "| batch_size        | 3         |\n",
      "| bc/               |           |\n",
      "|    batch          | 105500    |\n",
      "|    ent_loss       | -0.000466 |\n",
      "|    entropy        | 0.466     |\n",
      "|    epoch          | 67        |\n",
      "|    l2_loss        | 0         |\n",
      "|    l2_norm        | 5.09e+03  |\n",
      "|    loss           | 0.577     |\n",
      "|    neglogp        | 0.578     |\n",
      "|    prob_true_act  | 1.45      |\n",
      "|    samples_so_far | 316503    |\n",
      "---------------------------------\n"
     ]
    },
    {
     "name": "stderr",
     "output_type": "stream",
     "text": [
      "105986batch [04:41, 363.98batch/s]"
     ]
    },
    {
     "name": "stdout",
     "output_type": "stream",
     "text": [
      "---------------------------------\n",
      "| batch_size        | 3         |\n",
      "| bc/               |           |\n",
      "|    batch          | 106000    |\n",
      "|    ent_loss       | -0.000467 |\n",
      "|    entropy        | 0.467     |\n",
      "|    epoch          | 67        |\n",
      "|    l2_loss        | 0         |\n",
      "|    l2_norm        | 5.09e+03  |\n",
      "|    loss           | 0.628     |\n",
      "|    neglogp        | 0.628     |\n",
      "|    prob_true_act  | 1.15      |\n",
      "|    samples_so_far | 318003    |\n",
      "---------------------------------\n"
     ]
    },
    {
     "name": "stderr",
     "output_type": "stream",
     "text": [
      "106466batch [04:42, 355.92batch/s]"
     ]
    },
    {
     "name": "stdout",
     "output_type": "stream",
     "text": [
      "---------------------------------\n",
      "| batch_size        | 3         |\n",
      "| bc/               |           |\n",
      "|    batch          | 106500    |\n",
      "|    ent_loss       | -0.000439 |\n",
      "|    entropy        | 0.439     |\n",
      "|    epoch          | 68        |\n",
      "|    l2_loss        | 0         |\n",
      "|    l2_norm        | 5.09e+03  |\n",
      "|    loss           | 0.0748    |\n",
      "|    neglogp        | 0.0753    |\n",
      "|    prob_true_act  | 1.75      |\n",
      "|    samples_so_far | 319503    |\n",
      "---------------------------------\n"
     ]
    },
    {
     "name": "stderr",
     "output_type": "stream",
     "text": [
      "106994batch [04:44, 342.62batch/s]"
     ]
    },
    {
     "name": "stdout",
     "output_type": "stream",
     "text": [
      "---------------------------------\n",
      "| batch_size        | 3         |\n",
      "| bc/               |           |\n",
      "|    batch          | 107000    |\n",
      "|    ent_loss       | -0.000463 |\n",
      "|    entropy        | 0.463     |\n",
      "|    epoch          | 68        |\n",
      "|    l2_loss        | 0         |\n",
      "|    l2_norm        | 5.1e+03   |\n",
      "|    loss           | 0.793     |\n",
      "|    neglogp        | 0.794     |\n",
      "|    prob_true_act  | 1.16      |\n",
      "|    samples_so_far | 321003    |\n",
      "---------------------------------\n"
     ]
    },
    {
     "name": "stderr",
     "output_type": "stream",
     "text": [
      "107480batch [04:45, 349.54batch/s]"
     ]
    },
    {
     "name": "stdout",
     "output_type": "stream",
     "text": [
      "--------------------------------\n",
      "| batch_size        | 3        |\n",
      "| bc/               |          |\n",
      "|    batch          | 107500   |\n",
      "|    ent_loss       | -0.00048 |\n",
      "|    entropy        | 0.48     |\n",
      "|    epoch          | 68       |\n",
      "|    l2_loss        | 0        |\n",
      "|    l2_norm        | 5.1e+03  |\n",
      "|    loss           | 0.984    |\n",
      "|    neglogp        | 0.985    |\n",
      "|    prob_true_act  | 1.15     |\n",
      "|    samples_so_far | 322503   |\n",
      "--------------------------------\n"
     ]
    },
    {
     "name": "stderr",
     "output_type": "stream",
     "text": [
      "107966batch [04:46, 362.15batch/s]"
     ]
    },
    {
     "name": "stdout",
     "output_type": "stream",
     "text": [
      "---------------------------------\n",
      "| batch_size        | 3         |\n",
      "| bc/               |           |\n",
      "|    batch          | 108000    |\n",
      "|    ent_loss       | -0.000453 |\n",
      "|    entropy        | 0.453     |\n",
      "|    epoch          | 69        |\n",
      "|    l2_loss        | 0         |\n",
      "|    l2_norm        | 5.11e+03  |\n",
      "|    loss           | 1.52      |\n",
      "|    neglogp        | 1.53      |\n",
      "|    prob_true_act  | 1.04      |\n",
      "|    samples_so_far | 324003    |\n",
      "---------------------------------\n"
     ]
    },
    {
     "name": "stderr",
     "output_type": "stream",
     "text": [
      "108495batch [04:48, 361.23batch/s]"
     ]
    },
    {
     "name": "stdout",
     "output_type": "stream",
     "text": [
      "---------------------------------\n",
      "| batch_size        | 3         |\n",
      "| bc/               |           |\n",
      "|    batch          | 108500    |\n",
      "|    ent_loss       | -0.000496 |\n",
      "|    entropy        | 0.496     |\n",
      "|    epoch          | 69        |\n",
      "|    l2_loss        | 0         |\n",
      "|    l2_norm        | 5.11e+03  |\n",
      "|    loss           | 0.531     |\n",
      "|    neglogp        | 0.531     |\n",
      "|    prob_true_act  | 1.54      |\n",
      "|    samples_so_far | 325503    |\n",
      "---------------------------------\n"
     ]
    },
    {
     "name": "stderr",
     "output_type": "stream",
     "text": [
      "108972batch [04:49, 347.11batch/s]"
     ]
    },
    {
     "name": "stdout",
     "output_type": "stream",
     "text": [
      "---------------------------------\n",
      "| batch_size        | 3         |\n",
      "| bc/               |           |\n",
      "|    batch          | 109000    |\n",
      "|    ent_loss       | -0.000429 |\n",
      "|    entropy        | 0.429     |\n",
      "|    epoch          | 69        |\n",
      "|    l2_loss        | 0         |\n",
      "|    l2_norm        | 5.11e+03  |\n",
      "|    loss           | 0.078     |\n",
      "|    neglogp        | 0.0785    |\n",
      "|    prob_true_act  | 1.49      |\n",
      "|    samples_so_far | 327003    |\n",
      "---------------------------------\n"
     ]
    },
    {
     "name": "stderr",
     "output_type": "stream",
     "text": [
      "109465batch [04:51, 331.09batch/s]"
     ]
    },
    {
     "name": "stdout",
     "output_type": "stream",
     "text": [
      "---------------------------------\n",
      "| batch_size        | 3         |\n",
      "| bc/               |           |\n",
      "|    batch          | 109500    |\n",
      "|    ent_loss       | -0.000451 |\n",
      "|    entropy        | 0.451     |\n",
      "|    epoch          | 70        |\n",
      "|    l2_loss        | 0         |\n",
      "|    l2_norm        | 5.12e+03  |\n",
      "|    loss           | 0.128     |\n",
      "|    neglogp        | 0.128     |\n",
      "|    prob_true_act  | 1.62      |\n",
      "|    samples_so_far | 328503    |\n",
      "---------------------------------\n"
     ]
    },
    {
     "name": "stderr",
     "output_type": "stream",
     "text": [
      "109961batch [04:52, 373.68batch/s]"
     ]
    },
    {
     "name": "stdout",
     "output_type": "stream",
     "text": [
      "---------------------------------\n",
      "| batch_size        | 3         |\n",
      "| bc/               |           |\n",
      "|    batch          | 110000    |\n",
      "|    ent_loss       | -0.000448 |\n",
      "|    entropy        | 0.448     |\n",
      "|    epoch          | 70        |\n",
      "|    l2_loss        | 0         |\n",
      "|    l2_norm        | 5.12e+03  |\n",
      "|    loss           | 0.493     |\n",
      "|    neglogp        | 0.494     |\n",
      "|    prob_true_act  | 1.46      |\n",
      "|    samples_so_far | 330003    |\n",
      "---------------------------------\n"
     ]
    },
    {
     "name": "stderr",
     "output_type": "stream",
     "text": [
      "110475batch [04:53, 378.70batch/s]"
     ]
    },
    {
     "name": "stdout",
     "output_type": "stream",
     "text": [
      "---------------------------------\n",
      "| batch_size        | 3         |\n",
      "| bc/               |           |\n",
      "|    batch          | 110500    |\n",
      "|    ent_loss       | -0.000476 |\n",
      "|    entropy        | 0.476     |\n",
      "|    epoch          | 70        |\n",
      "|    l2_loss        | 0         |\n",
      "|    l2_norm        | 5.13e+03  |\n",
      "|    loss           | 0.0738    |\n",
      "|    neglogp        | 0.0743    |\n",
      "|    prob_true_act  | 1.44      |\n",
      "|    samples_so_far | 331503    |\n",
      "---------------------------------\n"
     ]
    },
    {
     "name": "stderr",
     "output_type": "stream",
     "text": [
      "110967batch [04:55, 361.33batch/s]"
     ]
    },
    {
     "name": "stdout",
     "output_type": "stream",
     "text": [
      "---------------------------------\n",
      "| batch_size        | 3         |\n",
      "| bc/               |           |\n",
      "|    batch          | 111000    |\n",
      "|    ent_loss       | -0.000459 |\n",
      "|    entropy        | 0.459     |\n",
      "|    epoch          | 71        |\n",
      "|    l2_loss        | 0         |\n",
      "|    l2_norm        | 5.13e+03  |\n",
      "|    loss           | 0.124     |\n",
      "|    neglogp        | 0.124     |\n",
      "|    prob_true_act  | 1.48      |\n",
      "|    samples_so_far | 333003    |\n",
      "---------------------------------\n"
     ]
    },
    {
     "name": "stderr",
     "output_type": "stream",
     "text": [
      "111470batch [04:56, 385.22batch/s]"
     ]
    },
    {
     "name": "stdout",
     "output_type": "stream",
     "text": [
      "--------------------------------\n",
      "| batch_size        | 3        |\n",
      "| bc/               |          |\n",
      "|    batch          | 111500   |\n",
      "|    ent_loss       | -0.00044 |\n",
      "|    entropy        | 0.44     |\n",
      "|    epoch          | 71       |\n",
      "|    l2_loss        | 0        |\n",
      "|    l2_norm        | 5.13e+03 |\n",
      "|    loss           | 0.285    |\n",
      "|    neglogp        | 0.285    |\n",
      "|    prob_true_act  | 1.49     |\n",
      "|    samples_so_far | 334503   |\n",
      "--------------------------------\n"
     ]
    },
    {
     "name": "stderr",
     "output_type": "stream",
     "text": [
      "111999batch [04:57, 369.81batch/s]"
     ]
    },
    {
     "name": "stdout",
     "output_type": "stream",
     "text": [
      "--------------------------------\n",
      "| batch_size        | 3        |\n",
      "| bc/               |          |\n",
      "|    batch          | 112000   |\n",
      "|    ent_loss       | -0.00047 |\n",
      "|    entropy        | 0.47     |\n",
      "|    epoch          | 71       |\n",
      "|    l2_loss        | 0        |\n",
      "|    l2_norm        | 5.14e+03 |\n",
      "|    loss           | 0.747    |\n",
      "|    neglogp        | 0.748    |\n",
      "|    prob_true_act  | 1.19     |\n",
      "|    samples_so_far | 336003   |\n",
      "--------------------------------\n"
     ]
    },
    {
     "name": "stderr",
     "output_type": "stream",
     "text": [
      "112492batch [04:59, 373.29batch/s]"
     ]
    },
    {
     "name": "stdout",
     "output_type": "stream",
     "text": [
      "---------------------------------\n",
      "| batch_size        | 3         |\n",
      "| bc/               |           |\n",
      "|    batch          | 112500    |\n",
      "|    ent_loss       | -0.000498 |\n",
      "|    entropy        | 0.498     |\n",
      "|    epoch          | 72        |\n",
      "|    l2_loss        | 0         |\n",
      "|    l2_norm        | 5.14e+03  |\n",
      "|    loss           | 0.533     |\n",
      "|    neglogp        | 0.534     |\n",
      "|    prob_true_act  | 1.12      |\n",
      "|    samples_so_far | 337503    |\n",
      "---------------------------------\n"
     ]
    },
    {
     "name": "stderr",
     "output_type": "stream",
     "text": [
      "112987batch [05:00, 367.52batch/s]"
     ]
    },
    {
     "name": "stdout",
     "output_type": "stream",
     "text": [
      "---------------------------------\n",
      "| batch_size        | 3         |\n",
      "| bc/               |           |\n",
      "|    batch          | 113000    |\n",
      "|    ent_loss       | -0.000455 |\n",
      "|    entropy        | 0.455     |\n",
      "|    epoch          | 72        |\n",
      "|    l2_loss        | 0         |\n",
      "|    l2_norm        | 5.15e+03  |\n",
      "|    loss           | 0.415     |\n",
      "|    neglogp        | 0.415     |\n",
      "|    prob_true_act  | 1.24      |\n",
      "|    samples_so_far | 339003    |\n",
      "---------------------------------\n"
     ]
    },
    {
     "name": "stderr",
     "output_type": "stream",
     "text": [
      "113482batch [05:01, 372.06batch/s]"
     ]
    },
    {
     "name": "stdout",
     "output_type": "stream",
     "text": [
      "---------------------------------\n",
      "| batch_size        | 3         |\n",
      "| bc/               |           |\n",
      "|    batch          | 113500    |\n",
      "|    ent_loss       | -0.000478 |\n",
      "|    entropy        | 0.478     |\n",
      "|    epoch          | 72        |\n",
      "|    l2_loss        | 0         |\n",
      "|    l2_norm        | 5.15e+03  |\n",
      "|    loss           | 0.994     |\n",
      "|    neglogp        | 0.995     |\n",
      "|    prob_true_act  | 0.999     |\n",
      "|    samples_so_far | 340503    |\n",
      "---------------------------------\n"
     ]
    },
    {
     "name": "stderr",
     "output_type": "stream",
     "text": [
      "113968batch [05:03, 353.49batch/s]"
     ]
    },
    {
     "name": "stdout",
     "output_type": "stream",
     "text": [
      "--------------------------------\n",
      "| batch_size        | 3        |\n",
      "| bc/               |          |\n",
      "|    batch          | 114000   |\n",
      "|    ent_loss       | -0.00044 |\n",
      "|    entropy        | 0.44     |\n",
      "|    epoch          | 72       |\n",
      "|    l2_loss        | 0        |\n",
      "|    l2_norm        | 5.15e+03 |\n",
      "|    loss           | 0.384    |\n",
      "|    neglogp        | 0.385    |\n",
      "|    prob_true_act  | 1.41     |\n",
      "|    samples_so_far | 342003   |\n",
      "--------------------------------\n"
     ]
    },
    {
     "name": "stderr",
     "output_type": "stream",
     "text": [
      "114466batch [05:04, 381.59batch/s]"
     ]
    },
    {
     "name": "stdout",
     "output_type": "stream",
     "text": [
      "---------------------------------\n",
      "| batch_size        | 3         |\n",
      "| bc/               |           |\n",
      "|    batch          | 114500    |\n",
      "|    ent_loss       | -0.000419 |\n",
      "|    entropy        | 0.419     |\n",
      "|    epoch          | 73        |\n",
      "|    l2_loss        | 0         |\n",
      "|    l2_norm        | 5.16e+03  |\n",
      "|    loss           | 0.208     |\n",
      "|    neglogp        | 0.209     |\n",
      "|    prob_true_act  | 1.34      |\n",
      "|    samples_so_far | 343503    |\n",
      "---------------------------------\n"
     ]
    },
    {
     "name": "stderr",
     "output_type": "stream",
     "text": [
      "114986batch [05:06, 356.45batch/s]"
     ]
    },
    {
     "name": "stdout",
     "output_type": "stream",
     "text": [
      "---------------------------------\n",
      "| batch_size        | 3         |\n",
      "| bc/               |           |\n",
      "|    batch          | 115000    |\n",
      "|    ent_loss       | -0.000427 |\n",
      "|    entropy        | 0.427     |\n",
      "|    epoch          | 73        |\n",
      "|    l2_loss        | 0         |\n",
      "|    l2_norm        | 5.16e+03  |\n",
      "|    loss           | 0.257     |\n",
      "|    neglogp        | 0.257     |\n",
      "|    prob_true_act  | 1.31      |\n",
      "|    samples_so_far | 345003    |\n",
      "---------------------------------\n"
     ]
    },
    {
     "name": "stderr",
     "output_type": "stream",
     "text": [
      "115473batch [05:07, 365.16batch/s]"
     ]
    },
    {
     "name": "stdout",
     "output_type": "stream",
     "text": [
      "---------------------------------\n",
      "| batch_size        | 3         |\n",
      "| bc/               |           |\n",
      "|    batch          | 115500    |\n",
      "|    ent_loss       | -0.000474 |\n",
      "|    entropy        | 0.474     |\n",
      "|    epoch          | 73        |\n",
      "|    l2_loss        | 0         |\n",
      "|    l2_norm        | 5.16e+03  |\n",
      "|    loss           | 0.162     |\n",
      "|    neglogp        | 0.162     |\n",
      "|    prob_true_act  | 1.41      |\n",
      "|    samples_so_far | 346503    |\n",
      "---------------------------------\n"
     ]
    },
    {
     "name": "stderr",
     "output_type": "stream",
     "text": [
      "115998batch [05:08, 371.46batch/s]"
     ]
    },
    {
     "name": "stdout",
     "output_type": "stream",
     "text": [
      "---------------------------------\n",
      "| batch_size        | 3         |\n",
      "| bc/               |           |\n",
      "|    batch          | 116000    |\n",
      "|    ent_loss       | -0.000447 |\n",
      "|    entropy        | 0.447     |\n",
      "|    epoch          | 74        |\n",
      "|    l2_loss        | 0         |\n",
      "|    l2_norm        | 5.17e+03  |\n",
      "|    loss           | 0.652     |\n",
      "|    neglogp        | 0.652     |\n",
      "|    prob_true_act  | 1.28      |\n",
      "|    samples_so_far | 348003    |\n",
      "---------------------------------\n"
     ]
    },
    {
     "name": "stderr",
     "output_type": "stream",
     "text": [
      "116491batch [05:10, 376.19batch/s]"
     ]
    },
    {
     "name": "stdout",
     "output_type": "stream",
     "text": [
      "---------------------------------\n",
      "| batch_size        | 3         |\n",
      "| bc/               |           |\n",
      "|    batch          | 116500    |\n",
      "|    ent_loss       | -0.000495 |\n",
      "|    entropy        | 0.495     |\n",
      "|    epoch          | 74        |\n",
      "|    l2_loss        | 0         |\n",
      "|    l2_norm        | 5.17e+03  |\n",
      "|    loss           | 0.676     |\n",
      "|    neglogp        | 0.677     |\n",
      "|    prob_true_act  | 1.23      |\n",
      "|    samples_so_far | 349503    |\n",
      "---------------------------------\n"
     ]
    },
    {
     "name": "stderr",
     "output_type": "stream",
     "text": [
      "116994batch [05:11, 374.10batch/s]"
     ]
    },
    {
     "name": "stdout",
     "output_type": "stream",
     "text": [
      "---------------------------------\n",
      "| batch_size        | 3         |\n",
      "| bc/               |           |\n",
      "|    batch          | 117000    |\n",
      "|    ent_loss       | -0.000455 |\n",
      "|    entropy        | 0.455     |\n",
      "|    epoch          | 74        |\n",
      "|    l2_loss        | 0         |\n",
      "|    l2_norm        | 5.18e+03  |\n",
      "|    loss           | 0.061     |\n",
      "|    neglogp        | 0.0614    |\n",
      "|    prob_true_act  | 1.36      |\n",
      "|    samples_so_far | 351003    |\n",
      "---------------------------------\n"
     ]
    },
    {
     "name": "stderr",
     "output_type": "stream",
     "text": [
      "117481batch [05:12, 358.96batch/s]"
     ]
    },
    {
     "name": "stdout",
     "output_type": "stream",
     "text": [
      "---------------------------------\n",
      "| batch_size        | 3         |\n",
      "| bc/               |           |\n",
      "|    batch          | 117500    |\n",
      "|    ent_loss       | -0.000431 |\n",
      "|    entropy        | 0.431     |\n",
      "|    epoch          | 75        |\n",
      "|    l2_loss        | 0         |\n",
      "|    l2_norm        | 5.18e+03  |\n",
      "|    loss           | 0.455     |\n",
      "|    neglogp        | 0.456     |\n",
      "|    prob_true_act  | 1.41      |\n",
      "|    samples_so_far | 352503    |\n",
      "---------------------------------\n"
     ]
    },
    {
     "name": "stderr",
     "output_type": "stream",
     "text": [
      "117980batch [05:14, 385.12batch/s]"
     ]
    },
    {
     "name": "stdout",
     "output_type": "stream",
     "text": [
      "---------------------------------\n",
      "| batch_size        | 3         |\n",
      "| bc/               |           |\n",
      "|    batch          | 118000    |\n",
      "|    ent_loss       | -0.000448 |\n",
      "|    entropy        | 0.448     |\n",
      "|    epoch          | 75        |\n",
      "|    l2_loss        | 0         |\n",
      "|    l2_norm        | 5.18e+03  |\n",
      "|    loss           | 0.44      |\n",
      "|    neglogp        | 0.441     |\n",
      "|    prob_true_act  | 1.43      |\n",
      "|    samples_so_far | 354003    |\n",
      "---------------------------------\n"
     ]
    },
    {
     "name": "stderr",
     "output_type": "stream",
     "text": [
      "118480batch [05:15, 383.30batch/s]"
     ]
    },
    {
     "name": "stdout",
     "output_type": "stream",
     "text": [
      "---------------------------------\n",
      "| batch_size        | 3         |\n",
      "| bc/               |           |\n",
      "|    batch          | 118500    |\n",
      "|    ent_loss       | -0.000474 |\n",
      "|    entropy        | 0.474     |\n",
      "|    epoch          | 75        |\n",
      "|    l2_loss        | 0         |\n",
      "|    l2_norm        | 5.19e+03  |\n",
      "|    loss           | 0.224     |\n",
      "|    neglogp        | 0.225     |\n",
      "|    prob_true_act  | 1.3       |\n",
      "|    samples_so_far | 355503    |\n",
      "---------------------------------\n"
     ]
    },
    {
     "name": "stderr",
     "output_type": "stream",
     "text": [
      "118984batch [05:16, 385.27batch/s]"
     ]
    },
    {
     "name": "stdout",
     "output_type": "stream",
     "text": [
      "---------------------------------\n",
      "| batch_size        | 3         |\n",
      "| bc/               |           |\n",
      "|    batch          | 119000    |\n",
      "|    ent_loss       | -0.000452 |\n",
      "|    entropy        | 0.452     |\n",
      "|    epoch          | 76        |\n",
      "|    l2_loss        | 0         |\n",
      "|    l2_norm        | 5.19e+03  |\n",
      "|    loss           | 0.38      |\n",
      "|    neglogp        | 0.38      |\n",
      "|    prob_true_act  | 1.52      |\n",
      "|    samples_so_far | 357003    |\n",
      "---------------------------------\n"
     ]
    },
    {
     "name": "stderr",
     "output_type": "stream",
     "text": [
      "119489batch [05:18, 380.63batch/s]"
     ]
    },
    {
     "name": "stdout",
     "output_type": "stream",
     "text": [
      "---------------------------------\n",
      "| batch_size        | 3         |\n",
      "| bc/               |           |\n",
      "|    batch          | 119500    |\n",
      "|    ent_loss       | -0.000438 |\n",
      "|    entropy        | 0.438     |\n",
      "|    epoch          | 76        |\n",
      "|    l2_loss        | 0         |\n",
      "|    l2_norm        | 5.2e+03   |\n",
      "|    loss           | 0.0508    |\n",
      "|    neglogp        | 0.0512    |\n",
      "|    prob_true_act  | 1.75      |\n",
      "|    samples_so_far | 358503    |\n",
      "---------------------------------\n"
     ]
    },
    {
     "name": "stderr",
     "output_type": "stream",
     "text": [
      "119995batch [05:19, 379.65batch/s]"
     ]
    },
    {
     "name": "stdout",
     "output_type": "stream",
     "text": [
      "---------------------------------\n",
      "| batch_size        | 3         |\n",
      "| bc/               |           |\n",
      "|    batch          | 120000    |\n",
      "|    ent_loss       | -0.000482 |\n",
      "|    entropy        | 0.482     |\n",
      "|    epoch          | 76        |\n",
      "|    l2_loss        | 0         |\n",
      "|    l2_norm        | 5.2e+03   |\n",
      "|    loss           | -0.13     |\n",
      "|    neglogp        | -0.13     |\n",
      "|    prob_true_act  | 1.81      |\n",
      "|    samples_so_far | 360003    |\n",
      "---------------------------------\n"
     ]
    },
    {
     "name": "stderr",
     "output_type": "stream",
     "text": [
      "120488batch [05:20, 357.79batch/s]"
     ]
    },
    {
     "name": "stdout",
     "output_type": "stream",
     "text": [
      "--------------------------------\n",
      "| batch_size        | 3        |\n",
      "| bc/               |          |\n",
      "|    batch          | 120500   |\n",
      "|    ent_loss       | -0.00044 |\n",
      "|    entropy        | 0.44     |\n",
      "|    epoch          | 77       |\n",
      "|    l2_loss        | 0        |\n",
      "|    l2_norm        | 5.2e+03  |\n",
      "|    loss           | 0.905    |\n",
      "|    neglogp        | 0.905    |\n",
      "|    prob_true_act  | 1.39     |\n",
      "|    samples_so_far | 361503   |\n",
      "--------------------------------\n"
     ]
    },
    {
     "name": "stderr",
     "output_type": "stream",
     "text": [
      "120967batch [05:22, 354.54batch/s]"
     ]
    },
    {
     "name": "stdout",
     "output_type": "stream",
     "text": [
      "---------------------------------\n",
      "| batch_size        | 3         |\n",
      "| bc/               |           |\n",
      "|    batch          | 121000    |\n",
      "|    ent_loss       | -0.000457 |\n",
      "|    entropy        | 0.457     |\n",
      "|    epoch          | 77        |\n",
      "|    l2_loss        | 0         |\n",
      "|    l2_norm        | 5.21e+03  |\n",
      "|    loss           | -0.056    |\n",
      "|    neglogp        | -0.0555   |\n",
      "|    prob_true_act  | 1.66      |\n",
      "|    samples_so_far | 363003    |\n",
      "---------------------------------\n"
     ]
    },
    {
     "name": "stderr",
     "output_type": "stream",
     "text": [
      "121487batch [05:23, 360.91batch/s]"
     ]
    },
    {
     "name": "stdout",
     "output_type": "stream",
     "text": [
      "---------------------------------\n",
      "| batch_size        | 3         |\n",
      "| bc/               |           |\n",
      "|    batch          | 121500    |\n",
      "|    ent_loss       | -0.000444 |\n",
      "|    entropy        | 0.444     |\n",
      "|    epoch          | 77        |\n",
      "|    l2_loss        | 0         |\n",
      "|    l2_norm        | 5.21e+03  |\n",
      "|    loss           | 0.241     |\n",
      "|    neglogp        | 0.242     |\n",
      "|    prob_true_act  | 1.14      |\n",
      "|    samples_so_far | 364503    |\n",
      "---------------------------------\n"
     ]
    },
    {
     "name": "stderr",
     "output_type": "stream",
     "text": [
      "121990batch [05:25, 380.83batch/s]"
     ]
    },
    {
     "name": "stdout",
     "output_type": "stream",
     "text": [
      "--------------------------------\n",
      "| batch_size        | 3        |\n",
      "| bc/               |          |\n",
      "|    batch          | 122000   |\n",
      "|    ent_loss       | -0.00048 |\n",
      "|    entropy        | 0.48     |\n",
      "|    epoch          | 78       |\n",
      "|    l2_loss        | 0        |\n",
      "|    l2_norm        | 5.22e+03 |\n",
      "|    loss           | 0.552    |\n",
      "|    neglogp        | 0.552    |\n",
      "|    prob_true_act  | 1.58     |\n",
      "|    samples_so_far | 366003   |\n",
      "--------------------------------\n"
     ]
    },
    {
     "name": "stderr",
     "output_type": "stream",
     "text": [
      "122462batch [05:26, 389.08batch/s]"
     ]
    },
    {
     "name": "stdout",
     "output_type": "stream",
     "text": [
      "---------------------------------\n",
      "| batch_size        | 3         |\n",
      "| bc/               |           |\n",
      "|    batch          | 122500    |\n",
      "|    ent_loss       | -0.000464 |\n",
      "|    entropy        | 0.464     |\n",
      "|    epoch          | 78        |\n",
      "|    l2_loss        | 0         |\n",
      "|    l2_norm        | 5.22e+03  |\n",
      "|    loss           | 1.22      |\n",
      "|    neglogp        | 1.22      |\n",
      "|    prob_true_act  | 0.878     |\n",
      "|    samples_so_far | 367503    |\n",
      "---------------------------------\n"
     ]
    },
    {
     "name": "stderr",
     "output_type": "stream",
     "text": [
      "122969batch [05:27, 380.50batch/s]"
     ]
    },
    {
     "name": "stdout",
     "output_type": "stream",
     "text": [
      "---------------------------------\n",
      "| batch_size        | 3         |\n",
      "| bc/               |           |\n",
      "|    batch          | 123000    |\n",
      "|    ent_loss       | -0.000456 |\n",
      "|    entropy        | 0.456     |\n",
      "|    epoch          | 78        |\n",
      "|    l2_loss        | 0         |\n",
      "|    l2_norm        | 5.22e+03  |\n",
      "|    loss           | 1         |\n",
      "|    neglogp        | 1.01      |\n",
      "|    prob_true_act  | 1.31      |\n",
      "|    samples_so_far | 369003    |\n",
      "---------------------------------\n"
     ]
    },
    {
     "name": "stderr",
     "output_type": "stream",
     "text": [
      "123475batch [05:28, 381.66batch/s]"
     ]
    },
    {
     "name": "stdout",
     "output_type": "stream",
     "text": [
      "--------------------------------\n",
      "| batch_size        | 3        |\n",
      "| bc/               |          |\n",
      "|    batch          | 123500   |\n",
      "|    ent_loss       | -0.00045 |\n",
      "|    entropy        | 0.45     |\n",
      "|    epoch          | 79       |\n",
      "|    l2_loss        | 0        |\n",
      "|    l2_norm        | 5.23e+03 |\n",
      "|    loss           | 0.286    |\n",
      "|    neglogp        | 0.287    |\n",
      "|    prob_true_act  | 1.4      |\n",
      "|    samples_so_far | 370503   |\n",
      "--------------------------------\n"
     ]
    },
    {
     "name": "stderr",
     "output_type": "stream",
     "text": [
      "123981batch [05:30, 385.11batch/s]"
     ]
    },
    {
     "name": "stdout",
     "output_type": "stream",
     "text": [
      "---------------------------------\n",
      "| batch_size        | 3         |\n",
      "| bc/               |           |\n",
      "|    batch          | 124000    |\n",
      "|    ent_loss       | -0.000443 |\n",
      "|    entropy        | 0.443     |\n",
      "|    epoch          | 79        |\n",
      "|    l2_loss        | 0         |\n",
      "|    l2_norm        | 5.23e+03  |\n",
      "|    loss           | 0.273     |\n",
      "|    neglogp        | 0.274     |\n",
      "|    prob_true_act  | 1.55      |\n",
      "|    samples_so_far | 372003    |\n",
      "---------------------------------\n"
     ]
    },
    {
     "name": "stderr",
     "output_type": "stream",
     "text": [
      "124496batch [05:31, 381.83batch/s]"
     ]
    },
    {
     "name": "stdout",
     "output_type": "stream",
     "text": [
      "---------------------------------\n",
      "| batch_size        | 3         |\n",
      "| bc/               |           |\n",
      "|    batch          | 124500    |\n",
      "|    ent_loss       | -0.000484 |\n",
      "|    entropy        | 0.484     |\n",
      "|    epoch          | 79        |\n",
      "|    l2_loss        | 0         |\n",
      "|    l2_norm        | 5.24e+03  |\n",
      "|    loss           | 0.785     |\n",
      "|    neglogp        | 0.786     |\n",
      "|    prob_true_act  | 1.1       |\n",
      "|    samples_so_far | 373503    |\n",
      "---------------------------------\n"
     ]
    },
    {
     "name": "stderr",
     "output_type": "stream",
     "text": [
      "124995batch [05:33, 368.57batch/s]"
     ]
    },
    {
     "name": "stdout",
     "output_type": "stream",
     "text": [
      "---------------------------------\n",
      "| batch_size        | 3         |\n",
      "| bc/               |           |\n",
      "|    batch          | 125000    |\n",
      "|    ent_loss       | -0.000459 |\n",
      "|    entropy        | 0.459     |\n",
      "|    epoch          | 80        |\n",
      "|    l2_loss        | 0         |\n",
      "|    l2_norm        | 5.24e+03  |\n",
      "|    loss           | 0.496     |\n",
      "|    neglogp        | 0.497     |\n",
      "|    prob_true_act  | 1.33      |\n",
      "|    samples_so_far | 375003    |\n",
      "---------------------------------\n"
     ]
    },
    {
     "name": "stderr",
     "output_type": "stream",
     "text": [
      "125471batch [05:34, 382.83batch/s]"
     ]
    },
    {
     "name": "stdout",
     "output_type": "stream",
     "text": [
      "---------------------------------\n",
      "| batch_size        | 3         |\n",
      "| bc/               |           |\n",
      "|    batch          | 125500    |\n",
      "|    ent_loss       | -0.000461 |\n",
      "|    entropy        | 0.461     |\n",
      "|    epoch          | 80        |\n",
      "|    l2_loss        | 0         |\n",
      "|    l2_norm        | 5.24e+03  |\n",
      "|    loss           | 0.395     |\n",
      "|    neglogp        | 0.395     |\n",
      "|    prob_true_act  | 1.48      |\n",
      "|    samples_so_far | 376503    |\n",
      "---------------------------------\n"
     ]
    },
    {
     "name": "stderr",
     "output_type": "stream",
     "text": [
      "125991batch [05:35, 359.27batch/s]"
     ]
    },
    {
     "name": "stdout",
     "output_type": "stream",
     "text": [
      "---------------------------------\n",
      "| batch_size        | 3         |\n",
      "| bc/               |           |\n",
      "|    batch          | 126000    |\n",
      "|    ent_loss       | -0.000454 |\n",
      "|    entropy        | 0.454     |\n",
      "|    epoch          | 80        |\n",
      "|    l2_loss        | 0         |\n",
      "|    l2_norm        | 5.25e+03  |\n",
      "|    loss           | 0.264     |\n",
      "|    neglogp        | 0.264     |\n",
      "|    prob_true_act  | 1.48      |\n",
      "|    samples_so_far | 378003    |\n",
      "---------------------------------\n"
     ]
    },
    {
     "name": "stderr",
     "output_type": "stream",
     "text": [
      "126469batch [05:36, 383.23batch/s]"
     ]
    },
    {
     "name": "stdout",
     "output_type": "stream",
     "text": [
      "---------------------------------\n",
      "| batch_size        | 3         |\n",
      "| bc/               |           |\n",
      "|    batch          | 126500    |\n",
      "|    ent_loss       | -0.000457 |\n",
      "|    entropy        | 0.457     |\n",
      "|    epoch          | 80        |\n",
      "|    l2_loss        | 0         |\n",
      "|    l2_norm        | 5.25e+03  |\n",
      "|    loss           | 0.947     |\n",
      "|    neglogp        | 0.948     |\n",
      "|    prob_true_act  | 0.946     |\n",
      "|    samples_so_far | 379503    |\n",
      "---------------------------------\n"
     ]
    },
    {
     "name": "stderr",
     "output_type": "stream",
     "text": [
      "126977batch [05:38, 382.37batch/s]"
     ]
    },
    {
     "name": "stdout",
     "output_type": "stream",
     "text": [
      "--------------------------------\n",
      "| batch_size        | 3        |\n",
      "| bc/               |          |\n",
      "|    batch          | 127000   |\n",
      "|    ent_loss       | -0.00045 |\n",
      "|    entropy        | 0.45     |\n",
      "|    epoch          | 81       |\n",
      "|    l2_loss        | 0        |\n",
      "|    l2_norm        | 5.25e+03 |\n",
      "|    loss           | 0.117    |\n",
      "|    neglogp        | 0.117    |\n",
      "|    prob_true_act  | 1.61     |\n",
      "|    samples_so_far | 381003   |\n",
      "--------------------------------\n"
     ]
    },
    {
     "name": "stderr",
     "output_type": "stream",
     "text": [
      "127468batch [05:39, 362.66batch/s]"
     ]
    },
    {
     "name": "stdout",
     "output_type": "stream",
     "text": [
      "---------------------------------\n",
      "| batch_size        | 3         |\n",
      "| bc/               |           |\n",
      "|    batch          | 127500    |\n",
      "|    ent_loss       | -0.000488 |\n",
      "|    entropy        | 0.488     |\n",
      "|    epoch          | 81        |\n",
      "|    l2_loss        | 0         |\n",
      "|    l2_norm        | 5.26e+03  |\n",
      "|    loss           | 1.17      |\n",
      "|    neglogp        | 1.17      |\n",
      "|    prob_true_act  | 0.897     |\n",
      "|    samples_so_far | 382503    |\n",
      "---------------------------------\n"
     ]
    },
    {
     "name": "stderr",
     "output_type": "stream",
     "text": [
      "127971batch [05:40, 374.76batch/s]"
     ]
    },
    {
     "name": "stdout",
     "output_type": "stream",
     "text": [
      "---------------------------------\n",
      "| batch_size        | 3         |\n",
      "| bc/               |           |\n",
      "|    batch          | 128000    |\n",
      "|    ent_loss       | -0.000472 |\n",
      "|    entropy        | 0.472     |\n",
      "|    epoch          | 81        |\n",
      "|    l2_loss        | 0         |\n",
      "|    l2_norm        | 5.26e+03  |\n",
      "|    loss           | 0.652     |\n",
      "|    neglogp        | 0.652     |\n",
      "|    prob_true_act  | 1.26      |\n",
      "|    samples_so_far | 384003    |\n",
      "---------------------------------\n"
     ]
    },
    {
     "name": "stderr",
     "output_type": "stream",
     "text": [
      "128495batch [05:42, 356.38batch/s]"
     ]
    },
    {
     "name": "stdout",
     "output_type": "stream",
     "text": [
      "---------------------------------\n",
      "| batch_size        | 3         |\n",
      "| bc/               |           |\n",
      "|    batch          | 128500    |\n",
      "|    ent_loss       | -0.000475 |\n",
      "|    entropy        | 0.475     |\n",
      "|    epoch          | 82        |\n",
      "|    l2_loss        | 0         |\n",
      "|    l2_norm        | 5.27e+03  |\n",
      "|    loss           | 0.651     |\n",
      "|    neglogp        | 0.651     |\n",
      "|    prob_true_act  | 1.51      |\n",
      "|    samples_so_far | 385503    |\n",
      "---------------------------------\n"
     ]
    },
    {
     "name": "stderr",
     "output_type": "stream",
     "text": [
      "128992batch [05:43, 396.44batch/s]"
     ]
    },
    {
     "name": "stdout",
     "output_type": "stream",
     "text": [
      "---------------------------------\n",
      "| batch_size        | 3         |\n",
      "| bc/               |           |\n",
      "|    batch          | 129000    |\n",
      "|    ent_loss       | -0.000456 |\n",
      "|    entropy        | 0.456     |\n",
      "|    epoch          | 82        |\n",
      "|    l2_loss        | 0         |\n",
      "|    l2_norm        | 5.27e+03  |\n",
      "|    loss           | 0.434     |\n",
      "|    neglogp        | 0.434     |\n",
      "|    prob_true_act  | 1.22      |\n",
      "|    samples_so_far | 387003    |\n",
      "---------------------------------\n"
     ]
    },
    {
     "name": "stderr",
     "output_type": "stream",
     "text": [
      "129500batch [05:45, 375.67batch/s]"
     ]
    },
    {
     "name": "stdout",
     "output_type": "stream",
     "text": [
      "---------------------------------\n",
      "| batch_size        | 3         |\n",
      "| bc/               |           |\n",
      "|    batch          | 129500    |\n",
      "|    ent_loss       | -0.000452 |\n",
      "|    entropy        | 0.452     |\n",
      "|    epoch          | 82        |\n",
      "|    l2_loss        | 0         |\n",
      "|    l2_norm        | 5.27e+03  |\n",
      "|    loss           | 0.587     |\n",
      "|    neglogp        | 0.588     |\n",
      "|    prob_true_act  | 1.35      |\n",
      "|    samples_so_far | 388503    |\n",
      "---------------------------------\n"
     ]
    },
    {
     "name": "stderr",
     "output_type": "stream",
     "text": [
      "129963batch [05:46, 386.95batch/s]"
     ]
    },
    {
     "name": "stdout",
     "output_type": "stream",
     "text": [
      "---------------------------------\n",
      "| batch_size        | 3         |\n",
      "| bc/               |           |\n",
      "|    batch          | 130000    |\n",
      "|    ent_loss       | -0.000481 |\n",
      "|    entropy        | 0.481     |\n",
      "|    epoch          | 83        |\n",
      "|    l2_loss        | 0         |\n",
      "|    l2_norm        | 5.28e+03  |\n",
      "|    loss           | 0.658     |\n",
      "|    neglogp        | 0.659     |\n",
      "|    prob_true_act  | 0.975     |\n",
      "|    samples_so_far | 390003    |\n",
      "---------------------------------\n"
     ]
    },
    {
     "name": "stderr",
     "output_type": "stream",
     "text": [
      "130467batch [05:47, 371.92batch/s]"
     ]
    },
    {
     "name": "stdout",
     "output_type": "stream",
     "text": [
      "---------------------------------\n",
      "| batch_size        | 3         |\n",
      "| bc/               |           |\n",
      "|    batch          | 130500    |\n",
      "|    ent_loss       | -0.000458 |\n",
      "|    entropy        | 0.458     |\n",
      "|    epoch          | 83        |\n",
      "|    l2_loss        | 0         |\n",
      "|    l2_norm        | 5.28e+03  |\n",
      "|    loss           | 0.44      |\n",
      "|    neglogp        | 0.44      |\n",
      "|    prob_true_act  | 1.06      |\n",
      "|    samples_so_far | 391503    |\n",
      "---------------------------------\n"
     ]
    },
    {
     "name": "stderr",
     "output_type": "stream",
     "text": [
      "130968batch [05:48, 383.69batch/s]"
     ]
    },
    {
     "name": "stdout",
     "output_type": "stream",
     "text": [
      "---------------------------------\n",
      "| batch_size        | 3         |\n",
      "| bc/               |           |\n",
      "|    batch          | 131000    |\n",
      "|    ent_loss       | -0.000466 |\n",
      "|    entropy        | 0.466     |\n",
      "|    epoch          | 83        |\n",
      "|    l2_loss        | 0         |\n",
      "|    l2_norm        | 5.29e+03  |\n",
      "|    loss           | 0.693     |\n",
      "|    neglogp        | 0.694     |\n",
      "|    prob_true_act  | 1.14      |\n",
      "|    samples_so_far | 393003    |\n",
      "---------------------------------\n"
     ]
    },
    {
     "name": "stderr",
     "output_type": "stream",
     "text": [
      "131492batch [05:50, 392.57batch/s]"
     ]
    },
    {
     "name": "stdout",
     "output_type": "stream",
     "text": [
      "---------------------------------\n",
      "| batch_size        | 3         |\n",
      "| bc/               |           |\n",
      "|    batch          | 131500    |\n",
      "|    ent_loss       | -0.000448 |\n",
      "|    entropy        | 0.448     |\n",
      "|    epoch          | 84        |\n",
      "|    l2_loss        | 0         |\n",
      "|    l2_norm        | 5.29e+03  |\n",
      "|    loss           | 0.401     |\n",
      "|    neglogp        | 0.402     |\n",
      "|    prob_true_act  | 1.47      |\n",
      "|    samples_so_far | 394503    |\n",
      "---------------------------------\n"
     ]
    },
    {
     "name": "stderr",
     "output_type": "stream",
     "text": [
      "131990batch [05:51, 359.09batch/s]"
     ]
    },
    {
     "name": "stdout",
     "output_type": "stream",
     "text": [
      "---------------------------------\n",
      "| batch_size        | 3         |\n",
      "| bc/               |           |\n",
      "|    batch          | 132000    |\n",
      "|    ent_loss       | -0.000457 |\n",
      "|    entropy        | 0.457     |\n",
      "|    epoch          | 84        |\n",
      "|    l2_loss        | 0         |\n",
      "|    l2_norm        | 5.29e+03  |\n",
      "|    loss           | 0.761     |\n",
      "|    neglogp        | 0.762     |\n",
      "|    prob_true_act  | 1.21      |\n",
      "|    samples_so_far | 396003    |\n",
      "---------------------------------\n"
     ]
    },
    {
     "name": "stderr",
     "output_type": "stream",
     "text": [
      "132488batch [05:52, 379.59batch/s]"
     ]
    },
    {
     "name": "stdout",
     "output_type": "stream",
     "text": [
      "---------------------------------\n",
      "| batch_size        | 3         |\n",
      "| bc/               |           |\n",
      "|    batch          | 132500    |\n",
      "|    ent_loss       | -0.000486 |\n",
      "|    entropy        | 0.486     |\n",
      "|    epoch          | 84        |\n",
      "|    l2_loss        | 0         |\n",
      "|    l2_norm        | 5.3e+03   |\n",
      "|    loss           | 0.615     |\n",
      "|    neglogp        | 0.616     |\n",
      "|    prob_true_act  | 1.21      |\n",
      "|    samples_so_far | 397503    |\n",
      "---------------------------------\n"
     ]
    },
    {
     "name": "stderr",
     "output_type": "stream",
     "text": [
      "132990batch [05:54, 383.89batch/s]"
     ]
    },
    {
     "name": "stdout",
     "output_type": "stream",
     "text": [
      "---------------------------------\n",
      "| batch_size        | 3         |\n",
      "| bc/               |           |\n",
      "|    batch          | 133000    |\n",
      "|    ent_loss       | -0.000422 |\n",
      "|    entropy        | 0.422     |\n",
      "|    epoch          | 85        |\n",
      "|    l2_loss        | 0         |\n",
      "|    l2_norm        | 5.3e+03   |\n",
      "|    loss           | 0.405     |\n",
      "|    neglogp        | 0.405     |\n",
      "|    prob_true_act  | 1.27      |\n",
      "|    samples_so_far | 399003    |\n",
      "---------------------------------\n"
     ]
    },
    {
     "name": "stderr",
     "output_type": "stream",
     "text": [
      "133487batch [05:55, 364.48batch/s]"
     ]
    },
    {
     "name": "stdout",
     "output_type": "stream",
     "text": [
      "---------------------------------\n",
      "| batch_size        | 3         |\n",
      "| bc/               |           |\n",
      "|    batch          | 133500    |\n",
      "|    ent_loss       | -0.000453 |\n",
      "|    entropy        | 0.453     |\n",
      "|    epoch          | 85        |\n",
      "|    l2_loss        | 0         |\n",
      "|    l2_norm        | 5.3e+03   |\n",
      "|    loss           | 0.289     |\n",
      "|    neglogp        | 0.289     |\n",
      "|    prob_true_act  | 1.42      |\n",
      "|    samples_so_far | 400503    |\n",
      "---------------------------------\n"
     ]
    },
    {
     "name": "stderr",
     "output_type": "stream",
     "text": [
      "133963batch [05:56, 379.51batch/s]"
     ]
    },
    {
     "name": "stdout",
     "output_type": "stream",
     "text": [
      "---------------------------------\n",
      "| batch_size        | 3         |\n",
      "| bc/               |           |\n",
      "|    batch          | 134000    |\n",
      "|    ent_loss       | -0.000448 |\n",
      "|    entropy        | 0.448     |\n",
      "|    epoch          | 85        |\n",
      "|    l2_loss        | 0         |\n",
      "|    l2_norm        | 5.31e+03  |\n",
      "|    loss           | 0.599     |\n",
      "|    neglogp        | 0.6       |\n",
      "|    prob_true_act  | 1.32      |\n",
      "|    samples_so_far | 402003    |\n",
      "---------------------------------\n"
     ]
    },
    {
     "name": "stderr",
     "output_type": "stream",
     "text": [
      "134478batch [05:58, 380.42batch/s]"
     ]
    },
    {
     "name": "stdout",
     "output_type": "stream",
     "text": [
      "---------------------------------\n",
      "| batch_size        | 3         |\n",
      "| bc/               |           |\n",
      "|    batch          | 134500    |\n",
      "|    ent_loss       | -0.000469 |\n",
      "|    entropy        | 0.469     |\n",
      "|    epoch          | 86        |\n",
      "|    l2_loss        | 0         |\n",
      "|    l2_norm        | 5.31e+03  |\n",
      "|    loss           | 0.556     |\n",
      "|    neglogp        | 0.556     |\n",
      "|    prob_true_act  | 0.999     |\n",
      "|    samples_so_far | 403503    |\n",
      "---------------------------------\n"
     ]
    },
    {
     "name": "stderr",
     "output_type": "stream",
     "text": [
      "134982batch [05:59, 376.87batch/s]"
     ]
    },
    {
     "name": "stdout",
     "output_type": "stream",
     "text": [
      "---------------------------------\n",
      "| batch_size        | 3         |\n",
      "| bc/               |           |\n",
      "|    batch          | 135000    |\n",
      "|    ent_loss       | -0.000433 |\n",
      "|    entropy        | 0.433     |\n",
      "|    epoch          | 86        |\n",
      "|    l2_loss        | 0         |\n",
      "|    l2_norm        | 5.32e+03  |\n",
      "|    loss           | 0.457     |\n",
      "|    neglogp        | 0.457     |\n",
      "|    prob_true_act  | 1.27      |\n",
      "|    samples_so_far | 405003    |\n",
      "---------------------------------\n"
     ]
    },
    {
     "name": "stderr",
     "output_type": "stream",
     "text": [
      "135492batch [06:00, 387.84batch/s]"
     ]
    },
    {
     "name": "stdout",
     "output_type": "stream",
     "text": [
      "---------------------------------\n",
      "| batch_size        | 3         |\n",
      "| bc/               |           |\n",
      "|    batch          | 135500    |\n",
      "|    ent_loss       | -0.000453 |\n",
      "|    entropy        | 0.453     |\n",
      "|    epoch          | 86        |\n",
      "|    l2_loss        | 0         |\n",
      "|    l2_norm        | 5.32e+03  |\n",
      "|    loss           | 1.24      |\n",
      "|    neglogp        | 1.24      |\n",
      "|    prob_true_act  | 1.22      |\n",
      "|    samples_so_far | 406503    |\n",
      "---------------------------------\n"
     ]
    },
    {
     "name": "stderr",
     "output_type": "stream",
     "text": [
      "135967batch [06:02, 384.71batch/s]"
     ]
    },
    {
     "name": "stdout",
     "output_type": "stream",
     "text": [
      "---------------------------------\n",
      "| batch_size        | 3         |\n",
      "| bc/               |           |\n",
      "|    batch          | 136000    |\n",
      "|    ent_loss       | -0.000443 |\n",
      "|    entropy        | 0.443     |\n",
      "|    epoch          | 87        |\n",
      "|    l2_loss        | 0         |\n",
      "|    l2_norm        | 5.32e+03  |\n",
      "|    loss           | -0.351    |\n",
      "|    neglogp        | -0.35     |\n",
      "|    prob_true_act  | 1.86      |\n",
      "|    samples_so_far | 408003    |\n",
      "---------------------------------\n"
     ]
    },
    {
     "name": "stderr",
     "output_type": "stream",
     "text": [
      "136485batch [06:03, 392.36batch/s]"
     ]
    },
    {
     "name": "stdout",
     "output_type": "stream",
     "text": [
      "---------------------------------\n",
      "| batch_size        | 3         |\n",
      "| bc/               |           |\n",
      "|    batch          | 136500    |\n",
      "|    ent_loss       | -0.000454 |\n",
      "|    entropy        | 0.454     |\n",
      "|    epoch          | 87        |\n",
      "|    l2_loss        | 0         |\n",
      "|    l2_norm        | 5.33e+03  |\n",
      "|    loss           | 0.176     |\n",
      "|    neglogp        | 0.177     |\n",
      "|    prob_true_act  | 1.56      |\n",
      "|    samples_so_far | 409503    |\n",
      "---------------------------------\n"
     ]
    },
    {
     "name": "stderr",
     "output_type": "stream",
     "text": [
      "136997batch [06:04, 377.40batch/s]"
     ]
    },
    {
     "name": "stdout",
     "output_type": "stream",
     "text": [
      "---------------------------------\n",
      "| batch_size        | 3         |\n",
      "| bc/               |           |\n",
      "|    batch          | 137000    |\n",
      "|    ent_loss       | -0.000449 |\n",
      "|    entropy        | 0.449     |\n",
      "|    epoch          | 87        |\n",
      "|    l2_loss        | 0         |\n",
      "|    l2_norm        | 5.33e+03  |\n",
      "|    loss           | 0.547     |\n",
      "|    neglogp        | 0.547     |\n",
      "|    prob_true_act  | 1.57      |\n",
      "|    samples_so_far | 411003    |\n",
      "---------------------------------\n"
     ]
    },
    {
     "name": "stderr",
     "output_type": "stream",
     "text": [
      "137466batch [06:06, 379.28batch/s]"
     ]
    },
    {
     "name": "stdout",
     "output_type": "stream",
     "text": [
      "---------------------------------\n",
      "| batch_size        | 3         |\n",
      "| bc/               |           |\n",
      "|    batch          | 137500    |\n",
      "|    ent_loss       | -0.000447 |\n",
      "|    entropy        | 0.447     |\n",
      "|    epoch          | 88        |\n",
      "|    l2_loss        | 0         |\n",
      "|    l2_norm        | 5.33e+03  |\n",
      "|    loss           | 0.269     |\n",
      "|    neglogp        | 0.269     |\n",
      "|    prob_true_act  | 1.15      |\n",
      "|    samples_so_far | 412503    |\n",
      "---------------------------------\n"
     ]
    },
    {
     "name": "stderr",
     "output_type": "stream",
     "text": [
      "137979batch [06:07, 387.73batch/s]"
     ]
    },
    {
     "name": "stdout",
     "output_type": "stream",
     "text": [
      "---------------------------------\n",
      "| batch_size        | 3         |\n",
      "| bc/               |           |\n",
      "|    batch          | 138000    |\n",
      "|    ent_loss       | -0.000463 |\n",
      "|    entropy        | 0.463     |\n",
      "|    epoch          | 88        |\n",
      "|    l2_loss        | 0         |\n",
      "|    l2_norm        | 5.34e+03  |\n",
      "|    loss           | 0.621     |\n",
      "|    neglogp        | 0.622     |\n",
      "|    prob_true_act  | 1.07      |\n",
      "|    samples_so_far | 414003    |\n",
      "---------------------------------\n"
     ]
    },
    {
     "name": "stderr",
     "output_type": "stream",
     "text": [
      "138497batch [06:08, 377.95batch/s]"
     ]
    },
    {
     "name": "stdout",
     "output_type": "stream",
     "text": [
      "---------------------------------\n",
      "| batch_size        | 3         |\n",
      "| bc/               |           |\n",
      "|    batch          | 138500    |\n",
      "|    ent_loss       | -0.000443 |\n",
      "|    entropy        | 0.443     |\n",
      "|    epoch          | 88        |\n",
      "|    l2_loss        | 0         |\n",
      "|    l2_norm        | 5.34e+03  |\n",
      "|    loss           | 0.394     |\n",
      "|    neglogp        | 0.395     |\n",
      "|    prob_true_act  | 1.18      |\n",
      "|    samples_so_far | 415503    |\n",
      "---------------------------------\n"
     ]
    },
    {
     "name": "stderr",
     "output_type": "stream",
     "text": [
      "138983batch [06:10, 359.85batch/s]"
     ]
    },
    {
     "name": "stdout",
     "output_type": "stream",
     "text": [
      "---------------------------------\n",
      "| batch_size        | 3         |\n",
      "| bc/               |           |\n",
      "|    batch          | 139000    |\n",
      "|    ent_loss       | -0.000449 |\n",
      "|    entropy        | 0.449     |\n",
      "|    epoch          | 88        |\n",
      "|    l2_loss        | 0         |\n",
      "|    l2_norm        | 5.35e+03  |\n",
      "|    loss           | 0.194     |\n",
      "|    neglogp        | 0.194     |\n",
      "|    prob_true_act  | 1.48      |\n",
      "|    samples_so_far | 417003    |\n",
      "---------------------------------\n"
     ]
    },
    {
     "name": "stderr",
     "output_type": "stream",
     "text": [
      "139497batch [06:11, 360.35batch/s]"
     ]
    },
    {
     "name": "stdout",
     "output_type": "stream",
     "text": [
      "---------------------------------\n",
      "| batch_size        | 3         |\n",
      "| bc/               |           |\n",
      "|    batch          | 139500    |\n",
      "|    ent_loss       | -0.000432 |\n",
      "|    entropy        | 0.432     |\n",
      "|    epoch          | 89        |\n",
      "|    l2_loss        | 0         |\n",
      "|    l2_norm        | 5.35e+03  |\n",
      "|    loss           | 0.926     |\n",
      "|    neglogp        | 0.926     |\n",
      "|    prob_true_act  | 1.18      |\n",
      "|    samples_so_far | 418503    |\n",
      "---------------------------------\n"
     ]
    },
    {
     "name": "stderr",
     "output_type": "stream",
     "text": [
      "139966batch [06:12, 383.91batch/s]"
     ]
    },
    {
     "name": "stdout",
     "output_type": "stream",
     "text": [
      "---------------------------------\n",
      "| batch_size        | 3         |\n",
      "| bc/               |           |\n",
      "|    batch          | 140000    |\n",
      "|    ent_loss       | -0.000448 |\n",
      "|    entropy        | 0.448     |\n",
      "|    epoch          | 89        |\n",
      "|    l2_loss        | 0         |\n",
      "|    l2_norm        | 5.35e+03  |\n",
      "|    loss           | 0.191     |\n",
      "|    neglogp        | 0.191     |\n",
      "|    prob_true_act  | 1.56      |\n",
      "|    samples_so_far | 420003    |\n",
      "---------------------------------\n"
     ]
    },
    {
     "name": "stderr",
     "output_type": "stream",
     "text": [
      "140474batch [06:14, 381.57batch/s]"
     ]
    },
    {
     "name": "stdout",
     "output_type": "stream",
     "text": [
      "---------------------------------\n",
      "| batch_size        | 3         |\n",
      "| bc/               |           |\n",
      "|    batch          | 140500    |\n",
      "|    ent_loss       | -0.000452 |\n",
      "|    entropy        | 0.452     |\n",
      "|    epoch          | 89        |\n",
      "|    l2_loss        | 0         |\n",
      "|    l2_norm        | 5.36e+03  |\n",
      "|    loss           | 0.598     |\n",
      "|    neglogp        | 0.598     |\n",
      "|    prob_true_act  | 1.16      |\n",
      "|    samples_so_far | 421503    |\n",
      "---------------------------------\n"
     ]
    },
    {
     "name": "stderr",
     "output_type": "stream",
     "text": [
      "140983batch [06:15, 380.90batch/s]"
     ]
    },
    {
     "name": "stdout",
     "output_type": "stream",
     "text": [
      "---------------------------------\n",
      "| batch_size        | 3         |\n",
      "| bc/               |           |\n",
      "|    batch          | 141000    |\n",
      "|    ent_loss       | -0.000458 |\n",
      "|    entropy        | 0.458     |\n",
      "|    epoch          | 90        |\n",
      "|    l2_loss        | 0         |\n",
      "|    l2_norm        | 5.36e+03  |\n",
      "|    loss           | 0.261     |\n",
      "|    neglogp        | 0.262     |\n",
      "|    prob_true_act  | 1.28      |\n",
      "|    samples_so_far | 423003    |\n",
      "---------------------------------\n"
     ]
    },
    {
     "name": "stderr",
     "output_type": "stream",
     "text": [
      "141487batch [06:16, 370.30batch/s]"
     ]
    },
    {
     "name": "stdout",
     "output_type": "stream",
     "text": [
      "---------------------------------\n",
      "| batch_size        | 3         |\n",
      "| bc/               |           |\n",
      "|    batch          | 141500    |\n",
      "|    ent_loss       | -0.000463 |\n",
      "|    entropy        | 0.463     |\n",
      "|    epoch          | 90        |\n",
      "|    l2_loss        | 0         |\n",
      "|    l2_norm        | 5.37e+03  |\n",
      "|    loss           | 0.0559    |\n",
      "|    neglogp        | 0.0563    |\n",
      "|    prob_true_act  | 1.64      |\n",
      "|    samples_so_far | 424503    |\n",
      "---------------------------------\n"
     ]
    },
    {
     "name": "stderr",
     "output_type": "stream",
     "text": [
      "141990batch [06:18, 392.66batch/s]"
     ]
    },
    {
     "name": "stdout",
     "output_type": "stream",
     "text": [
      "---------------------------------\n",
      "| batch_size        | 3         |\n",
      "| bc/               |           |\n",
      "|    batch          | 142000    |\n",
      "|    ent_loss       | -0.000424 |\n",
      "|    entropy        | 0.424     |\n",
      "|    epoch          | 90        |\n",
      "|    l2_loss        | 0         |\n",
      "|    l2_norm        | 5.37e+03  |\n",
      "|    loss           | 0.86      |\n",
      "|    neglogp        | 0.86      |\n",
      "|    prob_true_act  | 0.982     |\n",
      "|    samples_so_far | 426003    |\n",
      "---------------------------------\n"
     ]
    },
    {
     "name": "stderr",
     "output_type": "stream",
     "text": [
      "142466batch [06:19, 384.84batch/s]"
     ]
    },
    {
     "name": "stdout",
     "output_type": "stream",
     "text": [
      "---------------------------------\n",
      "| batch_size        | 3         |\n",
      "| bc/               |           |\n",
      "|    batch          | 142500    |\n",
      "|    ent_loss       | -0.000415 |\n",
      "|    entropy        | 0.415     |\n",
      "|    epoch          | 91        |\n",
      "|    l2_loss        | 0         |\n",
      "|    l2_norm        | 5.37e+03  |\n",
      "|    loss           | 0.418     |\n",
      "|    neglogp        | 0.418     |\n",
      "|    prob_true_act  | 1.18      |\n",
      "|    samples_so_far | 427503    |\n",
      "---------------------------------\n"
     ]
    },
    {
     "name": "stderr",
     "output_type": "stream",
     "text": [
      "142967batch [06:20, 364.81batch/s]"
     ]
    },
    {
     "name": "stdout",
     "output_type": "stream",
     "text": [
      "---------------------------------\n",
      "| batch_size        | 3         |\n",
      "| bc/               |           |\n",
      "|    batch          | 143000    |\n",
      "|    ent_loss       | -0.000432 |\n",
      "|    entropy        | 0.432     |\n",
      "|    epoch          | 91        |\n",
      "|    l2_loss        | 0         |\n",
      "|    l2_norm        | 5.38e+03  |\n",
      "|    loss           | 0.576     |\n",
      "|    neglogp        | 0.576     |\n",
      "|    prob_true_act  | 1.26      |\n",
      "|    samples_so_far | 429003    |\n",
      "---------------------------------\n"
     ]
    },
    {
     "name": "stderr",
     "output_type": "stream",
     "text": [
      "143477batch [06:22, 390.43batch/s]"
     ]
    },
    {
     "name": "stdout",
     "output_type": "stream",
     "text": [
      "---------------------------------\n",
      "| batch_size        | 3         |\n",
      "| bc/               |           |\n",
      "|    batch          | 143500    |\n",
      "|    ent_loss       | -0.000471 |\n",
      "|    entropy        | 0.471     |\n",
      "|    epoch          | 91        |\n",
      "|    l2_loss        | 0         |\n",
      "|    l2_norm        | 5.38e+03  |\n",
      "|    loss           | 0.652     |\n",
      "|    neglogp        | 0.653     |\n",
      "|    prob_true_act  | 1.42      |\n",
      "|    samples_so_far | 430503    |\n",
      "---------------------------------\n"
     ]
    },
    {
     "name": "stderr",
     "output_type": "stream",
     "text": [
      "143992batch [06:23, 383.29batch/s]"
     ]
    },
    {
     "name": "stdout",
     "output_type": "stream",
     "text": [
      "---------------------------------\n",
      "| batch_size        | 3         |\n",
      "| bc/               |           |\n",
      "|    batch          | 144000    |\n",
      "|    ent_loss       | -0.000409 |\n",
      "|    entropy        | 0.409     |\n",
      "|    epoch          | 92        |\n",
      "|    l2_loss        | 0         |\n",
      "|    l2_norm        | 5.38e+03  |\n",
      "|    loss           | 0.464     |\n",
      "|    neglogp        | 0.465     |\n",
      "|    prob_true_act  | 1.75      |\n",
      "|    samples_so_far | 432003    |\n",
      "---------------------------------\n"
     ]
    },
    {
     "name": "stderr",
     "output_type": "stream",
     "text": [
      "144495batch [06:24, 367.41batch/s]"
     ]
    },
    {
     "name": "stdout",
     "output_type": "stream",
     "text": [
      "---------------------------------\n",
      "| batch_size        | 3         |\n",
      "| bc/               |           |\n",
      "|    batch          | 144500    |\n",
      "|    ent_loss       | -0.000455 |\n",
      "|    entropy        | 0.455     |\n",
      "|    epoch          | 92        |\n",
      "|    l2_loss        | 0         |\n",
      "|    l2_norm        | 5.39e+03  |\n",
      "|    loss           | 0.028     |\n",
      "|    neglogp        | 0.0285    |\n",
      "|    prob_true_act  | 1.48      |\n",
      "|    samples_so_far | 433503    |\n",
      "---------------------------------\n"
     ]
    },
    {
     "name": "stderr",
     "output_type": "stream",
     "text": [
      "144982batch [06:26, 376.18batch/s]"
     ]
    },
    {
     "name": "stdout",
     "output_type": "stream",
     "text": [
      "---------------------------------\n",
      "| batch_size        | 3         |\n",
      "| bc/               |           |\n",
      "|    batch          | 145000    |\n",
      "|    ent_loss       | -0.000468 |\n",
      "|    entropy        | 0.468     |\n",
      "|    epoch          | 92        |\n",
      "|    l2_loss        | 0         |\n",
      "|    l2_norm        | 5.39e+03  |\n",
      "|    loss           | 0.225     |\n",
      "|    neglogp        | 0.226     |\n",
      "|    prob_true_act  | 1.41      |\n",
      "|    samples_so_far | 435003    |\n",
      "---------------------------------\n"
     ]
    },
    {
     "name": "stderr",
     "output_type": "stream",
     "text": [
      "145493batch [06:27, 385.13batch/s]"
     ]
    },
    {
     "name": "stdout",
     "output_type": "stream",
     "text": [
      "---------------------------------\n",
      "| batch_size        | 3         |\n",
      "| bc/               |           |\n",
      "|    batch          | 145500    |\n",
      "|    ent_loss       | -0.000426 |\n",
      "|    entropy        | 0.426     |\n",
      "|    epoch          | 93        |\n",
      "|    l2_loss        | 0         |\n",
      "|    l2_norm        | 5.39e+03  |\n",
      "|    loss           | 0.169     |\n",
      "|    neglogp        | 0.17      |\n",
      "|    prob_true_act  | 1.51      |\n",
      "|    samples_so_far | 436503    |\n",
      "---------------------------------\n"
     ]
    },
    {
     "name": "stderr",
     "output_type": "stream",
     "text": [
      "145965batch [06:28, 379.98batch/s]"
     ]
    },
    {
     "name": "stdout",
     "output_type": "stream",
     "text": [
      "---------------------------------\n",
      "| batch_size        | 3         |\n",
      "| bc/               |           |\n",
      "|    batch          | 146000    |\n",
      "|    ent_loss       | -0.000431 |\n",
      "|    entropy        | 0.431     |\n",
      "|    epoch          | 93        |\n",
      "|    l2_loss        | 0         |\n",
      "|    l2_norm        | 5.4e+03   |\n",
      "|    loss           | 0.322     |\n",
      "|    neglogp        | 0.322     |\n",
      "|    prob_true_act  | 1.13      |\n",
      "|    samples_so_far | 438003    |\n",
      "---------------------------------\n"
     ]
    },
    {
     "name": "stderr",
     "output_type": "stream",
     "text": [
      "146470batch [06:29, 368.27batch/s]"
     ]
    },
    {
     "name": "stdout",
     "output_type": "stream",
     "text": [
      "---------------------------------\n",
      "| batch_size        | 3         |\n",
      "| bc/               |           |\n",
      "|    batch          | 146500    |\n",
      "|    ent_loss       | -0.000468 |\n",
      "|    entropy        | 0.468     |\n",
      "|    epoch          | 93        |\n",
      "|    l2_loss        | 0         |\n",
      "|    l2_norm        | 5.4e+03   |\n",
      "|    loss           | 0.613     |\n",
      "|    neglogp        | 0.613     |\n",
      "|    prob_true_act  | 1.24      |\n",
      "|    samples_so_far | 439503    |\n",
      "---------------------------------\n"
     ]
    },
    {
     "name": "stderr",
     "output_type": "stream",
     "text": [
      "146992batch [06:31, 363.68batch/s]"
     ]
    },
    {
     "name": "stdout",
     "output_type": "stream",
     "text": [
      "---------------------------------\n",
      "| batch_size        | 3         |\n",
      "| bc/               |           |\n",
      "|    batch          | 147000    |\n",
      "|    ent_loss       | -0.000449 |\n",
      "|    entropy        | 0.449     |\n",
      "|    epoch          | 94        |\n",
      "|    l2_loss        | 0         |\n",
      "|    l2_norm        | 5.41e+03  |\n",
      "|    loss           | -0.24     |\n",
      "|    neglogp        | -0.24     |\n",
      "|    prob_true_act  | 1.75      |\n",
      "|    samples_so_far | 441003    |\n",
      "---------------------------------\n"
     ]
    },
    {
     "name": "stderr",
     "output_type": "stream",
     "text": [
      "147497batch [06:32, 342.20batch/s]"
     ]
    },
    {
     "name": "stdout",
     "output_type": "stream",
     "text": [
      "---------------------------------\n",
      "| batch_size        | 3         |\n",
      "| bc/               |           |\n",
      "|    batch          | 147500    |\n",
      "|    ent_loss       | -0.000428 |\n",
      "|    entropy        | 0.428     |\n",
      "|    epoch          | 94        |\n",
      "|    l2_loss        | 0         |\n",
      "|    l2_norm        | 5.41e+03  |\n",
      "|    loss           | 0.297     |\n",
      "|    neglogp        | 0.297     |\n",
      "|    prob_true_act  | 1.19      |\n",
      "|    samples_so_far | 442503    |\n",
      "---------------------------------\n"
     ]
    },
    {
     "name": "stderr",
     "output_type": "stream",
     "text": [
      "148000batch [06:34, 378.78batch/s]"
     ]
    },
    {
     "name": "stdout",
     "output_type": "stream",
     "text": [
      "---------------------------------\n",
      "| batch_size        | 3         |\n",
      "| bc/               |           |\n",
      "|    batch          | 148000    |\n",
      "|    ent_loss       | -0.000439 |\n",
      "|    entropy        | 0.439     |\n",
      "|    epoch          | 94        |\n",
      "|    l2_loss        | 0         |\n",
      "|    l2_norm        | 5.41e+03  |\n",
      "|    loss           | 0.355     |\n",
      "|    neglogp        | 0.355     |\n",
      "|    prob_true_act  | 1.41      |\n",
      "|    samples_so_far | 444003    |\n",
      "---------------------------------\n"
     ]
    },
    {
     "name": "stderr",
     "output_type": "stream",
     "text": [
      "148493batch [06:35, 361.72batch/s]"
     ]
    },
    {
     "name": "stdout",
     "output_type": "stream",
     "text": [
      "--------------------------------\n",
      "| batch_size        | 3        |\n",
      "| bc/               |          |\n",
      "|    batch          | 148500   |\n",
      "|    ent_loss       | -0.00045 |\n",
      "|    entropy        | 0.45     |\n",
      "|    epoch          | 95       |\n",
      "|    l2_loss        | 0        |\n",
      "|    l2_norm        | 5.42e+03 |\n",
      "|    loss           | 0.488    |\n",
      "|    neglogp        | 0.488    |\n",
      "|    prob_true_act  | 1.06     |\n",
      "|    samples_so_far | 445503   |\n",
      "--------------------------------\n"
     ]
    },
    {
     "name": "stderr",
     "output_type": "stream",
     "text": [
      "148997batch [06:36, 381.28batch/s]"
     ]
    },
    {
     "name": "stdout",
     "output_type": "stream",
     "text": [
      "---------------------------------\n",
      "| batch_size        | 3         |\n",
      "| bc/               |           |\n",
      "|    batch          | 149000    |\n",
      "|    ent_loss       | -0.000448 |\n",
      "|    entropy        | 0.448     |\n",
      "|    epoch          | 95        |\n",
      "|    l2_loss        | 0         |\n",
      "|    l2_norm        | 5.42e+03  |\n",
      "|    loss           | 0.827     |\n",
      "|    neglogp        | 0.827     |\n",
      "|    prob_true_act  | 1.11      |\n",
      "|    samples_so_far | 447003    |\n",
      "---------------------------------\n"
     ]
    },
    {
     "name": "stderr",
     "output_type": "stream",
     "text": [
      "149493batch [06:38, 366.18batch/s]"
     ]
    },
    {
     "name": "stdout",
     "output_type": "stream",
     "text": [
      "---------------------------------\n",
      "| batch_size        | 3         |\n",
      "| bc/               |           |\n",
      "|    batch          | 149500    |\n",
      "|    ent_loss       | -0.000433 |\n",
      "|    entropy        | 0.433     |\n",
      "|    epoch          | 95        |\n",
      "|    l2_loss        | 0         |\n",
      "|    l2_norm        | 5.43e+03  |\n",
      "|    loss           | 0.0661    |\n",
      "|    neglogp        | 0.0665    |\n",
      "|    prob_true_act  | 1.63      |\n",
      "|    samples_so_far | 448503    |\n",
      "---------------------------------\n"
     ]
    },
    {
     "name": "stderr",
     "output_type": "stream",
     "text": [
      "149985batch [06:39, 371.79batch/s]"
     ]
    },
    {
     "name": "stdout",
     "output_type": "stream",
     "text": [
      "---------------------------------\n",
      "| batch_size        | 3         |\n",
      "| bc/               |           |\n",
      "|    batch          | 150000    |\n",
      "|    ent_loss       | -0.000455 |\n",
      "|    entropy        | 0.455     |\n",
      "|    epoch          | 96        |\n",
      "|    l2_loss        | 0         |\n",
      "|    l2_norm        | 5.43e+03  |\n",
      "|    loss           | 0.248     |\n",
      "|    neglogp        | 0.248     |\n",
      "|    prob_true_act  | 1.37      |\n",
      "|    samples_so_far | 450003    |\n",
      "---------------------------------\n"
     ]
    },
    {
     "name": "stderr",
     "output_type": "stream",
     "text": [
      "150473batch [06:40, 380.27batch/s]"
     ]
    },
    {
     "name": "stdout",
     "output_type": "stream",
     "text": [
      "---------------------------------\n",
      "| batch_size        | 3         |\n",
      "| bc/               |           |\n",
      "|    batch          | 150500    |\n",
      "|    ent_loss       | -0.000465 |\n",
      "|    entropy        | 0.465     |\n",
      "|    epoch          | 96        |\n",
      "|    l2_loss        | 0         |\n",
      "|    l2_norm        | 5.44e+03  |\n",
      "|    loss           | 0.375     |\n",
      "|    neglogp        | 0.376     |\n",
      "|    prob_true_act  | 1.26      |\n",
      "|    samples_so_far | 451503    |\n",
      "---------------------------------\n"
     ]
    },
    {
     "name": "stderr",
     "output_type": "stream",
     "text": [
      "150994batch [06:42, 354.86batch/s]"
     ]
    },
    {
     "name": "stdout",
     "output_type": "stream",
     "text": [
      "---------------------------------\n",
      "| batch_size        | 3         |\n",
      "| bc/               |           |\n",
      "|    batch          | 151000    |\n",
      "|    ent_loss       | -0.000429 |\n",
      "|    entropy        | 0.429     |\n",
      "|    epoch          | 96        |\n",
      "|    l2_loss        | 0         |\n",
      "|    l2_norm        | 5.44e+03  |\n",
      "|    loss           | 0.677     |\n",
      "|    neglogp        | 0.678     |\n",
      "|    prob_true_act  | 1.4       |\n",
      "|    samples_so_far | 453003    |\n",
      "---------------------------------\n"
     ]
    },
    {
     "name": "stderr",
     "output_type": "stream",
     "text": [
      "151480batch [06:43, 371.37batch/s]"
     ]
    },
    {
     "name": "stdout",
     "output_type": "stream",
     "text": [
      "---------------------------------\n",
      "| batch_size        | 3         |\n",
      "| bc/               |           |\n",
      "|    batch          | 151500    |\n",
      "|    ent_loss       | -0.000458 |\n",
      "|    entropy        | 0.458     |\n",
      "|    epoch          | 96        |\n",
      "|    l2_loss        | 0         |\n",
      "|    l2_norm        | 5.44e+03  |\n",
      "|    loss           | 0.254     |\n",
      "|    neglogp        | 0.254     |\n",
      "|    prob_true_act  | 1.25      |\n",
      "|    samples_so_far | 454503    |\n",
      "---------------------------------\n"
     ]
    },
    {
     "name": "stderr",
     "output_type": "stream",
     "text": [
      "151974batch [06:44, 371.28batch/s]"
     ]
    },
    {
     "name": "stdout",
     "output_type": "stream",
     "text": [
      "---------------------------------\n",
      "| batch_size        | 3         |\n",
      "| bc/               |           |\n",
      "|    batch          | 152000    |\n",
      "|    ent_loss       | -0.000415 |\n",
      "|    entropy        | 0.415     |\n",
      "|    epoch          | 97        |\n",
      "|    l2_loss        | 0         |\n",
      "|    l2_norm        | 5.45e+03  |\n",
      "|    loss           | -0.0493   |\n",
      "|    neglogp        | -0.0489   |\n",
      "|    prob_true_act  | 1.57      |\n",
      "|    samples_so_far | 456003    |\n",
      "---------------------------------\n"
     ]
    },
    {
     "name": "stderr",
     "output_type": "stream",
     "text": [
      "152500batch [06:46, 375.33batch/s]"
     ]
    },
    {
     "name": "stdout",
     "output_type": "stream",
     "text": [
      "---------------------------------\n",
      "| batch_size        | 3         |\n",
      "| bc/               |           |\n",
      "|    batch          | 152500    |\n",
      "|    ent_loss       | -0.000465 |\n",
      "|    entropy        | 0.465     |\n",
      "|    epoch          | 97        |\n",
      "|    l2_loss        | 0         |\n",
      "|    l2_norm        | 5.45e+03  |\n",
      "|    loss           | 0.213     |\n",
      "|    neglogp        | 0.214     |\n",
      "|    prob_true_act  | 1.46      |\n",
      "|    samples_so_far | 457503    |\n",
      "---------------------------------\n"
     ]
    },
    {
     "name": "stderr",
     "output_type": "stream",
     "text": [
      "152964batch [06:47, 364.38batch/s]"
     ]
    },
    {
     "name": "stdout",
     "output_type": "stream",
     "text": [
      "--------------------------------\n",
      "| batch_size        | 3        |\n",
      "| bc/               |          |\n",
      "|    batch          | 153000   |\n",
      "|    ent_loss       | -0.00044 |\n",
      "|    entropy        | 0.44     |\n",
      "|    epoch          | 97       |\n",
      "|    l2_loss        | 0        |\n",
      "|    l2_norm        | 5.46e+03 |\n",
      "|    loss           | 0.281    |\n",
      "|    neglogp        | 0.282    |\n",
      "|    prob_true_act  | 1.49     |\n",
      "|    samples_so_far | 459003   |\n",
      "--------------------------------\n"
     ]
    },
    {
     "name": "stderr",
     "output_type": "stream",
     "text": [
      "153492batch [06:49, 377.37batch/s]"
     ]
    },
    {
     "name": "stdout",
     "output_type": "stream",
     "text": [
      "---------------------------------\n",
      "| batch_size        | 3         |\n",
      "| bc/               |           |\n",
      "|    batch          | 153500    |\n",
      "|    ent_loss       | -0.000415 |\n",
      "|    entropy        | 0.415     |\n",
      "|    epoch          | 98        |\n",
      "|    l2_loss        | 0         |\n",
      "|    l2_norm        | 5.46e+03  |\n",
      "|    loss           | 0.731     |\n",
      "|    neglogp        | 0.731     |\n",
      "|    prob_true_act  | 1.39      |\n",
      "|    samples_so_far | 460503    |\n",
      "---------------------------------\n"
     ]
    },
    {
     "name": "stderr",
     "output_type": "stream",
     "text": [
      "153994batch [06:50, 376.11batch/s]"
     ]
    },
    {
     "name": "stdout",
     "output_type": "stream",
     "text": [
      "---------------------------------\n",
      "| batch_size        | 3         |\n",
      "| bc/               |           |\n",
      "|    batch          | 154000    |\n",
      "|    ent_loss       | -0.000441 |\n",
      "|    entropy        | 0.441     |\n",
      "|    epoch          | 98        |\n",
      "|    l2_loss        | 0         |\n",
      "|    l2_norm        | 5.46e+03  |\n",
      "|    loss           | 0.639     |\n",
      "|    neglogp        | 0.64      |\n",
      "|    prob_true_act  | 1.31      |\n",
      "|    samples_so_far | 462003    |\n",
      "---------------------------------\n"
     ]
    },
    {
     "name": "stderr",
     "output_type": "stream",
     "text": [
      "154499batch [06:51, 375.45batch/s]"
     ]
    },
    {
     "name": "stdout",
     "output_type": "stream",
     "text": [
      "---------------------------------\n",
      "| batch_size        | 3         |\n",
      "| bc/               |           |\n",
      "|    batch          | 154500    |\n",
      "|    ent_loss       | -0.000442 |\n",
      "|    entropy        | 0.442     |\n",
      "|    epoch          | 98        |\n",
      "|    l2_loss        | 0         |\n",
      "|    l2_norm        | 5.47e+03  |\n",
      "|    loss           | 0.0746    |\n",
      "|    neglogp        | 0.0751    |\n",
      "|    prob_true_act  | 1.46      |\n",
      "|    samples_so_far | 463503    |\n",
      "---------------------------------\n"
     ]
    },
    {
     "name": "stderr",
     "output_type": "stream",
     "text": [
      "154995batch [06:53, 369.36batch/s]"
     ]
    },
    {
     "name": "stdout",
     "output_type": "stream",
     "text": [
      "---------------------------------\n",
      "| batch_size        | 3         |\n",
      "| bc/               |           |\n",
      "|    batch          | 155000    |\n",
      "|    ent_loss       | -0.000439 |\n",
      "|    entropy        | 0.439     |\n",
      "|    epoch          | 99        |\n",
      "|    l2_loss        | 0         |\n",
      "|    l2_norm        | 5.47e+03  |\n",
      "|    loss           | 0.547     |\n",
      "|    neglogp        | 0.548     |\n",
      "|    prob_true_act  | 1.31      |\n",
      "|    samples_so_far | 465003    |\n",
      "---------------------------------\n"
     ]
    },
    {
     "name": "stderr",
     "output_type": "stream",
     "text": [
      "155492batch [06:54, 380.83batch/s]"
     ]
    },
    {
     "name": "stdout",
     "output_type": "stream",
     "text": [
      "---------------------------------\n",
      "| batch_size        | 3         |\n",
      "| bc/               |           |\n",
      "|    batch          | 155500    |\n",
      "|    ent_loss       | -0.000436 |\n",
      "|    entropy        | 0.436     |\n",
      "|    epoch          | 99        |\n",
      "|    l2_loss        | 0         |\n",
      "|    l2_norm        | 5.47e+03  |\n",
      "|    loss           | 0.692     |\n",
      "|    neglogp        | 0.693     |\n",
      "|    prob_true_act  | 1.26      |\n",
      "|    samples_so_far | 466503    |\n",
      "---------------------------------\n"
     ]
    },
    {
     "name": "stderr",
     "output_type": "stream",
     "text": [
      "155988batch [06:55, 363.56batch/s]"
     ]
    },
    {
     "name": "stdout",
     "output_type": "stream",
     "text": [
      "---------------------------------\n",
      "| batch_size        | 3         |\n",
      "| bc/               |           |\n",
      "|    batch          | 156000    |\n",
      "|    ent_loss       | -0.000453 |\n",
      "|    entropy        | 0.453     |\n",
      "|    epoch          | 99        |\n",
      "|    l2_loss        | 0         |\n",
      "|    l2_norm        | 5.48e+03  |\n",
      "|    loss           | 0.256     |\n",
      "|    neglogp        | 0.257     |\n",
      "|    prob_true_act  | 1.49      |\n",
      "|    samples_so_far | 468003    |\n",
      "---------------------------------\n"
     ]
    },
    {
     "name": "stderr",
     "output_type": "stream",
     "text": [
      "156480batch [06:57, 360.43batch/s]"
     ]
    },
    {
     "name": "stdout",
     "output_type": "stream",
     "text": [
      "---------------------------------\n",
      "| batch_size        | 3         |\n",
      "| bc/               |           |\n",
      "|    batch          | 156500    |\n",
      "|    ent_loss       | -0.000464 |\n",
      "|    entropy        | 0.464     |\n",
      "|    epoch          | 100       |\n",
      "|    l2_loss        | 0         |\n",
      "|    l2_norm        | 5.48e+03  |\n",
      "|    loss           | 0.164     |\n",
      "|    neglogp        | 0.165     |\n",
      "|    prob_true_act  | 1.22      |\n",
      "|    samples_so_far | 469503    |\n",
      "---------------------------------\n"
     ]
    },
    {
     "name": "stderr",
     "output_type": "stream",
     "text": [
      "156981batch [06:58, 372.70batch/s]"
     ]
    },
    {
     "name": "stdout",
     "output_type": "stream",
     "text": [
      "---------------------------------\n",
      "| batch_size        | 3         |\n",
      "| bc/               |           |\n",
      "|    batch          | 157000    |\n",
      "|    ent_loss       | -0.000452 |\n",
      "|    entropy        | 0.452     |\n",
      "|    epoch          | 100       |\n",
      "|    l2_loss        | 0         |\n",
      "|    l2_norm        | 5.48e+03  |\n",
      "|    loss           | 0.107     |\n",
      "|    neglogp        | 0.108     |\n",
      "|    prob_true_act  | 1.88      |\n",
      "|    samples_so_far | 471003    |\n",
      "---------------------------------\n"
     ]
    },
    {
     "name": "stderr",
     "output_type": "stream",
     "text": [
      "157482batch [06:59, 381.06batch/s]"
     ]
    },
    {
     "name": "stdout",
     "output_type": "stream",
     "text": [
      "---------------------------------\n",
      "| batch_size        | 3         |\n",
      "| bc/               |           |\n",
      "|    batch          | 157500    |\n",
      "|    ent_loss       | -0.000465 |\n",
      "|    entropy        | 0.465     |\n",
      "|    epoch          | 100       |\n",
      "|    l2_loss        | 0         |\n",
      "|    l2_norm        | 5.49e+03  |\n",
      "|    loss           | 0.0211    |\n",
      "|    neglogp        | 0.0216    |\n",
      "|    prob_true_act  | 1.8       |\n",
      "|    samples_so_far | 472503    |\n",
      "---------------------------------\n"
     ]
    },
    {
     "name": "stderr",
     "output_type": "stream",
     "text": [
      "157968batch [07:01, 367.55batch/s]"
     ]
    },
    {
     "name": "stdout",
     "output_type": "stream",
     "text": [
      "--------------------------------\n",
      "| batch_size        | 3        |\n",
      "| bc/               |          |\n",
      "|    batch          | 158000   |\n",
      "|    ent_loss       | -0.00043 |\n",
      "|    entropy        | 0.43     |\n",
      "|    epoch          | 101      |\n",
      "|    l2_loss        | 0        |\n",
      "|    l2_norm        | 5.49e+03 |\n",
      "|    loss           | 0.454    |\n",
      "|    neglogp        | 0.454    |\n",
      "|    prob_true_act  | 1.58     |\n",
      "|    samples_so_far | 474003   |\n",
      "--------------------------------\n"
     ]
    },
    {
     "name": "stderr",
     "output_type": "stream",
     "text": [
      "158473batch [07:02, 369.34batch/s]"
     ]
    },
    {
     "name": "stdout",
     "output_type": "stream",
     "text": [
      "--------------------------------\n",
      "| batch_size        | 3        |\n",
      "| bc/               |          |\n",
      "|    batch          | 158500   |\n",
      "|    ent_loss       | -0.00044 |\n",
      "|    entropy        | 0.44     |\n",
      "|    epoch          | 101      |\n",
      "|    l2_loss        | 0        |\n",
      "|    l2_norm        | 5.5e+03  |\n",
      "|    loss           | 0.368    |\n",
      "|    neglogp        | 0.368    |\n",
      "|    prob_true_act  | 1.43     |\n",
      "|    samples_so_far | 475503   |\n",
      "--------------------------------\n"
     ]
    },
    {
     "name": "stderr",
     "output_type": "stream",
     "text": [
      "158977batch [07:03, 389.77batch/s]"
     ]
    },
    {
     "name": "stdout",
     "output_type": "stream",
     "text": [
      "---------------------------------\n",
      "| batch_size        | 3         |\n",
      "| bc/               |           |\n",
      "|    batch          | 159000    |\n",
      "|    ent_loss       | -0.000474 |\n",
      "|    entropy        | 0.474     |\n",
      "|    epoch          | 101       |\n",
      "|    l2_loss        | 0         |\n",
      "|    l2_norm        | 5.5e+03   |\n",
      "|    loss           | 0.982     |\n",
      "|    neglogp        | 0.982     |\n",
      "|    prob_true_act  | 0.884     |\n",
      "|    samples_so_far | 477003    |\n",
      "---------------------------------\n"
     ]
    },
    {
     "name": "stderr",
     "output_type": "stream",
     "text": [
      "159482batch [07:05, 365.36batch/s]"
     ]
    },
    {
     "name": "stdout",
     "output_type": "stream",
     "text": [
      "---------------------------------\n",
      "| batch_size        | 3         |\n",
      "| bc/               |           |\n",
      "|    batch          | 159500    |\n",
      "|    ent_loss       | -0.000421 |\n",
      "|    entropy        | 0.421     |\n",
      "|    epoch          | 102       |\n",
      "|    l2_loss        | 0         |\n",
      "|    l2_norm        | 5.5e+03   |\n",
      "|    loss           | 0.00901   |\n",
      "|    neglogp        | 0.00943   |\n",
      "|    prob_true_act  | 1.95      |\n",
      "|    samples_so_far | 478503    |\n",
      "---------------------------------\n"
     ]
    },
    {
     "name": "stderr",
     "output_type": "stream",
     "text": [
      "159968batch [07:06, 377.73batch/s]"
     ]
    },
    {
     "name": "stdout",
     "output_type": "stream",
     "text": [
      "---------------------------------\n",
      "| batch_size        | 3         |\n",
      "| bc/               |           |\n",
      "|    batch          | 160000    |\n",
      "|    ent_loss       | -0.000454 |\n",
      "|    entropy        | 0.454     |\n",
      "|    epoch          | 102       |\n",
      "|    l2_loss        | 0         |\n",
      "|    l2_norm        | 5.51e+03  |\n",
      "|    loss           | 0.303     |\n",
      "|    neglogp        | 0.303     |\n",
      "|    prob_true_act  | 1.4       |\n",
      "|    samples_so_far | 480003    |\n",
      "---------------------------------\n"
     ]
    },
    {
     "name": "stderr",
     "output_type": "stream",
     "text": [
      "160478batch [07:07, 391.26batch/s]"
     ]
    },
    {
     "name": "stdout",
     "output_type": "stream",
     "text": [
      "---------------------------------\n",
      "| batch_size        | 3         |\n",
      "| bc/               |           |\n",
      "|    batch          | 160500    |\n",
      "|    ent_loss       | -0.000423 |\n",
      "|    entropy        | 0.423     |\n",
      "|    epoch          | 102       |\n",
      "|    l2_loss        | 0         |\n",
      "|    l2_norm        | 5.51e+03  |\n",
      "|    loss           | 0.741     |\n",
      "|    neglogp        | 0.741     |\n",
      "|    prob_true_act  | 1.04      |\n",
      "|    samples_so_far | 481503    |\n",
      "---------------------------------\n"
     ]
    },
    {
     "name": "stderr",
     "output_type": "stream",
     "text": [
      "160978batch [07:09, 373.40batch/s]"
     ]
    },
    {
     "name": "stdout",
     "output_type": "stream",
     "text": [
      "---------------------------------\n",
      "| batch_size        | 3         |\n",
      "| bc/               |           |\n",
      "|    batch          | 161000    |\n",
      "|    ent_loss       | -0.000426 |\n",
      "|    entropy        | 0.426     |\n",
      "|    epoch          | 103       |\n",
      "|    l2_loss        | 0         |\n",
      "|    l2_norm        | 5.52e+03  |\n",
      "|    loss           | 0.248     |\n",
      "|    neglogp        | 0.249     |\n",
      "|    prob_true_act  | 1.48      |\n",
      "|    samples_so_far | 483003    |\n",
      "---------------------------------\n"
     ]
    },
    {
     "name": "stderr",
     "output_type": "stream",
     "text": [
      "161477batch [07:10, 367.20batch/s]"
     ]
    },
    {
     "name": "stdout",
     "output_type": "stream",
     "text": [
      "---------------------------------\n",
      "| batch_size        | 3         |\n",
      "| bc/               |           |\n",
      "|    batch          | 161500    |\n",
      "|    ent_loss       | -0.000448 |\n",
      "|    entropy        | 0.448     |\n",
      "|    epoch          | 103       |\n",
      "|    l2_loss        | 0         |\n",
      "|    l2_norm        | 5.52e+03  |\n",
      "|    loss           | 0.452     |\n",
      "|    neglogp        | 0.453     |\n",
      "|    prob_true_act  | 1.32      |\n",
      "|    samples_so_far | 484503    |\n",
      "---------------------------------\n"
     ]
    },
    {
     "name": "stderr",
     "output_type": "stream",
     "text": [
      "161967batch [07:11, 376.05batch/s]"
     ]
    },
    {
     "name": "stdout",
     "output_type": "stream",
     "text": [
      "---------------------------------\n",
      "| batch_size        | 3         |\n",
      "| bc/               |           |\n",
      "|    batch          | 162000    |\n",
      "|    ent_loss       | -0.000448 |\n",
      "|    entropy        | 0.448     |\n",
      "|    epoch          | 103       |\n",
      "|    l2_loss        | 0         |\n",
      "|    l2_norm        | 5.52e+03  |\n",
      "|    loss           | 0.313     |\n",
      "|    neglogp        | 0.314     |\n",
      "|    prob_true_act  | 1.55      |\n",
      "|    samples_so_far | 486003    |\n",
      "---------------------------------\n"
     ]
    },
    {
     "name": "stderr",
     "output_type": "stream",
     "text": [
      "162464batch [07:13, 367.55batch/s]"
     ]
    },
    {
     "name": "stdout",
     "output_type": "stream",
     "text": [
      "---------------------------------\n",
      "| batch_size        | 3         |\n",
      "| bc/               |           |\n",
      "|    batch          | 162500    |\n",
      "|    ent_loss       | -0.000461 |\n",
      "|    entropy        | 0.461     |\n",
      "|    epoch          | 104       |\n",
      "|    l2_loss        | 0         |\n",
      "|    l2_norm        | 5.53e+03  |\n",
      "|    loss           | 0.297     |\n",
      "|    neglogp        | 0.297     |\n",
      "|    prob_true_act  | 1.53      |\n",
      "|    samples_so_far | 487503    |\n",
      "---------------------------------\n"
     ]
    },
    {
     "name": "stderr",
     "output_type": "stream",
     "text": [
      "162980batch [07:14, 396.78batch/s]"
     ]
    },
    {
     "name": "stdout",
     "output_type": "stream",
     "text": [
      "---------------------------------\n",
      "| batch_size        | 3         |\n",
      "| bc/               |           |\n",
      "|    batch          | 163000    |\n",
      "|    ent_loss       | -0.000431 |\n",
      "|    entropy        | 0.431     |\n",
      "|    epoch          | 104       |\n",
      "|    l2_loss        | 0         |\n",
      "|    l2_norm        | 5.53e+03  |\n",
      "|    loss           | 0.471     |\n",
      "|    neglogp        | 0.472     |\n",
      "|    prob_true_act  | 1.49      |\n",
      "|    samples_so_far | 489003    |\n",
      "---------------------------------\n"
     ]
    },
    {
     "name": "stderr",
     "output_type": "stream",
     "text": [
      "163464batch [07:15, 388.00batch/s]"
     ]
    },
    {
     "name": "stdout",
     "output_type": "stream",
     "text": [
      "---------------------------------\n",
      "| batch_size        | 3         |\n",
      "| bc/               |           |\n",
      "|    batch          | 163500    |\n",
      "|    ent_loss       | -0.000444 |\n",
      "|    entropy        | 0.444     |\n",
      "|    epoch          | 104       |\n",
      "|    l2_loss        | 0         |\n",
      "|    l2_norm        | 5.54e+03  |\n",
      "|    loss           | 0.353     |\n",
      "|    neglogp        | 0.353     |\n",
      "|    prob_true_act  | 1.24      |\n",
      "|    samples_so_far | 490503    |\n",
      "---------------------------------\n"
     ]
    },
    {
     "name": "stderr",
     "output_type": "stream",
     "text": [
      "163979batch [07:17, 386.46batch/s]"
     ]
    },
    {
     "name": "stdout",
     "output_type": "stream",
     "text": [
      "---------------------------------\n",
      "| batch_size        | 3         |\n",
      "| bc/               |           |\n",
      "|    batch          | 164000    |\n",
      "|    ent_loss       | -0.000457 |\n",
      "|    entropy        | 0.457     |\n",
      "|    epoch          | 104       |\n",
      "|    l2_loss        | 0         |\n",
      "|    l2_norm        | 5.54e+03  |\n",
      "|    loss           | 0.313     |\n",
      "|    neglogp        | 0.314     |\n",
      "|    prob_true_act  | 1.39      |\n",
      "|    samples_so_far | 492003    |\n",
      "---------------------------------\n"
     ]
    },
    {
     "name": "stderr",
     "output_type": "stream",
     "text": [
      "164493batch [07:18, 393.25batch/s]"
     ]
    },
    {
     "name": "stdout",
     "output_type": "stream",
     "text": [
      "---------------------------------\n",
      "| batch_size        | 3         |\n",
      "| bc/               |           |\n",
      "|    batch          | 164500    |\n",
      "|    ent_loss       | -0.000441 |\n",
      "|    entropy        | 0.441     |\n",
      "|    epoch          | 105       |\n",
      "|    l2_loss        | 0         |\n",
      "|    l2_norm        | 5.54e+03  |\n",
      "|    loss           | 0.0886    |\n",
      "|    neglogp        | 0.089     |\n",
      "|    prob_true_act  | 1.47      |\n",
      "|    samples_so_far | 493503    |\n",
      "---------------------------------\n"
     ]
    },
    {
     "name": "stderr",
     "output_type": "stream",
     "text": [
      "164997batch [07:19, 361.85batch/s]"
     ]
    },
    {
     "name": "stdout",
     "output_type": "stream",
     "text": [
      "--------------------------------\n",
      "| batch_size        | 3        |\n",
      "| bc/               |          |\n",
      "|    batch          | 165000   |\n",
      "|    ent_loss       | -0.00043 |\n",
      "|    entropy        | 0.43     |\n",
      "|    epoch          | 105      |\n",
      "|    l2_loss        | 0        |\n",
      "|    l2_norm        | 5.55e+03 |\n",
      "|    loss           | 0.813    |\n",
      "|    neglogp        | 0.813    |\n",
      "|    prob_true_act  | 1.21     |\n",
      "|    samples_so_far | 495003   |\n",
      "--------------------------------\n"
     ]
    },
    {
     "name": "stderr",
     "output_type": "stream",
     "text": [
      "165472batch [07:21, 385.46batch/s]"
     ]
    },
    {
     "name": "stdout",
     "output_type": "stream",
     "text": [
      "---------------------------------\n",
      "| batch_size        | 3         |\n",
      "| bc/               |           |\n",
      "|    batch          | 165500    |\n",
      "|    ent_loss       | -0.000417 |\n",
      "|    entropy        | 0.417     |\n",
      "|    epoch          | 105       |\n",
      "|    l2_loss        | 0         |\n",
      "|    l2_norm        | 5.55e+03  |\n",
      "|    loss           | 0.277     |\n",
      "|    neglogp        | 0.277     |\n",
      "|    prob_true_act  | 1.55      |\n",
      "|    samples_so_far | 496503    |\n",
      "---------------------------------\n"
     ]
    },
    {
     "name": "stderr",
     "output_type": "stream",
     "text": [
      "165983batch [07:22, 381.68batch/s]"
     ]
    },
    {
     "name": "stdout",
     "output_type": "stream",
     "text": [
      "---------------------------------\n",
      "| batch_size        | 3         |\n",
      "| bc/               |           |\n",
      "|    batch          | 166000    |\n",
      "|    ent_loss       | -0.000425 |\n",
      "|    entropy        | 0.425     |\n",
      "|    epoch          | 106       |\n",
      "|    l2_loss        | 0         |\n",
      "|    l2_norm        | 5.56e+03  |\n",
      "|    loss           | 0.0825    |\n",
      "|    neglogp        | 0.083     |\n",
      "|    prob_true_act  | 1.5       |\n",
      "|    samples_so_far | 498003    |\n",
      "---------------------------------\n"
     ]
    },
    {
     "name": "stderr",
     "output_type": "stream",
     "text": [
      "166466batch [07:23, 397.14batch/s]"
     ]
    },
    {
     "name": "stdout",
     "output_type": "stream",
     "text": [
      "---------------------------------\n",
      "| batch_size        | 3         |\n",
      "| bc/               |           |\n",
      "|    batch          | 166500    |\n",
      "|    ent_loss       | -0.000424 |\n",
      "|    entropy        | 0.424     |\n",
      "|    epoch          | 106       |\n",
      "|    l2_loss        | 0         |\n",
      "|    l2_norm        | 5.56e+03  |\n",
      "|    loss           | 0.41      |\n",
      "|    neglogp        | 0.41      |\n",
      "|    prob_true_act  | 1.43      |\n",
      "|    samples_so_far | 499503    |\n",
      "---------------------------------\n"
     ]
    },
    {
     "name": "stderr",
     "output_type": "stream",
     "text": [
      "166976batch [07:24, 383.96batch/s]"
     ]
    },
    {
     "name": "stdout",
     "output_type": "stream",
     "text": [
      "---------------------------------\n",
      "| batch_size        | 3         |\n",
      "| bc/               |           |\n",
      "|    batch          | 167000    |\n",
      "|    ent_loss       | -0.000449 |\n",
      "|    entropy        | 0.449     |\n",
      "|    epoch          | 106       |\n",
      "|    l2_loss        | 0         |\n",
      "|    l2_norm        | 5.56e+03  |\n",
      "|    loss           | 1.14      |\n",
      "|    neglogp        | 1.14      |\n",
      "|    prob_true_act  | 0.813     |\n",
      "|    samples_so_far | 501003    |\n",
      "---------------------------------\n"
     ]
    },
    {
     "name": "stderr",
     "output_type": "stream",
     "text": [
      "167485batch [07:26, 391.64batch/s]"
     ]
    },
    {
     "name": "stdout",
     "output_type": "stream",
     "text": [
      "---------------------------------\n",
      "| batch_size        | 3         |\n",
      "| bc/               |           |\n",
      "|    batch          | 167500    |\n",
      "|    ent_loss       | -0.000432 |\n",
      "|    entropy        | 0.432     |\n",
      "|    epoch          | 107       |\n",
      "|    l2_loss        | 0         |\n",
      "|    l2_norm        | 5.57e+03  |\n",
      "|    loss           | 0.495     |\n",
      "|    neglogp        | 0.495     |\n",
      "|    prob_true_act  | 1.57      |\n",
      "|    samples_so_far | 502503    |\n",
      "---------------------------------\n"
     ]
    },
    {
     "name": "stderr",
     "output_type": "stream",
     "text": [
      "167967batch [07:27, 397.78batch/s]"
     ]
    },
    {
     "name": "stdout",
     "output_type": "stream",
     "text": [
      "---------------------------------\n",
      "| batch_size        | 3         |\n",
      "| bc/               |           |\n",
      "|    batch          | 168000    |\n",
      "|    ent_loss       | -0.000428 |\n",
      "|    entropy        | 0.428     |\n",
      "|    epoch          | 107       |\n",
      "|    l2_loss        | 0         |\n",
      "|    l2_norm        | 5.57e+03  |\n",
      "|    loss           | 0.585     |\n",
      "|    neglogp        | 0.586     |\n",
      "|    prob_true_act  | 1.13      |\n",
      "|    samples_so_far | 504003    |\n",
      "---------------------------------\n"
     ]
    },
    {
     "name": "stderr",
     "output_type": "stream",
     "text": [
      "168477batch [07:28, 385.88batch/s]"
     ]
    },
    {
     "name": "stdout",
     "output_type": "stream",
     "text": [
      "---------------------------------\n",
      "| batch_size        | 3         |\n",
      "| bc/               |           |\n",
      "|    batch          | 168500    |\n",
      "|    ent_loss       | -0.000411 |\n",
      "|    entropy        | 0.411     |\n",
      "|    epoch          | 107       |\n",
      "|    l2_loss        | 0         |\n",
      "|    l2_norm        | 5.57e+03  |\n",
      "|    loss           | 0.154     |\n",
      "|    neglogp        | 0.154     |\n",
      "|    prob_true_act  | 1.51      |\n",
      "|    samples_so_far | 505503    |\n",
      "---------------------------------\n"
     ]
    },
    {
     "name": "stderr",
     "output_type": "stream",
     "text": [
      "168985batch [07:30, 381.69batch/s]"
     ]
    },
    {
     "name": "stdout",
     "output_type": "stream",
     "text": [
      "---------------------------------\n",
      "| batch_size        | 3         |\n",
      "| bc/               |           |\n",
      "|    batch          | 169000    |\n",
      "|    ent_loss       | -0.000445 |\n",
      "|    entropy        | 0.445     |\n",
      "|    epoch          | 108       |\n",
      "|    l2_loss        | 0         |\n",
      "|    l2_norm        | 5.58e+03  |\n",
      "|    loss           | 0.207     |\n",
      "|    neglogp        | 0.208     |\n",
      "|    prob_true_act  | 1.43      |\n",
      "|    samples_so_far | 507003    |\n",
      "---------------------------------\n"
     ]
    },
    {
     "name": "stderr",
     "output_type": "stream",
     "text": [
      "169462batch [07:31, 392.52batch/s]"
     ]
    },
    {
     "name": "stdout",
     "output_type": "stream",
     "text": [
      "---------------------------------\n",
      "| batch_size        | 3         |\n",
      "| bc/               |           |\n",
      "|    batch          | 169500    |\n",
      "|    ent_loss       | -0.000448 |\n",
      "|    entropy        | 0.448     |\n",
      "|    epoch          | 108       |\n",
      "|    l2_loss        | 0         |\n",
      "|    l2_norm        | 5.58e+03  |\n",
      "|    loss           | 0.669     |\n",
      "|    neglogp        | 0.669     |\n",
      "|    prob_true_act  | 1.22      |\n",
      "|    samples_so_far | 508503    |\n",
      "---------------------------------\n"
     ]
    },
    {
     "name": "stderr",
     "output_type": "stream",
     "text": [
      "169969batch [07:32, 356.91batch/s]"
     ]
    },
    {
     "name": "stdout",
     "output_type": "stream",
     "text": [
      "---------------------------------\n",
      "| batch_size        | 3         |\n",
      "| bc/               |           |\n",
      "|    batch          | 170000    |\n",
      "|    ent_loss       | -0.000439 |\n",
      "|    entropy        | 0.439     |\n",
      "|    epoch          | 108       |\n",
      "|    l2_loss        | 0         |\n",
      "|    l2_norm        | 5.59e+03  |\n",
      "|    loss           | 0.373     |\n",
      "|    neglogp        | 0.373     |\n",
      "|    prob_true_act  | 1.41      |\n",
      "|    samples_so_far | 510003    |\n",
      "---------------------------------\n"
     ]
    },
    {
     "name": "stderr",
     "output_type": "stream",
     "text": [
      "170494batch [07:34, 384.34batch/s]"
     ]
    },
    {
     "name": "stdout",
     "output_type": "stream",
     "text": [
      "---------------------------------\n",
      "| batch_size        | 3         |\n",
      "| bc/               |           |\n",
      "|    batch          | 170500    |\n",
      "|    ent_loss       | -0.000408 |\n",
      "|    entropy        | 0.408     |\n",
      "|    epoch          | 109       |\n",
      "|    l2_loss        | 0         |\n",
      "|    l2_norm        | 5.59e+03  |\n",
      "|    loss           | 0.308     |\n",
      "|    neglogp        | 0.308     |\n",
      "|    prob_true_act  | 1.31      |\n",
      "|    samples_so_far | 511503    |\n",
      "---------------------------------\n"
     ]
    },
    {
     "name": "stderr",
     "output_type": "stream",
     "text": [
      "170973batch [07:35, 378.04batch/s]"
     ]
    },
    {
     "name": "stdout",
     "output_type": "stream",
     "text": [
      "---------------------------------\n",
      "| batch_size        | 3         |\n",
      "| bc/               |           |\n",
      "|    batch          | 171000    |\n",
      "|    ent_loss       | -0.000484 |\n",
      "|    entropy        | 0.484     |\n",
      "|    epoch          | 109       |\n",
      "|    l2_loss        | 0         |\n",
      "|    l2_norm        | 5.59e+03  |\n",
      "|    loss           | 1.32      |\n",
      "|    neglogp        | 1.32      |\n",
      "|    prob_true_act  | 1         |\n",
      "|    samples_so_far | 513003    |\n",
      "---------------------------------\n"
     ]
    },
    {
     "name": "stderr",
     "output_type": "stream",
     "text": [
      "171494batch [07:36, 393.77batch/s]"
     ]
    },
    {
     "name": "stdout",
     "output_type": "stream",
     "text": [
      "---------------------------------\n",
      "| batch_size        | 3         |\n",
      "| bc/               |           |\n",
      "|    batch          | 171500    |\n",
      "|    ent_loss       | -0.000457 |\n",
      "|    entropy        | 0.457     |\n",
      "|    epoch          | 109       |\n",
      "|    l2_loss        | 0         |\n",
      "|    l2_norm        | 5.6e+03   |\n",
      "|    loss           | 0.138     |\n",
      "|    neglogp        | 0.138     |\n",
      "|    prob_true_act  | 1.71      |\n",
      "|    samples_so_far | 514503    |\n",
      "---------------------------------\n"
     ]
    },
    {
     "name": "stderr",
     "output_type": "stream",
     "text": [
      "171963batch [07:37, 379.74batch/s]"
     ]
    },
    {
     "name": "stdout",
     "output_type": "stream",
     "text": [
      "---------------------------------\n",
      "| batch_size        | 3         |\n",
      "| bc/               |           |\n",
      "|    batch          | 172000    |\n",
      "|    ent_loss       | -0.000452 |\n",
      "|    entropy        | 0.452     |\n",
      "|    epoch          | 110       |\n",
      "|    l2_loss        | 0         |\n",
      "|    l2_norm        | 5.6e+03   |\n",
      "|    loss           | 0.732     |\n",
      "|    neglogp        | 0.733     |\n",
      "|    prob_true_act  | 1.34      |\n",
      "|    samples_so_far | 516003    |\n",
      "---------------------------------\n"
     ]
    },
    {
     "name": "stderr",
     "output_type": "stream",
     "text": [
      "172472batch [07:39, 387.73batch/s]"
     ]
    },
    {
     "name": "stdout",
     "output_type": "stream",
     "text": [
      "---------------------------------\n",
      "| batch_size        | 3         |\n",
      "| bc/               |           |\n",
      "|    batch          | 172500    |\n",
      "|    ent_loss       | -0.000447 |\n",
      "|    entropy        | 0.447     |\n",
      "|    epoch          | 110       |\n",
      "|    l2_loss        | 0         |\n",
      "|    l2_norm        | 5.61e+03  |\n",
      "|    loss           | 0.524     |\n",
      "|    neglogp        | 0.525     |\n",
      "|    prob_true_act  | 1.46      |\n",
      "|    samples_so_far | 517503    |\n",
      "---------------------------------\n"
     ]
    },
    {
     "name": "stderr",
     "output_type": "stream",
     "text": [
      "172995batch [07:40, 363.79batch/s]"
     ]
    },
    {
     "name": "stdout",
     "output_type": "stream",
     "text": [
      "---------------------------------\n",
      "| batch_size        | 3         |\n",
      "| bc/               |           |\n",
      "|    batch          | 173000    |\n",
      "|    ent_loss       | -0.000421 |\n",
      "|    entropy        | 0.421     |\n",
      "|    epoch          | 110       |\n",
      "|    l2_loss        | 0         |\n",
      "|    l2_norm        | 5.61e+03  |\n",
      "|    loss           | 0.659     |\n",
      "|    neglogp        | 0.66      |\n",
      "|    prob_true_act  | 1.53      |\n",
      "|    samples_so_far | 519003    |\n",
      "---------------------------------\n"
     ]
    },
    {
     "name": "stderr",
     "output_type": "stream",
     "text": [
      "173476batch [07:42, 363.32batch/s]"
     ]
    },
    {
     "name": "stdout",
     "output_type": "stream",
     "text": [
      "---------------------------------\n",
      "| batch_size        | 3         |\n",
      "| bc/               |           |\n",
      "|    batch          | 173500    |\n",
      "|    ent_loss       | -0.000402 |\n",
      "|    entropy        | 0.402     |\n",
      "|    epoch          | 111       |\n",
      "|    l2_loss        | 0         |\n",
      "|    l2_norm        | 5.61e+03  |\n",
      "|    loss           | 0.969     |\n",
      "|    neglogp        | 0.97      |\n",
      "|    prob_true_act  | 0.994     |\n",
      "|    samples_so_far | 520503    |\n",
      "---------------------------------\n"
     ]
    },
    {
     "name": "stderr",
     "output_type": "stream",
     "text": [
      "173972batch [07:43, 379.62batch/s]"
     ]
    },
    {
     "name": "stdout",
     "output_type": "stream",
     "text": [
      "---------------------------------\n",
      "| batch_size        | 3         |\n",
      "| bc/               |           |\n",
      "|    batch          | 174000    |\n",
      "|    ent_loss       | -0.000426 |\n",
      "|    entropy        | 0.426     |\n",
      "|    epoch          | 111       |\n",
      "|    l2_loss        | 0         |\n",
      "|    l2_norm        | 5.62e+03  |\n",
      "|    loss           | 0.216     |\n",
      "|    neglogp        | 0.217     |\n",
      "|    prob_true_act  | 1.65      |\n",
      "|    samples_so_far | 522003    |\n",
      "---------------------------------\n"
     ]
    },
    {
     "name": "stderr",
     "output_type": "stream",
     "text": [
      "174486batch [07:44, 392.47batch/s]"
     ]
    },
    {
     "name": "stdout",
     "output_type": "stream",
     "text": [
      "---------------------------------\n",
      "| batch_size        | 3         |\n",
      "| bc/               |           |\n",
      "|    batch          | 174500    |\n",
      "|    ent_loss       | -0.000473 |\n",
      "|    entropy        | 0.473     |\n",
      "|    epoch          | 111       |\n",
      "|    l2_loss        | 0         |\n",
      "|    l2_norm        | 5.62e+03  |\n",
      "|    loss           | 0.692     |\n",
      "|    neglogp        | 0.693     |\n",
      "|    prob_true_act  | 1.04      |\n",
      "|    samples_so_far | 523503    |\n",
      "---------------------------------\n"
     ]
    },
    {
     "name": "stderr",
     "output_type": "stream",
     "text": [
      "174965batch [07:45, 384.20batch/s]"
     ]
    },
    {
     "name": "stdout",
     "output_type": "stream",
     "text": [
      "---------------------------------\n",
      "| batch_size        | 3         |\n",
      "| bc/               |           |\n",
      "|    batch          | 175000    |\n",
      "|    ent_loss       | -0.000442 |\n",
      "|    entropy        | 0.442     |\n",
      "|    epoch          | 112       |\n",
      "|    l2_loss        | 0         |\n",
      "|    l2_norm        | 5.62e+03  |\n",
      "|    loss           | 0.149     |\n",
      "|    neglogp        | 0.15      |\n",
      "|    prob_true_act  | 1.54      |\n",
      "|    samples_so_far | 525003    |\n",
      "---------------------------------\n"
     ]
    },
    {
     "name": "stderr",
     "output_type": "stream",
     "text": [
      "175481batch [07:47, 387.22batch/s]"
     ]
    },
    {
     "name": "stdout",
     "output_type": "stream",
     "text": [
      "---------------------------------\n",
      "| batch_size        | 3         |\n",
      "| bc/               |           |\n",
      "|    batch          | 175500    |\n",
      "|    ent_loss       | -0.000423 |\n",
      "|    entropy        | 0.423     |\n",
      "|    epoch          | 112       |\n",
      "|    l2_loss        | 0         |\n",
      "|    l2_norm        | 5.63e+03  |\n",
      "|    loss           | 0.752     |\n",
      "|    neglogp        | 0.752     |\n",
      "|    prob_true_act  | 1.36      |\n",
      "|    samples_so_far | 526503    |\n",
      "---------------------------------\n"
     ]
    },
    {
     "name": "stderr",
     "output_type": "stream",
     "text": [
      "175989batch [07:48, 387.43batch/s]"
     ]
    },
    {
     "name": "stdout",
     "output_type": "stream",
     "text": [
      "---------------------------------\n",
      "| batch_size        | 3         |\n",
      "| bc/               |           |\n",
      "|    batch          | 176000    |\n",
      "|    ent_loss       | -0.000466 |\n",
      "|    entropy        | 0.466     |\n",
      "|    epoch          | 112       |\n",
      "|    l2_loss        | 0         |\n",
      "|    l2_norm        | 5.63e+03  |\n",
      "|    loss           | 1.06      |\n",
      "|    neglogp        | 1.06      |\n",
      "|    prob_true_act  | 1.13      |\n",
      "|    samples_so_far | 528003    |\n",
      "---------------------------------\n"
     ]
    },
    {
     "name": "stderr",
     "output_type": "stream",
     "text": [
      "176465batch [07:49, 383.81batch/s]"
     ]
    },
    {
     "name": "stdout",
     "output_type": "stream",
     "text": [
      "---------------------------------\n",
      "| batch_size        | 3         |\n",
      "| bc/               |           |\n",
      "|    batch          | 176500    |\n",
      "|    ent_loss       | -0.000422 |\n",
      "|    entropy        | 0.422     |\n",
      "|    epoch          | 112       |\n",
      "|    l2_loss        | 0         |\n",
      "|    l2_norm        | 5.64e+03  |\n",
      "|    loss           | 0.653     |\n",
      "|    neglogp        | 0.653     |\n",
      "|    prob_true_act  | 1.43      |\n",
      "|    samples_so_far | 529503    |\n",
      "---------------------------------\n"
     ]
    },
    {
     "name": "stderr",
     "output_type": "stream",
     "text": [
      "176976batch [07:51, 386.47batch/s]"
     ]
    },
    {
     "name": "stdout",
     "output_type": "stream",
     "text": [
      "---------------------------------\n",
      "| batch_size        | 3         |\n",
      "| bc/               |           |\n",
      "|    batch          | 177000    |\n",
      "|    ent_loss       | -0.000445 |\n",
      "|    entropy        | 0.445     |\n",
      "|    epoch          | 113       |\n",
      "|    l2_loss        | 0         |\n",
      "|    l2_norm        | 5.64e+03  |\n",
      "|    loss           | 0.82      |\n",
      "|    neglogp        | 0.821     |\n",
      "|    prob_true_act  | 1.23      |\n",
      "|    samples_so_far | 531003    |\n",
      "---------------------------------\n"
     ]
    },
    {
     "name": "stderr",
     "output_type": "stream",
     "text": [
      "177473batch [07:52, 384.94batch/s]"
     ]
    },
    {
     "name": "stdout",
     "output_type": "stream",
     "text": [
      "--------------------------------\n",
      "| batch_size        | 3        |\n",
      "| bc/               |          |\n",
      "|    batch          | 177500   |\n",
      "|    ent_loss       | -0.00043 |\n",
      "|    entropy        | 0.43     |\n",
      "|    epoch          | 113      |\n",
      "|    l2_loss        | 0        |\n",
      "|    l2_norm        | 5.64e+03 |\n",
      "|    loss           | 0.603    |\n",
      "|    neglogp        | 0.603    |\n",
      "|    prob_true_act  | 1.37     |\n",
      "|    samples_so_far | 532503   |\n",
      "--------------------------------\n"
     ]
    },
    {
     "name": "stderr",
     "output_type": "stream",
     "text": [
      "177975batch [07:53, 371.49batch/s]"
     ]
    },
    {
     "name": "stdout",
     "output_type": "stream",
     "text": [
      "---------------------------------\n",
      "| batch_size        | 3         |\n",
      "| bc/               |           |\n",
      "|    batch          | 178000    |\n",
      "|    ent_loss       | -0.000429 |\n",
      "|    entropy        | 0.429     |\n",
      "|    epoch          | 113       |\n",
      "|    l2_loss        | 0         |\n",
      "|    l2_norm        | 5.65e+03  |\n",
      "|    loss           | 0.182     |\n",
      "|    neglogp        | 0.182     |\n",
      "|    prob_true_act  | 1.34      |\n",
      "|    samples_so_far | 534003    |\n",
      "---------------------------------\n"
     ]
    },
    {
     "name": "stderr",
     "output_type": "stream",
     "text": [
      "178478batch [07:55, 382.11batch/s]"
     ]
    },
    {
     "name": "stdout",
     "output_type": "stream",
     "text": [
      "---------------------------------\n",
      "| batch_size        | 3         |\n",
      "| bc/               |           |\n",
      "|    batch          | 178500    |\n",
      "|    ent_loss       | -0.000447 |\n",
      "|    entropy        | 0.447     |\n",
      "|    epoch          | 114       |\n",
      "|    l2_loss        | 0         |\n",
      "|    l2_norm        | 5.65e+03  |\n",
      "|    loss           | 0.311     |\n",
      "|    neglogp        | 0.311     |\n",
      "|    prob_true_act  | 1.46      |\n",
      "|    samples_so_far | 535503    |\n",
      "---------------------------------\n"
     ]
    },
    {
     "name": "stderr",
     "output_type": "stream",
     "text": [
      "178992batch [07:56, 383.34batch/s]"
     ]
    },
    {
     "name": "stdout",
     "output_type": "stream",
     "text": [
      "---------------------------------\n",
      "| batch_size        | 3         |\n",
      "| bc/               |           |\n",
      "|    batch          | 179000    |\n",
      "|    ent_loss       | -0.000424 |\n",
      "|    entropy        | 0.424     |\n",
      "|    epoch          | 114       |\n",
      "|    l2_loss        | 0         |\n",
      "|    l2_norm        | 5.65e+03  |\n",
      "|    loss           | 0.822     |\n",
      "|    neglogp        | 0.823     |\n",
      "|    prob_true_act  | 1.25      |\n",
      "|    samples_so_far | 537003    |\n",
      "---------------------------------\n"
     ]
    },
    {
     "name": "stderr",
     "output_type": "stream",
     "text": [
      "179471batch [07:57, 393.54batch/s]"
     ]
    },
    {
     "name": "stdout",
     "output_type": "stream",
     "text": [
      "---------------------------------\n",
      "| batch_size        | 3         |\n",
      "| bc/               |           |\n",
      "|    batch          | 179500    |\n",
      "|    ent_loss       | -0.000451 |\n",
      "|    entropy        | 0.451     |\n",
      "|    epoch          | 114       |\n",
      "|    l2_loss        | 0         |\n",
      "|    l2_norm        | 5.66e+03  |\n",
      "|    loss           | 0.152     |\n",
      "|    neglogp        | 0.152     |\n",
      "|    prob_true_act  | 1.21      |\n",
      "|    samples_so_far | 538503    |\n",
      "---------------------------------\n"
     ]
    },
    {
     "name": "stderr",
     "output_type": "stream",
     "text": [
      "179989batch [07:59, 393.27batch/s]"
     ]
    },
    {
     "name": "stdout",
     "output_type": "stream",
     "text": [
      "---------------------------------\n",
      "| batch_size        | 3         |\n",
      "| bc/               |           |\n",
      "|    batch          | 180000    |\n",
      "|    ent_loss       | -0.000464 |\n",
      "|    entropy        | 0.464     |\n",
      "|    epoch          | 115       |\n",
      "|    l2_loss        | 0         |\n",
      "|    l2_norm        | 5.66e+03  |\n",
      "|    loss           | 0.0832    |\n",
      "|    neglogp        | 0.0837    |\n",
      "|    prob_true_act  | 1.58      |\n",
      "|    samples_so_far | 540003    |\n",
      "---------------------------------\n"
     ]
    },
    {
     "name": "stderr",
     "output_type": "stream",
     "text": [
      "180494batch [08:00, 378.51batch/s]"
     ]
    },
    {
     "name": "stdout",
     "output_type": "stream",
     "text": [
      "---------------------------------\n",
      "| batch_size        | 3         |\n",
      "| bc/               |           |\n",
      "|    batch          | 180500    |\n",
      "|    ent_loss       | -0.000408 |\n",
      "|    entropy        | 0.408     |\n",
      "|    epoch          | 115       |\n",
      "|    l2_loss        | 0         |\n",
      "|    l2_norm        | 5.67e+03  |\n",
      "|    loss           | -0.108    |\n",
      "|    neglogp        | -0.108    |\n",
      "|    prob_true_act  | 1.71      |\n",
      "|    samples_so_far | 541503    |\n",
      "---------------------------------\n"
     ]
    },
    {
     "name": "stderr",
     "output_type": "stream",
     "text": [
      "180994batch [08:01, 381.18batch/s]"
     ]
    },
    {
     "name": "stdout",
     "output_type": "stream",
     "text": [
      "---------------------------------\n",
      "| batch_size        | 3         |\n",
      "| bc/               |           |\n",
      "|    batch          | 181000    |\n",
      "|    ent_loss       | -0.000452 |\n",
      "|    entropy        | 0.452     |\n",
      "|    epoch          | 115       |\n",
      "|    l2_loss        | 0         |\n",
      "|    l2_norm        | 5.67e+03  |\n",
      "|    loss           | 0.348     |\n",
      "|    neglogp        | 0.348     |\n",
      "|    prob_true_act  | 1.45      |\n",
      "|    samples_so_far | 543003    |\n",
      "---------------------------------\n"
     ]
    },
    {
     "name": "stderr",
     "output_type": "stream",
     "text": [
      "181498batch [08:03, 374.45batch/s]"
     ]
    },
    {
     "name": "stdout",
     "output_type": "stream",
     "text": [
      "---------------------------------\n",
      "| batch_size        | 3         |\n",
      "| bc/               |           |\n",
      "|    batch          | 181500    |\n",
      "|    ent_loss       | -0.000435 |\n",
      "|    entropy        | 0.435     |\n",
      "|    epoch          | 116       |\n",
      "|    l2_loss        | 0         |\n",
      "|    l2_norm        | 5.68e+03  |\n",
      "|    loss           | 1.03      |\n",
      "|    neglogp        | 1.03      |\n",
      "|    prob_true_act  | 1.12      |\n",
      "|    samples_so_far | 544503    |\n",
      "---------------------------------\n"
     ]
    },
    {
     "name": "stderr",
     "output_type": "stream",
     "text": [
      "181979batch [08:04, 386.24batch/s]"
     ]
    },
    {
     "name": "stdout",
     "output_type": "stream",
     "text": [
      "---------------------------------\n",
      "| batch_size        | 3         |\n",
      "| bc/               |           |\n",
      "|    batch          | 182000    |\n",
      "|    ent_loss       | -0.000416 |\n",
      "|    entropy        | 0.416     |\n",
      "|    epoch          | 116       |\n",
      "|    l2_loss        | 0         |\n",
      "|    l2_norm        | 5.68e+03  |\n",
      "|    loss           | -0.0781   |\n",
      "|    neglogp        | -0.0777   |\n",
      "|    prob_true_act  | 1.78      |\n",
      "|    samples_so_far | 546003    |\n",
      "---------------------------------\n"
     ]
    },
    {
     "name": "stderr",
     "output_type": "stream",
     "text": [
      "182485batch [08:05, 377.58batch/s]"
     ]
    },
    {
     "name": "stdout",
     "output_type": "stream",
     "text": [
      "---------------------------------\n",
      "| batch_size        | 3         |\n",
      "| bc/               |           |\n",
      "|    batch          | 182500    |\n",
      "|    ent_loss       | -0.000419 |\n",
      "|    entropy        | 0.419     |\n",
      "|    epoch          | 116       |\n",
      "|    l2_loss        | 0         |\n",
      "|    l2_norm        | 5.68e+03  |\n",
      "|    loss           | -0.0697   |\n",
      "|    neglogp        | -0.0692   |\n",
      "|    prob_true_act  | 1.82      |\n",
      "|    samples_so_far | 547503    |\n",
      "---------------------------------\n"
     ]
    },
    {
     "name": "stderr",
     "output_type": "stream",
     "text": [
      "182984batch [08:07, 379.61batch/s]"
     ]
    },
    {
     "name": "stdout",
     "output_type": "stream",
     "text": [
      "---------------------------------\n",
      "| batch_size        | 3         |\n",
      "| bc/               |           |\n",
      "|    batch          | 183000    |\n",
      "|    ent_loss       | -0.000454 |\n",
      "|    entropy        | 0.454     |\n",
      "|    epoch          | 117       |\n",
      "|    l2_loss        | 0         |\n",
      "|    l2_norm        | 5.69e+03  |\n",
      "|    loss           | 0.366     |\n",
      "|    neglogp        | 0.367     |\n",
      "|    prob_true_act  | 1.33      |\n",
      "|    samples_so_far | 549003    |\n",
      "---------------------------------\n"
     ]
    },
    {
     "name": "stderr",
     "output_type": "stream",
     "text": [
      "183496batch [08:08, 385.97batch/s]"
     ]
    },
    {
     "name": "stdout",
     "output_type": "stream",
     "text": [
      "---------------------------------\n",
      "| batch_size        | 3         |\n",
      "| bc/               |           |\n",
      "|    batch          | 183500    |\n",
      "|    ent_loss       | -0.000442 |\n",
      "|    entropy        | 0.442     |\n",
      "|    epoch          | 117       |\n",
      "|    l2_loss        | 0         |\n",
      "|    l2_norm        | 5.69e+03  |\n",
      "|    loss           | 0.739     |\n",
      "|    neglogp        | 0.739     |\n",
      "|    prob_true_act  | 1.25      |\n",
      "|    samples_so_far | 550503    |\n",
      "---------------------------------\n"
     ]
    },
    {
     "name": "stderr",
     "output_type": "stream",
     "text": [
      "183998batch [08:09, 360.56batch/s]"
     ]
    },
    {
     "name": "stdout",
     "output_type": "stream",
     "text": [
      "---------------------------------\n",
      "| batch_size        | 3         |\n",
      "| bc/               |           |\n",
      "|    batch          | 184000    |\n",
      "|    ent_loss       | -0.000403 |\n",
      "|    entropy        | 0.403     |\n",
      "|    epoch          | 117       |\n",
      "|    l2_loss        | 0         |\n",
      "|    l2_norm        | 5.69e+03  |\n",
      "|    loss           | -0.0335   |\n",
      "|    neglogp        | -0.0331   |\n",
      "|    prob_true_act  | 1.72      |\n",
      "|    samples_so_far | 552003    |\n",
      "---------------------------------\n"
     ]
    },
    {
     "name": "stderr",
     "output_type": "stream",
     "text": [
      "184468batch [08:10, 388.44batch/s]"
     ]
    },
    {
     "name": "stdout",
     "output_type": "stream",
     "text": [
      "---------------------------------\n",
      "| batch_size        | 3         |\n",
      "| bc/               |           |\n",
      "|    batch          | 184500    |\n",
      "|    ent_loss       | -0.000436 |\n",
      "|    entropy        | 0.436     |\n",
      "|    epoch          | 118       |\n",
      "|    l2_loss        | 0         |\n",
      "|    l2_norm        | 5.7e+03   |\n",
      "|    loss           | 0.755     |\n",
      "|    neglogp        | 0.755     |\n",
      "|    prob_true_act  | 1.18      |\n",
      "|    samples_so_far | 553503    |\n",
      "---------------------------------\n"
     ]
    },
    {
     "name": "stderr",
     "output_type": "stream",
     "text": [
      "184985batch [08:12, 387.48batch/s]"
     ]
    },
    {
     "name": "stdout",
     "output_type": "stream",
     "text": [
      "---------------------------------\n",
      "| batch_size        | 3         |\n",
      "| bc/               |           |\n",
      "|    batch          | 185000    |\n",
      "|    ent_loss       | -0.000443 |\n",
      "|    entropy        | 0.443     |\n",
      "|    epoch          | 118       |\n",
      "|    l2_loss        | 0         |\n",
      "|    l2_norm        | 5.7e+03   |\n",
      "|    loss           | 0.45      |\n",
      "|    neglogp        | 0.45      |\n",
      "|    prob_true_act  | 1.77      |\n",
      "|    samples_so_far | 555003    |\n",
      "---------------------------------\n"
     ]
    },
    {
     "name": "stderr",
     "output_type": "stream",
     "text": [
      "185487batch [08:13, 370.74batch/s]"
     ]
    },
    {
     "name": "stdout",
     "output_type": "stream",
     "text": [
      "---------------------------------\n",
      "| batch_size        | 3         |\n",
      "| bc/               |           |\n",
      "|    batch          | 185500    |\n",
      "|    ent_loss       | -0.000463 |\n",
      "|    entropy        | 0.463     |\n",
      "|    epoch          | 118       |\n",
      "|    l2_loss        | 0         |\n",
      "|    l2_norm        | 5.71e+03  |\n",
      "|    loss           | 0.406     |\n",
      "|    neglogp        | 0.407     |\n",
      "|    prob_true_act  | 1.39      |\n",
      "|    samples_so_far | 556503    |\n",
      "---------------------------------\n"
     ]
    },
    {
     "name": "stderr",
     "output_type": "stream",
     "text": [
      "185992batch [08:14, 379.96batch/s]"
     ]
    },
    {
     "name": "stdout",
     "output_type": "stream",
     "text": [
      "---------------------------------\n",
      "| batch_size        | 3         |\n",
      "| bc/               |           |\n",
      "|    batch          | 186000    |\n",
      "|    ent_loss       | -0.000437 |\n",
      "|    entropy        | 0.437     |\n",
      "|    epoch          | 119       |\n",
      "|    l2_loss        | 0         |\n",
      "|    l2_norm        | 5.71e+03  |\n",
      "|    loss           | 0.382     |\n",
      "|    neglogp        | 0.382     |\n",
      "|    prob_true_act  | 1.16      |\n",
      "|    samples_so_far | 558003    |\n",
      "---------------------------------\n"
     ]
    },
    {
     "name": "stderr",
     "output_type": "stream",
     "text": [
      "186493batch [08:16, 371.92batch/s]"
     ]
    },
    {
     "name": "stdout",
     "output_type": "stream",
     "text": [
      "---------------------------------\n",
      "| batch_size        | 3         |\n",
      "| bc/               |           |\n",
      "|    batch          | 186500    |\n",
      "|    ent_loss       | -0.000452 |\n",
      "|    entropy        | 0.452     |\n",
      "|    epoch          | 119       |\n",
      "|    l2_loss        | 0         |\n",
      "|    l2_norm        | 5.72e+03  |\n",
      "|    loss           | 0.233     |\n",
      "|    neglogp        | 0.233     |\n",
      "|    prob_true_act  | 1.32      |\n",
      "|    samples_so_far | 559503    |\n",
      "---------------------------------\n"
     ]
    },
    {
     "name": "stderr",
     "output_type": "stream",
     "text": [
      "187000batch [08:17, 386.08batch/s]"
     ]
    },
    {
     "name": "stdout",
     "output_type": "stream",
     "text": [
      "---------------------------------\n",
      "| batch_size        | 3         |\n",
      "| bc/               |           |\n",
      "|    batch          | 187000    |\n",
      "|    ent_loss       | -0.000426 |\n",
      "|    entropy        | 0.426     |\n",
      "|    epoch          | 119       |\n",
      "|    l2_loss        | 0         |\n",
      "|    l2_norm        | 5.72e+03  |\n",
      "|    loss           | -0.114    |\n",
      "|    neglogp        | -0.114    |\n",
      "|    prob_true_act  | 1.75      |\n",
      "|    samples_so_far | 561003    |\n",
      "---------------------------------\n"
     ]
    },
    {
     "name": "stderr",
     "output_type": "stream",
     "text": [
      "187469batch [08:18, 381.89batch/s]"
     ]
    },
    {
     "name": "stdout",
     "output_type": "stream",
     "text": [
      "---------------------------------\n",
      "| batch_size        | 3         |\n",
      "| bc/               |           |\n",
      "|    batch          | 187500    |\n",
      "|    ent_loss       | -0.000427 |\n",
      "|    entropy        | 0.427     |\n",
      "|    epoch          | 120       |\n",
      "|    l2_loss        | 0         |\n",
      "|    l2_norm        | 5.72e+03  |\n",
      "|    loss           | 0.311     |\n",
      "|    neglogp        | 0.312     |\n",
      "|    prob_true_act  | 1.17      |\n",
      "|    samples_so_far | 562503    |\n",
      "---------------------------------\n"
     ]
    },
    {
     "name": "stderr",
     "output_type": "stream",
     "text": [
      "187975batch [08:20, 367.52batch/s]"
     ]
    },
    {
     "name": "stdout",
     "output_type": "stream",
     "text": [
      "--------------------------------\n",
      "| batch_size        | 3        |\n",
      "| bc/               |          |\n",
      "|    batch          | 188000   |\n",
      "|    ent_loss       | -0.00043 |\n",
      "|    entropy        | 0.43     |\n",
      "|    epoch          | 120      |\n",
      "|    l2_loss        | 0        |\n",
      "|    l2_norm        | 5.72e+03 |\n",
      "|    loss           | 0.402    |\n",
      "|    neglogp        | 0.402    |\n",
      "|    prob_true_act  | 1.2      |\n",
      "|    samples_so_far | 564003   |\n",
      "--------------------------------\n"
     ]
    },
    {
     "name": "stderr",
     "output_type": "stream",
     "text": [
      "188483batch [08:21, 385.62batch/s]"
     ]
    },
    {
     "name": "stdout",
     "output_type": "stream",
     "text": [
      "---------------------------------\n",
      "| batch_size        | 3         |\n",
      "| bc/               |           |\n",
      "|    batch          | 188500    |\n",
      "|    ent_loss       | -0.000429 |\n",
      "|    entropy        | 0.429     |\n",
      "|    epoch          | 120       |\n",
      "|    l2_loss        | 0         |\n",
      "|    l2_norm        | 5.73e+03  |\n",
      "|    loss           | 0.0368    |\n",
      "|    neglogp        | 0.0372    |\n",
      "|    prob_true_act  | 1.72      |\n",
      "|    samples_so_far | 565503    |\n",
      "---------------------------------\n"
     ]
    },
    {
     "name": "stderr",
     "output_type": "stream",
     "text": [
      "188983batch [08:22, 383.18batch/s]"
     ]
    },
    {
     "name": "stdout",
     "output_type": "stream",
     "text": [
      "---------------------------------\n",
      "| batch_size        | 3         |\n",
      "| bc/               |           |\n",
      "|    batch          | 189000    |\n",
      "|    ent_loss       | -0.000467 |\n",
      "|    entropy        | 0.467     |\n",
      "|    epoch          | 120       |\n",
      "|    l2_loss        | 0         |\n",
      "|    l2_norm        | 5.73e+03  |\n",
      "|    loss           | 0.367     |\n",
      "|    neglogp        | 0.367     |\n",
      "|    prob_true_act  | 1.28      |\n",
      "|    samples_so_far | 567003    |\n",
      "---------------------------------\n"
     ]
    },
    {
     "name": "stderr",
     "output_type": "stream",
     "text": [
      "189486batch [08:24, 379.97batch/s]"
     ]
    },
    {
     "name": "stdout",
     "output_type": "stream",
     "text": [
      "--------------------------------\n",
      "| batch_size        | 3        |\n",
      "| bc/               |          |\n",
      "|    batch          | 189500   |\n",
      "|    ent_loss       | -0.00045 |\n",
      "|    entropy        | 0.45     |\n",
      "|    epoch          | 121      |\n",
      "|    l2_loss        | 0        |\n",
      "|    l2_norm        | 5.74e+03 |\n",
      "|    loss           | 0.281    |\n",
      "|    neglogp        | 0.282    |\n",
      "|    prob_true_act  | 1.24     |\n",
      "|    samples_so_far | 568503   |\n",
      "--------------------------------\n"
     ]
    },
    {
     "name": "stderr",
     "output_type": "stream",
     "text": [
      "189985batch [08:25, 353.25batch/s]"
     ]
    },
    {
     "name": "stdout",
     "output_type": "stream",
     "text": [
      "---------------------------------\n",
      "| batch_size        | 3         |\n",
      "| bc/               |           |\n",
      "|    batch          | 190000    |\n",
      "|    ent_loss       | -0.000435 |\n",
      "|    entropy        | 0.435     |\n",
      "|    epoch          | 121       |\n",
      "|    l2_loss        | 0         |\n",
      "|    l2_norm        | 5.74e+03  |\n",
      "|    loss           | 1.08      |\n",
      "|    neglogp        | 1.08      |\n",
      "|    prob_true_act  | 0.883     |\n",
      "|    samples_so_far | 570003    |\n",
      "---------------------------------\n"
     ]
    },
    {
     "name": "stderr",
     "output_type": "stream",
     "text": [
      "190494batch [08:26, 373.49batch/s]"
     ]
    },
    {
     "name": "stdout",
     "output_type": "stream",
     "text": [
      "--------------------------------\n",
      "| batch_size        | 3        |\n",
      "| bc/               |          |\n",
      "|    batch          | 190500   |\n",
      "|    ent_loss       | -0.00046 |\n",
      "|    entropy        | 0.46     |\n",
      "|    epoch          | 121      |\n",
      "|    l2_loss        | 0        |\n",
      "|    l2_norm        | 5.75e+03 |\n",
      "|    loss           | 0.619    |\n",
      "|    neglogp        | 0.62     |\n",
      "|    prob_true_act  | 1.19     |\n",
      "|    samples_so_far | 571503   |\n",
      "--------------------------------\n"
     ]
    },
    {
     "name": "stderr",
     "output_type": "stream",
     "text": [
      "190987batch [08:28, 381.94batch/s]"
     ]
    },
    {
     "name": "stdout",
     "output_type": "stream",
     "text": [
      "---------------------------------\n",
      "| batch_size        | 3         |\n",
      "| bc/               |           |\n",
      "|    batch          | 191000    |\n",
      "|    ent_loss       | -0.000447 |\n",
      "|    entropy        | 0.447     |\n",
      "|    epoch          | 122       |\n",
      "|    l2_loss        | 0         |\n",
      "|    l2_norm        | 5.75e+03  |\n",
      "|    loss           | 0.503     |\n",
      "|    neglogp        | 0.503     |\n",
      "|    prob_true_act  | 1.28      |\n",
      "|    samples_so_far | 573003    |\n",
      "---------------------------------\n"
     ]
    },
    {
     "name": "stderr",
     "output_type": "stream",
     "text": [
      "191493batch [08:29, 389.32batch/s]"
     ]
    },
    {
     "name": "stdout",
     "output_type": "stream",
     "text": [
      "---------------------------------\n",
      "| batch_size        | 3         |\n",
      "| bc/               |           |\n",
      "|    batch          | 191500    |\n",
      "|    ent_loss       | -0.000433 |\n",
      "|    entropy        | 0.433     |\n",
      "|    epoch          | 122       |\n",
      "|    l2_loss        | 0         |\n",
      "|    l2_norm        | 5.76e+03  |\n",
      "|    loss           | 1.15      |\n",
      "|    neglogp        | 1.15      |\n",
      "|    prob_true_act  | 1.07      |\n",
      "|    samples_so_far | 574503    |\n",
      "---------------------------------\n"
     ]
    },
    {
     "name": "stderr",
     "output_type": "stream",
     "text": [
      "191999batch [08:30, 384.55batch/s]"
     ]
    },
    {
     "name": "stdout",
     "output_type": "stream",
     "text": [
      "---------------------------------\n",
      "| batch_size        | 3         |\n",
      "| bc/               |           |\n",
      "|    batch          | 192000    |\n",
      "|    ent_loss       | -0.000401 |\n",
      "|    entropy        | 0.401     |\n",
      "|    epoch          | 122       |\n",
      "|    l2_loss        | 0         |\n",
      "|    l2_norm        | 5.76e+03  |\n",
      "|    loss           | 0.304     |\n",
      "|    neglogp        | 0.305     |\n",
      "|    prob_true_act  | 1.46      |\n",
      "|    samples_so_far | 576003    |\n",
      "---------------------------------\n"
     ]
    },
    {
     "name": "stderr",
     "output_type": "stream",
     "text": [
      "192466batch [08:32, 376.33batch/s]"
     ]
    },
    {
     "name": "stdout",
     "output_type": "stream",
     "text": [
      "---------------------------------\n",
      "| batch_size        | 3         |\n",
      "| bc/               |           |\n",
      "|    batch          | 192500    |\n",
      "|    ent_loss       | -0.000446 |\n",
      "|    entropy        | 0.446     |\n",
      "|    epoch          | 123       |\n",
      "|    l2_loss        | 0         |\n",
      "|    l2_norm        | 5.76e+03  |\n",
      "|    loss           | 0.269     |\n",
      "|    neglogp        | 0.269     |\n",
      "|    prob_true_act  | 1.37      |\n",
      "|    samples_so_far | 577503    |\n",
      "---------------------------------\n"
     ]
    },
    {
     "name": "stderr",
     "output_type": "stream",
     "text": [
      "192981batch [08:33, 398.45batch/s]"
     ]
    },
    {
     "name": "stdout",
     "output_type": "stream",
     "text": [
      "---------------------------------\n",
      "| batch_size        | 3         |\n",
      "| bc/               |           |\n",
      "|    batch          | 193000    |\n",
      "|    ent_loss       | -0.000419 |\n",
      "|    entropy        | 0.419     |\n",
      "|    epoch          | 123       |\n",
      "|    l2_loss        | 0         |\n",
      "|    l2_norm        | 5.76e+03  |\n",
      "|    loss           | 0.651     |\n",
      "|    neglogp        | 0.651     |\n",
      "|    prob_true_act  | 1.23      |\n",
      "|    samples_so_far | 579003    |\n",
      "---------------------------------\n"
     ]
    },
    {
     "name": "stderr",
     "output_type": "stream",
     "text": [
      "193467batch [08:34, 396.84batch/s]"
     ]
    },
    {
     "name": "stdout",
     "output_type": "stream",
     "text": [
      "---------------------------------\n",
      "| batch_size        | 3         |\n",
      "| bc/               |           |\n",
      "|    batch          | 193500    |\n",
      "|    ent_loss       | -0.000469 |\n",
      "|    entropy        | 0.469     |\n",
      "|    epoch          | 123       |\n",
      "|    l2_loss        | 0         |\n",
      "|    l2_norm        | 5.77e+03  |\n",
      "|    loss           | 0.322     |\n",
      "|    neglogp        | 0.322     |\n",
      "|    prob_true_act  | 1.23      |\n",
      "|    samples_so_far | 580503    |\n",
      "---------------------------------\n"
     ]
    },
    {
     "name": "stderr",
     "output_type": "stream",
     "text": [
      "193985batch [08:36, 392.83batch/s]"
     ]
    },
    {
     "name": "stdout",
     "output_type": "stream",
     "text": [
      "---------------------------------\n",
      "| batch_size        | 3         |\n",
      "| bc/               |           |\n",
      "|    batch          | 194000    |\n",
      "|    ent_loss       | -0.000408 |\n",
      "|    entropy        | 0.408     |\n",
      "|    epoch          | 124       |\n",
      "|    l2_loss        | 0         |\n",
      "|    l2_norm        | 5.77e+03  |\n",
      "|    loss           | 0.755     |\n",
      "|    neglogp        | 0.755     |\n",
      "|    prob_true_act  | 1.15      |\n",
      "|    samples_so_far | 582003    |\n",
      "---------------------------------\n"
     ]
    },
    {
     "name": "stderr",
     "output_type": "stream",
     "text": [
      "194499batch [08:37, 377.98batch/s]"
     ]
    },
    {
     "name": "stdout",
     "output_type": "stream",
     "text": [
      "--------------------------------\n",
      "| batch_size        | 3        |\n",
      "| bc/               |          |\n",
      "|    batch          | 194500   |\n",
      "|    ent_loss       | -0.00042 |\n",
      "|    entropy        | 0.42     |\n",
      "|    epoch          | 124      |\n",
      "|    l2_loss        | 0        |\n",
      "|    l2_norm        | 5.78e+03 |\n",
      "|    loss           | 0.285    |\n",
      "|    neglogp        | 0.285    |\n",
      "|    prob_true_act  | 1.43     |\n",
      "|    samples_so_far | 583503   |\n",
      "--------------------------------\n"
     ]
    },
    {
     "name": "stderr",
     "output_type": "stream",
     "text": [
      "194990batch [08:38, 362.29batch/s]"
     ]
    },
    {
     "name": "stdout",
     "output_type": "stream",
     "text": [
      "---------------------------------\n",
      "| batch_size        | 3         |\n",
      "| bc/               |           |\n",
      "|    batch          | 195000    |\n",
      "|    ent_loss       | -0.000462 |\n",
      "|    entropy        | 0.462     |\n",
      "|    epoch          | 124       |\n",
      "|    l2_loss        | 0         |\n",
      "|    l2_norm        | 5.78e+03  |\n",
      "|    loss           | 0.362     |\n",
      "|    neglogp        | 0.363     |\n",
      "|    prob_true_act  | 1.48      |\n",
      "|    samples_so_far | 585003    |\n",
      "---------------------------------\n"
     ]
    },
    {
     "name": "stderr",
     "output_type": "stream",
     "text": [
      "195481batch [08:40, 375.64batch/s]"
     ]
    },
    {
     "name": "stdout",
     "output_type": "stream",
     "text": [
      "---------------------------------\n",
      "| batch_size        | 3         |\n",
      "| bc/               |           |\n",
      "|    batch          | 195500    |\n",
      "|    ent_loss       | -0.000449 |\n",
      "|    entropy        | 0.449     |\n",
      "|    epoch          | 125       |\n",
      "|    l2_loss        | 0         |\n",
      "|    l2_norm        | 5.78e+03  |\n",
      "|    loss           | 0.453     |\n",
      "|    neglogp        | 0.453     |\n",
      "|    prob_true_act  | 1.28      |\n",
      "|    samples_so_far | 586503    |\n",
      "---------------------------------\n"
     ]
    },
    {
     "name": "stderr",
     "output_type": "stream",
     "text": [
      "195990batch [08:41, 385.65batch/s]"
     ]
    },
    {
     "name": "stdout",
     "output_type": "stream",
     "text": [
      "---------------------------------\n",
      "| batch_size        | 3         |\n",
      "| bc/               |           |\n",
      "|    batch          | 196000    |\n",
      "|    ent_loss       | -0.000431 |\n",
      "|    entropy        | 0.431     |\n",
      "|    epoch          | 125       |\n",
      "|    l2_loss        | 0         |\n",
      "|    l2_norm        | 5.79e+03  |\n",
      "|    loss           | 0.142     |\n",
      "|    neglogp        | 0.143     |\n",
      "|    prob_true_act  | 1.44      |\n",
      "|    samples_so_far | 588003    |\n",
      "---------------------------------\n"
     ]
    },
    {
     "name": "stderr",
     "output_type": "stream",
     "text": [
      "196500batch [08:42, 380.22batch/s]"
     ]
    },
    {
     "name": "stdout",
     "output_type": "stream",
     "text": [
      "---------------------------------\n",
      "| batch_size        | 3         |\n",
      "| bc/               |           |\n",
      "|    batch          | 196500    |\n",
      "|    ent_loss       | -0.000419 |\n",
      "|    entropy        | 0.419     |\n",
      "|    epoch          | 125       |\n",
      "|    l2_loss        | 0         |\n",
      "|    l2_norm        | 5.79e+03  |\n",
      "|    loss           | 0.252     |\n",
      "|    neglogp        | 0.253     |\n",
      "|    prob_true_act  | 1.54      |\n",
      "|    samples_so_far | 589503    |\n",
      "---------------------------------\n"
     ]
    },
    {
     "name": "stderr",
     "output_type": "stream",
     "text": [
      "196978batch [08:44, 380.87batch/s]"
     ]
    },
    {
     "name": "stdout",
     "output_type": "stream",
     "text": [
      "---------------------------------\n",
      "| batch_size        | 3         |\n",
      "| bc/               |           |\n",
      "|    batch          | 197000    |\n",
      "|    ent_loss       | -0.000433 |\n",
      "|    entropy        | 0.433     |\n",
      "|    epoch          | 126       |\n",
      "|    l2_loss        | 0         |\n",
      "|    l2_norm        | 5.79e+03  |\n",
      "|    loss           | 0.212     |\n",
      "|    neglogp        | 0.212     |\n",
      "|    prob_true_act  | 1.69      |\n",
      "|    samples_so_far | 591003    |\n",
      "---------------------------------\n"
     ]
    },
    {
     "name": "stderr",
     "output_type": "stream",
     "text": [
      "197484batch [08:45, 372.10batch/s]"
     ]
    },
    {
     "name": "stdout",
     "output_type": "stream",
     "text": [
      "---------------------------------\n",
      "| batch_size        | 3         |\n",
      "| bc/               |           |\n",
      "|    batch          | 197500    |\n",
      "|    ent_loss       | -0.000444 |\n",
      "|    entropy        | 0.444     |\n",
      "|    epoch          | 126       |\n",
      "|    l2_loss        | 0         |\n",
      "|    l2_norm        | 5.8e+03   |\n",
      "|    loss           | 0.239     |\n",
      "|    neglogp        | 0.24      |\n",
      "|    prob_true_act  | 1.28      |\n",
      "|    samples_so_far | 592503    |\n",
      "---------------------------------\n"
     ]
    },
    {
     "name": "stderr",
     "output_type": "stream",
     "text": [
      "197991batch [08:46, 366.33batch/s]"
     ]
    },
    {
     "name": "stdout",
     "output_type": "stream",
     "text": [
      "---------------------------------\n",
      "| batch_size        | 3         |\n",
      "| bc/               |           |\n",
      "|    batch          | 198000    |\n",
      "|    ent_loss       | -0.000427 |\n",
      "|    entropy        | 0.427     |\n",
      "|    epoch          | 126       |\n",
      "|    l2_loss        | 0         |\n",
      "|    l2_norm        | 5.8e+03   |\n",
      "|    loss           | -0.139    |\n",
      "|    neglogp        | -0.139    |\n",
      "|    prob_true_act  | 1.79      |\n",
      "|    samples_so_far | 594003    |\n",
      "---------------------------------\n"
     ]
    },
    {
     "name": "stderr",
     "output_type": "stream",
     "text": [
      "198498batch [08:48, 382.24batch/s]"
     ]
    },
    {
     "name": "stdout",
     "output_type": "stream",
     "text": [
      "---------------------------------\n",
      "| batch_size        | 3         |\n",
      "| bc/               |           |\n",
      "|    batch          | 198500    |\n",
      "|    ent_loss       | -0.000443 |\n",
      "|    entropy        | 0.443     |\n",
      "|    epoch          | 127       |\n",
      "|    l2_loss        | 0         |\n",
      "|    l2_norm        | 5.81e+03  |\n",
      "|    loss           | 0.613     |\n",
      "|    neglogp        | 0.614     |\n",
      "|    prob_true_act  | 1.17      |\n",
      "|    samples_so_far | 595503    |\n",
      "---------------------------------\n"
     ]
    },
    {
     "name": "stderr",
     "output_type": "stream",
     "text": [
      "198976batch [08:49, 393.03batch/s]"
     ]
    },
    {
     "name": "stdout",
     "output_type": "stream",
     "text": [
      "---------------------------------\n",
      "| batch_size        | 3         |\n",
      "| bc/               |           |\n",
      "|    batch          | 199000    |\n",
      "|    ent_loss       | -0.000424 |\n",
      "|    entropy        | 0.424     |\n",
      "|    epoch          | 127       |\n",
      "|    l2_loss        | 0         |\n",
      "|    l2_norm        | 5.81e+03  |\n",
      "|    loss           | 0.399     |\n",
      "|    neglogp        | 0.399     |\n",
      "|    prob_true_act  | 1.43      |\n",
      "|    samples_so_far | 597003    |\n",
      "---------------------------------\n"
     ]
    },
    {
     "name": "stderr",
     "output_type": "stream",
     "text": [
      "199485batch [08:50, 375.74batch/s]"
     ]
    },
    {
     "name": "stdout",
     "output_type": "stream",
     "text": [
      "---------------------------------\n",
      "| batch_size        | 3         |\n",
      "| bc/               |           |\n",
      "|    batch          | 199500    |\n",
      "|    ent_loss       | -0.000422 |\n",
      "|    entropy        | 0.422     |\n",
      "|    epoch          | 127       |\n",
      "|    l2_loss        | 0         |\n",
      "|    l2_norm        | 5.81e+03  |\n",
      "|    loss           | 0.146     |\n",
      "|    neglogp        | 0.147     |\n",
      "|    prob_true_act  | 1.45      |\n",
      "|    samples_so_far | 598503    |\n",
      "---------------------------------\n"
     ]
    },
    {
     "name": "stderr",
     "output_type": "stream",
     "text": [
      "199981batch [08:52, 370.63batch/s]"
     ]
    },
    {
     "name": "stdout",
     "output_type": "stream",
     "text": [
      "---------------------------------\n",
      "| batch_size        | 3         |\n",
      "| bc/               |           |\n",
      "|    batch          | 200000    |\n",
      "|    ent_loss       | -0.000447 |\n",
      "|    entropy        | 0.447     |\n",
      "|    epoch          | 128       |\n",
      "|    l2_loss        | 0         |\n",
      "|    l2_norm        | 5.82e+03  |\n",
      "|    loss           | -0.297    |\n",
      "|    neglogp        | -0.296    |\n",
      "|    prob_true_act  | 1.71      |\n",
      "|    samples_so_far | 600003    |\n",
      "---------------------------------\n"
     ]
    },
    {
     "name": "stderr",
     "output_type": "stream",
     "text": [
      "200493batch [08:53, 347.24batch/s]"
     ]
    },
    {
     "name": "stdout",
     "output_type": "stream",
     "text": [
      "---------------------------------\n",
      "| batch_size        | 3         |\n",
      "| bc/               |           |\n",
      "|    batch          | 200500    |\n",
      "|    ent_loss       | -0.000408 |\n",
      "|    entropy        | 0.408     |\n",
      "|    epoch          | 128       |\n",
      "|    l2_loss        | 0         |\n",
      "|    l2_norm        | 5.82e+03  |\n",
      "|    loss           | 0.298     |\n",
      "|    neglogp        | 0.298     |\n",
      "|    prob_true_act  | 1.71      |\n",
      "|    samples_so_far | 601503    |\n",
      "---------------------------------\n"
     ]
    },
    {
     "name": "stderr",
     "output_type": "stream",
     "text": [
      "200999batch [08:54, 378.55batch/s]"
     ]
    },
    {
     "name": "stdout",
     "output_type": "stream",
     "text": [
      "---------------------------------\n",
      "| batch_size        | 3         |\n",
      "| bc/               |           |\n",
      "|    batch          | 201000    |\n",
      "|    ent_loss       | -0.000415 |\n",
      "|    entropy        | 0.415     |\n",
      "|    epoch          | 128       |\n",
      "|    l2_loss        | 0         |\n",
      "|    l2_norm        | 5.83e+03  |\n",
      "|    loss           | 0.811     |\n",
      "|    neglogp        | 0.811     |\n",
      "|    prob_true_act  | 1.35      |\n",
      "|    samples_so_far | 603003    |\n",
      "---------------------------------\n"
     ]
    },
    {
     "name": "stderr",
     "output_type": "stream",
     "text": [
      "201477batch [08:56, 368.01batch/s]"
     ]
    },
    {
     "name": "stdout",
     "output_type": "stream",
     "text": [
      "---------------------------------\n",
      "| batch_size        | 3         |\n",
      "| bc/               |           |\n",
      "|    batch          | 201500    |\n",
      "|    ent_loss       | -0.000428 |\n",
      "|    entropy        | 0.428     |\n",
      "|    epoch          | 129       |\n",
      "|    l2_loss        | 0         |\n",
      "|    l2_norm        | 5.83e+03  |\n",
      "|    loss           | -0.0415   |\n",
      "|    neglogp        | -0.0411   |\n",
      "|    prob_true_act  | 1.48      |\n",
      "|    samples_so_far | 604503    |\n",
      "---------------------------------\n"
     ]
    },
    {
     "name": "stderr",
     "output_type": "stream",
     "text": [
      "201962batch [08:57, 370.89batch/s]"
     ]
    },
    {
     "name": "stdout",
     "output_type": "stream",
     "text": [
      "---------------------------------\n",
      "| batch_size        | 3         |\n",
      "| bc/               |           |\n",
      "|    batch          | 202000    |\n",
      "|    ent_loss       | -0.000438 |\n",
      "|    entropy        | 0.438     |\n",
      "|    epoch          | 129       |\n",
      "|    l2_loss        | 0         |\n",
      "|    l2_norm        | 5.83e+03  |\n",
      "|    loss           | 0.865     |\n",
      "|    neglogp        | 0.865     |\n",
      "|    prob_true_act  | 1.22      |\n",
      "|    samples_so_far | 606003    |\n",
      "---------------------------------\n"
     ]
    },
    {
     "name": "stderr",
     "output_type": "stream",
     "text": [
      "202467batch [08:58, 368.67batch/s]"
     ]
    },
    {
     "name": "stdout",
     "output_type": "stream",
     "text": [
      "---------------------------------\n",
      "| batch_size        | 3         |\n",
      "| bc/               |           |\n",
      "|    batch          | 202500    |\n",
      "|    ent_loss       | -0.000424 |\n",
      "|    entropy        | 0.424     |\n",
      "|    epoch          | 129       |\n",
      "|    l2_loss        | 0         |\n",
      "|    l2_norm        | 5.84e+03  |\n",
      "|    loss           | 0.226     |\n",
      "|    neglogp        | 0.226     |\n",
      "|    prob_true_act  | 1.62      |\n",
      "|    samples_so_far | 607503    |\n",
      "---------------------------------\n"
     ]
    },
    {
     "name": "stderr",
     "output_type": "stream",
     "text": [
      "202990batch [09:00, 362.32batch/s]"
     ]
    },
    {
     "name": "stdout",
     "output_type": "stream",
     "text": [
      "---------------------------------\n",
      "| batch_size        | 3         |\n",
      "| bc/               |           |\n",
      "|    batch          | 203000    |\n",
      "|    ent_loss       | -0.000416 |\n",
      "|    entropy        | 0.416     |\n",
      "|    epoch          | 129       |\n",
      "|    l2_loss        | 0         |\n",
      "|    l2_norm        | 5.84e+03  |\n",
      "|    loss           | 0.774     |\n",
      "|    neglogp        | 0.774     |\n",
      "|    prob_true_act  | 1.25      |\n",
      "|    samples_so_far | 609003    |\n",
      "---------------------------------\n"
     ]
    },
    {
     "name": "stderr",
     "output_type": "stream",
     "text": [
      "203496batch [09:01, 359.23batch/s]"
     ]
    },
    {
     "name": "stdout",
     "output_type": "stream",
     "text": [
      "--------------------------------\n",
      "| batch_size        | 3        |\n",
      "| bc/               |          |\n",
      "|    batch          | 203500   |\n",
      "|    ent_loss       | -0.00044 |\n",
      "|    entropy        | 0.44     |\n",
      "|    epoch          | 130      |\n",
      "|    l2_loss        | 0        |\n",
      "|    l2_norm        | 5.84e+03 |\n",
      "|    loss           | 0.0818   |\n",
      "|    neglogp        | 0.0822   |\n",
      "|    prob_true_act  | 1.46     |\n",
      "|    samples_so_far | 610503   |\n",
      "--------------------------------\n"
     ]
    },
    {
     "name": "stderr",
     "output_type": "stream",
     "text": [
      "203981batch [09:03, 334.63batch/s]"
     ]
    },
    {
     "name": "stdout",
     "output_type": "stream",
     "text": [
      "---------------------------------\n",
      "| batch_size        | 3         |\n",
      "| bc/               |           |\n",
      "|    batch          | 204000    |\n",
      "|    ent_loss       | -0.000398 |\n",
      "|    entropy        | 0.398     |\n",
      "|    epoch          | 130       |\n",
      "|    l2_loss        | 0         |\n",
      "|    l2_norm        | 5.85e+03  |\n",
      "|    loss           | 0.167     |\n",
      "|    neglogp        | 0.168     |\n",
      "|    prob_true_act  | 1.4       |\n",
      "|    samples_so_far | 612003    |\n",
      "---------------------------------\n"
     ]
    },
    {
     "name": "stderr",
     "output_type": "stream",
     "text": [
      "204500batch [09:04, 367.77batch/s]"
     ]
    },
    {
     "name": "stdout",
     "output_type": "stream",
     "text": [
      "---------------------------------\n",
      "| batch_size        | 3         |\n",
      "| bc/               |           |\n",
      "|    batch          | 204500    |\n",
      "|    ent_loss       | -0.000458 |\n",
      "|    entropy        | 0.458     |\n",
      "|    epoch          | 130       |\n",
      "|    l2_loss        | 0         |\n",
      "|    l2_norm        | 5.85e+03  |\n",
      "|    loss           | 0.482     |\n",
      "|    neglogp        | 0.483     |\n",
      "|    prob_true_act  | 1.31      |\n",
      "|    samples_so_far | 613503    |\n",
      "---------------------------------\n"
     ]
    },
    {
     "name": "stderr",
     "output_type": "stream",
     "text": [
      "204598batch [09:04, 375.50batch/s]\n"
     ]
    },
    {
     "ename": "KeyboardInterrupt",
     "evalue": "",
     "output_type": "error",
     "traceback": [
      "\u001b[0;31m---------------------------------------------------------------------------\u001b[0m",
      "\u001b[0;31mKeyboardInterrupt\u001b[0m                         Traceback (most recent call last)",
      "\u001b[1;32m/home/hendrik/Documents/master_project/Code/MetaWorld/non_imitation_bs.ipynb Cell 8'\u001b[0m in \u001b[0;36m<cell line: 1>\u001b[0;34m()\u001b[0m\n\u001b[0;32m----> <a href='vscode-notebook-cell:/home/hendrik/Documents/master_project/Code/MetaWorld/non_imitation_bs.ipynb#ch0000089?line=0'>1</a>\u001b[0m train_policy(\n\u001b[1;32m      <a href='vscode-notebook-cell:/home/hendrik/Documents/master_project/Code/MetaWorld/non_imitation_bs.ipynb#ch0000089?line=1'>2</a>\u001b[0m     trainer\u001b[39m=\u001b[39;49mbc_trainer,\n\u001b[1;32m      <a href='vscode-notebook-cell:/home/hendrik/Documents/master_project/Code/MetaWorld/non_imitation_bs.ipynb#ch0000089?line=2'>3</a>\u001b[0m     learn_fct\u001b[39m=\u001b[39;49mbc_trainer\u001b[39m.\u001b[39;49mtrain,\n\u001b[1;32m      <a href='vscode-notebook-cell:/home/hendrik/Documents/master_project/Code/MetaWorld/non_imitation_bs.ipynb#ch0000089?line=3'>4</a>\u001b[0m     val_env\u001b[39m=\u001b[39;49mmodel\u001b[39m.\u001b[39;49menv,\n\u001b[1;32m      <a href='vscode-notebook-cell:/home/hendrik/Documents/master_project/Code/MetaWorld/non_imitation_bs.ipynb#ch0000089?line=4'>5</a>\u001b[0m     logname\u001b[39m=\u001b[39;49m\u001b[39m'\u001b[39;49m\u001b[39mBC Trainer Test\u001b[39;49m\u001b[39m'\u001b[39;49m,\n\u001b[1;32m      <a href='vscode-notebook-cell:/home/hendrik/Documents/master_project/Code/MetaWorld/non_imitation_bs.ipynb#ch0000089?line=5'>6</a>\u001b[0m     path\u001b[39m=\u001b[39;49m\u001b[39m'\u001b[39;49m\u001b[39m/home/hendrik/Documents/master_project/LokalData/ImitationLearning/\u001b[39;49m\u001b[39m'\u001b[39;49m,\n\u001b[1;32m      <a href='vscode-notebook-cell:/home/hendrik/Documents/master_project/Code/MetaWorld/non_imitation_bs.ipynb#ch0000089?line=6'>7</a>\u001b[0m     n_epochs\u001b[39m=\u001b[39;49m\u001b[39m1000\u001b[39;49m,\n\u001b[1;32m      <a href='vscode-notebook-cell:/home/hendrik/Documents/master_project/Code/MetaWorld/non_imitation_bs.ipynb#ch0000089?line=7'>8</a>\u001b[0m     n_steps\u001b[39m=\u001b[39;49m\u001b[39m1\u001b[39;49m\u001b[39m*\u001b[39;49m\u001b[39mlen\u001b[39;49m(transitions),\n\u001b[1;32m      <a href='vscode-notebook-cell:/home/hendrik/Documents/master_project/Code/MetaWorld/non_imitation_bs.ipynb#ch0000089?line=8'>9</a>\u001b[0m     eval_epochs\u001b[39m=\u001b[39;49m\u001b[39m100\u001b[39;49m,\n\u001b[1;32m     <a href='vscode-notebook-cell:/home/hendrik/Documents/master_project/Code/MetaWorld/non_imitation_bs.ipynb#ch0000089?line=9'>10</a>\u001b[0m     step_fct\u001b[39m=\u001b[39;49m\u001b[39mlambda\u001b[39;49;00m i: i\u001b[39m+\u001b[39;49m\u001b[39m1\u001b[39;49m\n\u001b[1;32m     <a href='vscode-notebook-cell:/home/hendrik/Documents/master_project/Code/MetaWorld/non_imitation_bs.ipynb#ch0000089?line=10'>11</a>\u001b[0m )\n",
      "File \u001b[0;32m~/Documents/master_project/Code/MetaWorld/searchTest/utils.py:325\u001b[0m, in \u001b[0;36mtrain_policy\u001b[0;34m(trainer, learn_fct, val_env, logname, path, n_epochs, n_steps, eval_epochs, step_fct)\u001b[0m\n\u001b[1;32m    <a href='file:///home/hendrik/Documents/master_project/Code/MetaWorld/searchTest/utils.py?line=322'>323</a>\u001b[0m     step_id \u001b[39m=\u001b[39m step_fct(step_id)\n\u001b[1;32m    <a href='file:///home/hendrik/Documents/master_project/Code/MetaWorld/searchTest/utils.py?line=323'>324</a>\u001b[0m best_reward \u001b[39m=\u001b[39m benchmark_policy(policy \u001b[39m=\u001b[39m trainer\u001b[39m.\u001b[39mpolicy, path\u001b[39m=\u001b[39mpath, logname\u001b[39m=\u001b[39mlogname, eval_epochs\u001b[39m=\u001b[39meval_epochs, val_env\u001b[39m=\u001b[39mval_env, stepid\u001b[39m=\u001b[39mstep_id, best_reward\u001b[39m=\u001b[39mbest_reward)\n\u001b[0;32m--> <a href='file:///home/hendrik/Documents/master_project/Code/MetaWorld/searchTest/utils.py?line=324'>325</a>\u001b[0m learn_fct(n_epochs\u001b[39m=\u001b[39;49mn_steps)\n",
      "File \u001b[0;32m~/Documents/master_project/Code/imitation/src/imitation/algorithms/bc.py:446\u001b[0m, in \u001b[0;36mBC.train\u001b[0;34m(self, n_epochs, n_batches, on_epoch_end, on_batch_end, log_interval, log_rollouts_venv, log_rollouts_n_episodes, progress_bar, reset_tensorboard)\u001b[0m\n\u001b[1;32m    <a href='file:///home/hendrik/Documents/master_project/Code/imitation/src/imitation/algorithms/bc.py?line=441'>442</a>\u001b[0m     tqdm_progress_bar \u001b[39m=\u001b[39m batches_with_stats\n\u001b[1;32m    <a href='file:///home/hendrik/Documents/master_project/Code/imitation/src/imitation/algorithms/bc.py?line=443'>444</a>\u001b[0m \u001b[39mfor\u001b[39;00m (batch_num, batch_size, num_samples_so_far), batch \u001b[39min\u001b[39;00m batches_with_stats:\n\u001b[0;32m--> <a href='file:///home/hendrik/Documents/master_project/Code/imitation/src/imitation/algorithms/bc.py?line=445'>446</a>\u001b[0m     loss \u001b[39m=\u001b[39m \u001b[39mself\u001b[39;49m\u001b[39m.\u001b[39;49mtrainer(batch)\n\u001b[1;32m    <a href='file:///home/hendrik/Documents/master_project/Code/imitation/src/imitation/algorithms/bc.py?line=447'>448</a>\u001b[0m     \u001b[39mif\u001b[39;00m batch_num \u001b[39m%\u001b[39m log_interval \u001b[39m==\u001b[39m \u001b[39m0\u001b[39m:\n\u001b[1;32m    <a href='file:///home/hendrik/Documents/master_project/Code/imitation/src/imitation/algorithms/bc.py?line=448'>449</a>\u001b[0m         rollout_stats \u001b[39m=\u001b[39m compute_rollout_stats(\u001b[39mself\u001b[39m\u001b[39m.\u001b[39mpolicy)\n",
      "File \u001b[0;32m~/Documents/master_project/Code/imitation/src/imitation/algorithms/bc.py:162\u001b[0m, in \u001b[0;36mBehaviorCloningTrainer.__call__\u001b[0;34m(self, batch)\u001b[0m\n\u001b[1;32m    <a href='file:///home/hendrik/Documents/master_project/Code/imitation/src/imitation/algorithms/bc.py?line=158'>159</a>\u001b[0m training_metrics \u001b[39m=\u001b[39m \u001b[39mself\u001b[39m\u001b[39m.\u001b[39mloss(\u001b[39mself\u001b[39m\u001b[39m.\u001b[39mpolicy, obs, acts)\n\u001b[1;32m    <a href='file:///home/hendrik/Documents/master_project/Code/imitation/src/imitation/algorithms/bc.py?line=160'>161</a>\u001b[0m \u001b[39mself\u001b[39m\u001b[39m.\u001b[39moptimizer\u001b[39m.\u001b[39mzero_grad()\n\u001b[0;32m--> <a href='file:///home/hendrik/Documents/master_project/Code/imitation/src/imitation/algorithms/bc.py?line=161'>162</a>\u001b[0m training_metrics\u001b[39m.\u001b[39;49mloss\u001b[39m.\u001b[39;49mbackward()\n\u001b[1;32m    <a href='file:///home/hendrik/Documents/master_project/Code/imitation/src/imitation/algorithms/bc.py?line=162'>163</a>\u001b[0m \u001b[39mself\u001b[39m\u001b[39m.\u001b[39moptimizer\u001b[39m.\u001b[39mstep()\n\u001b[1;32m    <a href='file:///home/hendrik/Documents/master_project/Code/imitation/src/imitation/algorithms/bc.py?line=164'>165</a>\u001b[0m \u001b[39mreturn\u001b[39;00m training_metrics\n",
      "File \u001b[0;32m~/anaconda3/envs/tfTest/lib/python3.9/site-packages/torch/_tensor.py:396\u001b[0m, in \u001b[0;36mTensor.backward\u001b[0;34m(self, gradient, retain_graph, create_graph, inputs)\u001b[0m\n\u001b[1;32m    <a href='file:///home/hendrik/anaconda3/envs/tfTest/lib/python3.9/site-packages/torch/_tensor.py?line=386'>387</a>\u001b[0m \u001b[39mif\u001b[39;00m has_torch_function_unary(\u001b[39mself\u001b[39m):\n\u001b[1;32m    <a href='file:///home/hendrik/anaconda3/envs/tfTest/lib/python3.9/site-packages/torch/_tensor.py?line=387'>388</a>\u001b[0m     \u001b[39mreturn\u001b[39;00m handle_torch_function(\n\u001b[1;32m    <a href='file:///home/hendrik/anaconda3/envs/tfTest/lib/python3.9/site-packages/torch/_tensor.py?line=388'>389</a>\u001b[0m         Tensor\u001b[39m.\u001b[39mbackward,\n\u001b[1;32m    <a href='file:///home/hendrik/anaconda3/envs/tfTest/lib/python3.9/site-packages/torch/_tensor.py?line=389'>390</a>\u001b[0m         (\u001b[39mself\u001b[39m,),\n\u001b[0;32m   (...)\u001b[0m\n\u001b[1;32m    <a href='file:///home/hendrik/anaconda3/envs/tfTest/lib/python3.9/site-packages/torch/_tensor.py?line=393'>394</a>\u001b[0m         create_graph\u001b[39m=\u001b[39mcreate_graph,\n\u001b[1;32m    <a href='file:///home/hendrik/anaconda3/envs/tfTest/lib/python3.9/site-packages/torch/_tensor.py?line=394'>395</a>\u001b[0m         inputs\u001b[39m=\u001b[39minputs)\n\u001b[0;32m--> <a href='file:///home/hendrik/anaconda3/envs/tfTest/lib/python3.9/site-packages/torch/_tensor.py?line=395'>396</a>\u001b[0m torch\u001b[39m.\u001b[39;49mautograd\u001b[39m.\u001b[39;49mbackward(\u001b[39mself\u001b[39;49m, gradient, retain_graph, create_graph, inputs\u001b[39m=\u001b[39;49minputs)\n",
      "File \u001b[0;32m~/anaconda3/envs/tfTest/lib/python3.9/site-packages/torch/autograd/__init__.py:173\u001b[0m, in \u001b[0;36mbackward\u001b[0;34m(tensors, grad_tensors, retain_graph, create_graph, grad_variables, inputs)\u001b[0m\n\u001b[1;32m    <a href='file:///home/hendrik/anaconda3/envs/tfTest/lib/python3.9/site-packages/torch/autograd/__init__.py?line=167'>168</a>\u001b[0m     retain_graph \u001b[39m=\u001b[39m create_graph\n\u001b[1;32m    <a href='file:///home/hendrik/anaconda3/envs/tfTest/lib/python3.9/site-packages/torch/autograd/__init__.py?line=169'>170</a>\u001b[0m \u001b[39m# The reason we repeat same the comment below is that\u001b[39;00m\n\u001b[1;32m    <a href='file:///home/hendrik/anaconda3/envs/tfTest/lib/python3.9/site-packages/torch/autograd/__init__.py?line=170'>171</a>\u001b[0m \u001b[39m# some Python versions print out the first line of a multi-line function\u001b[39;00m\n\u001b[1;32m    <a href='file:///home/hendrik/anaconda3/envs/tfTest/lib/python3.9/site-packages/torch/autograd/__init__.py?line=171'>172</a>\u001b[0m \u001b[39m# calls in the traceback and some print out the last line\u001b[39;00m\n\u001b[0;32m--> <a href='file:///home/hendrik/anaconda3/envs/tfTest/lib/python3.9/site-packages/torch/autograd/__init__.py?line=172'>173</a>\u001b[0m Variable\u001b[39m.\u001b[39;49m_execution_engine\u001b[39m.\u001b[39;49mrun_backward(  \u001b[39m# Calls into the C++ engine to run the backward pass\u001b[39;49;00m\n\u001b[1;32m    <a href='file:///home/hendrik/anaconda3/envs/tfTest/lib/python3.9/site-packages/torch/autograd/__init__.py?line=173'>174</a>\u001b[0m     tensors, grad_tensors_, retain_graph, create_graph, inputs,\n\u001b[1;32m    <a href='file:///home/hendrik/anaconda3/envs/tfTest/lib/python3.9/site-packages/torch/autograd/__init__.py?line=174'>175</a>\u001b[0m     allow_unreachable\u001b[39m=\u001b[39;49m\u001b[39mTrue\u001b[39;49;00m, accumulate_grad\u001b[39m=\u001b[39;49m\u001b[39mTrue\u001b[39;49;00m)\n",
      "\u001b[0;31mKeyboardInterrupt\u001b[0m: "
     ]
    },
    {
     "data": {
      "image/png": "[encoded data removed]",
      "text/plain": [
       "<Figure size 432x288 with 9 Axes>"
      ]
     },
     "metadata": {
      "needs_background": "light"
     },
     "output_type": "display_data"
    }
   ],
   "source": [
    "train_policy(\n",
    "    trainer=bc_trainer,\n",
    "    learn_fct=bc_trainer.train,\n",
    "    val_env=model.env,\n",
    "    logname='BC Trainer Test',\n",
    "    path='/home/hendrik/Documents/master_project/LokalData/ImitationLearning/',\n",
    "    n_epochs=1000,\n",
    "    n_steps=5000,\n",
    "    eval_epochs=100,\n",
    "    step_fct=lambda i: i+1\n",
    ")"
   ]
  },
  {
   "cell_type": "code",
   "execution_count": null,
   "metadata": {},
   "outputs": [],
   "source": [
    "bc_trainer.train(n_epochs=100)"
   ]
  },
  {
   "cell_type": "code",
   "execution_count": null,
   "metadata": {},
   "outputs": [],
   "source": [
    "#path_to_zip_file = '/home/hendrik/Documents/master_project/Code/rl-baselines3-zoo/rl-trained-agents/her/FetchPickAndPlace-v1_1/FetchPickAndPlace-v1.zip'\n",
    "path_to_zip_file = '/home/hendrik/Documents/master_project/Code/rl-baselines3-zoo/logs/tqc/FetchPickAndPlace-v1_1/FetchPickAndPlace-v1.zip'\n",
    "path_to_zip_file = '/home/hendrik/Documents/master_project/Code/rl-baselines3-zoo/rl-trained-agents/tqc/FetchPickAndPlace-v1_1/FetchPickAndPlace-v1.zip'\n",
    "directory_to_extract_to = '/tmp/sbtest'\n",
    "with zipfile.ZipFile(path_to_zip_file, 'r') as zip_ref:\n",
    "    zip_ref.extractall(directory_to_extract_to)"
   ]
  },
  {
   "cell_type": "code",
   "execution_count": null,
   "metadata": {},
   "outputs": [],
   "source": [
    "policy = torch.load('/tmp/sbtest/policy.pth')"
   ]
  },
  {
   "cell_type": "code",
   "execution_count": null,
   "metadata": {},
   "outputs": [
    {
     "ename": "NameError",
     "evalue": "name 'learn_wrapper' is not defined",
     "output_type": "error",
     "traceback": [
      "\u001b[0;31m---------------------------------------------------------------------------\u001b[0m",
      "\u001b[0;31mNameError\u001b[0m                                 Traceback (most recent call last)",
      "\u001b[1;32m/home/hendrik/Documents/master_project/Code/MetaWorld/non_imitation_bs.ipynb Cell 10'\u001b[0m in \u001b[0;36m<cell line: 1>\u001b[0;34m()\u001b[0m\n\u001b[1;32m      <a href='vscode-notebook-cell:/home/hendrik/Documents/master_project/Code/MetaWorld/non_imitation_bs.ipynb#ch0000033?line=0'>1</a>\u001b[0m train_policy(\n\u001b[1;32m      <a href='vscode-notebook-cell:/home/hendrik/Documents/master_project/Code/MetaWorld/non_imitation_bs.ipynb#ch0000033?line=1'>2</a>\u001b[0m     trainer\u001b[39m=\u001b[39mmodel, \n\u001b[0;32m----> <a href='vscode-notebook-cell:/home/hendrik/Documents/master_project/Code/MetaWorld/non_imitation_bs.ipynb#ch0000033?line=2'>3</a>\u001b[0m     learn_fct\u001b[39m=\u001b[39mlearn_wrapper\u001b[39m.\u001b[39mtrain, \n\u001b[1;32m      <a href='vscode-notebook-cell:/home/hendrik/Documents/master_project/Code/MetaWorld/non_imitation_bs.ipynb#ch0000033?line=3'>4</a>\u001b[0m     val_env\u001b[39m=\u001b[39mval_env, \n\u001b[1;32m      <a href='vscode-notebook-cell:/home/hendrik/Documents/master_project/Code/MetaWorld/non_imitation_bs.ipynb#ch0000033?line=4'>5</a>\u001b[0m     logname\u001b[39m=\u001b[39m\u001b[39m'\u001b[39m\u001b[39mHER Test\u001b[39m\u001b[39m'\u001b[39m, \n\u001b[1;32m      <a href='vscode-notebook-cell:/home/hendrik/Documents/master_project/Code/MetaWorld/non_imitation_bs.ipynb#ch0000033?line=5'>6</a>\u001b[0m     path\u001b[39m=\u001b[39m\u001b[39m'\u001b[39m\u001b[39m/home/hendrik/Documents/master_project/LokalData/nISB/\u001b[39m\u001b[39m'\u001b[39m,\n\u001b[1;32m      <a href='vscode-notebook-cell:/home/hendrik/Documents/master_project/Code/MetaWorld/non_imitation_bs.ipynb#ch0000033?line=6'>7</a>\u001b[0m     n_epochs\u001b[39m=\u001b[39m\u001b[39m1000\u001b[39m,\n\u001b[1;32m      <a href='vscode-notebook-cell:/home/hendrik/Documents/master_project/Code/MetaWorld/non_imitation_bs.ipynb#ch0000033?line=7'>8</a>\u001b[0m     n_steps\u001b[39m=\u001b[39m\u001b[39m20\u001b[39m,\n\u001b[1;32m      <a href='vscode-notebook-cell:/home/hendrik/Documents/master_project/Code/MetaWorld/non_imitation_bs.ipynb#ch0000033?line=8'>9</a>\u001b[0m     eval_epochs\u001b[39m=\u001b[39m\u001b[39m100\u001b[39m)\n",
      "\u001b[0;31mNameError\u001b[0m: name 'learn_wrapper' is not defined"
     ]
    }
   ],
   "source": [
    "train_policy(\n",
    "    trainer=model, \n",
    "    learn_fct=learn_wrapper.train, \n",
    "    val_env=val_env, \n",
    "    logname='HER Test', \n",
    "    path='/home/hendrik/Documents/master_project/LokalData/nISB/',\n",
    "    n_epochs=1000,\n",
    "    n_steps=20,\n",
    "    eval_epochs=100)"
   ]
  },
  {
   "cell_type": "code",
   "execution_count": null,
   "metadata": {},
   "outputs": [],
   "source": []
  }
 ],
 "metadata": {
  "interpreter": {
   "hash": "bee90e249730b85f00f3915f0cf4f21bc0729131dcc7008c941068256fd0d344"
  },
  "kernelspec": {
   "display_name": "Python 3.9.12 ('tfTest')",
   "language": "python",
   "name": "python3"
  },
  "language_info": {
   "codemirror_mode": {
    "name": "ipython",
    "version": 3
   },
   "file_extension": ".py",
   "mimetype": "text/x-python",
   "name": "python",
   "nbconvert_exporter": "python",
   "pygments_lexer": "ipython3",
   "version": "3.9.12"
  },
  "orig_nbformat": 4
 },
 "nbformat": 4,
 "nbformat_minor": 2
}
