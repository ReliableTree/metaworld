{
 "cells": [
  {
   "cell_type": "code",
   "execution_count": 211,
   "metadata": {},
   "outputs": [],
   "source": [
    "import numpy as np\n",
    "from random import choices\n",
    "\n",
    "def simulate_data_sequence(t_relax, t_excite, polling_rate, runtime):\n",
    "    # Calculate the number of data points to generate\n",
    "    num_points = int(runtime * polling_rate)\n",
    "\n",
    "    lambda_e = np.log(2)/t_excite\n",
    "    lambda_r = np.log(2)/t_relax\n",
    "    \n",
    "    \n",
    "    # Calculate the probabilities of transition between states\n",
    "    p_relax_to_excite = 1 - np.exp(-lambda_r / (polling_rate))\n",
    "    p_excite_to_relax = 1 - np.exp(-lambda_e / (polling_rate))\n",
    "    \n",
    "    # Generate the data sequence\n",
    "    data_sequence = np.zeros(num_points, dtype=int)\n",
    "    state = 0\n",
    "    for i in range(num_points):\n",
    "        rand_num = np.random.rand()\n",
    "        if state == 0:\n",
    "            if rand_num < p_relax_to_excite:\n",
    "                state = 1\n",
    "        else:\n",
    "            if rand_num < p_excite_to_relax:\n",
    "                state = 0\n",
    "        data_sequence[i] = state\n",
    "    \n",
    "    return data_sequence\n"
   ]
  },
  {
   "cell_type": "code",
   "execution_count": 254,
   "metadata": {},
   "outputs": [],
   "source": []
  },
  {
   "cell_type": "code",
   "execution_count": 256,
   "metadata": {},
   "outputs": [],
   "source": [
    "import numpy as np\n",
    "def simulate_data_sequence(t_relax, t_excite, polling_rate, runtime, n):\n",
    "    # Calculate the number of data points to generate\n",
    "    num_points = int(runtime * polling_rate)\n",
    "\n",
    "    lambda_e = np.log(2)/t_excite\n",
    "    lambda_r = np.log(2)/t_relax\n",
    "    \n",
    "    \n",
    "    # Calculate the probabilities of transition between states\n",
    "    p_relax_to_excite = 1 - np.exp(-lambda_r / (polling_rate))\n",
    "    p_excite_to_relax = 1 - np.exp(-lambda_e / (polling_rate))\n",
    "    sum = p_relax_to_excite+p_excite_to_relax\n",
    "    population = [0,1]\n",
    "    weights = [p_relax_to_excite/sum, p_excite_to_relax/sum]\n",
    "    samples = np.array(choices(population, weights, k=n))\n",
    "    # Generate the data sequence\n",
    "    data_sequence = np.zeros([n, num_points+1], dtype=int)\n",
    "    data_sequence[:, 0] = samples\n",
    "    for i in range(num_points - 1):\n",
    "        rand_num = np.random.rand(n)\n",
    "        if (data_sequence[:, i] == 0).sum()>0:\n",
    "            data_sequence[:, i+1][data_sequence[:, i] == 0] = rand_num[data_sequence[:, i] == 0] < p_relax_to_excite\n",
    "        if (data_sequence[:, i] == 1).sum()>0:\n",
    "            data_sequence[:, i+1][data_sequence[:, i] == 1] = rand_num[data_sequence[:, i] == 1] > p_excite_to_relax\n",
    "    return data_sequence[:, 1:]\n"
   ]
  },
  {
   "cell_type": "code",
   "execution_count": 258,
   "metadata": {},
   "outputs": [],
   "source": [
    "f = 1\n",
    "sequence = simulate_data_sequence(t_relax=10, t_excite=1, polling_rate=f, runtime=100000, n=100)"
   ]
  },
  {
   "cell_type": "code",
   "execution_count": 259,
   "metadata": {},
   "outputs": [],
   "source": [
    "sequence_0 = sequence[0]"
   ]
  },
  {
   "cell_type": "code",
   "execution_count": 262,
   "metadata": {},
   "outputs": [],
   "source": [
    "import numpy as np\n",
    "import matplotlib.pyplot as plt\n",
    "from scipy.optimize import curve_fit\n",
    "\n",
    "def make_plot(sequence):\n",
    "    # Find the indices where the sequence changes from zero to one and from one to zero\n",
    "    idx_rise = np.where(np.diff(sequence) == 1)[0]\n",
    "    idx_fall = np.where(np.diff(sequence) == -1)[0]\n",
    "\n",
    "    # Calculate the time difference between consecutive indices for each state\n",
    "    rise_times = np.diff(idx_rise) / f\n",
    "    fall_times = np.diff(idx_fall) / f\n",
    "\n",
    "    if idx_rise[0] < idx_fall[0]:\n",
    "        if len(idx_rise) > len(idx_fall):\n",
    "            relaxed_states = idx_rise[1:] - idx_fall\n",
    "        else:\n",
    "            relaxed_states = idx_rise[1:] - idx_fall[:-1]\n",
    "    else:\n",
    "        if len(idx_rise) < len(idx_fall):\n",
    "            relaxed_states = idx_rise - idx_fall[:-1]\n",
    "        else:\n",
    "            relaxed_states = idx_rise - idx_fall\n",
    "\n",
    "    if idx_rise[0] < idx_fall[0]:\n",
    "        if len(idx_rise) > len(idx_fall):\n",
    "            excited_states = idx_fall - idx_rise[:-1]\n",
    "        else:\n",
    "            excited_states = idx_fall - idx_rise\n",
    "    else:\n",
    "        if len(idx_rise) < len(idx_fall):\n",
    "            excited_states = idx_fall[1:] - idx_rise\n",
    "        else:\n",
    "            excited_states = idx_fall[1:] - idx_rise[:-1]\n",
    "\n",
    "    relaxed_state_times = relaxed_states / f\n",
    "    excited_state_times = excited_states / f\n",
    "    # Calculate the histogram of the lifetime of the relaxed and excited states\n",
    "    bins_relaxed = np.arange(1/f, np.max(relaxed_state_times)+2/f, 1/f)\n",
    "    bins_excited = np.arange(1/f, np.max(excited_state_times)+2/f, 1/f)\n",
    "    hist_relaxed, _ = np.histogram(relaxed_state_times, bins=bins_relaxed)\n",
    "    hist_excited, _ = np.histogram(excited_state_times, bins=bins_excited)\n",
    "\n",
    "    # Fit an exponential curve to the histogram\n",
    "    def exponential(x, a, b):\n",
    "        return a * np.exp(-b * x)\n",
    "\n",
    "    popt_relaxed, _ = curve_fit(exponential, bins_relaxed[:-1], hist_relaxed)\n",
    "    popt_excited, _ = curve_fit(exponential, bins_excited[:-1], hist_excited)\n",
    "    r_t = popt_relaxed[1]\n",
    "    print(f'relaxed: {np.log(2)/r_t}')\n",
    "    r_e = popt_excited[1]\n",
    "    print(f'relaxed: {np.log(2)/r_e}')\n",
    "\n",
    "    # Plot the histograms and exponential curves\n",
    "    plt.subplot(1, 2, 1)\n",
    "    plt.hist(relaxed_state_times, bins=bins_relaxed, alpha=0.5, label='Relaxed state')\n",
    "    plt.plot(bins_relaxed[:-1], exponential(bins_relaxed[:-1], *popt_relaxed), 'r--')\n",
    "    plt.xlabel('Lifetime')\n",
    "    plt.ylabel('Frequency')\n",
    "    plt.legend()\n",
    "\n",
    "    plt.subplot(1, 2, 2)\n",
    "    plt.hist(excited_state_times, bins=bins_excited, alpha=0.5, label='Excited state')\n",
    "    plt.plot(bins_excited[:-1], exponential(bins_excited[:-1], *popt_excited), 'r--')\n",
    "    plt.xlabel('Lifetime')\n",
    "    plt.ylabel('Frequency')\n",
    "    plt.legend()\n",
    "\n",
    "    plt.show()\n"
   ]
  },
  {
   "cell_type": "code",
   "execution_count": 266,
   "metadata": {},
   "outputs": [
    {
     "name": "stderr",
     "output_type": "stream",
     "text": [
      "/tmp/ipykernel_5832/1198514530.py:46: RuntimeWarning: overflow encountered in exp\n",
      "  return a * np.exp(-b * x)\n",
      "/tmp/ipykernel_5832/1198514530.py:46: RuntimeWarning: overflow encountered in multiply\n",
      "  return a * np.exp(-b * x)\n"
     ]
    },
    {
     "name": "stdout",
     "output_type": "stream",
     "text": [
      "relaxed: 9.817850922765142\n",
      "relaxed: 1.0094770188100386\n"
     ]
    },
    {
     "data": {
      "image/png": "[encoded data removed]",
      "text/plain": [
       "<Figure size 640x480 with 2 Axes>"
      ]
     },
     "metadata": {},
     "output_type": "display_data"
    }
   ],
   "source": [
    "sequence_1 = sequence[2]\n",
    "make_plot(sequence=sequence_1)"
   ]
  },
  {
   "cell_type": "code",
   "execution_count": null,
   "metadata": {},
   "outputs": [],
   "source": []
  }
 ],
 "metadata": {
  "kernelspec": {
   "display_name": "ac",
   "language": "python",
   "name": "python3"
  },
  "language_info": {
   "codemirror_mode": {
    "name": "ipython",
    "version": 3
   },
   "file_extension": ".py",
   "mimetype": "text/x-python",
   "name": "python",
   "nbconvert_exporter": "python",
   "pygments_lexer": "ipython3",
   "version": "3.10.6"
  },
  "orig_nbformat": 4,
  "vscode": {
   "interpreter": {
    "hash": "c27e8fa6375f4d15af5a5f5541d8bb88746b588c9fe1102cfd8de011d36c10c2"
   }
  }
 },
 "nbformat": 4,
 "nbformat_minor": 2
}
