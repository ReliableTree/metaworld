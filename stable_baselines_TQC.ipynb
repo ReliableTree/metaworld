{
 "cells": [
  {
   "cell_type": "code",
   "execution_count": null,
   "metadata": {},
   "outputs": [],
   "source": [
    "from active_critic.utils.gym_utils import make_vec_env, make_dummy_vec_env\n",
    "import gym\n",
    "from stable_baselines3 import PPO\n",
    "import torch\n",
    "import numpy as np\n",
    "from stable_baselines3.common.vec_env import DummyVecEnv\n",
    "from imitation.algorithms import bc\n",
    "from imitation.data import rollout\n",
    "from imitation.data.wrappers import RolloutInfoWrapper\n",
    "from stable_baselines3.common.evaluation import evaluate_policy\n",
    "from utilsMW.dataLoaderMW import TorchDatasetMWToy\n",
    "import warnings\n",
    "from typing import Any, Dict, Optional, Type, Union\n",
    "\n",
    "import numpy as np\n",
    "import torch as th\n",
    "from gym import spaces\n",
    "from torch.nn import functional as F\n",
    "\n",
    "from stable_baselines3.common.on_policy_algorithm import OnPolicyAlgorithm\n",
    "from stable_baselines3.common.policies import ActorCriticCnnPolicy, ActorCriticPolicy, BasePolicy, MultiInputActorCriticPolicy\n",
    "from stable_baselines3.common.type_aliases import GymEnv, MaybeCallback, Schedule\n",
    "from stable_baselines3.common.utils import explained_variance,  get_schedule_fn\n",
    "\n",
    "from searchTest.toyEnvironment import check_outpt\n",
    "from utilsMW.dataLoaderMW import TorchDatasetMW\n",
    "from torch.utils.data import DataLoader\n",
    "from imitation.algorithms.adversarial import gail \n",
    "from imitation.util.networks import RunningNorm\n",
    "from imitation.rewards.reward_nets import BasicRewardNet\n",
    "from stable_baselines3.ppo import MlpPolicy\n",
    "from active_critic.utils.tboard_graphs import TBoardGraphs\n",
    "def sample_expert_transitions(expert, env, num):\n",
    "\n",
    "    rollouts = rollout.rollout(\n",
    "        expert,\n",
    "        env,\n",
    "        rollout.make_sample_until(min_timesteps=None, min_episodes=num),\n",
    "        exclude_infos=False,\n",
    "    )\n",
    "    return rollout.flatten_trajectories(rollouts), rollouts\n",
    "\n",
    "def asd(env, learner):\n",
    "    success = []\n",
    "    rews = []\n",
    "    for i in range(100):\n",
    "        obs = env.reset()\n",
    "        done = False\n",
    "        while not done:\n",
    "            action, _ = learner.predict(obs)\n",
    "            obs, rew, done, info = env.step(action)\n",
    "            rews.append(rew)\n",
    "            if info[0]['success'] > 0:\n",
    "                success.append(info[0]['success'])\n",
    "                break\n",
    "            if done:\n",
    "                success.append(0)\n",
    "    return np.array(success), np.array(rews)\n",
    "\n",
    "from sb3_contrib import TQC\n",
    "env, vec_expert = make_dummy_vec_env(name='pickplace', seq_len=200)\n",
    "val_env, _ = make_dummy_vec_env(name='pickplace', seq_len=200)\n",
    "\n",
    "policy_kwargs = dict(n_critics=2, n_quantiles=25)\n",
    "learner = TQC(\"MlpPolicy\", env, top_quantiles_to_drop_per_net=2, verbose=1, policy_kwargs=policy_kwargs)\n",
    "\n",
    "tboard = TBoardGraphs(logname='TQC with expert Data', data_path='/data/bing/hendrik/gboard/')\n",
    "learner.use_alt_policy = True\n",
    "learner.alternative_policy = vec_expert\n",
    "best_success = -1\n",
    "for i in range(10000):\n",
    "    learner.learn(5000, log_interval=1000)\n",
    "    success, rews = asd(env=val_env, learner=learner)\n",
    "    tboard.addTrainScalar('Reward', value=th.tensor(rews.mean()), stepid=env.envs[0].reset_count)\n",
    "    mean_success = success.mean()\n",
    "    tboard.addTrainScalar('Success Rate', value=th.tensor(mean_success), stepid=env.envs[0].reset_count)\n",
    "    print(env.envs[0].reset_count)\n",
    "    print(f'Success Rate: {mean_success}')\n",
    "    if mean_success > best_success:\n",
    "        learner.save('/data/bing/hendrik/reach_tqc')\n",
    "        learner.save_replay_buffer('/databing/hendrik/reach_tqc_rpb')\n"
   ]
  },
  {
   "cell_type": "code",
   "execution_count": null,
   "metadata": {},
   "outputs": [],
   "source": [
    "from sb3_contrib import TQC\n",
    "\n",
    "tqc = TQC.load('/data/bing/hendrik/reatch_tqc.zip')"
   ]
  },
  {
   "cell_type": "code",
   "execution_count": null,
   "metadata": {},
   "outputs": [],
   "source": [
    "tqc.load_replay_buffer('/data/bing/hendrik/reach_tqc_rpb.pkl')"
   ]
  },
  {
   "cell_type": "code",
   "execution_count": 12,
   "metadata": {},
   "outputs": [],
   "source": [
    "from active_critic.utils.gym_utils import make_vec_env, make_dummy_vec_env\n",
    "import gym\n",
    "from stable_baselines3 import PPO\n",
    "import torch\n",
    "import numpy as np\n",
    "from stable_baselines3.common.vec_env import DummyVecEnv\n",
    "from imitation.algorithms import bc\n",
    "from imitation.data import rollout\n",
    "from imitation.data.wrappers import RolloutInfoWrapper\n",
    "from stable_baselines3.common.evaluation import evaluate_policy\n",
    "from utilsMW.dataLoaderMW import TorchDatasetMWToy\n",
    "import warnings\n",
    "from typing import Any, Dict, Optional, Type, Union\n",
    "\n",
    "import numpy as np\n",
    "import torch as th\n",
    "from gym import spaces\n",
    "from torch.nn import functional as F\n",
    "\n",
    "from stable_baselines3.common.on_policy_algorithm import OnPolicyAlgorithm\n",
    "from stable_baselines3.common.policies import ActorCriticCnnPolicy, ActorCriticPolicy, BasePolicy, MultiInputActorCriticPolicy\n",
    "from stable_baselines3.common.type_aliases import GymEnv, MaybeCallback, Schedule\n",
    "from stable_baselines3.common.utils import explained_variance,  get_schedule_fn\n",
    "\n",
    "from searchTest.toyEnvironment import check_outpt\n",
    "from utilsMW.dataLoaderMW import TorchDatasetMW\n",
    "from torch.utils.data import DataLoader\n",
    "from imitation.algorithms.adversarial import gail \n",
    "from imitation.util.networks import RunningNorm\n",
    "from imitation.rewards.reward_nets import BasicRewardNet\n",
    "from stable_baselines3.ppo import MlpPolicy\n",
    "from active_critic.utils.tboard_graphs import TBoardGraphs\n",
    "from active_critic.model_src.transformer import PositionalEncoding\n",
    "\n",
    "import copy\n",
    "\n",
    "from active_critic.utils.gym_utils import make_policy_dict, ALL_V2_ENVIRONMENTS_GOAL_OBSERVABLE, ResetCounterWrapper, TimeLimit, StrictSeqLenWrapper, ImitationLearningWrapper\n",
    "\n",
    "\n",
    "\n",
    "class POMDP_Wrapper(gym.Wrapper):\n",
    "    def __init__(self, env, lookup_freq, pe_dim, seq_len) -> None:\n",
    "        super().__init__(env)\n",
    "        inpt = th.zeros([1, seq_len, pe_dim])\n",
    "        positional_encoding = PositionalEncoding(d_model=10, dropout=0)\n",
    "        self.pe = positional_encoding.forward(inpt).numpy()\n",
    "        self.current_step = 0\n",
    "        self.lookup_freq = lookup_freq\n",
    "\n",
    "    def reset(self):\n",
    "        obsv =  super().reset()\n",
    "        obsv[20:30] = self.pe[0, 0]\n",
    "        self.current_step = 0\n",
    "        self.current_obv = np.copy(obsv)\n",
    "        return obsv\n",
    "\n",
    "    def step(self, action):\n",
    "        self.current_step += 1\n",
    "        obsv, rew, done, info = super().step(action)\n",
    "        if self.current_step % self.lookup_freq == 0:\n",
    "            self.current_obv = np.copy(obsv)\n",
    "        \n",
    "        obsv = np.copy(self.current_obv)\n",
    "        obsv[20:30] = self.pe[0, self.current_step]\n",
    "\n",
    "        return obsv, rew, done, info\n",
    "\n",
    "def make_dummy_vec_env_pomdp(name, seq_len, lookup_freq):\n",
    "    policy_dict = make_policy_dict()\n",
    "\n",
    "    env_tag = name\n",
    "    max_episode_steps = seq_len\n",
    "    env = ALL_V2_ENVIRONMENTS_GOAL_OBSERVABLE[policy_dict[env_tag][1]]()\n",
    "    env._freeze_rand_vec = False\n",
    "    reset_env = ResetCounterWrapper(env=env)\n",
    "    timelimit = TimeLimit(env=reset_env, max_episode_steps=max_episode_steps)\n",
    "    strict_time = StrictSeqLenWrapper(timelimit, seq_len=seq_len + 1)\n",
    "    pomdp = POMDP_Wrapper(env=strict_time, lookup_freq=lookup_freq, pe_dim=10, seq_len=201)\n",
    "\n",
    "    dv1 = DummyVecEnv([lambda: RolloutInfoWrapper(pomdp)])\n",
    "    vec_expert = ImitationLearningWrapper(\n",
    "        policy=policy_dict[env_tag][0], env=dv1)\n",
    "    return dv1, vec_expert\n",
    "\n",
    "def asd(env, learner):\n",
    "    success = []\n",
    "    rews = []\n",
    "    for i in range(100):\n",
    "        obs = env.reset()\n",
    "        done = False\n",
    "        while not done:\n",
    "            action, _ = learner.predict(obs)\n",
    "            obs, rew, done, info = env.step(action)\n",
    "            rews.append(rew)\n",
    "            if info[0]['success'] > 0:\n",
    "                success.append(info[0]['success'])\n",
    "                break\n",
    "            if done:\n",
    "                success.append(0)\n",
    "    return np.array(success), np.array(rews)\n",
    "\n",
    "def sample_expert_transitions(expert, env, num):\n",
    "\n",
    "    rollouts = rollout.rollout(\n",
    "        expert,\n",
    "        env,\n",
    "        rollout.make_sample_until(min_timesteps=None, min_episodes=num),\n",
    "        exclude_infos=False,\n",
    "    )\n",
    "    return rollout.flatten_trajectories(rollouts), rollouts\n",
    "\n",
    "def make_pomdp_rollouts(rollouts, lookup_frq, count_dim):\n",
    "    inpt = th.zeros([1, rollouts[0].obs.shape[0], count_dim])\n",
    "    positional_encoding = PositionalEncoding(d_model=10, dropout=0)\n",
    "    pe = positional_encoding.forward(inpt).numpy()\n",
    "    for ro in rollouts:\n",
    "        for i in range(ro.obs.shape[0]):\n",
    "            if i % lookup_frq == 0:\n",
    "                obsv = copy.deepcopy(ro.obs[i])\n",
    "            else:\n",
    "                ro.obs[i] = copy.deepcopy(obsv)\n",
    "        ro.obs[:, 20:20+count_dim] = pe\n",
    "        if i % lookup_frq == 0:\n",
    "            obs = ro\n",
    "    return rollouts\n",
    "\n",
    "def run_experiment(device):\n",
    "    lookup_freq = 50\n",
    "    env, vec_expert = make_dummy_vec_env(name='pickplace', seq_len=200)\n",
    "    val_env, _ = make_dummy_vec_env(name='pickplace', seq_len=200)\n",
    "\n",
    "    transitions, rollouts = sample_expert_transitions(vec_expert.predict, env, 10)\n",
    "    env.envs[0].reset_count = 0\n",
    "    pomdp_rollouts = make_pomdp_rollouts(rollouts, lookup_frq=lookup_freq, count_dim=10)\n",
    "    pomdp_transitions = rollout.flatten_trajectories(pomdp_rollouts)\n",
    "\n",
    "    pomdp_env, pomdp_vec_expert = make_dummy_vec_env_pomdp(name='pickplace', seq_len=200, lookup_freq=lookup_freq)\n",
    "\n",
    "    bc_trainer = bc.BC(\n",
    "        observation_space=env.observation_space,\n",
    "        action_space=env.action_space,\n",
    "        demonstrations=pomdp_transitions,\n",
    "        device=device\n",
    "    )\n",
    "\n",
    "    tboard = TBoardGraphs(logname='BC pickplace 10 lookup '+str(lookup_freq) , data_path='/data/bing/hendrik/gboard/')\n",
    "    for i in range(10000):\n",
    "        bc_trainer.train(n_epochs=20)\n",
    "        success, rews = asd(env=pomdp_env, learner=bc_trainer.policy)\n",
    "        tboard.addTrainScalar('Reward', value=th.tensor(rews.mean()), stepid=i)\n",
    "        tboard.addTrainScalar('Success Rate', value=th.tensor(success.mean()), stepid=i)\n",
    "    "
   ]
  },
  {
   "cell_type": "code",
   "execution_count": 13,
   "metadata": {},
   "outputs": [
    {
     "name": "stderr",
     "output_type": "stream",
     "text": [
      "/home/hendrik/anaconda3/envs/ac/lib/python3.10/site-packages/gym/spaces/box.py:73: UserWarning: \u001b[33mWARN: Box bound precision lowered by casting to float32\u001b[0m\n",
      "  logger.warn(\n",
      "/home/hendrik/Documents/master_project/Code/MetaWorld/metaworld/policies/policy.py:41: UserWarning: Constant(s) may be too high. Environments clip response to [-1, 1]\n",
      "  warnings.warn('Constant(s) may be too high. Environments clip response to [-1, 1]')\n",
      "0batch [00:00, ?batch/s]"
     ]
    },
    {
     "name": "stdout",
     "output_type": "stream",
     "text": [
      "--------------------------------\n",
      "| batch_size        | 32       |\n",
      "| bc/               |          |\n",
      "|    batch          | 0        |\n",
      "|    ent_loss       | -0.00568 |\n",
      "|    entropy        | 5.68     |\n",
      "|    epoch          | 0        |\n",
      "|    l2_loss        | 0        |\n",
      "|    l2_norm        | 64.5     |\n",
      "|    loss           | 4.21     |\n",
      "|    neglogp        | 4.21     |\n",
      "|    prob_true_act  | 0.0149   |\n",
      "|    samples_so_far | 32       |\n",
      "--------------------------------\n"
     ]
    },
    {
     "name": "stderr",
     "output_type": "stream",
     "text": [
      "490batch [00:01, 318.41batch/s]"
     ]
    },
    {
     "name": "stdout",
     "output_type": "stream",
     "text": [
      "--------------------------------\n",
      "| batch_size        | 32       |\n",
      "| bc/               |          |\n",
      "|    batch          | 500      |\n",
      "|    ent_loss       | -0.00363 |\n",
      "|    entropy        | 3.63     |\n",
      "|    epoch          | 8        |\n",
      "|    l2_loss        | 0        |\n",
      "|    l2_norm        | 84.1     |\n",
      "|    loss           | 1.77     |\n",
      "|    neglogp        | 1.78     |\n",
      "|    prob_true_act  | 0.175    |\n",
      "|    samples_so_far | 16032    |\n",
      "--------------------------------\n"
     ]
    },
    {
     "name": "stderr",
     "output_type": "stream",
     "text": [
      "974batch [00:03, 319.51batch/s]"
     ]
    },
    {
     "name": "stdout",
     "output_type": "stream",
     "text": [
      "--------------------------------\n",
      "| batch_size        | 32       |\n",
      "| bc/               |          |\n",
      "|    batch          | 1000     |\n",
      "|    ent_loss       | -0.00173 |\n",
      "|    entropy        | 1.73     |\n",
      "|    epoch          | 16       |\n",
      "|    l2_loss        | 0        |\n",
      "|    l2_norm        | 101      |\n",
      "|    loss           | 0.0838   |\n",
      "|    neglogp        | 0.0855   |\n",
      "|    prob_true_act  | 1.08     |\n",
      "|    samples_so_far | 32032    |\n",
      "--------------------------------\n"
     ]
    },
    {
     "name": "stderr",
     "output_type": "stream",
     "text": [
      "1240batch [00:03, 320.67batch/s]\n",
      "0batch [00:00, ?batch/s]"
     ]
    },
    {
     "name": "stdout",
     "output_type": "stream",
     "text": [
      "---------------------------------\n",
      "| batch_size        | 32        |\n",
      "| bc/               |           |\n",
      "|    batch          | 0         |\n",
      "|    ent_loss       | -0.000891 |\n",
      "|    entropy        | 0.891     |\n",
      "|    epoch          | 0         |\n",
      "|    l2_loss        | 0         |\n",
      "|    l2_norm        | 112       |\n",
      "|    loss           | -0.44     |\n",
      "|    neglogp        | -0.439    |\n",
      "|    prob_true_act  | 2.34      |\n",
      "|    samples_so_far | 32        |\n",
      "---------------------------------\n"
     ]
    },
    {
     "name": "stderr",
     "output_type": "stream",
     "text": [
      "466batch [00:01, 312.58batch/s]"
     ]
    },
    {
     "name": "stdout",
     "output_type": "stream",
     "text": [
      "--------------------------------\n",
      "| batch_size        | 32       |\n",
      "| bc/               |          |\n",
      "|    batch          | 500      |\n",
      "|    ent_loss       | 0.000618 |\n",
      "|    entropy        | -0.618   |\n",
      "|    epoch          | 8        |\n",
      "|    l2_loss        | 0        |\n",
      "|    l2_norm        | 135      |\n",
      "|    loss           | -1.22    |\n",
      "|    neglogp        | -1.22    |\n",
      "|    prob_true_act  | 8.36     |\n",
      "|    samples_so_far | 16032    |\n",
      "--------------------------------\n"
     ]
    },
    {
     "name": "stderr",
     "output_type": "stream",
     "text": [
      "970batch [00:02, 316.11batch/s]"
     ]
    },
    {
     "name": "stdout",
     "output_type": "stream",
     "text": [
      "--------------------------------\n",
      "| batch_size        | 32       |\n",
      "| bc/               |          |\n",
      "|    batch          | 1000     |\n",
      "|    ent_loss       | 0.0017   |\n",
      "|    entropy        | -1.7     |\n",
      "|    epoch          | 16       |\n",
      "|    l2_loss        | 0        |\n",
      "|    l2_norm        | 157      |\n",
      "|    loss           | -2.81    |\n",
      "|    neglogp        | -2.81    |\n",
      "|    prob_true_act  | 27.9     |\n",
      "|    samples_so_far | 32032    |\n",
      "--------------------------------\n"
     ]
    },
    {
     "name": "stderr",
     "output_type": "stream",
     "text": [
      "1240batch [00:03, 328.07batch/s]\n",
      "0batch [00:00, ?batch/s]"
     ]
    },
    {
     "name": "stdout",
     "output_type": "stream",
     "text": [
      "--------------------------------\n",
      "| batch_size        | 32       |\n",
      "| bc/               |          |\n",
      "|    batch          | 0        |\n",
      "|    ent_loss       | 0.00204  |\n",
      "|    entropy        | -2.04    |\n",
      "|    epoch          | 0        |\n",
      "|    l2_loss        | 0        |\n",
      "|    l2_norm        | 167      |\n",
      "|    loss           | -1.1     |\n",
      "|    neglogp        | -1.1     |\n",
      "|    prob_true_act  | 37.4     |\n",
      "|    samples_so_far | 32       |\n",
      "--------------------------------\n"
     ]
    },
    {
     "name": "stderr",
     "output_type": "stream",
     "text": [
      "500batch [00:01, 341.49batch/s]"
     ]
    },
    {
     "name": "stdout",
     "output_type": "stream",
     "text": [
      "--------------------------------\n",
      "| batch_size        | 32       |\n",
      "| bc/               |          |\n",
      "|    batch          | 500      |\n",
      "|    ent_loss       | 0.00254  |\n",
      "|    entropy        | -2.54    |\n",
      "|    epoch          | 8        |\n",
      "|    l2_loss        | 0        |\n",
      "|    l2_norm        | 187      |\n",
      "|    loss           | -3.52    |\n",
      "|    neglogp        | -3.52    |\n",
      "|    prob_true_act  | 69.8     |\n",
      "|    samples_so_far | 16032    |\n",
      "--------------------------------\n"
     ]
    },
    {
     "name": "stderr",
     "output_type": "stream",
     "text": [
      "980batch [00:02, 310.31batch/s]"
     ]
    },
    {
     "name": "stdout",
     "output_type": "stream",
     "text": [
      "--------------------------------\n",
      "| batch_size        | 32       |\n",
      "| bc/               |          |\n",
      "|    batch          | 1000     |\n",
      "|    ent_loss       | 0.00284  |\n",
      "|    entropy        | -2.84    |\n",
      "|    epoch          | 16       |\n",
      "|    l2_loss        | 0        |\n",
      "|    l2_norm        | 206      |\n",
      "|    loss           | -2.04    |\n",
      "|    neglogp        | -2.04    |\n",
      "|    prob_true_act  | 86.3     |\n",
      "|    samples_so_far | 32032    |\n",
      "--------------------------------\n"
     ]
    },
    {
     "name": "stderr",
     "output_type": "stream",
     "text": [
      "1240batch [00:03, 326.97batch/s]\n",
      "0batch [00:00, ?batch/s]"
     ]
    },
    {
     "name": "stdout",
     "output_type": "stream",
     "text": [
      "--------------------------------\n",
      "| batch_size        | 32       |\n",
      "| bc/               |          |\n",
      "|    batch          | 0        |\n",
      "|    ent_loss       | 0.00296  |\n",
      "|    entropy        | -2.96    |\n",
      "|    epoch          | 0        |\n",
      "|    l2_loss        | 0        |\n",
      "|    l2_norm        | 216      |\n",
      "|    loss           | -3.53    |\n",
      "|    neglogp        | -3.53    |\n",
      "|    prob_true_act  | 98.5     |\n",
      "|    samples_so_far | 32       |\n",
      "--------------------------------\n"
     ]
    },
    {
     "name": "stderr",
     "output_type": "stream",
     "text": [
      "470batch [00:01, 304.54batch/s]"
     ]
    },
    {
     "name": "stdout",
     "output_type": "stream",
     "text": [
      "--------------------------------\n",
      "| batch_size        | 32       |\n",
      "| bc/               |          |\n",
      "|    batch          | 500      |\n",
      "|    ent_loss       | 0.00323  |\n",
      "|    entropy        | -3.23    |\n",
      "|    epoch          | 8        |\n",
      "|    l2_loss        | 0        |\n",
      "|    l2_norm        | 235      |\n",
      "|    loss           | -4.41    |\n",
      "|    neglogp        | -4.41    |\n",
      "|    prob_true_act  | 126      |\n",
      "|    samples_so_far | 16032    |\n",
      "--------------------------------\n"
     ]
    },
    {
     "name": "stderr",
     "output_type": "stream",
     "text": [
      "970batch [00:03, 307.29batch/s]"
     ]
    },
    {
     "name": "stdout",
     "output_type": "stream",
     "text": [
      "--------------------------------\n",
      "| batch_size        | 32       |\n",
      "| bc/               |          |\n",
      "|    batch          | 1000     |\n",
      "|    ent_loss       | 0.00351  |\n",
      "|    entropy        | -3.51    |\n",
      "|    epoch          | 16       |\n",
      "|    l2_loss        | 0        |\n",
      "|    l2_norm        | 253      |\n",
      "|    loss           | -4.68    |\n",
      "|    neglogp        | -4.69    |\n",
      "|    prob_true_act  | 182      |\n",
      "|    samples_so_far | 32032    |\n",
      "--------------------------------\n"
     ]
    },
    {
     "name": "stderr",
     "output_type": "stream",
     "text": [
      "1240batch [00:04, 307.89batch/s]\n",
      "0batch [00:00, ?batch/s]"
     ]
    },
    {
     "name": "stdout",
     "output_type": "stream",
     "text": [
      "--------------------------------\n",
      "| batch_size        | 32       |\n",
      "| bc/               |          |\n",
      "|    batch          | 0        |\n",
      "|    ent_loss       | 0.00365  |\n",
      "|    entropy        | -3.65    |\n",
      "|    epoch          | 0        |\n",
      "|    l2_loss        | 0        |\n",
      "|    l2_norm        | 261      |\n",
      "|    loss           | -2.38    |\n",
      "|    neglogp        | -2.38    |\n",
      "|    prob_true_act  | 180      |\n",
      "|    samples_so_far | 32       |\n",
      "--------------------------------\n"
     ]
    },
    {
     "name": "stderr",
     "output_type": "stream",
     "text": [
      "493batch [00:01, 329.81batch/s]"
     ]
    },
    {
     "name": "stdout",
     "output_type": "stream",
     "text": [
      "--------------------------------\n",
      "| batch_size        | 32       |\n",
      "| bc/               |          |\n",
      "|    batch          | 500      |\n",
      "|    ent_loss       | 0.00393  |\n",
      "|    entropy        | -3.93    |\n",
      "|    epoch          | 8        |\n",
      "|    l2_loss        | 0        |\n",
      "|    l2_norm        | 276      |\n",
      "|    loss           | -2.48    |\n",
      "|    neglogp        | -2.49    |\n",
      "|    prob_true_act  | 235      |\n",
      "|    samples_so_far | 16032    |\n",
      "--------------------------------\n"
     ]
    },
    {
     "name": "stderr",
     "output_type": "stream",
     "text": [
      "994batch [00:02, 329.21batch/s]"
     ]
    },
    {
     "name": "stdout",
     "output_type": "stream",
     "text": [
      "--------------------------------\n",
      "| batch_size        | 32       |\n",
      "| bc/               |          |\n",
      "|    batch          | 1000     |\n",
      "|    ent_loss       | 0.00413  |\n",
      "|    entropy        | -4.13    |\n",
      "|    epoch          | 16       |\n",
      "|    l2_loss        | 0        |\n",
      "|    l2_norm        | 289      |\n",
      "|    loss           | -5.7     |\n",
      "|    neglogp        | -5.71    |\n",
      "|    prob_true_act  | 350      |\n",
      "|    samples_so_far | 32032    |\n",
      "--------------------------------\n"
     ]
    },
    {
     "name": "stderr",
     "output_type": "stream",
     "text": [
      "1240batch [00:03, 335.83batch/s]\n",
      "0batch [00:00, ?batch/s]"
     ]
    },
    {
     "name": "stdout",
     "output_type": "stream",
     "text": [
      "--------------------------------\n",
      "| batch_size        | 32       |\n",
      "| bc/               |          |\n",
      "|    batch          | 0        |\n",
      "|    ent_loss       | 0.00422  |\n",
      "|    entropy        | -4.22    |\n",
      "|    epoch          | 0        |\n",
      "|    l2_loss        | 0        |\n",
      "|    l2_norm        | 295      |\n",
      "|    loss           | -2.59    |\n",
      "|    neglogp        | -2.6     |\n",
      "|    prob_true_act  | 312      |\n",
      "|    samples_so_far | 32       |\n",
      "--------------------------------\n"
     ]
    },
    {
     "name": "stderr",
     "output_type": "stream",
     "text": [
      "474batch [00:01, 311.07batch/s]"
     ]
    },
    {
     "name": "stdout",
     "output_type": "stream",
     "text": [
      "--------------------------------\n",
      "| batch_size        | 32       |\n",
      "| bc/               |          |\n",
      "|    batch          | 500      |\n",
      "|    ent_loss       | 0.00438  |\n",
      "|    entropy        | -4.38    |\n",
      "|    epoch          | 8        |\n",
      "|    l2_loss        | 0        |\n",
      "|    l2_norm        | 307      |\n",
      "|    loss           | -5.02    |\n",
      "|    neglogp        | -5.02    |\n",
      "|    prob_true_act  | 442      |\n",
      "|    samples_so_far | 16032    |\n",
      "--------------------------------\n"
     ]
    },
    {
     "name": "stderr",
     "output_type": "stream",
     "text": [
      "997batch [00:03, 334.01batch/s]"
     ]
    },
    {
     "name": "stdout",
     "output_type": "stream",
     "text": [
      "--------------------------------\n",
      "| batch_size        | 32       |\n",
      "| bc/               |          |\n",
      "|    batch          | 1000     |\n",
      "|    ent_loss       | 0.00452  |\n",
      "|    entropy        | -4.52    |\n",
      "|    epoch          | 16       |\n",
      "|    l2_loss        | 0        |\n",
      "|    l2_norm        | 317      |\n",
      "|    loss           | -0.944   |\n",
      "|    neglogp        | -0.949   |\n",
      "|    prob_true_act  | 382      |\n",
      "|    samples_so_far | 32032    |\n",
      "--------------------------------\n"
     ]
    },
    {
     "name": "stderr",
     "output_type": "stream",
     "text": [
      "1240batch [00:03, 318.46batch/s]\n",
      "0batch [00:00, ?batch/s]"
     ]
    },
    {
     "name": "stdout",
     "output_type": "stream",
     "text": [
      "--------------------------------\n",
      "| batch_size        | 32       |\n",
      "| bc/               |          |\n",
      "|    batch          | 0        |\n",
      "|    ent_loss       | 0.00457  |\n",
      "|    entropy        | -4.57    |\n",
      "|    epoch          | 0        |\n",
      "|    l2_loss        | 0        |\n",
      "|    l2_norm        | 321      |\n",
      "|    loss           | -4.67    |\n",
      "|    neglogp        | -4.68    |\n",
      "|    prob_true_act  | 367      |\n",
      "|    samples_so_far | 32       |\n",
      "--------------------------------\n"
     ]
    },
    {
     "name": "stderr",
     "output_type": "stream",
     "text": [
      "494batch [00:01, 329.96batch/s]"
     ]
    },
    {
     "name": "stdout",
     "output_type": "stream",
     "text": [
      "--------------------------------\n",
      "| batch_size        | 32       |\n",
      "| bc/               |          |\n",
      "|    batch          | 500      |\n",
      "|    ent_loss       | 0.00467  |\n",
      "|    entropy        | -4.67    |\n",
      "|    epoch          | 8        |\n",
      "|    l2_loss        | 0        |\n",
      "|    l2_norm        | 330      |\n",
      "|    loss           | -5.43    |\n",
      "|    neglogp        | -5.43    |\n",
      "|    prob_true_act  | 573      |\n",
      "|    samples_so_far | 16032    |\n",
      "--------------------------------\n"
     ]
    },
    {
     "name": "stderr",
     "output_type": "stream",
     "text": [
      "963batch [00:02, 366.13batch/s]"
     ]
    },
    {
     "name": "stdout",
     "output_type": "stream",
     "text": [
      "--------------------------------\n",
      "| batch_size        | 32       |\n",
      "| bc/               |          |\n",
      "|    batch          | 1000     |\n",
      "|    ent_loss       | 0.00478  |\n",
      "|    entropy        | -4.78    |\n",
      "|    epoch          | 16       |\n",
      "|    l2_loss        | 0        |\n",
      "|    l2_norm        | 339      |\n",
      "|    loss           | -0.949   |\n",
      "|    neglogp        | -0.954   |\n",
      "|    prob_true_act  | 512      |\n",
      "|    samples_so_far | 32032    |\n",
      "--------------------------------\n"
     ]
    },
    {
     "name": "stderr",
     "output_type": "stream",
     "text": [
      "1240batch [00:03, 343.61batch/s]\n",
      "0batch [00:00, ?batch/s]"
     ]
    },
    {
     "name": "stdout",
     "output_type": "stream",
     "text": [
      "--------------------------------\n",
      "| batch_size        | 32       |\n",
      "| bc/               |          |\n",
      "|    batch          | 0        |\n",
      "|    ent_loss       | 0.00482  |\n",
      "|    entropy        | -4.82    |\n",
      "|    epoch          | 0        |\n",
      "|    l2_loss        | 0        |\n",
      "|    l2_norm        | 343      |\n",
      "|    loss           | -4.59    |\n",
      "|    neglogp        | -4.59    |\n",
      "|    prob_true_act  | 607      |\n",
      "|    samples_so_far | 32       |\n",
      "--------------------------------\n"
     ]
    },
    {
     "name": "stderr",
     "output_type": "stream",
     "text": [
      "468batch [00:01, 320.44batch/s]"
     ]
    },
    {
     "name": "stdout",
     "output_type": "stream",
     "text": [
      "--------------------------------\n",
      "| batch_size        | 32       |\n",
      "| bc/               |          |\n",
      "|    batch          | 500      |\n",
      "|    ent_loss       | 0.00489  |\n",
      "|    entropy        | -4.89    |\n",
      "|    epoch          | 8        |\n",
      "|    l2_loss        | 0        |\n",
      "|    l2_norm        | 352      |\n",
      "|    loss           | -6.07    |\n",
      "|    neglogp        | -6.07    |\n",
      "|    prob_true_act  | 671      |\n",
      "|    samples_so_far | 16032    |\n",
      "--------------------------------\n"
     ]
    },
    {
     "name": "stderr",
     "output_type": "stream",
     "text": [
      "969batch [00:02, 351.51batch/s]"
     ]
    },
    {
     "name": "stdout",
     "output_type": "stream",
     "text": [
      "--------------------------------\n",
      "| batch_size        | 32       |\n",
      "| bc/               |          |\n",
      "|    batch          | 1000     |\n",
      "|    ent_loss       | 0.00499  |\n",
      "|    entropy        | -4.99    |\n",
      "|    epoch          | 16       |\n",
      "|    l2_loss        | 0        |\n",
      "|    l2_norm        | 360      |\n",
      "|    loss           | -5.81    |\n",
      "|    neglogp        | -5.81    |\n",
      "|    prob_true_act  | 697      |\n",
      "|    samples_so_far | 32032    |\n",
      "--------------------------------\n"
     ]
    },
    {
     "name": "stderr",
     "output_type": "stream",
     "text": [
      "1240batch [00:03, 320.98batch/s]\n",
      "0batch [00:00, ?batch/s]"
     ]
    },
    {
     "name": "stdout",
     "output_type": "stream",
     "text": [
      "--------------------------------\n",
      "| batch_size        | 32       |\n",
      "| bc/               |          |\n",
      "|    batch          | 0        |\n",
      "|    ent_loss       | 0.00502  |\n",
      "|    entropy        | -5.02    |\n",
      "|    epoch          | 0        |\n",
      "|    l2_loss        | 0        |\n",
      "|    l2_norm        | 364      |\n",
      "|    loss           | -4.71    |\n",
      "|    neglogp        | -4.72    |\n",
      "|    prob_true_act  | 673      |\n",
      "|    samples_so_far | 32       |\n",
      "--------------------------------\n"
     ]
    },
    {
     "name": "stderr",
     "output_type": "stream",
     "text": [
      "482batch [00:01, 326.38batch/s]"
     ]
    },
    {
     "name": "stdout",
     "output_type": "stream",
     "text": [
      "--------------------------------\n",
      "| batch_size        | 32       |\n",
      "| bc/               |          |\n",
      "|    batch          | 500      |\n",
      "|    ent_loss       | 0.00509  |\n",
      "|    entropy        | -5.09    |\n",
      "|    epoch          | 8        |\n",
      "|    l2_loss        | 0        |\n",
      "|    l2_norm        | 372      |\n",
      "|    loss           | 2.48     |\n",
      "|    neglogp        | 2.47     |\n",
      "|    prob_true_act  | 681      |\n",
      "|    samples_so_far | 16032    |\n",
      "--------------------------------\n"
     ]
    },
    {
     "name": "stderr",
     "output_type": "stream",
     "text": [
      "969batch [00:02, 326.23batch/s]"
     ]
    },
    {
     "name": "stdout",
     "output_type": "stream",
     "text": [
      "--------------------------------\n",
      "| batch_size        | 32       |\n",
      "| bc/               |          |\n",
      "|    batch          | 1000     |\n",
      "|    ent_loss       | 0.00516  |\n",
      "|    entropy        | -5.16    |\n",
      "|    epoch          | 16       |\n",
      "|    l2_loss        | 0        |\n",
      "|    l2_norm        | 380      |\n",
      "|    loss           | -5.83    |\n",
      "|    neglogp        | -5.84    |\n",
      "|    prob_true_act  | 830      |\n",
      "|    samples_so_far | 32032    |\n",
      "--------------------------------\n"
     ]
    },
    {
     "name": "stderr",
     "output_type": "stream",
     "text": [
      "1240batch [00:03, 332.98batch/s]\n",
      "0batch [00:00, ?batch/s]"
     ]
    },
    {
     "name": "stdout",
     "output_type": "stream",
     "text": [
      "--------------------------------\n",
      "| batch_size        | 32       |\n",
      "| bc/               |          |\n",
      "|    batch          | 0        |\n",
      "|    ent_loss       | 0.0052   |\n",
      "|    entropy        | -5.2     |\n",
      "|    epoch          | 0        |\n",
      "|    l2_loss        | 0        |\n",
      "|    l2_norm        | 384      |\n",
      "|    loss           | -5.69    |\n",
      "|    neglogp        | -5.7     |\n",
      "|    prob_true_act  | 836      |\n",
      "|    samples_so_far | 32       |\n",
      "--------------------------------\n"
     ]
    },
    {
     "name": "stderr",
     "output_type": "stream",
     "text": [
      "478batch [00:01, 332.21batch/s]"
     ]
    },
    {
     "name": "stdout",
     "output_type": "stream",
     "text": [
      "--------------------------------\n",
      "| batch_size        | 32       |\n",
      "| bc/               |          |\n",
      "|    batch          | 500      |\n",
      "|    ent_loss       | 0.00528  |\n",
      "|    entropy        | -5.28    |\n",
      "|    epoch          | 8        |\n",
      "|    l2_loss        | 0        |\n",
      "|    l2_norm        | 393      |\n",
      "|    loss           | -2.87    |\n",
      "|    neglogp        | -2.88    |\n",
      "|    prob_true_act  | 1.1e+03  |\n",
      "|    samples_so_far | 16032    |\n",
      "--------------------------------\n"
     ]
    },
    {
     "name": "stderr",
     "output_type": "stream",
     "text": [
      "988batch [00:03, 321.92batch/s]"
     ]
    },
    {
     "name": "stdout",
     "output_type": "stream",
     "text": [
      "--------------------------------\n",
      "| batch_size        | 32       |\n",
      "| bc/               |          |\n",
      "|    batch          | 1000     |\n",
      "|    ent_loss       | 0.00529  |\n",
      "|    entropy        | -5.29    |\n",
      "|    epoch          | 16       |\n",
      "|    l2_loss        | 0        |\n",
      "|    l2_norm        | 401      |\n",
      "|    loss           | -6.77    |\n",
      "|    neglogp        | -6.77    |\n",
      "|    prob_true_act  | 1e+03    |\n",
      "|    samples_so_far | 32032    |\n",
      "--------------------------------\n"
     ]
    },
    {
     "name": "stderr",
     "output_type": "stream",
     "text": [
      "1240batch [00:03, 327.23batch/s]\n",
      "0batch [00:00, ?batch/s]"
     ]
    },
    {
     "name": "stdout",
     "output_type": "stream",
     "text": [
      "--------------------------------\n",
      "| batch_size        | 32       |\n",
      "| bc/               |          |\n",
      "|    batch          | 0        |\n",
      "|    ent_loss       | 0.00533  |\n",
      "|    entropy        | -5.33    |\n",
      "|    epoch          | 0        |\n",
      "|    l2_loss        | 0        |\n",
      "|    l2_norm        | 404      |\n",
      "|    loss           | -5.4     |\n",
      "|    neglogp        | -5.4     |\n",
      "|    prob_true_act  | 847      |\n",
      "|    samples_so_far | 32       |\n",
      "--------------------------------\n"
     ]
    },
    {
     "name": "stderr",
     "output_type": "stream",
     "text": [
      "470batch [00:01, 349.88batch/s]"
     ]
    },
    {
     "name": "stdout",
     "output_type": "stream",
     "text": [
      "--------------------------------\n",
      "| batch_size        | 32       |\n",
      "| bc/               |          |\n",
      "|    batch          | 500      |\n",
      "|    ent_loss       | 0.00543  |\n",
      "|    entropy        | -5.43    |\n",
      "|    epoch          | 8        |\n",
      "|    l2_loss        | 0        |\n",
      "|    l2_norm        | 413      |\n",
      "|    loss           | -6.71    |\n",
      "|    neglogp        | -6.71    |\n",
      "|    prob_true_act  | 1.23e+03 |\n",
      "|    samples_so_far | 16032    |\n",
      "--------------------------------\n"
     ]
    },
    {
     "name": "stderr",
     "output_type": "stream",
     "text": [
      "1000batch [00:02, 331.81batch/s]"
     ]
    },
    {
     "name": "stdout",
     "output_type": "stream",
     "text": [
      "--------------------------------\n",
      "| batch_size        | 32       |\n",
      "| bc/               |          |\n",
      "|    batch          | 1000     |\n",
      "|    ent_loss       | 0.00549  |\n",
      "|    entropy        | -5.49    |\n",
      "|    epoch          | 16       |\n",
      "|    l2_loss        | 0        |\n",
      "|    l2_norm        | 421      |\n",
      "|    loss           | -7.07    |\n",
      "|    neglogp        | -7.07    |\n",
      "|    prob_true_act  | 1.38e+03 |\n",
      "|    samples_so_far | 32032    |\n",
      "--------------------------------\n"
     ]
    },
    {
     "name": "stderr",
     "output_type": "stream",
     "text": [
      "1240batch [00:03, 331.58batch/s]\n",
      "0batch [00:00, ?batch/s]"
     ]
    },
    {
     "name": "stdout",
     "output_type": "stream",
     "text": [
      "--------------------------------\n",
      "| batch_size        | 32       |\n",
      "| bc/               |          |\n",
      "|    batch          | 0        |\n",
      "|    ent_loss       | 0.00552  |\n",
      "|    entropy        | -5.52    |\n",
      "|    epoch          | 0        |\n",
      "|    l2_loss        | 0        |\n",
      "|    l2_norm        | 424      |\n",
      "|    loss           | -6.79    |\n",
      "|    neglogp        | -6.8     |\n",
      "|    prob_true_act  | 1.26e+03 |\n",
      "|    samples_so_far | 32       |\n",
      "--------------------------------\n"
     ]
    },
    {
     "name": "stderr",
     "output_type": "stream",
     "text": [
      "495batch [00:01, 356.76batch/s]"
     ]
    },
    {
     "name": "stdout",
     "output_type": "stream",
     "text": [
      "--------------------------------\n",
      "| batch_size        | 32       |\n",
      "| bc/               |          |\n",
      "|    batch          | 500      |\n",
      "|    ent_loss       | 0.00555  |\n",
      "|    entropy        | -5.55    |\n",
      "|    epoch          | 8        |\n",
      "|    l2_loss        | 0        |\n",
      "|    l2_norm        | 432      |\n",
      "|    loss           | -6.9     |\n",
      "|    neglogp        | -6.91    |\n",
      "|    prob_true_act  | 1.32e+03 |\n",
      "|    samples_so_far | 16032    |\n",
      "--------------------------------\n"
     ]
    },
    {
     "name": "stderr",
     "output_type": "stream",
     "text": [
      "974batch [00:02, 332.09batch/s]"
     ]
    },
    {
     "name": "stdout",
     "output_type": "stream",
     "text": [
      "--------------------------------\n",
      "| batch_size        | 32       |\n",
      "| bc/               |          |\n",
      "|    batch          | 1000     |\n",
      "|    ent_loss       | 0.0056   |\n",
      "|    entropy        | -5.6     |\n",
      "|    epoch          | 16       |\n",
      "|    l2_loss        | 0        |\n",
      "|    l2_norm        | 439      |\n",
      "|    loss           | -7.09    |\n",
      "|    neglogp        | -7.1     |\n",
      "|    prob_true_act  | 1.43e+03 |\n",
      "|    samples_so_far | 32032    |\n",
      "--------------------------------\n"
     ]
    },
    {
     "name": "stderr",
     "output_type": "stream",
     "text": [
      "1240batch [00:03, 341.61batch/s]\n",
      "0batch [00:00, ?batch/s]"
     ]
    },
    {
     "name": "stdout",
     "output_type": "stream",
     "text": [
      "--------------------------------\n",
      "| batch_size        | 32       |\n",
      "| bc/               |          |\n",
      "|    batch          | 0        |\n",
      "|    ent_loss       | 0.00561  |\n",
      "|    entropy        | -5.61    |\n",
      "|    epoch          | 0        |\n",
      "|    l2_loss        | 0        |\n",
      "|    l2_norm        | 442      |\n",
      "|    loss           | -6.25    |\n",
      "|    neglogp        | -6.26    |\n",
      "|    prob_true_act  | 1.22e+03 |\n",
      "|    samples_so_far | 32       |\n",
      "--------------------------------\n"
     ]
    },
    {
     "name": "stderr",
     "output_type": "stream",
     "text": [
      "494batch [00:01, 315.47batch/s]"
     ]
    },
    {
     "name": "stdout",
     "output_type": "stream",
     "text": [
      "--------------------------------\n",
      "| batch_size        | 32       |\n",
      "| bc/               |          |\n",
      "|    batch          | 500      |\n",
      "|    ent_loss       | 0.00564  |\n",
      "|    entropy        | -5.64    |\n",
      "|    epoch          | 8        |\n",
      "|    l2_loss        | 0        |\n",
      "|    l2_norm        | 450      |\n",
      "|    loss           | -6.91    |\n",
      "|    neglogp        | -6.91    |\n",
      "|    prob_true_act  | 1.5e+03  |\n",
      "|    samples_so_far | 16032    |\n",
      "--------------------------------\n"
     ]
    },
    {
     "name": "stderr",
     "output_type": "stream",
     "text": [
      "983batch [00:03, 323.11batch/s]"
     ]
    },
    {
     "name": "stdout",
     "output_type": "stream",
     "text": [
      "--------------------------------\n",
      "| batch_size        | 32       |\n",
      "| bc/               |          |\n",
      "|    batch          | 1000     |\n",
      "|    ent_loss       | 0.00565  |\n",
      "|    entropy        | -5.65    |\n",
      "|    epoch          | 16       |\n",
      "|    l2_loss        | 0        |\n",
      "|    l2_norm        | 457      |\n",
      "|    loss           | -6.4     |\n",
      "|    neglogp        | -6.41    |\n",
      "|    prob_true_act  | 1.41e+03 |\n",
      "|    samples_so_far | 32032    |\n",
      "--------------------------------\n"
     ]
    },
    {
     "name": "stderr",
     "output_type": "stream",
     "text": [
      "1240batch [00:03, 320.16batch/s]\n",
      "0batch [00:00, ?batch/s]"
     ]
    },
    {
     "name": "stdout",
     "output_type": "stream",
     "text": [
      "--------------------------------\n",
      "| batch_size        | 32       |\n",
      "| bc/               |          |\n",
      "|    batch          | 0        |\n",
      "|    ent_loss       | 0.00567  |\n",
      "|    entropy        | -5.67    |\n",
      "|    epoch          | 0        |\n",
      "|    l2_loss        | 0        |\n",
      "|    l2_norm        | 460      |\n",
      "|    loss           | -7.08    |\n",
      "|    neglogp        | -7.08    |\n",
      "|    prob_true_act  | 1.37e+03 |\n",
      "|    samples_so_far | 32       |\n",
      "--------------------------------\n"
     ]
    },
    {
     "name": "stderr",
     "output_type": "stream",
     "text": [
      "489batch [00:01, 363.98batch/s]"
     ]
    },
    {
     "name": "stdout",
     "output_type": "stream",
     "text": [
      "--------------------------------\n",
      "| batch_size        | 32       |\n",
      "| bc/               |          |\n",
      "|    batch          | 500      |\n",
      "|    ent_loss       | 0.0057   |\n",
      "|    entropy        | -5.7     |\n",
      "|    epoch          | 8        |\n",
      "|    l2_loss        | 0        |\n",
      "|    l2_norm        | 467      |\n",
      "|    loss           | -6.4     |\n",
      "|    neglogp        | -6.41    |\n",
      "|    prob_true_act  | 1.58e+03 |\n",
      "|    samples_so_far | 16032    |\n",
      "--------------------------------\n"
     ]
    },
    {
     "name": "stderr",
     "output_type": "stream",
     "text": [
      "974batch [00:02, 323.53batch/s]"
     ]
    },
    {
     "name": "stdout",
     "output_type": "stream",
     "text": [
      "--------------------------------\n",
      "| batch_size        | 32       |\n",
      "| bc/               |          |\n",
      "|    batch          | 1000     |\n",
      "|    ent_loss       | 0.00574  |\n",
      "|    entropy        | -5.74    |\n",
      "|    epoch          | 16       |\n",
      "|    l2_loss        | 0        |\n",
      "|    l2_norm        | 473      |\n",
      "|    loss           | -7.04    |\n",
      "|    neglogp        | -7.04    |\n",
      "|    prob_true_act  | 1.42e+03 |\n",
      "|    samples_so_far | 32032    |\n",
      "--------------------------------\n"
     ]
    },
    {
     "name": "stderr",
     "output_type": "stream",
     "text": [
      "1240batch [00:03, 338.85batch/s]\n",
      "0batch [00:00, ?batch/s]"
     ]
    },
    {
     "name": "stdout",
     "output_type": "stream",
     "text": [
      "--------------------------------\n",
      "| batch_size        | 32       |\n",
      "| bc/               |          |\n",
      "|    batch          | 0        |\n",
      "|    ent_loss       | 0.00576  |\n",
      "|    entropy        | -5.76    |\n",
      "|    epoch          | 0        |\n",
      "|    l2_loss        | 0        |\n",
      "|    l2_norm        | 477      |\n",
      "|    loss           | -7.16    |\n",
      "|    neglogp        | -7.17    |\n",
      "|    prob_true_act  | 1.65e+03 |\n",
      "|    samples_so_far | 32       |\n",
      "--------------------------------\n"
     ]
    },
    {
     "name": "stderr",
     "output_type": "stream",
     "text": [
      "483batch [00:01, 341.92batch/s]"
     ]
    },
    {
     "name": "stdout",
     "output_type": "stream",
     "text": [
      "--------------------------------\n",
      "| batch_size        | 32       |\n",
      "| bc/               |          |\n",
      "|    batch          | 500      |\n",
      "|    ent_loss       | 0.0058   |\n",
      "|    entropy        | -5.8     |\n",
      "|    epoch          | 8        |\n",
      "|    l2_loss        | 0        |\n",
      "|    l2_norm        | 483      |\n",
      "|    loss           | -5.25    |\n",
      "|    neglogp        | -5.25    |\n",
      "|    prob_true_act  | 1.61e+03 |\n",
      "|    samples_so_far | 16032    |\n",
      "--------------------------------\n"
     ]
    },
    {
     "name": "stderr",
     "output_type": "stream",
     "text": [
      "991batch [00:02, 308.86batch/s]"
     ]
    },
    {
     "name": "stdout",
     "output_type": "stream",
     "text": [
      "--------------------------------\n",
      "| batch_size        | 32       |\n",
      "| bc/               |          |\n",
      "|    batch          | 1000     |\n",
      "|    ent_loss       | 0.0058   |\n",
      "|    entropy        | -5.8     |\n",
      "|    epoch          | 16       |\n",
      "|    l2_loss        | 0        |\n",
      "|    l2_norm        | 490      |\n",
      "|    loss           | -7.09    |\n",
      "|    neglogp        | -7.1     |\n",
      "|    prob_true_act  | 1.72e+03 |\n",
      "|    samples_so_far | 32032    |\n",
      "--------------------------------\n"
     ]
    },
    {
     "name": "stderr",
     "output_type": "stream",
     "text": [
      "1240batch [00:03, 332.97batch/s]\n",
      "0batch [00:00, ?batch/s]"
     ]
    },
    {
     "name": "stdout",
     "output_type": "stream",
     "text": [
      "--------------------------------\n",
      "| batch_size        | 32       |\n",
      "| bc/               |          |\n",
      "|    batch          | 0        |\n",
      "|    ent_loss       | 0.00581  |\n",
      "|    entropy        | -5.81    |\n",
      "|    epoch          | 0        |\n",
      "|    l2_loss        | 0        |\n",
      "|    l2_norm        | 493      |\n",
      "|    loss           | -7.54    |\n",
      "|    neglogp        | -7.55    |\n",
      "|    prob_true_act  | 1.99e+03 |\n",
      "|    samples_so_far | 32       |\n",
      "--------------------------------\n"
     ]
    },
    {
     "name": "stderr",
     "output_type": "stream",
     "text": [
      "475batch [00:01, 339.51batch/s]"
     ]
    },
    {
     "name": "stdout",
     "output_type": "stream",
     "text": [
      "--------------------------------\n",
      "| batch_size        | 32       |\n",
      "| bc/               |          |\n",
      "|    batch          | 500      |\n",
      "|    ent_loss       | 0.00586  |\n",
      "|    entropy        | -5.86    |\n",
      "|    epoch          | 8        |\n",
      "|    l2_loss        | 0        |\n",
      "|    l2_norm        | 500      |\n",
      "|    loss           | -6.62    |\n",
      "|    neglogp        | -6.63    |\n",
      "|    prob_true_act  | 1.3e+03  |\n",
      "|    samples_so_far | 16032    |\n",
      "--------------------------------\n"
     ]
    },
    {
     "name": "stderr",
     "output_type": "stream",
     "text": [
      "976batch [00:02, 343.73batch/s]"
     ]
    },
    {
     "name": "stdout",
     "output_type": "stream",
     "text": [
      "--------------------------------\n",
      "| batch_size        | 32       |\n",
      "| bc/               |          |\n",
      "|    batch          | 1000     |\n",
      "|    ent_loss       | 0.00583  |\n",
      "|    entropy        | -5.83    |\n",
      "|    epoch          | 16       |\n",
      "|    l2_loss        | 0        |\n",
      "|    l2_norm        | 506      |\n",
      "|    loss           | -4.24    |\n",
      "|    neglogp        | -4.25    |\n",
      "|    prob_true_act  | 1.32e+03 |\n",
      "|    samples_so_far | 32032    |\n",
      "--------------------------------\n"
     ]
    },
    {
     "name": "stderr",
     "output_type": "stream",
     "text": [
      "1240batch [00:03, 335.01batch/s]\n",
      "0batch [00:00, ?batch/s]"
     ]
    },
    {
     "name": "stdout",
     "output_type": "stream",
     "text": [
      "--------------------------------\n",
      "| batch_size        | 32       |\n",
      "| bc/               |          |\n",
      "|    batch          | 0        |\n",
      "|    ent_loss       | 0.00586  |\n",
      "|    entropy        | -5.86    |\n",
      "|    epoch          | 0        |\n",
      "|    l2_loss        | 0        |\n",
      "|    l2_norm        | 509      |\n",
      "|    loss           | -7.1     |\n",
      "|    neglogp        | -7.11    |\n",
      "|    prob_true_act  | 1.68e+03 |\n",
      "|    samples_so_far | 32       |\n",
      "--------------------------------\n"
     ]
    },
    {
     "name": "stderr",
     "output_type": "stream",
     "text": [
      "497batch [00:01, 361.92batch/s]"
     ]
    },
    {
     "name": "stdout",
     "output_type": "stream",
     "text": [
      "--------------------------------\n",
      "| batch_size        | 32       |\n",
      "| bc/               |          |\n",
      "|    batch          | 500      |\n",
      "|    ent_loss       | 0.00594  |\n",
      "|    entropy        | -5.94    |\n",
      "|    epoch          | 8        |\n",
      "|    l2_loss        | 0        |\n",
      "|    l2_norm        | 515      |\n",
      "|    loss           | 1.27     |\n",
      "|    neglogp        | 1.26     |\n",
      "|    prob_true_act  | 1.97e+03 |\n",
      "|    samples_so_far | 16032    |\n",
      "--------------------------------\n"
     ]
    },
    {
     "name": "stderr",
     "output_type": "stream",
     "text": [
      "997batch [00:02, 321.78batch/s]"
     ]
    },
    {
     "name": "stdout",
     "output_type": "stream",
     "text": [
      "--------------------------------\n",
      "| batch_size        | 32       |\n",
      "| bc/               |          |\n",
      "|    batch          | 1000     |\n",
      "|    ent_loss       | 0.00597  |\n",
      "|    entropy        | -5.97    |\n",
      "|    epoch          | 16       |\n",
      "|    l2_loss        | 0        |\n",
      "|    l2_norm        | 522      |\n",
      "|    loss           | -6.97    |\n",
      "|    neglogp        | -6.98    |\n",
      "|    prob_true_act  | 1.83e+03 |\n",
      "|    samples_so_far | 32032    |\n",
      "--------------------------------\n"
     ]
    },
    {
     "name": "stderr",
     "output_type": "stream",
     "text": [
      "1240batch [00:03, 335.78batch/s]\n",
      "0batch [00:00, ?batch/s]"
     ]
    },
    {
     "name": "stdout",
     "output_type": "stream",
     "text": [
      "--------------------------------\n",
      "| batch_size        | 32       |\n",
      "| bc/               |          |\n",
      "|    batch          | 0        |\n",
      "|    ent_loss       | 0.00598  |\n",
      "|    entropy        | -5.98    |\n",
      "|    epoch          | 0        |\n",
      "|    l2_loss        | 0        |\n",
      "|    l2_norm        | 525      |\n",
      "|    loss           | -7.66    |\n",
      "|    neglogp        | -7.67    |\n",
      "|    prob_true_act  | 2.27e+03 |\n",
      "|    samples_so_far | 32       |\n",
      "--------------------------------\n"
     ]
    },
    {
     "name": "stderr",
     "output_type": "stream",
     "text": [
      "483batch [00:01, 320.92batch/s]"
     ]
    },
    {
     "name": "stdout",
     "output_type": "stream",
     "text": [
      "--------------------------------\n",
      "| batch_size        | 32       |\n",
      "| bc/               |          |\n",
      "|    batch          | 500      |\n",
      "|    ent_loss       | 0.00599  |\n",
      "|    entropy        | -5.99    |\n",
      "|    epoch          | 8        |\n",
      "|    l2_loss        | 0        |\n",
      "|    l2_norm        | 532      |\n",
      "|    loss           | -6.36    |\n",
      "|    neglogp        | -6.37    |\n",
      "|    prob_true_act  | 1.88e+03 |\n",
      "|    samples_so_far | 16032    |\n",
      "--------------------------------\n"
     ]
    },
    {
     "name": "stderr",
     "output_type": "stream",
     "text": [
      "993batch [00:03, 322.15batch/s]"
     ]
    },
    {
     "name": "stdout",
     "output_type": "stream",
     "text": [
      "--------------------------------\n",
      "| batch_size        | 32       |\n",
      "| bc/               |          |\n",
      "|    batch          | 1000     |\n",
      "|    ent_loss       | 0.006    |\n",
      "|    entropy        | -6       |\n",
      "|    epoch          | 16       |\n",
      "|    l2_loss        | 0        |\n",
      "|    l2_norm        | 539      |\n",
      "|    loss           | -7.29    |\n",
      "|    neglogp        | -7.3     |\n",
      "|    prob_true_act  | 1.86e+03 |\n",
      "|    samples_so_far | 32032    |\n",
      "--------------------------------\n"
     ]
    },
    {
     "name": "stderr",
     "output_type": "stream",
     "text": [
      "1240batch [00:03, 319.84batch/s]\n",
      "0batch [00:00, ?batch/s]"
     ]
    },
    {
     "name": "stdout",
     "output_type": "stream",
     "text": [
      "--------------------------------\n",
      "| batch_size        | 32       |\n",
      "| bc/               |          |\n",
      "|    batch          | 0        |\n",
      "|    ent_loss       | 0.006    |\n",
      "|    entropy        | -6       |\n",
      "|    epoch          | 0        |\n",
      "|    l2_loss        | 0        |\n",
      "|    l2_norm        | 541      |\n",
      "|    loss           | -7.29    |\n",
      "|    neglogp        | -7.29    |\n",
      "|    prob_true_act  | 1.97e+03 |\n",
      "|    samples_so_far | 32       |\n",
      "--------------------------------\n"
     ]
    },
    {
     "name": "stderr",
     "output_type": "stream",
     "text": [
      "484batch [00:01, 302.56batch/s]"
     ]
    },
    {
     "name": "stdout",
     "output_type": "stream",
     "text": [
      "--------------------------------\n",
      "| batch_size        | 32       |\n",
      "| bc/               |          |\n",
      "|    batch          | 500      |\n",
      "|    ent_loss       | 0.00605  |\n",
      "|    entropy        | -6.05    |\n",
      "|    epoch          | 8        |\n",
      "|    l2_loss        | 0        |\n",
      "|    l2_norm        | 548      |\n",
      "|    loss           | -7.23    |\n",
      "|    neglogp        | -7.24    |\n",
      "|    prob_true_act  | 1.99e+03 |\n",
      "|    samples_so_far | 16032    |\n",
      "--------------------------------\n"
     ]
    },
    {
     "name": "stderr",
     "output_type": "stream",
     "text": [
      "974batch [00:03, 349.99batch/s]"
     ]
    },
    {
     "name": "stdout",
     "output_type": "stream",
     "text": [
      "--------------------------------\n",
      "| batch_size        | 32       |\n",
      "| bc/               |          |\n",
      "|    batch          | 1000     |\n",
      "|    ent_loss       | 0.00607  |\n",
      "|    entropy        | -6.07    |\n",
      "|    epoch          | 16       |\n",
      "|    l2_loss        | 0        |\n",
      "|    l2_norm        | 555      |\n",
      "|    loss           | -7.02    |\n",
      "|    neglogp        | -7.03    |\n",
      "|    prob_true_act  | 2.26e+03 |\n",
      "|    samples_so_far | 32032    |\n",
      "--------------------------------\n"
     ]
    },
    {
     "name": "stderr",
     "output_type": "stream",
     "text": [
      "1240batch [00:03, 326.64batch/s]\n",
      "0batch [00:00, ?batch/s]"
     ]
    },
    {
     "name": "stdout",
     "output_type": "stream",
     "text": [
      "--------------------------------\n",
      "| batch_size        | 32       |\n",
      "| bc/               |          |\n",
      "|    batch          | 0        |\n",
      "|    ent_loss       | 0.00608  |\n",
      "|    entropy        | -6.08    |\n",
      "|    epoch          | 0        |\n",
      "|    l2_loss        | 0        |\n",
      "|    l2_norm        | 558      |\n",
      "|    loss           | -6.86    |\n",
      "|    neglogp        | -6.86    |\n",
      "|    prob_true_act  | 1.97e+03 |\n",
      "|    samples_so_far | 32       |\n",
      "--------------------------------\n"
     ]
    },
    {
     "name": "stderr",
     "output_type": "stream",
     "text": [
      "475batch [00:01, 350.40batch/s]"
     ]
    },
    {
     "name": "stdout",
     "output_type": "stream",
     "text": [
      "--------------------------------\n",
      "| batch_size        | 32       |\n",
      "| bc/               |          |\n",
      "|    batch          | 500      |\n",
      "|    ent_loss       | 0.00611  |\n",
      "|    entropy        | -6.11    |\n",
      "|    epoch          | 8        |\n",
      "|    l2_loss        | 0        |\n",
      "|    l2_norm        | 565      |\n",
      "|    loss           | -6.91    |\n",
      "|    neglogp        | -6.92    |\n",
      "|    prob_true_act  | 2.14e+03 |\n",
      "|    samples_so_far | 16032    |\n",
      "--------------------------------\n"
     ]
    },
    {
     "name": "stderr",
     "output_type": "stream",
     "text": [
      "970batch [00:02, 309.60batch/s]"
     ]
    },
    {
     "name": "stdout",
     "output_type": "stream",
     "text": [
      "--------------------------------\n",
      "| batch_size        | 32       |\n",
      "| bc/               |          |\n",
      "|    batch          | 1000     |\n",
      "|    ent_loss       | 0.00613  |\n",
      "|    entropy        | -6.13    |\n",
      "|    epoch          | 16       |\n",
      "|    l2_loss        | 0        |\n",
      "|    l2_norm        | 572      |\n",
      "|    loss           | -7.27    |\n",
      "|    neglogp        | -7.28    |\n",
      "|    prob_true_act  | 2.29e+03 |\n",
      "|    samples_so_far | 32032    |\n",
      "--------------------------------\n"
     ]
    },
    {
     "name": "stderr",
     "output_type": "stream",
     "text": [
      "1240batch [00:03, 329.46batch/s]\n",
      "0batch [00:00, ?batch/s]"
     ]
    },
    {
     "name": "stdout",
     "output_type": "stream",
     "text": [
      "--------------------------------\n",
      "| batch_size        | 32       |\n",
      "| bc/               |          |\n",
      "|    batch          | 0        |\n",
      "|    ent_loss       | 0.00612  |\n",
      "|    entropy        | -6.12    |\n",
      "|    epoch          | 0        |\n",
      "|    l2_loss        | 0        |\n",
      "|    l2_norm        | 575      |\n",
      "|    loss           | -7.09    |\n",
      "|    neglogp        | -7.1     |\n",
      "|    prob_true_act  | 2.46e+03 |\n",
      "|    samples_so_far | 32       |\n",
      "--------------------------------\n"
     ]
    },
    {
     "name": "stderr",
     "output_type": "stream",
     "text": [
      "478batch [00:01, 303.83batch/s]"
     ]
    },
    {
     "name": "stdout",
     "output_type": "stream",
     "text": [
      "--------------------------------\n",
      "| batch_size        | 32       |\n",
      "| bc/               |          |\n",
      "|    batch          | 500      |\n",
      "|    ent_loss       | 0.00618  |\n",
      "|    entropy        | -6.18    |\n",
      "|    epoch          | 8        |\n",
      "|    l2_loss        | 0        |\n",
      "|    l2_norm        | 581      |\n",
      "|    loss           | -7.04    |\n",
      "|    neglogp        | -7.05    |\n",
      "|    prob_true_act  | 2.2e+03  |\n",
      "|    samples_so_far | 16032    |\n",
      "--------------------------------\n"
     ]
    },
    {
     "name": "stderr",
     "output_type": "stream",
     "text": [
      "996batch [00:03, 313.27batch/s]"
     ]
    },
    {
     "name": "stdout",
     "output_type": "stream",
     "text": [
      "--------------------------------\n",
      "| batch_size        | 32       |\n",
      "| bc/               |          |\n",
      "|    batch          | 1000     |\n",
      "|    ent_loss       | 0.00618  |\n",
      "|    entropy        | -6.18    |\n",
      "|    epoch          | 16       |\n",
      "|    l2_loss        | 0        |\n",
      "|    l2_norm        | 588      |\n",
      "|    loss           | -3.84    |\n",
      "|    neglogp        | -3.85    |\n",
      "|    prob_true_act  | 2.23e+03 |\n",
      "|    samples_so_far | 32032    |\n",
      "--------------------------------\n"
     ]
    },
    {
     "name": "stderr",
     "output_type": "stream",
     "text": [
      "1240batch [00:03, 324.93batch/s]\n",
      "0batch [00:00, ?batch/s]"
     ]
    },
    {
     "name": "stdout",
     "output_type": "stream",
     "text": [
      "--------------------------------\n",
      "| batch_size        | 32       |\n",
      "| bc/               |          |\n",
      "|    batch          | 0        |\n",
      "|    ent_loss       | 0.00618  |\n",
      "|    entropy        | -6.18    |\n",
      "|    epoch          | 0        |\n",
      "|    l2_loss        | 0        |\n",
      "|    l2_norm        | 592      |\n",
      "|    loss           | -6.58    |\n",
      "|    neglogp        | -6.59    |\n",
      "|    prob_true_act  | 2.45e+03 |\n",
      "|    samples_so_far | 32       |\n",
      "--------------------------------\n"
     ]
    },
    {
     "name": "stderr",
     "output_type": "stream",
     "text": [
      "494batch [00:01, 312.47batch/s]"
     ]
    },
    {
     "name": "stdout",
     "output_type": "stream",
     "text": [
      "--------------------------------\n",
      "| batch_size        | 32       |\n",
      "| bc/               |          |\n",
      "|    batch          | 500      |\n",
      "|    ent_loss       | 0.00619  |\n",
      "|    entropy        | -6.19    |\n",
      "|    epoch          | 8        |\n",
      "|    l2_loss        | 0        |\n",
      "|    l2_norm        | 598      |\n",
      "|    loss           | -7.5     |\n",
      "|    neglogp        | -7.5     |\n",
      "|    prob_true_act  | 2.78e+03 |\n",
      "|    samples_so_far | 16032    |\n",
      "--------------------------------\n"
     ]
    },
    {
     "name": "stderr",
     "output_type": "stream",
     "text": [
      "998batch [00:02, 354.00batch/s]"
     ]
    },
    {
     "name": "stdout",
     "output_type": "stream",
     "text": [
      "--------------------------------\n",
      "| batch_size        | 32       |\n",
      "| bc/               |          |\n",
      "|    batch          | 1000     |\n",
      "|    ent_loss       | 0.00624  |\n",
      "|    entropy        | -6.24    |\n",
      "|    epoch          | 16       |\n",
      "|    l2_loss        | 0        |\n",
      "|    l2_norm        | 605      |\n",
      "|    loss           | -4.42    |\n",
      "|    neglogp        | -4.42    |\n",
      "|    prob_true_act  | 2.22e+03 |\n",
      "|    samples_so_far | 32032    |\n",
      "--------------------------------\n"
     ]
    },
    {
     "name": "stderr",
     "output_type": "stream",
     "text": [
      "1240batch [00:03, 333.77batch/s]\n",
      "0batch [00:00, ?batch/s]"
     ]
    },
    {
     "name": "stdout",
     "output_type": "stream",
     "text": [
      "--------------------------------\n",
      "| batch_size        | 32       |\n",
      "| bc/               |          |\n",
      "|    batch          | 0        |\n",
      "|    ent_loss       | 0.00624  |\n",
      "|    entropy        | -6.24    |\n",
      "|    epoch          | 0        |\n",
      "|    l2_loss        | 0        |\n",
      "|    l2_norm        | 608      |\n",
      "|    loss           | -7.03    |\n",
      "|    neglogp        | -7.04    |\n",
      "|    prob_true_act  | 2.54e+03 |\n",
      "|    samples_so_far | 32       |\n",
      "--------------------------------\n"
     ]
    },
    {
     "name": "stderr",
     "output_type": "stream",
     "text": [
      "492batch [00:01, 342.96batch/s]"
     ]
    },
    {
     "name": "stdout",
     "output_type": "stream",
     "text": [
      "--------------------------------\n",
      "| batch_size        | 32       |\n",
      "| bc/               |          |\n",
      "|    batch          | 500      |\n",
      "|    ent_loss       | 0.00627  |\n",
      "|    entropy        | -6.27    |\n",
      "|    epoch          | 8        |\n",
      "|    l2_loss        | 0        |\n",
      "|    l2_norm        | 615      |\n",
      "|    loss           | -2.78    |\n",
      "|    neglogp        | -2.79    |\n",
      "|    prob_true_act  | 2.77e+03 |\n",
      "|    samples_so_far | 16032    |\n",
      "--------------------------------\n"
     ]
    },
    {
     "name": "stderr",
     "output_type": "stream",
     "text": [
      "971batch [00:03, 353.83batch/s]"
     ]
    },
    {
     "name": "stdout",
     "output_type": "stream",
     "text": [
      "--------------------------------\n",
      "| batch_size        | 32       |\n",
      "| bc/               |          |\n",
      "|    batch          | 1000     |\n",
      "|    ent_loss       | 0.00628  |\n",
      "|    entropy        | -6.28    |\n",
      "|    epoch          | 16       |\n",
      "|    l2_loss        | 0        |\n",
      "|    l2_norm        | 622      |\n",
      "|    loss           | -5.9     |\n",
      "|    neglogp        | -5.9     |\n",
      "|    prob_true_act  | 2.38e+03 |\n",
      "|    samples_so_far | 32032    |\n",
      "--------------------------------\n"
     ]
    },
    {
     "name": "stderr",
     "output_type": "stream",
     "text": [
      "1240batch [00:03, 319.14batch/s]\n",
      "0batch [00:00, ?batch/s]"
     ]
    },
    {
     "name": "stdout",
     "output_type": "stream",
     "text": [
      "--------------------------------\n",
      "| batch_size        | 32       |\n",
      "| bc/               |          |\n",
      "|    batch          | 0        |\n",
      "|    ent_loss       | 0.00629  |\n",
      "|    entropy        | -6.29    |\n",
      "|    epoch          | 0        |\n",
      "|    l2_loss        | 0        |\n",
      "|    l2_norm        | 625      |\n",
      "|    loss           | -6.42    |\n",
      "|    neglogp        | -6.43    |\n",
      "|    prob_true_act  | 2.94e+03 |\n",
      "|    samples_so_far | 32       |\n",
      "--------------------------------\n"
     ]
    },
    {
     "name": "stderr",
     "output_type": "stream",
     "text": [
      "490batch [00:01, 316.30batch/s]"
     ]
    },
    {
     "name": "stdout",
     "output_type": "stream",
     "text": [
      "--------------------------------\n",
      "| batch_size        | 32       |\n",
      "| bc/               |          |\n",
      "|    batch          | 500      |\n",
      "|    ent_loss       | 0.00631  |\n",
      "|    entropy        | -6.31    |\n",
      "|    epoch          | 8        |\n",
      "|    l2_loss        | 0        |\n",
      "|    l2_norm        | 632      |\n",
      "|    loss           | -6.62    |\n",
      "|    neglogp        | -6.62    |\n",
      "|    prob_true_act  | 2.62e+03 |\n",
      "|    samples_so_far | 16032    |\n",
      "--------------------------------\n"
     ]
    },
    {
     "name": "stderr",
     "output_type": "stream",
     "text": [
      "978batch [00:03, 304.94batch/s]"
     ]
    },
    {
     "name": "stdout",
     "output_type": "stream",
     "text": [
      "--------------------------------\n",
      "| batch_size        | 32       |\n",
      "| bc/               |          |\n",
      "|    batch          | 1000     |\n",
      "|    ent_loss       | 0.00633  |\n",
      "|    entropy        | -6.33    |\n",
      "|    epoch          | 16       |\n",
      "|    l2_loss        | 0        |\n",
      "|    l2_norm        | 639      |\n",
      "|    loss           | -7.9     |\n",
      "|    neglogp        | -7.91    |\n",
      "|    prob_true_act  | 2.94e+03 |\n",
      "|    samples_so_far | 32032    |\n",
      "--------------------------------\n"
     ]
    },
    {
     "name": "stderr",
     "output_type": "stream",
     "text": [
      "1240batch [00:03, 315.27batch/s]\n",
      "0batch [00:00, ?batch/s]"
     ]
    },
    {
     "name": "stdout",
     "output_type": "stream",
     "text": [
      "--------------------------------\n",
      "| batch_size        | 32       |\n",
      "| bc/               |          |\n",
      "|    batch          | 0        |\n",
      "|    ent_loss       | 0.00632  |\n",
      "|    entropy        | -6.32    |\n",
      "|    epoch          | 0        |\n",
      "|    l2_loss        | 0        |\n",
      "|    l2_norm        | 642      |\n",
      "|    loss           | -7.74    |\n",
      "|    neglogp        | -7.75    |\n",
      "|    prob_true_act  | 2.84e+03 |\n",
      "|    samples_so_far | 32       |\n",
      "--------------------------------\n"
     ]
    },
    {
     "name": "stderr",
     "output_type": "stream",
     "text": [
      "485batch [00:01, 315.61batch/s]"
     ]
    },
    {
     "name": "stdout",
     "output_type": "stream",
     "text": [
      "--------------------------------\n",
      "| batch_size        | 32       |\n",
      "| bc/               |          |\n",
      "|    batch          | 500      |\n",
      "|    ent_loss       | 0.00635  |\n",
      "|    entropy        | -6.35    |\n",
      "|    epoch          | 8        |\n",
      "|    l2_loss        | 0        |\n",
      "|    l2_norm        | 649      |\n",
      "|    loss           | -6.05    |\n",
      "|    neglogp        | -6.06    |\n",
      "|    prob_true_act  | 2.55e+03 |\n",
      "|    samples_so_far | 16032    |\n",
      "--------------------------------\n"
     ]
    },
    {
     "name": "stderr",
     "output_type": "stream",
     "text": [
      "972batch [00:03, 321.02batch/s]"
     ]
    },
    {
     "name": "stdout",
     "output_type": "stream",
     "text": [
      "--------------------------------\n",
      "| batch_size        | 32       |\n",
      "| bc/               |          |\n",
      "|    batch          | 1000     |\n",
      "|    ent_loss       | 0.00637  |\n",
      "|    entropy        | -6.37    |\n",
      "|    epoch          | 16       |\n",
      "|    l2_loss        | 0        |\n",
      "|    l2_norm        | 656      |\n",
      "|    loss           | -7.36    |\n",
      "|    neglogp        | -7.37    |\n",
      "|    prob_true_act  | 3.36e+03 |\n",
      "|    samples_so_far | 32032    |\n",
      "--------------------------------\n"
     ]
    },
    {
     "name": "stderr",
     "output_type": "stream",
     "text": [
      "1240batch [00:03, 314.68batch/s]\n",
      "0batch [00:00, ?batch/s]"
     ]
    },
    {
     "name": "stdout",
     "output_type": "stream",
     "text": [
      "--------------------------------\n",
      "| batch_size        | 32       |\n",
      "| bc/               |          |\n",
      "|    batch          | 0        |\n",
      "|    ent_loss       | 0.0064   |\n",
      "|    entropy        | -6.4     |\n",
      "|    epoch          | 0        |\n",
      "|    l2_loss        | 0        |\n",
      "|    l2_norm        | 659      |\n",
      "|    loss           | -5.05    |\n",
      "|    neglogp        | -5.05    |\n",
      "|    prob_true_act  | 3.25e+03 |\n",
      "|    samples_so_far | 32       |\n",
      "--------------------------------\n"
     ]
    },
    {
     "name": "stderr",
     "output_type": "stream",
     "text": [
      "497batch [00:01, 334.03batch/s]"
     ]
    },
    {
     "name": "stdout",
     "output_type": "stream",
     "text": [
      "--------------------------------\n",
      "| batch_size        | 32       |\n",
      "| bc/               |          |\n",
      "|    batch          | 500      |\n",
      "|    ent_loss       | 0.0064   |\n",
      "|    entropy        | -6.4     |\n",
      "|    epoch          | 8        |\n",
      "|    l2_loss        | 0        |\n",
      "|    l2_norm        | 666      |\n",
      "|    loss           | -7.73    |\n",
      "|    neglogp        | -7.74    |\n",
      "|    prob_true_act  | 2.86e+03 |\n",
      "|    samples_so_far | 16032    |\n",
      "--------------------------------\n"
     ]
    },
    {
     "name": "stderr",
     "output_type": "stream",
     "text": [
      "995batch [00:03, 317.14batch/s]"
     ]
    },
    {
     "name": "stdout",
     "output_type": "stream",
     "text": [
      "--------------------------------\n",
      "| batch_size        | 32       |\n",
      "| bc/               |          |\n",
      "|    batch          | 1000     |\n",
      "|    ent_loss       | 0.0064   |\n",
      "|    entropy        | -6.4     |\n",
      "|    epoch          | 16       |\n",
      "|    l2_loss        | 0        |\n",
      "|    l2_norm        | 673      |\n",
      "|    loss           | -6.92    |\n",
      "|    neglogp        | -6.93    |\n",
      "|    prob_true_act  | 2.56e+03 |\n",
      "|    samples_so_far | 32032    |\n",
      "--------------------------------\n"
     ]
    },
    {
     "name": "stderr",
     "output_type": "stream",
     "text": [
      "1240batch [00:03, 326.77batch/s]\n",
      "0batch [00:00, ?batch/s]"
     ]
    },
    {
     "name": "stdout",
     "output_type": "stream",
     "text": [
      "--------------------------------\n",
      "| batch_size        | 32       |\n",
      "| bc/               |          |\n",
      "|    batch          | 0        |\n",
      "|    ent_loss       | 0.00642  |\n",
      "|    entropy        | -6.42    |\n",
      "|    epoch          | 0        |\n",
      "|    l2_loss        | 0        |\n",
      "|    l2_norm        | 676      |\n",
      "|    loss           | -5.41    |\n",
      "|    neglogp        | -5.42    |\n",
      "|    prob_true_act  | 2.88e+03 |\n",
      "|    samples_so_far | 32       |\n",
      "--------------------------------\n"
     ]
    },
    {
     "name": "stderr",
     "output_type": "stream",
     "text": [
      "496batch [00:01, 309.99batch/s]"
     ]
    },
    {
     "name": "stdout",
     "output_type": "stream",
     "text": [
      "--------------------------------\n",
      "| batch_size        | 32       |\n",
      "| bc/               |          |\n",
      "|    batch          | 500      |\n",
      "|    ent_loss       | 0.0065   |\n",
      "|    entropy        | -6.5     |\n",
      "|    epoch          | 8        |\n",
      "|    l2_loss        | 0        |\n",
      "|    l2_norm        | 683      |\n",
      "|    loss           | -6.99    |\n",
      "|    neglogp        | -7       |\n",
      "|    prob_true_act  | 3.64e+03 |\n",
      "|    samples_so_far | 16032    |\n",
      "--------------------------------\n"
     ]
    },
    {
     "name": "stderr",
     "output_type": "stream",
     "text": [
      "974batch [00:03, 341.54batch/s]"
     ]
    },
    {
     "name": "stdout",
     "output_type": "stream",
     "text": [
      "--------------------------------\n",
      "| batch_size        | 32       |\n",
      "| bc/               |          |\n",
      "|    batch          | 1000     |\n",
      "|    ent_loss       | 0.0065   |\n",
      "|    entropy        | -6.5     |\n",
      "|    epoch          | 16       |\n",
      "|    l2_loss        | 0        |\n",
      "|    l2_norm        | 690      |\n",
      "|    loss           | -4.47    |\n",
      "|    neglogp        | -4.47    |\n",
      "|    prob_true_act  | 3.62e+03 |\n",
      "|    samples_so_far | 32032    |\n",
      "--------------------------------\n"
     ]
    },
    {
     "name": "stderr",
     "output_type": "stream",
     "text": [
      "1240batch [00:03, 323.69batch/s]\n",
      "0batch [00:00, ?batch/s]"
     ]
    },
    {
     "name": "stdout",
     "output_type": "stream",
     "text": [
      "--------------------------------\n",
      "| batch_size        | 32       |\n",
      "| bc/               |          |\n",
      "|    batch          | 0        |\n",
      "|    ent_loss       | 0.00648  |\n",
      "|    entropy        | -6.48    |\n",
      "|    epoch          | 0        |\n",
      "|    l2_loss        | 0        |\n",
      "|    l2_norm        | 693      |\n",
      "|    loss           | -7.84    |\n",
      "|    neglogp        | -7.85    |\n",
      "|    prob_true_act  | 3.35e+03 |\n",
      "|    samples_so_far | 32       |\n",
      "--------------------------------\n"
     ]
    },
    {
     "name": "stderr",
     "output_type": "stream",
     "text": [
      "497batch [00:01, 314.95batch/s]"
     ]
    },
    {
     "name": "stdout",
     "output_type": "stream",
     "text": [
      "--------------------------------\n",
      "| batch_size        | 32       |\n",
      "| bc/               |          |\n",
      "|    batch          | 500      |\n",
      "|    ent_loss       | 0.00648  |\n",
      "|    entropy        | -6.48    |\n",
      "|    epoch          | 8        |\n",
      "|    l2_loss        | 0        |\n",
      "|    l2_norm        | 700      |\n",
      "|    loss           | -5.45    |\n",
      "|    neglogp        | -5.46    |\n",
      "|    prob_true_act  | 3.1e+03  |\n",
      "|    samples_so_far | 16032    |\n",
      "--------------------------------\n"
     ]
    },
    {
     "name": "stderr",
     "output_type": "stream",
     "text": [
      "991batch [00:03, 335.14batch/s]"
     ]
    },
    {
     "name": "stdout",
     "output_type": "stream",
     "text": [
      "--------------------------------\n",
      "| batch_size        | 32       |\n",
      "| bc/               |          |\n",
      "|    batch          | 1000     |\n",
      "|    ent_loss       | 0.00646  |\n",
      "|    entropy        | -6.46    |\n",
      "|    epoch          | 16       |\n",
      "|    l2_loss        | 0        |\n",
      "|    l2_norm        | 707      |\n",
      "|    loss           | -5.89    |\n",
      "|    neglogp        | -5.9     |\n",
      "|    prob_true_act  | 2.98e+03 |\n",
      "|    samples_so_far | 32032    |\n",
      "--------------------------------\n"
     ]
    },
    {
     "name": "stderr",
     "output_type": "stream",
     "text": [
      "1240batch [00:03, 321.43batch/s]\n",
      "0batch [00:00, ?batch/s]"
     ]
    },
    {
     "name": "stdout",
     "output_type": "stream",
     "text": [
      "--------------------------------\n",
      "| batch_size        | 32       |\n",
      "| bc/               |          |\n",
      "|    batch          | 0        |\n",
      "|    ent_loss       | 0.00647  |\n",
      "|    entropy        | -6.47    |\n",
      "|    epoch          | 0        |\n",
      "|    l2_loss        | 0        |\n",
      "|    l2_norm        | 711      |\n",
      "|    loss           | -7.49    |\n",
      "|    neglogp        | -7.5     |\n",
      "|    prob_true_act  | 3.15e+03 |\n",
      "|    samples_so_far | 32       |\n",
      "--------------------------------\n"
     ]
    },
    {
     "name": "stderr",
     "output_type": "stream",
     "text": [
      "472batch [00:01, 356.96batch/s]"
     ]
    },
    {
     "name": "stdout",
     "output_type": "stream",
     "text": [
      "--------------------------------\n",
      "| batch_size        | 32       |\n",
      "| bc/               |          |\n",
      "|    batch          | 500      |\n",
      "|    ent_loss       | 0.00654  |\n",
      "|    entropy        | -6.54    |\n",
      "|    epoch          | 8        |\n",
      "|    l2_loss        | 0        |\n",
      "|    l2_norm        | 718      |\n",
      "|    loss           | -8.3     |\n",
      "|    neglogp        | -8.3     |\n",
      "|    prob_true_act  | 4.22e+03 |\n",
      "|    samples_so_far | 16032    |\n",
      "--------------------------------\n"
     ]
    },
    {
     "name": "stderr",
     "output_type": "stream",
     "text": [
      "977batch [00:03, 328.03batch/s]"
     ]
    },
    {
     "name": "stdout",
     "output_type": "stream",
     "text": [
      "--------------------------------\n",
      "| batch_size        | 32       |\n",
      "| bc/               |          |\n",
      "|    batch          | 1000     |\n",
      "|    ent_loss       | 0.0066   |\n",
      "|    entropy        | -6.6     |\n",
      "|    epoch          | 16       |\n",
      "|    l2_loss        | 0        |\n",
      "|    l2_norm        | 725      |\n",
      "|    loss           | -0.798   |\n",
      "|    neglogp        | -0.804   |\n",
      "|    prob_true_act  | 3.48e+03 |\n",
      "|    samples_so_far | 32032    |\n",
      "--------------------------------\n"
     ]
    },
    {
     "name": "stderr",
     "output_type": "stream",
     "text": [
      "1240batch [00:03, 323.98batch/s]\n",
      "0batch [00:00, ?batch/s]"
     ]
    },
    {
     "name": "stdout",
     "output_type": "stream",
     "text": [
      "--------------------------------\n",
      "| batch_size        | 32       |\n",
      "| bc/               |          |\n",
      "|    batch          | 0        |\n",
      "|    ent_loss       | 0.00661  |\n",
      "|    entropy        | -6.61    |\n",
      "|    epoch          | 0        |\n",
      "|    l2_loss        | 0        |\n",
      "|    l2_norm        | 729      |\n",
      "|    loss           | -8.13    |\n",
      "|    neglogp        | -8.13    |\n",
      "|    prob_true_act  | 3.88e+03 |\n",
      "|    samples_so_far | 32       |\n",
      "--------------------------------\n"
     ]
    },
    {
     "name": "stderr",
     "output_type": "stream",
     "text": [
      "478batch [00:01, 308.10batch/s]"
     ]
    },
    {
     "name": "stdout",
     "output_type": "stream",
     "text": [
      "--------------------------------\n",
      "| batch_size        | 32       |\n",
      "| bc/               |          |\n",
      "|    batch          | 500      |\n",
      "|    ent_loss       | 0.0066   |\n",
      "|    entropy        | -6.6     |\n",
      "|    epoch          | 8        |\n",
      "|    l2_loss        | 0        |\n",
      "|    l2_norm        | 736      |\n",
      "|    loss           | -8       |\n",
      "|    neglogp        | -8.01    |\n",
      "|    prob_true_act  | 3.67e+03 |\n",
      "|    samples_so_far | 16032    |\n",
      "--------------------------------\n"
     ]
    },
    {
     "name": "stderr",
     "output_type": "stream",
     "text": [
      "983batch [00:03, 308.74batch/s]"
     ]
    },
    {
     "name": "stdout",
     "output_type": "stream",
     "text": [
      "--------------------------------\n",
      "| batch_size        | 32       |\n",
      "| bc/               |          |\n",
      "|    batch          | 1000     |\n",
      "|    ent_loss       | 0.00663  |\n",
      "|    entropy        | -6.63    |\n",
      "|    epoch          | 16       |\n",
      "|    l2_loss        | 0        |\n",
      "|    l2_norm        | 743      |\n",
      "|    loss           | -5.6     |\n",
      "|    neglogp        | -5.61    |\n",
      "|    prob_true_act  | 3.99e+03 |\n",
      "|    samples_so_far | 32032    |\n",
      "--------------------------------\n"
     ]
    },
    {
     "name": "stderr",
     "output_type": "stream",
     "text": [
      "1240batch [00:04, 306.52batch/s]\n",
      "0batch [00:00, ?batch/s]"
     ]
    },
    {
     "name": "stdout",
     "output_type": "stream",
     "text": [
      "--------------------------------\n",
      "| batch_size        | 32       |\n",
      "| bc/               |          |\n",
      "|    batch          | 0        |\n",
      "|    ent_loss       | 0.00667  |\n",
      "|    entropy        | -6.67    |\n",
      "|    epoch          | 0        |\n",
      "|    l2_loss        | 0        |\n",
      "|    l2_norm        | 747      |\n",
      "|    loss           | -7.87    |\n",
      "|    neglogp        | -7.88    |\n",
      "|    prob_true_act  | 3.64e+03 |\n",
      "|    samples_so_far | 32       |\n",
      "--------------------------------\n"
     ]
    },
    {
     "name": "stderr",
     "output_type": "stream",
     "text": [
      "470batch [00:01, 316.60batch/s]"
     ]
    },
    {
     "name": "stdout",
     "output_type": "stream",
     "text": [
      "--------------------------------\n",
      "| batch_size        | 32       |\n",
      "| bc/               |          |\n",
      "|    batch          | 500      |\n",
      "|    ent_loss       | 0.00667  |\n",
      "|    entropy        | -6.67    |\n",
      "|    epoch          | 8        |\n",
      "|    l2_loss        | 0        |\n",
      "|    l2_norm        | 754      |\n",
      "|    loss           | -7.98    |\n",
      "|    neglogp        | -7.99    |\n",
      "|    prob_true_act  | 3.51e+03 |\n",
      "|    samples_so_far | 16032    |\n",
      "--------------------------------\n"
     ]
    },
    {
     "name": "stderr",
     "output_type": "stream",
     "text": [
      "986batch [00:03, 311.96batch/s]"
     ]
    },
    {
     "name": "stdout",
     "output_type": "stream",
     "text": [
      "--------------------------------\n",
      "| batch_size        | 32       |\n",
      "| bc/               |          |\n",
      "|    batch          | 1000     |\n",
      "|    ent_loss       | 0.00669  |\n",
      "|    entropy        | -6.69    |\n",
      "|    epoch          | 16       |\n",
      "|    l2_loss        | 0        |\n",
      "|    l2_norm        | 761      |\n",
      "|    loss           | -7.91    |\n",
      "|    neglogp        | -7.92    |\n",
      "|    prob_true_act  | 4.33e+03 |\n",
      "|    samples_so_far | 32032    |\n",
      "--------------------------------\n"
     ]
    },
    {
     "name": "stderr",
     "output_type": "stream",
     "text": [
      "1240batch [00:04, 309.57batch/s]\n",
      "0batch [00:00, ?batch/s]"
     ]
    },
    {
     "name": "stdout",
     "output_type": "stream",
     "text": [
      "--------------------------------\n",
      "| batch_size        | 32       |\n",
      "| bc/               |          |\n",
      "|    batch          | 0        |\n",
      "|    ent_loss       | 0.00671  |\n",
      "|    entropy        | -6.71    |\n",
      "|    epoch          | 0        |\n",
      "|    l2_loss        | 0        |\n",
      "|    l2_norm        | 765      |\n",
      "|    loss           | -7.56    |\n",
      "|    neglogp        | -7.57    |\n",
      "|    prob_true_act  | 3.81e+03 |\n",
      "|    samples_so_far | 32       |\n",
      "--------------------------------\n"
     ]
    },
    {
     "name": "stderr",
     "output_type": "stream",
     "text": [
      "476batch [00:01, 310.29batch/s]"
     ]
    },
    {
     "name": "stdout",
     "output_type": "stream",
     "text": [
      "--------------------------------\n",
      "| batch_size        | 32       |\n",
      "| bc/               |          |\n",
      "|    batch          | 500      |\n",
      "|    ent_loss       | 0.00671  |\n",
      "|    entropy        | -6.71    |\n",
      "|    epoch          | 8        |\n",
      "|    l2_loss        | 0        |\n",
      "|    l2_norm        | 772      |\n",
      "|    loss           | -7.5     |\n",
      "|    neglogp        | -7.5     |\n",
      "|    prob_true_act  | 3.57e+03 |\n",
      "|    samples_so_far | 16032    |\n",
      "--------------------------------\n"
     ]
    },
    {
     "name": "stderr",
     "output_type": "stream",
     "text": [
      "989batch [00:03, 324.38batch/s]"
     ]
    },
    {
     "name": "stdout",
     "output_type": "stream",
     "text": [
      "--------------------------------\n",
      "| batch_size        | 32       |\n",
      "| bc/               |          |\n",
      "|    batch          | 1000     |\n",
      "|    ent_loss       | 0.00672  |\n",
      "|    entropy        | -6.72    |\n",
      "|    epoch          | 16       |\n",
      "|    l2_loss        | 0        |\n",
      "|    l2_norm        | 779      |\n",
      "|    loss           | -6.83    |\n",
      "|    neglogp        | -6.84    |\n",
      "|    prob_true_act  | 3.68e+03 |\n",
      "|    samples_so_far | 32032    |\n",
      "--------------------------------\n"
     ]
    },
    {
     "name": "stderr",
     "output_type": "stream",
     "text": [
      "1240batch [00:03, 315.55batch/s]\n",
      "0batch [00:00, ?batch/s]"
     ]
    },
    {
     "name": "stdout",
     "output_type": "stream",
     "text": [
      "--------------------------------\n",
      "| batch_size        | 32       |\n",
      "| bc/               |          |\n",
      "|    batch          | 0        |\n",
      "|    ent_loss       | 0.00675  |\n",
      "|    entropy        | -6.75    |\n",
      "|    epoch          | 0        |\n",
      "|    l2_loss        | 0        |\n",
      "|    l2_norm        | 783      |\n",
      "|    loss           | -7.55    |\n",
      "|    neglogp        | -7.55    |\n",
      "|    prob_true_act  | 3.97e+03 |\n",
      "|    samples_so_far | 32       |\n",
      "--------------------------------\n"
     ]
    },
    {
     "name": "stderr",
     "output_type": "stream",
     "text": [
      "475batch [00:01, 319.21batch/s]"
     ]
    },
    {
     "name": "stdout",
     "output_type": "stream",
     "text": [
      "--------------------------------\n",
      "| batch_size        | 32       |\n",
      "| bc/               |          |\n",
      "|    batch          | 500      |\n",
      "|    ent_loss       | 0.00676  |\n",
      "|    entropy        | -6.76    |\n",
      "|    epoch          | 8        |\n",
      "|    l2_loss        | 0        |\n",
      "|    l2_norm        | 790      |\n",
      "|    loss           | -7.59    |\n",
      "|    neglogp        | -7.6     |\n",
      "|    prob_true_act  | 3.55e+03 |\n",
      "|    samples_so_far | 16032    |\n",
      "--------------------------------\n"
     ]
    },
    {
     "name": "stderr",
     "output_type": "stream",
     "text": [
      "983batch [00:03, 304.67batch/s]"
     ]
    },
    {
     "name": "stdout",
     "output_type": "stream",
     "text": [
      "--------------------------------\n",
      "| batch_size        | 32       |\n",
      "| bc/               |          |\n",
      "|    batch          | 1000     |\n",
      "|    ent_loss       | 0.00679  |\n",
      "|    entropy        | -6.79    |\n",
      "|    epoch          | 16       |\n",
      "|    l2_loss        | 0        |\n",
      "|    l2_norm        | 797      |\n",
      "|    loss           | -8.18    |\n",
      "|    neglogp        | -8.19    |\n",
      "|    prob_true_act  | 4.61e+03 |\n",
      "|    samples_so_far | 32032    |\n",
      "--------------------------------\n"
     ]
    },
    {
     "name": "stderr",
     "output_type": "stream",
     "text": [
      "1240batch [00:03, 313.75batch/s]\n",
      "0batch [00:00, ?batch/s]"
     ]
    },
    {
     "name": "stdout",
     "output_type": "stream",
     "text": [
      "--------------------------------\n",
      "| batch_size        | 32       |\n",
      "| bc/               |          |\n",
      "|    batch          | 0        |\n",
      "|    ent_loss       | 0.00681  |\n",
      "|    entropy        | -6.81    |\n",
      "|    epoch          | 0        |\n",
      "|    l2_loss        | 0        |\n",
      "|    l2_norm        | 801      |\n",
      "|    loss           | -8.29    |\n",
      "|    neglogp        | -8.29    |\n",
      "|    prob_true_act  | 4.81e+03 |\n",
      "|    samples_so_far | 32       |\n",
      "--------------------------------\n"
     ]
    },
    {
     "name": "stderr",
     "output_type": "stream",
     "text": [
      "483batch [00:01, 313.19batch/s]"
     ]
    },
    {
     "name": "stdout",
     "output_type": "stream",
     "text": [
      "--------------------------------\n",
      "| batch_size        | 32       |\n",
      "| bc/               |          |\n",
      "|    batch          | 500      |\n",
      "|    ent_loss       | 0.00682  |\n",
      "|    entropy        | -6.82    |\n",
      "|    epoch          | 8        |\n",
      "|    l2_loss        | 0        |\n",
      "|    l2_norm        | 808      |\n",
      "|    loss           | -7.98    |\n",
      "|    neglogp        | -7.99    |\n",
      "|    prob_true_act  | 4.28e+03 |\n",
      "|    samples_so_far | 16032    |\n",
      "--------------------------------\n"
     ]
    },
    {
     "name": "stderr",
     "output_type": "stream",
     "text": [
      "976batch [00:03, 313.45batch/s]"
     ]
    },
    {
     "name": "stdout",
     "output_type": "stream",
     "text": [
      "--------------------------------\n",
      "| batch_size        | 32       |\n",
      "| bc/               |          |\n",
      "|    batch          | 1000     |\n",
      "|    ent_loss       | 0.00684  |\n",
      "|    entropy        | -6.84    |\n",
      "|    epoch          | 16       |\n",
      "|    l2_loss        | 0        |\n",
      "|    l2_norm        | 815      |\n",
      "|    loss           | -8.08    |\n",
      "|    neglogp        | -8.09    |\n",
      "|    prob_true_act  | 4.78e+03 |\n",
      "|    samples_so_far | 32032    |\n",
      "--------------------------------\n"
     ]
    },
    {
     "name": "stderr",
     "output_type": "stream",
     "text": [
      "1240batch [00:03, 322.06batch/s]\n",
      "0batch [00:00, ?batch/s]"
     ]
    },
    {
     "name": "stdout",
     "output_type": "stream",
     "text": [
      "--------------------------------\n",
      "| batch_size        | 32       |\n",
      "| bc/               |          |\n",
      "|    batch          | 0        |\n",
      "|    ent_loss       | 0.00688  |\n",
      "|    entropy        | -6.88    |\n",
      "|    epoch          | 0        |\n",
      "|    l2_loss        | 0        |\n",
      "|    l2_norm        | 819      |\n",
      "|    loss           | -5.83    |\n",
      "|    neglogp        | -5.84    |\n",
      "|    prob_true_act  | 3.95e+03 |\n",
      "|    samples_so_far | 32       |\n",
      "--------------------------------\n"
     ]
    },
    {
     "name": "stderr",
     "output_type": "stream",
     "text": [
      "483batch [00:01, 318.86batch/s]"
     ]
    },
    {
     "name": "stdout",
     "output_type": "stream",
     "text": [
      "--------------------------------\n",
      "| batch_size        | 32       |\n",
      "| bc/               |          |\n",
      "|    batch          | 500      |\n",
      "|    ent_loss       | 0.00688  |\n",
      "|    entropy        | -6.88    |\n",
      "|    epoch          | 8        |\n",
      "|    l2_loss        | 0        |\n",
      "|    l2_norm        | 826      |\n",
      "|    loss           | -8.4     |\n",
      "|    neglogp        | -8.41    |\n",
      "|    prob_true_act  | 5.27e+03 |\n",
      "|    samples_so_far | 16032    |\n",
      "--------------------------------\n"
     ]
    },
    {
     "name": "stderr",
     "output_type": "stream",
     "text": [
      "980batch [00:03, 333.17batch/s]"
     ]
    },
    {
     "name": "stdout",
     "output_type": "stream",
     "text": [
      "--------------------------------\n",
      "| batch_size        | 32       |\n",
      "| bc/               |          |\n",
      "|    batch          | 1000     |\n",
      "|    ent_loss       | 0.00688  |\n",
      "|    entropy        | -6.88    |\n",
      "|    epoch          | 16       |\n",
      "|    l2_loss        | 0        |\n",
      "|    l2_norm        | 833      |\n",
      "|    loss           | -6.75    |\n",
      "|    neglogp        | -6.75    |\n",
      "|    prob_true_act  | 4.41e+03 |\n",
      "|    samples_so_far | 32032    |\n",
      "--------------------------------\n"
     ]
    },
    {
     "name": "stderr",
     "output_type": "stream",
     "text": [
      "1240batch [00:03, 317.00batch/s]\n",
      "0batch [00:00, ?batch/s]"
     ]
    },
    {
     "name": "stdout",
     "output_type": "stream",
     "text": [
      "--------------------------------\n",
      "| batch_size        | 32       |\n",
      "| bc/               |          |\n",
      "|    batch          | 0        |\n",
      "|    ent_loss       | 0.00689  |\n",
      "|    entropy        | -6.89    |\n",
      "|    epoch          | 0        |\n",
      "|    l2_loss        | 0        |\n",
      "|    l2_norm        | 837      |\n",
      "|    loss           | -7.57    |\n",
      "|    neglogp        | -7.57    |\n",
      "|    prob_true_act  | 4.01e+03 |\n",
      "|    samples_so_far | 32       |\n",
      "--------------------------------\n"
     ]
    },
    {
     "name": "stderr",
     "output_type": "stream",
     "text": [
      "498batch [00:01, 341.18batch/s]"
     ]
    },
    {
     "name": "stdout",
     "output_type": "stream",
     "text": [
      "--------------------------------\n",
      "| batch_size        | 32       |\n",
      "| bc/               |          |\n",
      "|    batch          | 500      |\n",
      "|    ent_loss       | 0.00691  |\n",
      "|    entropy        | -6.91    |\n",
      "|    epoch          | 8        |\n",
      "|    l2_loss        | 0        |\n",
      "|    l2_norm        | 844      |\n",
      "|    loss           | -7.95    |\n",
      "|    neglogp        | -7.96    |\n",
      "|    prob_true_act  | 4.66e+03 |\n",
      "|    samples_so_far | 16032    |\n",
      "--------------------------------\n"
     ]
    },
    {
     "name": "stderr",
     "output_type": "stream",
     "text": [
      "972batch [00:02, 345.88batch/s]"
     ]
    },
    {
     "name": "stdout",
     "output_type": "stream",
     "text": [
      "--------------------------------\n",
      "| batch_size        | 32       |\n",
      "| bc/               |          |\n",
      "|    batch          | 1000     |\n",
      "|    ent_loss       | 0.00693  |\n",
      "|    entropy        | -6.93    |\n",
      "|    epoch          | 16       |\n",
      "|    l2_loss        | 0        |\n",
      "|    l2_norm        | 852      |\n",
      "|    loss           | -6.52    |\n",
      "|    neglogp        | -6.53    |\n",
      "|    prob_true_act  | 4.68e+03 |\n",
      "|    samples_so_far | 32032    |\n",
      "--------------------------------\n"
     ]
    },
    {
     "name": "stderr",
     "output_type": "stream",
     "text": [
      "1240batch [00:03, 340.50batch/s]\n",
      "0batch [00:00, ?batch/s]"
     ]
    },
    {
     "name": "stdout",
     "output_type": "stream",
     "text": [
      "--------------------------------\n",
      "| batch_size        | 32       |\n",
      "| bc/               |          |\n",
      "|    batch          | 0        |\n",
      "|    ent_loss       | 0.00695  |\n",
      "|    entropy        | -6.95    |\n",
      "|    epoch          | 0        |\n",
      "|    l2_loss        | 0        |\n",
      "|    l2_norm        | 855      |\n",
      "|    loss           | -7.41    |\n",
      "|    neglogp        | -7.41    |\n",
      "|    prob_true_act  | 5.11e+03 |\n",
      "|    samples_so_far | 32       |\n",
      "--------------------------------\n"
     ]
    },
    {
     "name": "stderr",
     "output_type": "stream",
     "text": [
      "494batch [00:01, 322.20batch/s]"
     ]
    },
    {
     "name": "stdout",
     "output_type": "stream",
     "text": [
      "--------------------------------\n",
      "| batch_size        | 32       |\n",
      "| bc/               |          |\n",
      "|    batch          | 500      |\n",
      "|    ent_loss       | 0.00695  |\n",
      "|    entropy        | -6.95    |\n",
      "|    epoch          | 8        |\n",
      "|    l2_loss        | 0        |\n",
      "|    l2_norm        | 863      |\n",
      "|    loss           | -8.23    |\n",
      "|    neglogp        | -8.24    |\n",
      "|    prob_true_act  | 4.98e+03 |\n",
      "|    samples_so_far | 16032    |\n",
      "--------------------------------\n"
     ]
    },
    {
     "name": "stderr",
     "output_type": "stream",
     "text": [
      "985batch [00:03, 343.61batch/s]"
     ]
    },
    {
     "name": "stdout",
     "output_type": "stream",
     "text": [
      "--------------------------------\n",
      "| batch_size        | 32       |\n",
      "| bc/               |          |\n",
      "|    batch          | 1000     |\n",
      "|    ent_loss       | 0.00699  |\n",
      "|    entropy        | -6.99    |\n",
      "|    epoch          | 16       |\n",
      "|    l2_loss        | 0        |\n",
      "|    l2_norm        | 871      |\n",
      "|    loss           | -7.84    |\n",
      "|    neglogp        | -7.84    |\n",
      "|    prob_true_act  | 5.36e+03 |\n",
      "|    samples_so_far | 32032    |\n",
      "--------------------------------\n"
     ]
    },
    {
     "name": "stderr",
     "output_type": "stream",
     "text": [
      "1240batch [00:03, 325.17batch/s]\n",
      "0batch [00:00, ?batch/s]"
     ]
    },
    {
     "name": "stdout",
     "output_type": "stream",
     "text": [
      "--------------------------------\n",
      "| batch_size        | 32       |\n",
      "| bc/               |          |\n",
      "|    batch          | 0        |\n",
      "|    ent_loss       | 0.007    |\n",
      "|    entropy        | -7       |\n",
      "|    epoch          | 0        |\n",
      "|    l2_loss        | 0        |\n",
      "|    l2_norm        | 875      |\n",
      "|    loss           | -6.73    |\n",
      "|    neglogp        | -6.74    |\n",
      "|    prob_true_act  | 4.94e+03 |\n",
      "|    samples_so_far | 32       |\n",
      "--------------------------------\n"
     ]
    },
    {
     "name": "stderr",
     "output_type": "stream",
     "text": [
      "483batch [00:01, 313.29batch/s]"
     ]
    },
    {
     "name": "stdout",
     "output_type": "stream",
     "text": [
      "--------------------------------\n",
      "| batch_size        | 32       |\n",
      "| bc/               |          |\n",
      "|    batch          | 500      |\n",
      "|    ent_loss       | 0.00693  |\n",
      "|    entropy        | -6.93    |\n",
      "|    epoch          | 8        |\n",
      "|    l2_loss        | 0        |\n",
      "|    l2_norm        | 882      |\n",
      "|    loss           | -8.47    |\n",
      "|    neglogp        | -8.48    |\n",
      "|    prob_true_act  | 5.24e+03 |\n",
      "|    samples_so_far | 16032    |\n",
      "--------------------------------\n"
     ]
    },
    {
     "name": "stderr",
     "output_type": "stream",
     "text": [
      "991batch [00:03, 311.85batch/s]"
     ]
    },
    {
     "name": "stdout",
     "output_type": "stream",
     "text": [
      "--------------------------------\n",
      "| batch_size        | 32       |\n",
      "| bc/               |          |\n",
      "|    batch          | 1000     |\n",
      "|    ent_loss       | 0.00702  |\n",
      "|    entropy        | -7.02    |\n",
      "|    epoch          | 16       |\n",
      "|    l2_loss        | 0        |\n",
      "|    l2_norm        | 889      |\n",
      "|    loss           | -8.11    |\n",
      "|    neglogp        | -8.12    |\n",
      "|    prob_true_act  | 5.09e+03 |\n",
      "|    samples_so_far | 32032    |\n",
      "--------------------------------\n"
     ]
    },
    {
     "name": "stderr",
     "output_type": "stream",
     "text": [
      "1240batch [00:03, 316.02batch/s]\n",
      "0batch [00:00, ?batch/s]"
     ]
    },
    {
     "name": "stdout",
     "output_type": "stream",
     "text": [
      "--------------------------------\n",
      "| batch_size        | 32       |\n",
      "| bc/               |          |\n",
      "|    batch          | 0        |\n",
      "|    ent_loss       | 0.00706  |\n",
      "|    entropy        | -7.06    |\n",
      "|    epoch          | 0        |\n",
      "|    l2_loss        | 0        |\n",
      "|    l2_norm        | 893      |\n",
      "|    loss           | -8.43    |\n",
      "|    neglogp        | -8.44    |\n",
      "|    prob_true_act  | 5.83e+03 |\n",
      "|    samples_so_far | 32       |\n",
      "--------------------------------\n"
     ]
    },
    {
     "name": "stderr",
     "output_type": "stream",
     "text": [
      "490batch [00:01, 320.81batch/s]"
     ]
    },
    {
     "name": "stdout",
     "output_type": "stream",
     "text": [
      "--------------------------------\n",
      "| batch_size        | 32       |\n",
      "| bc/               |          |\n",
      "|    batch          | 500      |\n",
      "|    ent_loss       | 0.00707  |\n",
      "|    entropy        | -7.07    |\n",
      "|    epoch          | 8        |\n",
      "|    l2_loss        | 0        |\n",
      "|    l2_norm        | 901      |\n",
      "|    loss           | -7.77    |\n",
      "|    neglogp        | -7.78    |\n",
      "|    prob_true_act  | 4.36e+03 |\n",
      "|    samples_so_far | 16032    |\n",
      "--------------------------------\n"
     ]
    },
    {
     "name": "stderr",
     "output_type": "stream",
     "text": [
      "998batch [00:03, 327.65batch/s]"
     ]
    },
    {
     "name": "stdout",
     "output_type": "stream",
     "text": [
      "--------------------------------\n",
      "| batch_size        | 32       |\n",
      "| bc/               |          |\n",
      "|    batch          | 1000     |\n",
      "|    ent_loss       | 0.00711  |\n",
      "|    entropy        | -7.11    |\n",
      "|    epoch          | 16       |\n",
      "|    l2_loss        | 0        |\n",
      "|    l2_norm        | 909      |\n",
      "|    loss           | -8.79    |\n",
      "|    neglogp        | -8.8     |\n",
      "|    prob_true_act  | 7.25e+03 |\n",
      "|    samples_so_far | 32032    |\n",
      "--------------------------------\n"
     ]
    },
    {
     "name": "stderr",
     "output_type": "stream",
     "text": [
      "1240batch [00:03, 328.36batch/s]\n",
      "0batch [00:00, ?batch/s]"
     ]
    },
    {
     "name": "stdout",
     "output_type": "stream",
     "text": [
      "--------------------------------\n",
      "| batch_size        | 32       |\n",
      "| bc/               |          |\n",
      "|    batch          | 0        |\n",
      "|    ent_loss       | 0.00705  |\n",
      "|    entropy        | -7.05    |\n",
      "|    epoch          | 0        |\n",
      "|    l2_loss        | 0        |\n",
      "|    l2_norm        | 912      |\n",
      "|    loss           | -7.14    |\n",
      "|    neglogp        | -7.15    |\n",
      "|    prob_true_act  | 5.31e+03 |\n",
      "|    samples_so_far | 32       |\n",
      "--------------------------------\n"
     ]
    },
    {
     "name": "stderr",
     "output_type": "stream",
     "text": [
      "466batch [00:01, 332.63batch/s]"
     ]
    },
    {
     "name": "stdout",
     "output_type": "stream",
     "text": [
      "--------------------------------\n",
      "| batch_size        | 32       |\n",
      "| bc/               |          |\n",
      "|    batch          | 500      |\n",
      "|    ent_loss       | 0.0071   |\n",
      "|    entropy        | -7.1     |\n",
      "|    epoch          | 8        |\n",
      "|    l2_loss        | 0        |\n",
      "|    l2_norm        | 920      |\n",
      "|    loss           | -7.97    |\n",
      "|    neglogp        | -7.98    |\n",
      "|    prob_true_act  | 5.49e+03 |\n",
      "|    samples_so_far | 16032    |\n",
      "--------------------------------\n"
     ]
    },
    {
     "name": "stderr",
     "output_type": "stream",
     "text": [
      "976batch [00:02, 326.54batch/s]"
     ]
    },
    {
     "name": "stdout",
     "output_type": "stream",
     "text": [
      "--------------------------------\n",
      "| batch_size        | 32       |\n",
      "| bc/               |          |\n",
      "|    batch          | 1000     |\n",
      "|    ent_loss       | 0.00713  |\n",
      "|    entropy        | -7.13    |\n",
      "|    epoch          | 16       |\n",
      "|    l2_loss        | 0        |\n",
      "|    l2_norm        | 928      |\n",
      "|    loss           | -5.68    |\n",
      "|    neglogp        | -5.69    |\n",
      "|    prob_true_act  | 3.9e+03  |\n",
      "|    samples_so_far | 32032    |\n",
      "--------------------------------\n"
     ]
    },
    {
     "name": "stderr",
     "output_type": "stream",
     "text": [
      "1240batch [00:03, 335.22batch/s]\n",
      "0batch [00:00, ?batch/s]"
     ]
    },
    {
     "name": "stdout",
     "output_type": "stream",
     "text": [
      "--------------------------------\n",
      "| batch_size        | 32       |\n",
      "| bc/               |          |\n",
      "|    batch          | 0        |\n",
      "|    ent_loss       | 0.00715  |\n",
      "|    entropy        | -7.15    |\n",
      "|    epoch          | 0        |\n",
      "|    l2_loss        | 0        |\n",
      "|    l2_norm        | 932      |\n",
      "|    loss           | -8.27    |\n",
      "|    neglogp        | -8.28    |\n",
      "|    prob_true_act  | 6.38e+03 |\n",
      "|    samples_so_far | 32       |\n",
      "--------------------------------\n"
     ]
    },
    {
     "name": "stderr",
     "output_type": "stream",
     "text": [
      "472batch [00:01, 321.15batch/s]"
     ]
    },
    {
     "name": "stdout",
     "output_type": "stream",
     "text": [
      "--------------------------------\n",
      "| batch_size        | 32       |\n",
      "| bc/               |          |\n",
      "|    batch          | 500      |\n",
      "|    ent_loss       | 0.00716  |\n",
      "|    entropy        | -7.16    |\n",
      "|    epoch          | 8        |\n",
      "|    l2_loss        | 0        |\n",
      "|    l2_norm        | 940      |\n",
      "|    loss           | -7.31    |\n",
      "|    neglogp        | -7.32    |\n",
      "|    prob_true_act  | 6.14e+03 |\n",
      "|    samples_so_far | 16032    |\n",
      "--------------------------------\n"
     ]
    },
    {
     "name": "stderr",
     "output_type": "stream",
     "text": [
      "992batch [00:03, 310.43batch/s]"
     ]
    },
    {
     "name": "stdout",
     "output_type": "stream",
     "text": [
      "--------------------------------\n",
      "| batch_size        | 32       |\n",
      "| bc/               |          |\n",
      "|    batch          | 1000     |\n",
      "|    ent_loss       | 0.00718  |\n",
      "|    entropy        | -7.18    |\n",
      "|    epoch          | 16       |\n",
      "|    l2_loss        | 0        |\n",
      "|    l2_norm        | 948      |\n",
      "|    loss           | -6.05    |\n",
      "|    neglogp        | -6.06    |\n",
      "|    prob_true_act  | 6.93e+03 |\n",
      "|    samples_so_far | 32032    |\n",
      "--------------------------------\n"
     ]
    },
    {
     "name": "stderr",
     "output_type": "stream",
     "text": [
      "1240batch [00:03, 323.39batch/s]\n",
      "0batch [00:00, ?batch/s]"
     ]
    },
    {
     "name": "stdout",
     "output_type": "stream",
     "text": [
      "--------------------------------\n",
      "| batch_size        | 32       |\n",
      "| bc/               |          |\n",
      "|    batch          | 0        |\n",
      "|    ent_loss       | 0.00716  |\n",
      "|    entropy        | -7.16    |\n",
      "|    epoch          | 0        |\n",
      "|    l2_loss        | 0        |\n",
      "|    l2_norm        | 951      |\n",
      "|    loss           | -4.94    |\n",
      "|    neglogp        | -4.94    |\n",
      "|    prob_true_act  | 5.95e+03 |\n",
      "|    samples_so_far | 32       |\n",
      "--------------------------------\n"
     ]
    },
    {
     "name": "stderr",
     "output_type": "stream",
     "text": [
      "496batch [00:01, 336.07batch/s]"
     ]
    },
    {
     "name": "stdout",
     "output_type": "stream",
     "text": [
      "--------------------------------\n",
      "| batch_size        | 32       |\n",
      "| bc/               |          |\n",
      "|    batch          | 500      |\n",
      "|    ent_loss       | 0.00721  |\n",
      "|    entropy        | -7.21    |\n",
      "|    epoch          | 8        |\n",
      "|    l2_loss        | 0        |\n",
      "|    l2_norm        | 959      |\n",
      "|    loss           | -7.91    |\n",
      "|    neglogp        | -7.92    |\n",
      "|    prob_true_act  | 4.78e+03 |\n",
      "|    samples_so_far | 16032    |\n",
      "--------------------------------\n"
     ]
    },
    {
     "name": "stderr",
     "output_type": "stream",
     "text": [
      "994batch [00:03, 311.77batch/s]"
     ]
    },
    {
     "name": "stdout",
     "output_type": "stream",
     "text": [
      "--------------------------------\n",
      "| batch_size        | 32       |\n",
      "| bc/               |          |\n",
      "|    batch          | 1000     |\n",
      "|    ent_loss       | 0.00721  |\n",
      "|    entropy        | -7.21    |\n",
      "|    epoch          | 16       |\n",
      "|    l2_loss        | 0        |\n",
      "|    l2_norm        | 967      |\n",
      "|    loss           | -8.57    |\n",
      "|    neglogp        | -8.58    |\n",
      "|    prob_true_act  | 7.08e+03 |\n",
      "|    samples_so_far | 32032    |\n",
      "--------------------------------\n"
     ]
    },
    {
     "name": "stderr",
     "output_type": "stream",
     "text": [
      "1240batch [00:03, 317.05batch/s]\n",
      "0batch [00:00, ?batch/s]"
     ]
    },
    {
     "name": "stdout",
     "output_type": "stream",
     "text": [
      "--------------------------------\n",
      "| batch_size        | 32       |\n",
      "| bc/               |          |\n",
      "|    batch          | 0        |\n",
      "|    ent_loss       | 0.00723  |\n",
      "|    entropy        | -7.23    |\n",
      "|    epoch          | 0        |\n",
      "|    l2_loss        | 0        |\n",
      "|    l2_norm        | 970      |\n",
      "|    loss           | -6.96    |\n",
      "|    neglogp        | -6.96    |\n",
      "|    prob_true_act  | 6.76e+03 |\n",
      "|    samples_so_far | 32       |\n",
      "--------------------------------\n"
     ]
    },
    {
     "name": "stderr",
     "output_type": "stream",
     "text": [
      "498batch [00:01, 312.00batch/s]"
     ]
    },
    {
     "name": "stdout",
     "output_type": "stream",
     "text": [
      "--------------------------------\n",
      "| batch_size        | 32       |\n",
      "| bc/               |          |\n",
      "|    batch          | 500      |\n",
      "|    ent_loss       | 0.00726  |\n",
      "|    entropy        | -7.26    |\n",
      "|    epoch          | 8        |\n",
      "|    l2_loss        | 0        |\n",
      "|    l2_norm        | 978      |\n",
      "|    loss           | -8.21    |\n",
      "|    neglogp        | -8.22    |\n",
      "|    prob_true_act  | 6.62e+03 |\n",
      "|    samples_so_far | 16032    |\n",
      "--------------------------------\n"
     ]
    },
    {
     "name": "stderr",
     "output_type": "stream",
     "text": [
      "975batch [00:03, 313.81batch/s]"
     ]
    },
    {
     "name": "stdout",
     "output_type": "stream",
     "text": [
      "--------------------------------\n",
      "| batch_size        | 32       |\n",
      "| bc/               |          |\n",
      "|    batch          | 1000     |\n",
      "|    ent_loss       | 0.0073   |\n",
      "|    entropy        | -7.3     |\n",
      "|    epoch          | 16       |\n",
      "|    l2_loss        | 0        |\n",
      "|    l2_norm        | 986      |\n",
      "|    loss           | -7.49    |\n",
      "|    neglogp        | -7.49    |\n",
      "|    prob_true_act  | 5.98e+03 |\n",
      "|    samples_so_far | 32032    |\n",
      "--------------------------------\n"
     ]
    },
    {
     "name": "stderr",
     "output_type": "stream",
     "text": [
      "1240batch [00:03, 317.25batch/s]\n",
      "0batch [00:00, ?batch/s]"
     ]
    },
    {
     "name": "stdout",
     "output_type": "stream",
     "text": [
      "--------------------------------\n",
      "| batch_size        | 32       |\n",
      "| bc/               |          |\n",
      "|    batch          | 0        |\n",
      "|    ent_loss       | 0.0073   |\n",
      "|    entropy        | -7.3     |\n",
      "|    epoch          | 0        |\n",
      "|    l2_loss        | 0        |\n",
      "|    l2_norm        | 990      |\n",
      "|    loss           | -8.36    |\n",
      "|    neglogp        | -8.37    |\n",
      "|    prob_true_act  | 6.99e+03 |\n",
      "|    samples_so_far | 32       |\n",
      "--------------------------------\n"
     ]
    },
    {
     "name": "stderr",
     "output_type": "stream",
     "text": [
      "477batch [00:01, 315.18batch/s]"
     ]
    },
    {
     "name": "stdout",
     "output_type": "stream",
     "text": [
      "--------------------------------\n",
      "| batch_size        | 32       |\n",
      "| bc/               |          |\n",
      "|    batch          | 500      |\n",
      "|    ent_loss       | 0.00728  |\n",
      "|    entropy        | -7.28    |\n",
      "|    epoch          | 8        |\n",
      "|    l2_loss        | 0        |\n",
      "|    l2_norm        | 998      |\n",
      "|    loss           | -6.78    |\n",
      "|    neglogp        | -6.79    |\n",
      "|    prob_true_act  | 6.89e+03 |\n",
      "|    samples_so_far | 16032    |\n",
      "--------------------------------\n"
     ]
    },
    {
     "name": "stderr",
     "output_type": "stream",
     "text": [
      "975batch [00:03, 329.71batch/s]"
     ]
    },
    {
     "name": "stdout",
     "output_type": "stream",
     "text": [
      "--------------------------------\n",
      "| batch_size        | 32       |\n",
      "| bc/               |          |\n",
      "|    batch          | 1000     |\n",
      "|    ent_loss       | 0.00729  |\n",
      "|    entropy        | -7.29    |\n",
      "|    epoch          | 16       |\n",
      "|    l2_loss        | 0        |\n",
      "|    l2_norm        | 1.01e+03 |\n",
      "|    loss           | -8.81    |\n",
      "|    neglogp        | -8.81    |\n",
      "|    prob_true_act  | 7.98e+03 |\n",
      "|    samples_so_far | 32032    |\n",
      "--------------------------------\n"
     ]
    },
    {
     "name": "stderr",
     "output_type": "stream",
     "text": [
      "1240batch [00:03, 310.81batch/s]\n",
      "0batch [00:00, ?batch/s]"
     ]
    },
    {
     "name": "stdout",
     "output_type": "stream",
     "text": [
      "--------------------------------\n",
      "| batch_size        | 32       |\n",
      "| bc/               |          |\n",
      "|    batch          | 0        |\n",
      "|    ent_loss       | 0.00724  |\n",
      "|    entropy        | -7.24    |\n",
      "|    epoch          | 0        |\n",
      "|    l2_loss        | 0        |\n",
      "|    l2_norm        | 1.01e+03 |\n",
      "|    loss           | -8.33    |\n",
      "|    neglogp        | -8.33    |\n",
      "|    prob_true_act  | 7.42e+03 |\n",
      "|    samples_so_far | 32       |\n",
      "--------------------------------\n"
     ]
    },
    {
     "name": "stderr",
     "output_type": "stream",
     "text": [
      "495batch [00:01, 306.38batch/s]"
     ]
    },
    {
     "name": "stdout",
     "output_type": "stream",
     "text": [
      "--------------------------------\n",
      "| batch_size        | 32       |\n",
      "| bc/               |          |\n",
      "|    batch          | 500      |\n",
      "|    ent_loss       | 0.00728  |\n",
      "|    entropy        | -7.28    |\n",
      "|    epoch          | 8        |\n",
      "|    l2_loss        | 0        |\n",
      "|    l2_norm        | 1.02e+03 |\n",
      "|    loss           | -5.88    |\n",
      "|    neglogp        | -5.89    |\n",
      "|    prob_true_act  | 6.11e+03 |\n",
      "|    samples_so_far | 16032    |\n",
      "--------------------------------\n"
     ]
    },
    {
     "name": "stderr",
     "output_type": "stream",
     "text": [
      "978batch [00:03, 309.37batch/s]"
     ]
    },
    {
     "name": "stdout",
     "output_type": "stream",
     "text": [
      "--------------------------------\n",
      "| batch_size        | 32       |\n",
      "| bc/               |          |\n",
      "|    batch          | 1000     |\n",
      "|    ent_loss       | 0.00733  |\n",
      "|    entropy        | -7.33    |\n",
      "|    epoch          | 16       |\n",
      "|    l2_loss        | 0        |\n",
      "|    l2_norm        | 1.03e+03 |\n",
      "|    loss           | -4.67    |\n",
      "|    neglogp        | -4.68    |\n",
      "|    prob_true_act  | 6.25e+03 |\n",
      "|    samples_so_far | 32032    |\n",
      "--------------------------------\n"
     ]
    },
    {
     "name": "stderr",
     "output_type": "stream",
     "text": [
      "1240batch [00:04, 307.82batch/s]\n",
      "0batch [00:00, ?batch/s]"
     ]
    },
    {
     "name": "stdout",
     "output_type": "stream",
     "text": [
      "--------------------------------\n",
      "| batch_size        | 32       |\n",
      "| bc/               |          |\n",
      "|    batch          | 0        |\n",
      "|    ent_loss       | 0.00735  |\n",
      "|    entropy        | -7.35    |\n",
      "|    epoch          | 0        |\n",
      "|    l2_loss        | 0        |\n",
      "|    l2_norm        | 1.03e+03 |\n",
      "|    loss           | -7.74    |\n",
      "|    neglogp        | -7.75    |\n",
      "|    prob_true_act  | 7.08e+03 |\n",
      "|    samples_so_far | 32       |\n",
      "--------------------------------\n"
     ]
    },
    {
     "name": "stderr",
     "output_type": "stream",
     "text": [
      "486batch [00:01, 311.46batch/s]"
     ]
    },
    {
     "name": "stdout",
     "output_type": "stream",
     "text": [
      "--------------------------------\n",
      "| batch_size        | 32       |\n",
      "| bc/               |          |\n",
      "|    batch          | 500      |\n",
      "|    ent_loss       | 0.0074   |\n",
      "|    entropy        | -7.4     |\n",
      "|    epoch          | 8        |\n",
      "|    l2_loss        | 0        |\n",
      "|    l2_norm        | 1.04e+03 |\n",
      "|    loss           | -7.84    |\n",
      "|    neglogp        | -7.85    |\n",
      "|    prob_true_act  | 6.46e+03 |\n",
      "|    samples_so_far | 16032    |\n",
      "--------------------------------\n"
     ]
    },
    {
     "name": "stderr",
     "output_type": "stream",
     "text": [
      "968batch [00:03, 307.90batch/s]"
     ]
    },
    {
     "name": "stdout",
     "output_type": "stream",
     "text": [
      "--------------------------------\n",
      "| batch_size        | 32       |\n",
      "| bc/               |          |\n",
      "|    batch          | 1000     |\n",
      "|    ent_loss       | 0.00738  |\n",
      "|    entropy        | -7.38    |\n",
      "|    epoch          | 16       |\n",
      "|    l2_loss        | 0        |\n",
      "|    l2_norm        | 1.04e+03 |\n",
      "|    loss           | -8.19    |\n",
      "|    neglogp        | -8.2     |\n",
      "|    prob_true_act  | 7.38e+03 |\n",
      "|    samples_so_far | 32032    |\n",
      "--------------------------------\n"
     ]
    },
    {
     "name": "stderr",
     "output_type": "stream",
     "text": [
      "1240batch [00:03, 315.62batch/s]\n",
      "0batch [00:00, ?batch/s]"
     ]
    },
    {
     "name": "stdout",
     "output_type": "stream",
     "text": [
      "--------------------------------\n",
      "| batch_size        | 32       |\n",
      "| bc/               |          |\n",
      "|    batch          | 0        |\n",
      "|    ent_loss       | 0.00742  |\n",
      "|    entropy        | -7.42    |\n",
      "|    epoch          | 0        |\n",
      "|    l2_loss        | 0        |\n",
      "|    l2_norm        | 1.05e+03 |\n",
      "|    loss           | -8.68    |\n",
      "|    neglogp        | -8.68    |\n",
      "|    prob_true_act  | 8.14e+03 |\n",
      "|    samples_so_far | 32       |\n",
      "--------------------------------\n"
     ]
    },
    {
     "name": "stderr",
     "output_type": "stream",
     "text": [
      "477batch [00:01, 304.04batch/s]"
     ]
    },
    {
     "name": "stdout",
     "output_type": "stream",
     "text": [
      "--------------------------------\n",
      "| batch_size        | 32       |\n",
      "| bc/               |          |\n",
      "|    batch          | 500      |\n",
      "|    ent_loss       | 0.00744  |\n",
      "|    entropy        | -7.44    |\n",
      "|    epoch          | 8        |\n",
      "|    l2_loss        | 0        |\n",
      "|    l2_norm        | 1.06e+03 |\n",
      "|    loss           | -8.33    |\n",
      "|    neglogp        | -8.33    |\n",
      "|    prob_true_act  | 7.95e+03 |\n",
      "|    samples_so_far | 16032    |\n",
      "--------------------------------\n"
     ]
    },
    {
     "name": "stderr",
     "output_type": "stream",
     "text": [
      "981batch [00:03, 311.33batch/s]"
     ]
    },
    {
     "name": "stdout",
     "output_type": "stream",
     "text": [
      "--------------------------------\n",
      "| batch_size        | 32       |\n",
      "| bc/               |          |\n",
      "|    batch          | 1000     |\n",
      "|    ent_loss       | 0.00749  |\n",
      "|    entropy        | -7.49    |\n",
      "|    epoch          | 16       |\n",
      "|    l2_loss        | 0        |\n",
      "|    l2_norm        | 1.06e+03 |\n",
      "|    loss           | -8.87    |\n",
      "|    neglogp        | -8.88    |\n",
      "|    prob_true_act  | 8.82e+03 |\n",
      "|    samples_so_far | 32032    |\n",
      "--------------------------------\n"
     ]
    },
    {
     "name": "stderr",
     "output_type": "stream",
     "text": [
      "1240batch [00:03, 313.70batch/s]\n",
      "0batch [00:00, ?batch/s]"
     ]
    },
    {
     "name": "stdout",
     "output_type": "stream",
     "text": [
      "--------------------------------\n",
      "| batch_size        | 32       |\n",
      "| bc/               |          |\n",
      "|    batch          | 0        |\n",
      "|    ent_loss       | 0.00748  |\n",
      "|    entropy        | -7.48    |\n",
      "|    epoch          | 0        |\n",
      "|    l2_loss        | 0        |\n",
      "|    l2_norm        | 1.07e+03 |\n",
      "|    loss           | -7.3     |\n",
      "|    neglogp        | -7.3     |\n",
      "|    prob_true_act  | 7.93e+03 |\n",
      "|    samples_so_far | 32       |\n",
      "--------------------------------\n"
     ]
    },
    {
     "name": "stderr",
     "output_type": "stream",
     "text": [
      "477batch [00:01, 305.26batch/s]"
     ]
    },
    {
     "name": "stdout",
     "output_type": "stream",
     "text": [
      "--------------------------------\n",
      "| batch_size        | 32       |\n",
      "| bc/               |          |\n",
      "|    batch          | 500      |\n",
      "|    ent_loss       | 0.00743  |\n",
      "|    entropy        | -7.43    |\n",
      "|    epoch          | 8        |\n",
      "|    l2_loss        | 0        |\n",
      "|    l2_norm        | 1.07e+03 |\n",
      "|    loss           | -8.47    |\n",
      "|    neglogp        | -8.48    |\n",
      "|    prob_true_act  | 7.29e+03 |\n",
      "|    samples_so_far | 16032    |\n",
      "--------------------------------\n"
     ]
    },
    {
     "name": "stderr",
     "output_type": "stream",
     "text": [
      "989batch [00:03, 326.40batch/s]"
     ]
    },
    {
     "name": "stdout",
     "output_type": "stream",
     "text": [
      "--------------------------------\n",
      "| batch_size        | 32       |\n",
      "| bc/               |          |\n",
      "|    batch          | 1000     |\n",
      "|    ent_loss       | 0.00746  |\n",
      "|    entropy        | -7.46    |\n",
      "|    epoch          | 16       |\n",
      "|    l2_loss        | 0        |\n",
      "|    l2_norm        | 1.08e+03 |\n",
      "|    loss           | -7.67    |\n",
      "|    neglogp        | -7.68    |\n",
      "|    prob_true_act  | 7.38e+03 |\n",
      "|    samples_so_far | 32032    |\n",
      "--------------------------------\n"
     ]
    },
    {
     "name": "stderr",
     "output_type": "stream",
     "text": [
      "1240batch [00:03, 320.55batch/s]\n",
      "0batch [00:00, ?batch/s]"
     ]
    },
    {
     "name": "stdout",
     "output_type": "stream",
     "text": [
      "--------------------------------\n",
      "| batch_size        | 32       |\n",
      "| bc/               |          |\n",
      "|    batch          | 0        |\n",
      "|    ent_loss       | 0.00751  |\n",
      "|    entropy        | -7.51    |\n",
      "|    epoch          | 0        |\n",
      "|    l2_loss        | 0        |\n",
      "|    l2_norm        | 1.09e+03 |\n",
      "|    loss           | -8.06    |\n",
      "|    neglogp        | -8.07    |\n",
      "|    prob_true_act  | 7.52e+03 |\n",
      "|    samples_so_far | 32       |\n",
      "--------------------------------\n"
     ]
    },
    {
     "name": "stderr",
     "output_type": "stream",
     "text": [
      "490batch [00:01, 343.02batch/s]"
     ]
    },
    {
     "name": "stdout",
     "output_type": "stream",
     "text": [
      "--------------------------------\n",
      "| batch_size        | 32       |\n",
      "| bc/               |          |\n",
      "|    batch          | 500      |\n",
      "|    ent_loss       | 0.00754  |\n",
      "|    entropy        | -7.54    |\n",
      "|    epoch          | 8        |\n",
      "|    l2_loss        | 0        |\n",
      "|    l2_norm        | 1.09e+03 |\n",
      "|    loss           | -8.23    |\n",
      "|    neglogp        | -8.24    |\n",
      "|    prob_true_act  | 6.58e+03 |\n",
      "|    samples_so_far | 16032    |\n",
      "--------------------------------\n"
     ]
    },
    {
     "name": "stderr",
     "output_type": "stream",
     "text": [
      "983batch [00:03, 312.32batch/s]"
     ]
    },
    {
     "name": "stdout",
     "output_type": "stream",
     "text": [
      "--------------------------------\n",
      "| batch_size        | 32       |\n",
      "| bc/               |          |\n",
      "|    batch          | 1000     |\n",
      "|    ent_loss       | 0.00752  |\n",
      "|    entropy        | -7.52    |\n",
      "|    epoch          | 16       |\n",
      "|    l2_loss        | 0        |\n",
      "|    l2_norm        | 1.1e+03  |\n",
      "|    loss           | -3.6     |\n",
      "|    neglogp        | -3.61    |\n",
      "|    prob_true_act  | 9.09e+03 |\n",
      "|    samples_so_far | 32032    |\n",
      "--------------------------------\n"
     ]
    },
    {
     "name": "stderr",
     "output_type": "stream",
     "text": [
      "1240batch [00:03, 323.19batch/s]\n",
      "0batch [00:00, ?batch/s]"
     ]
    },
    {
     "name": "stdout",
     "output_type": "stream",
     "text": [
      "--------------------------------\n",
      "| batch_size        | 32       |\n",
      "| bc/               |          |\n",
      "|    batch          | 0        |\n",
      "|    ent_loss       | 0.00753  |\n",
      "|    entropy        | -7.53    |\n",
      "|    epoch          | 0        |\n",
      "|    l2_loss        | 0        |\n",
      "|    l2_norm        | 1.1e+03  |\n",
      "|    loss           | -7.98    |\n",
      "|    neglogp        | -7.98    |\n",
      "|    prob_true_act  | 7.84e+03 |\n",
      "|    samples_so_far | 32       |\n",
      "--------------------------------\n"
     ]
    },
    {
     "name": "stderr",
     "output_type": "stream",
     "text": [
      "472batch [00:01, 314.54batch/s]"
     ]
    },
    {
     "name": "stdout",
     "output_type": "stream",
     "text": [
      "--------------------------------\n",
      "| batch_size        | 32       |\n",
      "| bc/               |          |\n",
      "|    batch          | 500      |\n",
      "|    ent_loss       | 0.00758  |\n",
      "|    entropy        | -7.58    |\n",
      "|    epoch          | 8        |\n",
      "|    l2_loss        | 0        |\n",
      "|    l2_norm        | 1.11e+03 |\n",
      "|    loss           | -6.71    |\n",
      "|    neglogp        | -6.72    |\n",
      "|    prob_true_act  | 9.3e+03  |\n",
      "|    samples_so_far | 16032    |\n",
      "--------------------------------\n"
     ]
    },
    {
     "name": "stderr",
     "output_type": "stream",
     "text": [
      "999batch [00:03, 302.19batch/s]"
     ]
    },
    {
     "name": "stdout",
     "output_type": "stream",
     "text": [
      "--------------------------------\n",
      "| batch_size        | 32       |\n",
      "| bc/               |          |\n",
      "|    batch          | 1000     |\n",
      "|    ent_loss       | 0.00757  |\n",
      "|    entropy        | -7.57    |\n",
      "|    epoch          | 16       |\n",
      "|    l2_loss        | 0        |\n",
      "|    l2_norm        | 1.12e+03 |\n",
      "|    loss           | -8.88    |\n",
      "|    neglogp        | -8.88    |\n",
      "|    prob_true_act  | 9.54e+03 |\n",
      "|    samples_so_far | 32032    |\n",
      "--------------------------------\n"
     ]
    },
    {
     "name": "stderr",
     "output_type": "stream",
     "text": [
      "1240batch [00:04, 302.13batch/s]\n",
      "0batch [00:00, ?batch/s]"
     ]
    },
    {
     "name": "stdout",
     "output_type": "stream",
     "text": [
      "--------------------------------\n",
      "| batch_size        | 32       |\n",
      "| bc/               |          |\n",
      "|    batch          | 0        |\n",
      "|    ent_loss       | 0.00762  |\n",
      "|    entropy        | -7.62    |\n",
      "|    epoch          | 0        |\n",
      "|    l2_loss        | 0        |\n",
      "|    l2_norm        | 1.12e+03 |\n",
      "|    loss           | -8.17    |\n",
      "|    neglogp        | -8.18    |\n",
      "|    prob_true_act  | 7.23e+03 |\n",
      "|    samples_so_far | 32       |\n",
      "--------------------------------\n"
     ]
    },
    {
     "name": "stderr",
     "output_type": "stream",
     "text": [
      "488batch [00:01, 307.09batch/s]"
     ]
    },
    {
     "name": "stdout",
     "output_type": "stream",
     "text": [
      "--------------------------------\n",
      "| batch_size        | 32       |\n",
      "| bc/               |          |\n",
      "|    batch          | 500      |\n",
      "|    ent_loss       | 0.00761  |\n",
      "|    entropy        | -7.61    |\n",
      "|    epoch          | 8        |\n",
      "|    l2_loss        | 0        |\n",
      "|    l2_norm        | 1.13e+03 |\n",
      "|    loss           | -6.1     |\n",
      "|    neglogp        | -6.11    |\n",
      "|    prob_true_act  | 9.2e+03  |\n",
      "|    samples_so_far | 16032    |\n",
      "--------------------------------\n"
     ]
    },
    {
     "name": "stderr",
     "output_type": "stream",
     "text": [
      "983batch [00:03, 302.68batch/s]"
     ]
    },
    {
     "name": "stdout",
     "output_type": "stream",
     "text": [
      "--------------------------------\n",
      "| batch_size        | 32       |\n",
      "| bc/               |          |\n",
      "|    batch          | 1000     |\n",
      "|    ent_loss       | 0.00763  |\n",
      "|    entropy        | -7.63    |\n",
      "|    epoch          | 16       |\n",
      "|    l2_loss        | 0        |\n",
      "|    l2_norm        | 1.14e+03 |\n",
      "|    loss           | -8.7     |\n",
      "|    neglogp        | -8.71    |\n",
      "|    prob_true_act  | 9.88e+03 |\n",
      "|    samples_so_far | 32032    |\n",
      "--------------------------------\n"
     ]
    },
    {
     "name": "stderr",
     "output_type": "stream",
     "text": [
      "1240batch [00:04, 306.83batch/s]\n",
      "0batch [00:00, ?batch/s]"
     ]
    },
    {
     "name": "stdout",
     "output_type": "stream",
     "text": [
      "--------------------------------\n",
      "| batch_size        | 32       |\n",
      "| bc/               |          |\n",
      "|    batch          | 0        |\n",
      "|    ent_loss       | 0.00764  |\n",
      "|    entropy        | -7.64    |\n",
      "|    epoch          | 0        |\n",
      "|    l2_loss        | 0        |\n",
      "|    l2_norm        | 1.14e+03 |\n",
      "|    loss           | -8.96    |\n",
      "|    neglogp        | -8.97    |\n",
      "|    prob_true_act  | 1.13e+04 |\n",
      "|    samples_so_far | 32       |\n",
      "--------------------------------\n"
     ]
    },
    {
     "name": "stderr",
     "output_type": "stream",
     "text": [
      "466batch [00:01, 291.83batch/s]"
     ]
    },
    {
     "name": "stdout",
     "output_type": "stream",
     "text": [
      "--------------------------------\n",
      "| batch_size        | 32       |\n",
      "| bc/               |          |\n",
      "|    batch          | 500      |\n",
      "|    ent_loss       | 0.00764  |\n",
      "|    entropy        | -7.64    |\n",
      "|    epoch          | 8        |\n",
      "|    l2_loss        | 0        |\n",
      "|    l2_norm        | 1.15e+03 |\n",
      "|    loss           | -8.94    |\n",
      "|    neglogp        | -8.95    |\n",
      "|    prob_true_act  | 1.11e+04 |\n",
      "|    samples_so_far | 16032    |\n",
      "--------------------------------\n"
     ]
    },
    {
     "name": "stderr",
     "output_type": "stream",
     "text": [
      "991batch [00:03, 310.67batch/s]"
     ]
    },
    {
     "name": "stdout",
     "output_type": "stream",
     "text": [
      "--------------------------------\n",
      "| batch_size        | 32       |\n",
      "| bc/               |          |\n",
      "|    batch          | 1000     |\n",
      "|    ent_loss       | 0.00769  |\n",
      "|    entropy        | -7.69    |\n",
      "|    epoch          | 16       |\n",
      "|    l2_loss        | 0        |\n",
      "|    l2_norm        | 1.16e+03 |\n",
      "|    loss           | -7.14    |\n",
      "|    neglogp        | -7.15    |\n",
      "|    prob_true_act  | 1.05e+04 |\n",
      "|    samples_so_far | 32032    |\n",
      "--------------------------------\n"
     ]
    },
    {
     "name": "stderr",
     "output_type": "stream",
     "text": [
      "1240batch [00:04, 305.48batch/s]\n",
      "0batch [00:00, ?batch/s]"
     ]
    },
    {
     "name": "stdout",
     "output_type": "stream",
     "text": [
      "--------------------------------\n",
      "| batch_size        | 32       |\n",
      "| bc/               |          |\n",
      "|    batch          | 0        |\n",
      "|    ent_loss       | 0.00773  |\n",
      "|    entropy        | -7.73    |\n",
      "|    epoch          | 0        |\n",
      "|    l2_loss        | 0        |\n",
      "|    l2_norm        | 1.16e+03 |\n",
      "|    loss           | -4.29    |\n",
      "|    neglogp        | -4.3     |\n",
      "|    prob_true_act  | 1.04e+04 |\n",
      "|    samples_so_far | 32       |\n",
      "--------------------------------\n"
     ]
    },
    {
     "name": "stderr",
     "output_type": "stream",
     "text": [
      "499batch [00:01, 344.27batch/s]"
     ]
    },
    {
     "name": "stdout",
     "output_type": "stream",
     "text": [
      "--------------------------------\n",
      "| batch_size        | 32       |\n",
      "| bc/               |          |\n",
      "|    batch          | 500      |\n",
      "|    ent_loss       | 0.00771  |\n",
      "|    entropy        | -7.71    |\n",
      "|    epoch          | 8        |\n",
      "|    l2_loss        | 0        |\n",
      "|    l2_norm        | 1.17e+03 |\n",
      "|    loss           | -6.84    |\n",
      "|    neglogp        | -6.85    |\n",
      "|    prob_true_act  | 9.58e+03 |\n",
      "|    samples_so_far | 16032    |\n",
      "--------------------------------\n"
     ]
    },
    {
     "name": "stderr",
     "output_type": "stream",
     "text": [
      "971batch [00:02, 325.12batch/s]"
     ]
    },
    {
     "name": "stdout",
     "output_type": "stream",
     "text": [
      "--------------------------------\n",
      "| batch_size        | 32       |\n",
      "| bc/               |          |\n",
      "|    batch          | 1000     |\n",
      "|    ent_loss       | 0.00774  |\n",
      "|    entropy        | -7.74    |\n",
      "|    epoch          | 16       |\n",
      "|    l2_loss        | 0        |\n",
      "|    l2_norm        | 1.18e+03 |\n",
      "|    loss           | -8.8     |\n",
      "|    neglogp        | -8.8     |\n",
      "|    prob_true_act  | 7.87e+03 |\n",
      "|    samples_so_far | 32032    |\n",
      "--------------------------------\n"
     ]
    },
    {
     "name": "stderr",
     "output_type": "stream",
     "text": [
      "1240batch [00:03, 336.93batch/s]\n",
      "0batch [00:00, ?batch/s]"
     ]
    },
    {
     "name": "stdout",
     "output_type": "stream",
     "text": [
      "--------------------------------\n",
      "| batch_size        | 32       |\n",
      "| bc/               |          |\n",
      "|    batch          | 0        |\n",
      "|    ent_loss       | 0.00773  |\n",
      "|    entropy        | -7.73    |\n",
      "|    epoch          | 0        |\n",
      "|    l2_loss        | 0        |\n",
      "|    l2_norm        | 1.18e+03 |\n",
      "|    loss           | -7.83    |\n",
      "|    neglogp        | -7.83    |\n",
      "|    prob_true_act  | 8.1e+03  |\n",
      "|    samples_so_far | 32       |\n",
      "--------------------------------\n"
     ]
    },
    {
     "name": "stderr",
     "output_type": "stream",
     "text": [
      "490batch [00:01, 320.25batch/s]"
     ]
    },
    {
     "name": "stdout",
     "output_type": "stream",
     "text": [
      "--------------------------------\n",
      "| batch_size        | 32       |\n",
      "| bc/               |          |\n",
      "|    batch          | 500      |\n",
      "|    ent_loss       | 0.00776  |\n",
      "|    entropy        | -7.76    |\n",
      "|    epoch          | 8        |\n",
      "|    l2_loss        | 0        |\n",
      "|    l2_norm        | 1.19e+03 |\n",
      "|    loss           | -8.86    |\n",
      "|    neglogp        | -8.87    |\n",
      "|    prob_true_act  | 1.05e+04 |\n",
      "|    samples_so_far | 16032    |\n",
      "--------------------------------\n"
     ]
    },
    {
     "name": "stderr",
     "output_type": "stream",
     "text": [
      "973batch [00:02, 352.40batch/s]"
     ]
    },
    {
     "name": "stdout",
     "output_type": "stream",
     "text": [
      "--------------------------------\n",
      "| batch_size        | 32       |\n",
      "| bc/               |          |\n",
      "|    batch          | 1000     |\n",
      "|    ent_loss       | 0.00773  |\n",
      "|    entropy        | -7.73    |\n",
      "|    epoch          | 16       |\n",
      "|    l2_loss        | 0        |\n",
      "|    l2_norm        | 1.2e+03  |\n",
      "|    loss           | -4.38    |\n",
      "|    neglogp        | -4.39    |\n",
      "|    prob_true_act  | 7.26e+03 |\n",
      "|    samples_so_far | 32032    |\n",
      "--------------------------------\n"
     ]
    },
    {
     "name": "stderr",
     "output_type": "stream",
     "text": [
      "1240batch [00:03, 332.46batch/s]\n",
      "0batch [00:00, ?batch/s]"
     ]
    },
    {
     "name": "stdout",
     "output_type": "stream",
     "text": [
      "--------------------------------\n",
      "| batch_size        | 32       |\n",
      "| bc/               |          |\n",
      "|    batch          | 0        |\n",
      "|    ent_loss       | 0.00776  |\n",
      "|    entropy        | -7.76    |\n",
      "|    epoch          | 0        |\n",
      "|    l2_loss        | 0        |\n",
      "|    l2_norm        | 1.2e+03  |\n",
      "|    loss           | -8.97    |\n",
      "|    neglogp        | -8.98    |\n",
      "|    prob_true_act  | 1.16e+04 |\n",
      "|    samples_so_far | 32       |\n",
      "--------------------------------\n"
     ]
    },
    {
     "name": "stderr",
     "output_type": "stream",
     "text": [
      "470batch [00:01, 329.18batch/s]"
     ]
    },
    {
     "name": "stdout",
     "output_type": "stream",
     "text": [
      "--------------------------------\n",
      "| batch_size        | 32       |\n",
      "| bc/               |          |\n",
      "|    batch          | 500      |\n",
      "|    ent_loss       | 0.00781  |\n",
      "|    entropy        | -7.81    |\n",
      "|    epoch          | 8        |\n",
      "|    l2_loss        | 0        |\n",
      "|    l2_norm        | 1.21e+03 |\n",
      "|    loss           | -8.63    |\n",
      "|    neglogp        | -8.64    |\n",
      "|    prob_true_act  | 1.29e+04 |\n",
      "|    samples_so_far | 16032    |\n",
      "--------------------------------\n"
     ]
    },
    {
     "name": "stderr",
     "output_type": "stream",
     "text": [
      "990batch [00:03, 322.44batch/s]"
     ]
    },
    {
     "name": "stdout",
     "output_type": "stream",
     "text": [
      "--------------------------------\n",
      "| batch_size        | 32       |\n",
      "| bc/               |          |\n",
      "|    batch          | 1000     |\n",
      "|    ent_loss       | 0.00782  |\n",
      "|    entropy        | -7.82    |\n",
      "|    epoch          | 16       |\n",
      "|    l2_loss        | 0        |\n",
      "|    l2_norm        | 1.22e+03 |\n",
      "|    loss           | -7.42    |\n",
      "|    neglogp        | -7.43    |\n",
      "|    prob_true_act  | 9.2e+03  |\n",
      "|    samples_so_far | 32032    |\n",
      "--------------------------------\n"
     ]
    },
    {
     "name": "stderr",
     "output_type": "stream",
     "text": [
      "1240batch [00:03, 323.69batch/s]\n",
      "0batch [00:00, ?batch/s]"
     ]
    },
    {
     "name": "stdout",
     "output_type": "stream",
     "text": [
      "--------------------------------\n",
      "| batch_size        | 32       |\n",
      "| bc/               |          |\n",
      "|    batch          | 0        |\n",
      "|    ent_loss       | 0.00786  |\n",
      "|    entropy        | -7.86    |\n",
      "|    epoch          | 0        |\n",
      "|    l2_loss        | 0        |\n",
      "|    l2_norm        | 1.22e+03 |\n",
      "|    loss           | -8.31    |\n",
      "|    neglogp        | -8.32    |\n",
      "|    prob_true_act  | 9.34e+03 |\n",
      "|    samples_so_far | 32       |\n",
      "--------------------------------\n"
     ]
    },
    {
     "name": "stderr",
     "output_type": "stream",
     "text": [
      "484batch [00:01, 300.02batch/s]"
     ]
    },
    {
     "name": "stdout",
     "output_type": "stream",
     "text": [
      "--------------------------------\n",
      "| batch_size        | 32       |\n",
      "| bc/               |          |\n",
      "|    batch          | 500      |\n",
      "|    ent_loss       | 0.00786  |\n",
      "|    entropy        | -7.86    |\n",
      "|    epoch          | 8        |\n",
      "|    l2_loss        | 0        |\n",
      "|    l2_norm        | 1.23e+03 |\n",
      "|    loss           | -8.33    |\n",
      "|    neglogp        | -8.34    |\n",
      "|    prob_true_act  | 1.22e+04 |\n",
      "|    samples_so_far | 16032    |\n",
      "--------------------------------\n"
     ]
    },
    {
     "name": "stderr",
     "output_type": "stream",
     "text": [
      "987batch [00:03, 309.72batch/s]"
     ]
    },
    {
     "name": "stdout",
     "output_type": "stream",
     "text": [
      "--------------------------------\n",
      "| batch_size        | 32       |\n",
      "| bc/               |          |\n",
      "|    batch          | 1000     |\n",
      "|    ent_loss       | 0.0079   |\n",
      "|    entropy        | -7.9     |\n",
      "|    epoch          | 16       |\n",
      "|    l2_loss        | 0        |\n",
      "|    l2_norm        | 1.23e+03 |\n",
      "|    loss           | -6.99    |\n",
      "|    neglogp        | -7       |\n",
      "|    prob_true_act  | 1.28e+04 |\n",
      "|    samples_so_far | 32032    |\n",
      "--------------------------------\n"
     ]
    },
    {
     "name": "stderr",
     "output_type": "stream",
     "text": [
      "1240batch [00:04, 303.93batch/s]\n",
      "0batch [00:00, ?batch/s]"
     ]
    },
    {
     "name": "stdout",
     "output_type": "stream",
     "text": [
      "--------------------------------\n",
      "| batch_size        | 32       |\n",
      "| bc/               |          |\n",
      "|    batch          | 0        |\n",
      "|    ent_loss       | 0.00793  |\n",
      "|    entropy        | -7.93    |\n",
      "|    epoch          | 0        |\n",
      "|    l2_loss        | 0        |\n",
      "|    l2_norm        | 1.24e+03 |\n",
      "|    loss           | -8.82    |\n",
      "|    neglogp        | -8.83    |\n",
      "|    prob_true_act  | 1.2e+04  |\n",
      "|    samples_so_far | 32       |\n",
      "--------------------------------\n"
     ]
    },
    {
     "name": "stderr",
     "output_type": "stream",
     "text": [
      "469batch [00:01, 322.07batch/s]"
     ]
    },
    {
     "name": "stdout",
     "output_type": "stream",
     "text": [
      "--------------------------------\n",
      "| batch_size        | 32       |\n",
      "| bc/               |          |\n",
      "|    batch          | 500      |\n",
      "|    ent_loss       | 0.00791  |\n",
      "|    entropy        | -7.91    |\n",
      "|    epoch          | 8        |\n",
      "|    l2_loss        | 0        |\n",
      "|    l2_norm        | 1.25e+03 |\n",
      "|    loss           | -8.67    |\n",
      "|    neglogp        | -8.68    |\n",
      "|    prob_true_act  | 1.22e+04 |\n",
      "|    samples_so_far | 16032    |\n",
      "--------------------------------\n"
     ]
    },
    {
     "name": "stderr",
     "output_type": "stream",
     "text": [
      "999batch [00:03, 321.97batch/s]"
     ]
    },
    {
     "name": "stdout",
     "output_type": "stream",
     "text": [
      "--------------------------------\n",
      "| batch_size        | 32       |\n",
      "| bc/               |          |\n",
      "|    batch          | 1000     |\n",
      "|    ent_loss       | 0.00795  |\n",
      "|    entropy        | -7.95    |\n",
      "|    epoch          | 16       |\n",
      "|    l2_loss        | 0        |\n",
      "|    l2_norm        | 1.25e+03 |\n",
      "|    loss           | -8.14    |\n",
      "|    neglogp        | -8.15    |\n",
      "|    prob_true_act  | 1.15e+04 |\n",
      "|    samples_so_far | 32032    |\n",
      "--------------------------------\n"
     ]
    },
    {
     "name": "stderr",
     "output_type": "stream",
     "text": [
      "1240batch [00:03, 331.49batch/s]\n",
      "0batch [00:00, ?batch/s]"
     ]
    },
    {
     "name": "stdout",
     "output_type": "stream",
     "text": [
      "--------------------------------\n",
      "| batch_size        | 32       |\n",
      "| bc/               |          |\n",
      "|    batch          | 0        |\n",
      "|    ent_loss       | 0.00798  |\n",
      "|    entropy        | -7.98    |\n",
      "|    epoch          | 0        |\n",
      "|    l2_loss        | 0        |\n",
      "|    l2_norm        | 1.26e+03 |\n",
      "|    loss           | -8.26    |\n",
      "|    neglogp        | -8.27    |\n",
      "|    prob_true_act  | 1.29e+04 |\n",
      "|    samples_so_far | 32       |\n",
      "--------------------------------\n"
     ]
    },
    {
     "name": "stderr",
     "output_type": "stream",
     "text": [
      "476batch [00:01, 317.98batch/s]"
     ]
    },
    {
     "name": "stdout",
     "output_type": "stream",
     "text": [
      "--------------------------------\n",
      "| batch_size        | 32       |\n",
      "| bc/               |          |\n",
      "|    batch          | 500      |\n",
      "|    ent_loss       | 0.00799  |\n",
      "|    entropy        | -7.99    |\n",
      "|    epoch          | 8        |\n",
      "|    l2_loss        | 0        |\n",
      "|    l2_norm        | 1.26e+03 |\n",
      "|    loss           | -7.4     |\n",
      "|    neglogp        | -7.41    |\n",
      "|    prob_true_act  | 1.27e+04 |\n",
      "|    samples_so_far | 16032    |\n",
      "--------------------------------\n"
     ]
    },
    {
     "name": "stderr",
     "output_type": "stream",
     "text": [
      "991batch [00:03, 322.20batch/s]"
     ]
    },
    {
     "name": "stdout",
     "output_type": "stream",
     "text": [
      "--------------------------------\n",
      "| batch_size        | 32       |\n",
      "| bc/               |          |\n",
      "|    batch          | 1000     |\n",
      "|    ent_loss       | 0.00799  |\n",
      "|    entropy        | -7.99    |\n",
      "|    epoch          | 16       |\n",
      "|    l2_loss        | 0        |\n",
      "|    l2_norm        | 1.27e+03 |\n",
      "|    loss           | -6.73    |\n",
      "|    neglogp        | -6.74    |\n",
      "|    prob_true_act  | 1.02e+04 |\n",
      "|    samples_so_far | 32032    |\n",
      "--------------------------------\n"
     ]
    },
    {
     "name": "stderr",
     "output_type": "stream",
     "text": [
      "1240batch [00:03, 325.97batch/s]\n",
      "0batch [00:00, ?batch/s]"
     ]
    },
    {
     "name": "stdout",
     "output_type": "stream",
     "text": [
      "--------------------------------\n",
      "| batch_size        | 32       |\n",
      "| bc/               |          |\n",
      "|    batch          | 0        |\n",
      "|    ent_loss       | 0.00801  |\n",
      "|    entropy        | -8.01    |\n",
      "|    epoch          | 0        |\n",
      "|    l2_loss        | 0        |\n",
      "|    l2_norm        | 1.27e+03 |\n",
      "|    loss           | -9.08    |\n",
      "|    neglogp        | -9.09    |\n",
      "|    prob_true_act  | 1.26e+04 |\n",
      "|    samples_so_far | 32       |\n",
      "--------------------------------\n"
     ]
    },
    {
     "name": "stderr",
     "output_type": "stream",
     "text": [
      "499batch [00:01, 353.59batch/s]"
     ]
    },
    {
     "name": "stdout",
     "output_type": "stream",
     "text": [
      "--------------------------------\n",
      "| batch_size        | 32       |\n",
      "| bc/               |          |\n",
      "|    batch          | 500      |\n",
      "|    ent_loss       | 0.00802  |\n",
      "|    entropy        | -8.02    |\n",
      "|    epoch          | 8        |\n",
      "|    l2_loss        | 0        |\n",
      "|    l2_norm        | 1.28e+03 |\n",
      "|    loss           | -8.21    |\n",
      "|    neglogp        | -8.22    |\n",
      "|    prob_true_act  | 1.44e+04 |\n",
      "|    samples_so_far | 16032    |\n",
      "--------------------------------\n"
     ]
    },
    {
     "name": "stderr",
     "output_type": "stream",
     "text": [
      "992batch [00:02, 326.15batch/s]"
     ]
    },
    {
     "name": "stdout",
     "output_type": "stream",
     "text": [
      "--------------------------------\n",
      "| batch_size        | 32       |\n",
      "| bc/               |          |\n",
      "|    batch          | 1000     |\n",
      "|    ent_loss       | 0.008    |\n",
      "|    entropy        | -8       |\n",
      "|    epoch          | 16       |\n",
      "|    l2_loss        | 0        |\n",
      "|    l2_norm        | 1.29e+03 |\n",
      "|    loss           | -8.58    |\n",
      "|    neglogp        | -8.59    |\n",
      "|    prob_true_act  | 1.23e+04 |\n",
      "|    samples_so_far | 32032    |\n",
      "--------------------------------\n"
     ]
    },
    {
     "name": "stderr",
     "output_type": "stream",
     "text": [
      "1240batch [00:03, 329.05batch/s]\n",
      "0batch [00:00, ?batch/s]"
     ]
    },
    {
     "name": "stdout",
     "output_type": "stream",
     "text": [
      "--------------------------------\n",
      "| batch_size        | 32       |\n",
      "| bc/               |          |\n",
      "|    batch          | 0        |\n",
      "|    ent_loss       | 0.00799  |\n",
      "|    entropy        | -7.99    |\n",
      "|    epoch          | 0        |\n",
      "|    l2_loss        | 0        |\n",
      "|    l2_norm        | 1.29e+03 |\n",
      "|    loss           | -8.55    |\n",
      "|    neglogp        | -8.56    |\n",
      "|    prob_true_act  | 1.29e+04 |\n",
      "|    samples_so_far | 32       |\n",
      "--------------------------------\n"
     ]
    },
    {
     "name": "stderr",
     "output_type": "stream",
     "text": [
      "479batch [00:01, 316.74batch/s]"
     ]
    },
    {
     "name": "stdout",
     "output_type": "stream",
     "text": [
      "--------------------------------\n",
      "| batch_size        | 32       |\n",
      "| bc/               |          |\n",
      "|    batch          | 500      |\n",
      "|    ent_loss       | 0.00807  |\n",
      "|    entropy        | -8.07    |\n",
      "|    epoch          | 8        |\n",
      "|    l2_loss        | 0        |\n",
      "|    l2_norm        | 1.3e+03  |\n",
      "|    loss           | -7.87    |\n",
      "|    neglogp        | -7.88    |\n",
      "|    prob_true_act  | 1.71e+04 |\n",
      "|    samples_so_far | 16032    |\n",
      "--------------------------------\n"
     ]
    },
    {
     "name": "stderr",
     "output_type": "stream",
     "text": [
      "998batch [00:03, 313.63batch/s]"
     ]
    },
    {
     "name": "stdout",
     "output_type": "stream",
     "text": [
      "--------------------------------\n",
      "| batch_size        | 32       |\n",
      "| bc/               |          |\n",
      "|    batch          | 1000     |\n",
      "|    ent_loss       | 0.00806  |\n",
      "|    entropy        | -8.06    |\n",
      "|    epoch          | 16       |\n",
      "|    l2_loss        | 0        |\n",
      "|    l2_norm        | 1.31e+03 |\n",
      "|    loss           | -9.02    |\n",
      "|    neglogp        | -9.03    |\n",
      "|    prob_true_act  | 1.37e+04 |\n",
      "|    samples_so_far | 32032    |\n",
      "--------------------------------\n"
     ]
    },
    {
     "name": "stderr",
     "output_type": "stream",
     "text": [
      "1240batch [00:03, 313.27batch/s]\n",
      "0batch [00:00, ?batch/s]"
     ]
    },
    {
     "name": "stdout",
     "output_type": "stream",
     "text": [
      "--------------------------------\n",
      "| batch_size        | 32       |\n",
      "| bc/               |          |\n",
      "|    batch          | 0        |\n",
      "|    ent_loss       | 0.00806  |\n",
      "|    entropy        | -8.06    |\n",
      "|    epoch          | 0        |\n",
      "|    l2_loss        | 0        |\n",
      "|    l2_norm        | 1.31e+03 |\n",
      "|    loss           | -8.32    |\n",
      "|    neglogp        | -8.33    |\n",
      "|    prob_true_act  | 1.46e+04 |\n",
      "|    samples_so_far | 32       |\n",
      "--------------------------------\n"
     ]
    },
    {
     "name": "stderr",
     "output_type": "stream",
     "text": [
      "498batch [00:01, 333.46batch/s]"
     ]
    },
    {
     "name": "stdout",
     "output_type": "stream",
     "text": [
      "--------------------------------\n",
      "| batch_size        | 32       |\n",
      "| bc/               |          |\n",
      "|    batch          | 500      |\n",
      "|    ent_loss       | 0.00805  |\n",
      "|    entropy        | -8.05    |\n",
      "|    epoch          | 8        |\n",
      "|    l2_loss        | 0        |\n",
      "|    l2_norm        | 1.32e+03 |\n",
      "|    loss           | -7.74    |\n",
      "|    neglogp        | -7.75    |\n",
      "|    prob_true_act  | 1.28e+04 |\n",
      "|    samples_so_far | 16032    |\n",
      "--------------------------------\n"
     ]
    },
    {
     "name": "stderr",
     "output_type": "stream",
     "text": [
      "999batch [00:03, 323.57batch/s]"
     ]
    },
    {
     "name": "stdout",
     "output_type": "stream",
     "text": [
      "--------------------------------\n",
      "| batch_size        | 32       |\n",
      "| bc/               |          |\n",
      "|    batch          | 1000     |\n",
      "|    ent_loss       | 0.00813  |\n",
      "|    entropy        | -8.13    |\n",
      "|    epoch          | 16       |\n",
      "|    l2_loss        | 0        |\n",
      "|    l2_norm        | 1.32e+03 |\n",
      "|    loss           | -8.54    |\n",
      "|    neglogp        | -8.55    |\n",
      "|    prob_true_act  | 1.26e+04 |\n",
      "|    samples_so_far | 32032    |\n",
      "--------------------------------\n"
     ]
    },
    {
     "name": "stderr",
     "output_type": "stream",
     "text": [
      "1240batch [00:03, 321.95batch/s]\n",
      "0batch [00:00, ?batch/s]"
     ]
    },
    {
     "name": "stdout",
     "output_type": "stream",
     "text": [
      "--------------------------------\n",
      "| batch_size        | 32       |\n",
      "| bc/               |          |\n",
      "|    batch          | 0        |\n",
      "|    ent_loss       | 0.00812  |\n",
      "|    entropy        | -8.12    |\n",
      "|    epoch          | 0        |\n",
      "|    l2_loss        | 0        |\n",
      "|    l2_norm        | 1.33e+03 |\n",
      "|    loss           | -9.27    |\n",
      "|    neglogp        | -9.28    |\n",
      "|    prob_true_act  | 1.53e+04 |\n",
      "|    samples_so_far | 32       |\n",
      "--------------------------------\n"
     ]
    },
    {
     "name": "stderr",
     "output_type": "stream",
     "text": [
      "482batch [00:01, 300.99batch/s]"
     ]
    },
    {
     "name": "stdout",
     "output_type": "stream",
     "text": [
      "--------------------------------\n",
      "| batch_size        | 32       |\n",
      "| bc/               |          |\n",
      "|    batch          | 500      |\n",
      "|    ent_loss       | 0.00819  |\n",
      "|    entropy        | -8.19    |\n",
      "|    epoch          | 8        |\n",
      "|    l2_loss        | 0        |\n",
      "|    l2_norm        | 1.33e+03 |\n",
      "|    loss           | -8.05    |\n",
      "|    neglogp        | -8.06    |\n",
      "|    prob_true_act  | 1.73e+04 |\n",
      "|    samples_so_far | 16032    |\n",
      "--------------------------------\n"
     ]
    },
    {
     "name": "stderr",
     "output_type": "stream",
     "text": [
      "996batch [00:08, 57.96batch/s] "
     ]
    },
    {
     "name": "stdout",
     "output_type": "stream",
     "text": [
      "--------------------------------\n",
      "| batch_size        | 32       |\n",
      "| bc/               |          |\n",
      "|    batch          | 1000     |\n",
      "|    ent_loss       | 0.0082   |\n",
      "|    entropy        | -8.2     |\n",
      "|    epoch          | 16       |\n",
      "|    l2_loss        | 0        |\n",
      "|    l2_norm        | 1.34e+03 |\n",
      "|    loss           | -2.56    |\n",
      "|    neglogp        | -2.57    |\n",
      "|    prob_true_act  | 1.54e+04 |\n",
      "|    samples_so_far | 32032    |\n",
      "--------------------------------\n"
     ]
    },
    {
     "name": "stderr",
     "output_type": "stream",
     "text": [
      "1240batch [00:12, 96.09batch/s]\n"
     ]
    },
    {
     "ename": "KeyboardInterrupt",
     "evalue": "",
     "output_type": "error",
     "traceback": [
      "\u001b[0;31m---------------------------------------------------------------------------\u001b[0m",
      "\u001b[0;31mKeyboardInterrupt\u001b[0m                         Traceback (most recent call last)",
      "Cell \u001b[0;32mIn [13], line 1\u001b[0m\n\u001b[0;32m----> 1\u001b[0m run_experiment(\u001b[39m'\u001b[39;49m\u001b[39mcuda\u001b[39;49m\u001b[39m'\u001b[39;49m)\n",
      "Cell \u001b[0;32mIn [12], line 149\u001b[0m, in \u001b[0;36mrun_experiment\u001b[0;34m(device)\u001b[0m\n\u001b[1;32m    147\u001b[0m \u001b[39mfor\u001b[39;00m i \u001b[39min\u001b[39;00m \u001b[39mrange\u001b[39m(\u001b[39m10000\u001b[39m):\n\u001b[1;32m    148\u001b[0m     bc_trainer\u001b[39m.\u001b[39mtrain(n_epochs\u001b[39m=\u001b[39m\u001b[39m20\u001b[39m)\n\u001b[0;32m--> 149\u001b[0m     success, rews \u001b[39m=\u001b[39m asd(env\u001b[39m=\u001b[39;49mpomdp_env, learner\u001b[39m=\u001b[39;49mbc_trainer\u001b[39m.\u001b[39;49mpolicy)\n\u001b[1;32m    150\u001b[0m     tboard\u001b[39m.\u001b[39maddTrainScalar(\u001b[39m'\u001b[39m\u001b[39mReward\u001b[39m\u001b[39m'\u001b[39m, value\u001b[39m=\u001b[39mth\u001b[39m.\u001b[39mtensor(rews\u001b[39m.\u001b[39mmean()), stepid\u001b[39m=\u001b[39mi)\n\u001b[1;32m    151\u001b[0m     tboard\u001b[39m.\u001b[39maddTrainScalar(\u001b[39m'\u001b[39m\u001b[39mSuccess Rate\u001b[39m\u001b[39m'\u001b[39m, value\u001b[39m=\u001b[39mth\u001b[39m.\u001b[39mtensor(success\u001b[39m.\u001b[39mmean()), stepid\u001b[39m=\u001b[39mi)\n",
      "Cell \u001b[0;32mIn [12], line 92\u001b[0m, in \u001b[0;36masd\u001b[0;34m(env, learner)\u001b[0m\n\u001b[1;32m     90\u001b[0m done \u001b[39m=\u001b[39m \u001b[39mFalse\u001b[39;00m\n\u001b[1;32m     91\u001b[0m \u001b[39mwhile\u001b[39;00m \u001b[39mnot\u001b[39;00m done:\n\u001b[0;32m---> 92\u001b[0m     action, _ \u001b[39m=\u001b[39m learner\u001b[39m.\u001b[39;49mpredict(obs)\n\u001b[1;32m     93\u001b[0m     obs, rew, done, info \u001b[39m=\u001b[39m env\u001b[39m.\u001b[39mstep(action)\n\u001b[1;32m     94\u001b[0m     rews\u001b[39m.\u001b[39mappend(rew)\n",
      "File \u001b[0;32m~/anaconda3/envs/ac/lib/python3.10/site-packages/stable_baselines3/common/policies.py:360\u001b[0m, in \u001b[0;36mBasePolicy.predict\u001b[0;34m(self, observation, state, episode_start, deterministic)\u001b[0m\n\u001b[1;32m    352\u001b[0m \u001b[39m# TODO (GH/1): add support for RNN policies\u001b[39;00m\n\u001b[1;32m    353\u001b[0m \u001b[39m# if state is None:\u001b[39;00m\n\u001b[1;32m    354\u001b[0m \u001b[39m#     state = self.initial_state\u001b[39;00m\n\u001b[1;32m    355\u001b[0m \u001b[39m# if episode_start is None:\u001b[39;00m\n\u001b[1;32m    356\u001b[0m \u001b[39m#     episode_start = [False for _ in range(self.n_envs)]\u001b[39;00m\n\u001b[1;32m    357\u001b[0m \u001b[39m# Switch to eval mode (this affects batch norm / dropout)\u001b[39;00m\n\u001b[1;32m    358\u001b[0m \u001b[39mself\u001b[39m\u001b[39m.\u001b[39mset_training_mode(\u001b[39mFalse\u001b[39;00m)\n\u001b[0;32m--> 360\u001b[0m observation, vectorized_env \u001b[39m=\u001b[39m \u001b[39mself\u001b[39;49m\u001b[39m.\u001b[39;49mobs_to_tensor(observation)\n\u001b[1;32m    362\u001b[0m \u001b[39mwith\u001b[39;00m th\u001b[39m.\u001b[39mno_grad():\n\u001b[1;32m    363\u001b[0m     actions \u001b[39m=\u001b[39m \u001b[39mself\u001b[39m\u001b[39m.\u001b[39m_predict(observation, deterministic\u001b[39m=\u001b[39mdeterministic)\n",
      "File \u001b[0;32m~/anaconda3/envs/ac/lib/python3.10/site-packages/stable_baselines3/common/policies.py:279\u001b[0m, in \u001b[0;36mBaseModel.obs_to_tensor\u001b[0;34m(self, observation)\u001b[0m\n\u001b[1;32m    276\u001b[0m     \u001b[39m# Add batch dimension if needed\u001b[39;00m\n\u001b[1;32m    277\u001b[0m     observation \u001b[39m=\u001b[39m observation\u001b[39m.\u001b[39mreshape((\u001b[39m-\u001b[39m\u001b[39m1\u001b[39m,) \u001b[39m+\u001b[39m \u001b[39mself\u001b[39m\u001b[39m.\u001b[39mobservation_space\u001b[39m.\u001b[39mshape)\n\u001b[0;32m--> 279\u001b[0m observation \u001b[39m=\u001b[39m obs_as_tensor(observation, \u001b[39mself\u001b[39;49m\u001b[39m.\u001b[39;49mdevice)\n\u001b[1;32m    280\u001b[0m \u001b[39mreturn\u001b[39;00m observation, vectorized_env\n",
      "File \u001b[0;32m~/anaconda3/envs/ac/lib/python3.10/site-packages/stable_baselines3/common/utils.py:464\u001b[0m, in \u001b[0;36mobs_as_tensor\u001b[0;34m(obs, device)\u001b[0m\n\u001b[1;32m    456\u001b[0m \u001b[39m\"\"\"\u001b[39;00m\n\u001b[1;32m    457\u001b[0m \u001b[39mMoves the observation to the given device.\u001b[39;00m\n\u001b[1;32m    458\u001b[0m \n\u001b[0;32m   (...)\u001b[0m\n\u001b[1;32m    461\u001b[0m \u001b[39m:return: PyTorch tensor of the observation on a desired device.\u001b[39;00m\n\u001b[1;32m    462\u001b[0m \u001b[39m\"\"\"\u001b[39;00m\n\u001b[1;32m    463\u001b[0m \u001b[39mif\u001b[39;00m \u001b[39misinstance\u001b[39m(obs, np\u001b[39m.\u001b[39mndarray):\n\u001b[0;32m--> 464\u001b[0m     \u001b[39mreturn\u001b[39;00m th\u001b[39m.\u001b[39;49mas_tensor(obs)\u001b[39m.\u001b[39;49mto(device)\n\u001b[1;32m    465\u001b[0m \u001b[39melif\u001b[39;00m \u001b[39misinstance\u001b[39m(obs, \u001b[39mdict\u001b[39m):\n\u001b[1;32m    466\u001b[0m     \u001b[39mreturn\u001b[39;00m {key: th\u001b[39m.\u001b[39mas_tensor(_obs)\u001b[39m.\u001b[39mto(device) \u001b[39mfor\u001b[39;00m (key, _obs) \u001b[39min\u001b[39;00m obs\u001b[39m.\u001b[39mitems()}\n",
      "\u001b[0;31mKeyboardInterrupt\u001b[0m: "
     ]
    },
    {
     "data": {
      "image/png": "[encoded data removed]",
      "text/plain": [
       "<Figure size 640x480 with 4 Axes>"
      ]
     },
     "metadata": {},
     "output_type": "display_data"
    }
   ],
   "source": [
    "run_experiment('cuda')"
   ]
  },
  {
   "cell_type": "code",
   "execution_count": null,
   "metadata": {},
   "outputs": [],
   "source": [
    "def run_experiment_mdp(device):\n",
    "    lookup_freq = 1\n",
    "    env, vec_expert = make_dummy_vec_env(name='pickplace', seq_len=200)\n",
    "    val_env, _ = make_dummy_vec_env(name='pickplace', seq_len=200)\n",
    "\n",
    "    transitions, rollouts = sample_expert_transitions(vec_expert.predict, env, 10)\n",
    "    env.envs[0].reset_count = 0\n",
    "\n",
    "    bc_trainer = bc.BC(\n",
    "        observation_space=env.observation_space,\n",
    "        action_space=env.action_space,\n",
    "        demonstrations=transitions,\n",
    "        device=device\n",
    "    )\n",
    "\n",
    "    tboard = TBoardGraphs(logname='BC pickplace 10 re', data_path='/data/bing/hendrik/gboard/')\n",
    "    for i in range(10000):\n",
    "        bc_trainer.train(n_epochs=20)\n",
    "        success, rews = asd(env=env, learner=bc_trainer.policy)\n",
    "        tboard.addTrainScalar('Reward', value=th.tensor(rews.mean()), stepid=i)\n",
    "        tboard.addTrainScalar('Success Rate', value=th.tensor(success.mean()), stepid=i)"
   ]
  },
  {
   "cell_type": "code",
   "execution_count": null,
   "metadata": {},
   "outputs": [],
   "source": [
    "run_experiment_mdp('cuda')"
   ]
  },
  {
   "cell_type": "code",
   "execution_count": null,
   "metadata": {},
   "outputs": [],
   "source": []
  }
 ],
 "metadata": {
  "kernelspec": {
   "display_name": "ac",
   "language": "python",
   "name": "python3"
  },
  "language_info": {
   "codemirror_mode": {
    "name": "ipython",
    "version": 3
   },
   "file_extension": ".py",
   "mimetype": "text/x-python",
   "name": "python",
   "nbconvert_exporter": "python",
   "pygments_lexer": "ipython3",
   "version": "3.10.6"
  },
  "orig_nbformat": 4,
  "vscode": {
   "interpreter": {
    "hash": "c27e8fa6375f4d15af5a5f5541d8bb88746b588c9fe1102cfd8de011d36c10c2"
   }
  }
 },
 "nbformat": 4,
 "nbformat_minor": 2
}
